{
 "cells": [
  {
   "cell_type": "markdown",
   "metadata": {},
   "source": [
    "# Исследование надёжности заёмщиков\n",
    "\n",
    "Заказчик — кредитный отдел банка. Нужно разобраться, влияет ли семейное положение и количество детей клиента на факт погашения кредита в срок. Входные данные от банка — статистика о платёжеспособности клиентов.\n",
    "\n",
    "Результаты исследования будут учтены при построении модели **кредитного скоринга** — специальной системы, которая оценивает способность потенциального заёмщика вернуть кредит банку."
   ]
  },
  {
   "cell_type": "markdown",
   "metadata": {},
   "source": [
    "Описание данных\n",
    " - children — количество детей в семье\n",
    " - days_employed — общий трудовой стаж в днях\n",
    " - dob_years — возраст клиента в годах\n",
    " - education — уровень образования клиента\n",
    " - education_id — идентификатор уровня образования\n",
    " - family_status — семейное положение\n",
    " - family_status_id — идентификатор семейного положения\n",
    " - gender — пол клиента\n",
    " - income_type — тип занятости\n",
    " - debt — имел ли задолженность по возврату кредитов\n",
    " - total_income — ежемесячный доход\n",
    " - purpose — цель получения кредита"
   ]
  },
  {
   "cell_type": "markdown",
   "metadata": {},
   "source": [
    "## Откроем файл с данными и изучим общую информацию"
   ]
  },
  {
   "cell_type": "code",
   "execution_count": 1,
   "metadata": {},
   "outputs": [
    {
     "data": {
      "text/html": [
       "<div>\n",
       "<style scoped>\n",
       "    .dataframe tbody tr th:only-of-type {\n",
       "        vertical-align: middle;\n",
       "    }\n",
       "\n",
       "    .dataframe tbody tr th {\n",
       "        vertical-align: top;\n",
       "    }\n",
       "\n",
       "    .dataframe thead th {\n",
       "        text-align: right;\n",
       "    }\n",
       "</style>\n",
       "<table border=\"1\" class=\"dataframe\">\n",
       "  <thead>\n",
       "    <tr style=\"text-align: right;\">\n",
       "      <th></th>\n",
       "      <th>children</th>\n",
       "      <th>days_employed</th>\n",
       "      <th>dob_years</th>\n",
       "      <th>education</th>\n",
       "      <th>education_id</th>\n",
       "      <th>family_status</th>\n",
       "      <th>family_status_id</th>\n",
       "      <th>gender</th>\n",
       "      <th>income_type</th>\n",
       "      <th>debt</th>\n",
       "      <th>total_income</th>\n",
       "      <th>purpose</th>\n",
       "    </tr>\n",
       "  </thead>\n",
       "  <tbody>\n",
       "    <tr>\n",
       "      <td>0</td>\n",
       "      <td>1</td>\n",
       "      <td>-8437.673028</td>\n",
       "      <td>42</td>\n",
       "      <td>высшее</td>\n",
       "      <td>0</td>\n",
       "      <td>женат / замужем</td>\n",
       "      <td>0</td>\n",
       "      <td>F</td>\n",
       "      <td>сотрудник</td>\n",
       "      <td>0</td>\n",
       "      <td>253875.639453</td>\n",
       "      <td>покупка жилья</td>\n",
       "    </tr>\n",
       "    <tr>\n",
       "      <td>1</td>\n",
       "      <td>1</td>\n",
       "      <td>-4024.803754</td>\n",
       "      <td>36</td>\n",
       "      <td>среднее</td>\n",
       "      <td>1</td>\n",
       "      <td>женат / замужем</td>\n",
       "      <td>0</td>\n",
       "      <td>F</td>\n",
       "      <td>сотрудник</td>\n",
       "      <td>0</td>\n",
       "      <td>112080.014102</td>\n",
       "      <td>приобретение автомобиля</td>\n",
       "    </tr>\n",
       "    <tr>\n",
       "      <td>2</td>\n",
       "      <td>0</td>\n",
       "      <td>-5623.422610</td>\n",
       "      <td>33</td>\n",
       "      <td>Среднее</td>\n",
       "      <td>1</td>\n",
       "      <td>женат / замужем</td>\n",
       "      <td>0</td>\n",
       "      <td>M</td>\n",
       "      <td>сотрудник</td>\n",
       "      <td>0</td>\n",
       "      <td>145885.952297</td>\n",
       "      <td>покупка жилья</td>\n",
       "    </tr>\n",
       "    <tr>\n",
       "      <td>3</td>\n",
       "      <td>3</td>\n",
       "      <td>-4124.747207</td>\n",
       "      <td>32</td>\n",
       "      <td>среднее</td>\n",
       "      <td>1</td>\n",
       "      <td>женат / замужем</td>\n",
       "      <td>0</td>\n",
       "      <td>M</td>\n",
       "      <td>сотрудник</td>\n",
       "      <td>0</td>\n",
       "      <td>267628.550329</td>\n",
       "      <td>дополнительное образование</td>\n",
       "    </tr>\n",
       "    <tr>\n",
       "      <td>4</td>\n",
       "      <td>0</td>\n",
       "      <td>340266.072047</td>\n",
       "      <td>53</td>\n",
       "      <td>среднее</td>\n",
       "      <td>1</td>\n",
       "      <td>гражданский брак</td>\n",
       "      <td>1</td>\n",
       "      <td>F</td>\n",
       "      <td>пенсионер</td>\n",
       "      <td>0</td>\n",
       "      <td>158616.077870</td>\n",
       "      <td>сыграть свадьбу</td>\n",
       "    </tr>\n",
       "    <tr>\n",
       "      <td>5</td>\n",
       "      <td>0</td>\n",
       "      <td>-926.185831</td>\n",
       "      <td>27</td>\n",
       "      <td>высшее</td>\n",
       "      <td>0</td>\n",
       "      <td>гражданский брак</td>\n",
       "      <td>1</td>\n",
       "      <td>M</td>\n",
       "      <td>компаньон</td>\n",
       "      <td>0</td>\n",
       "      <td>255763.565419</td>\n",
       "      <td>покупка жилья</td>\n",
       "    </tr>\n",
       "    <tr>\n",
       "      <td>6</td>\n",
       "      <td>0</td>\n",
       "      <td>-2879.202052</td>\n",
       "      <td>43</td>\n",
       "      <td>высшее</td>\n",
       "      <td>0</td>\n",
       "      <td>женат / замужем</td>\n",
       "      <td>0</td>\n",
       "      <td>F</td>\n",
       "      <td>компаньон</td>\n",
       "      <td>0</td>\n",
       "      <td>240525.971920</td>\n",
       "      <td>операции с жильем</td>\n",
       "    </tr>\n",
       "    <tr>\n",
       "      <td>7</td>\n",
       "      <td>0</td>\n",
       "      <td>-152.779569</td>\n",
       "      <td>50</td>\n",
       "      <td>СРЕДНЕЕ</td>\n",
       "      <td>1</td>\n",
       "      <td>женат / замужем</td>\n",
       "      <td>0</td>\n",
       "      <td>M</td>\n",
       "      <td>сотрудник</td>\n",
       "      <td>0</td>\n",
       "      <td>135823.934197</td>\n",
       "      <td>образование</td>\n",
       "    </tr>\n",
       "    <tr>\n",
       "      <td>8</td>\n",
       "      <td>2</td>\n",
       "      <td>-6929.865299</td>\n",
       "      <td>35</td>\n",
       "      <td>ВЫСШЕЕ</td>\n",
       "      <td>0</td>\n",
       "      <td>гражданский брак</td>\n",
       "      <td>1</td>\n",
       "      <td>F</td>\n",
       "      <td>сотрудник</td>\n",
       "      <td>0</td>\n",
       "      <td>95856.832424</td>\n",
       "      <td>на проведение свадьбы</td>\n",
       "    </tr>\n",
       "    <tr>\n",
       "      <td>9</td>\n",
       "      <td>0</td>\n",
       "      <td>-2188.756445</td>\n",
       "      <td>41</td>\n",
       "      <td>среднее</td>\n",
       "      <td>1</td>\n",
       "      <td>женат / замужем</td>\n",
       "      <td>0</td>\n",
       "      <td>M</td>\n",
       "      <td>сотрудник</td>\n",
       "      <td>0</td>\n",
       "      <td>144425.938277</td>\n",
       "      <td>покупка жилья для семьи</td>\n",
       "    </tr>\n",
       "  </tbody>\n",
       "</table>\n",
       "</div>"
      ],
      "text/plain": [
       "   children  days_employed  dob_years education  education_id  \\\n",
       "0         1   -8437.673028         42    высшее             0   \n",
       "1         1   -4024.803754         36   среднее             1   \n",
       "2         0   -5623.422610         33   Среднее             1   \n",
       "3         3   -4124.747207         32   среднее             1   \n",
       "4         0  340266.072047         53   среднее             1   \n",
       "5         0    -926.185831         27    высшее             0   \n",
       "6         0   -2879.202052         43    высшее             0   \n",
       "7         0    -152.779569         50   СРЕДНЕЕ             1   \n",
       "8         2   -6929.865299         35    ВЫСШЕЕ             0   \n",
       "9         0   -2188.756445         41   среднее             1   \n",
       "\n",
       "      family_status  family_status_id gender income_type  debt   total_income  \\\n",
       "0   женат / замужем                 0      F   сотрудник     0  253875.639453   \n",
       "1   женат / замужем                 0      F   сотрудник     0  112080.014102   \n",
       "2   женат / замужем                 0      M   сотрудник     0  145885.952297   \n",
       "3   женат / замужем                 0      M   сотрудник     0  267628.550329   \n",
       "4  гражданский брак                 1      F   пенсионер     0  158616.077870   \n",
       "5  гражданский брак                 1      M   компаньон     0  255763.565419   \n",
       "6   женат / замужем                 0      F   компаньон     0  240525.971920   \n",
       "7   женат / замужем                 0      M   сотрудник     0  135823.934197   \n",
       "8  гражданский брак                 1      F   сотрудник     0   95856.832424   \n",
       "9   женат / замужем                 0      M   сотрудник     0  144425.938277   \n",
       "\n",
       "                      purpose  \n",
       "0               покупка жилья  \n",
       "1     приобретение автомобиля  \n",
       "2               покупка жилья  \n",
       "3  дополнительное образование  \n",
       "4             сыграть свадьбу  \n",
       "5               покупка жилья  \n",
       "6           операции с жильем  \n",
       "7                 образование  \n",
       "8       на проведение свадьбы  \n",
       "9     покупка жилья для семьи  "
      ]
     },
     "execution_count": 1,
     "metadata": {},
     "output_type": "execute_result"
    }
   ],
   "source": [
    "import pandas as pd\n",
    "from pymystem3 import Mystem\n",
    "from collections import Counter\n",
    "m = Mystem()\n",
    "data = pd.read_csv('/datasets/data.csv')\n",
    "data.head(10)"
   ]
  },
  {
   "cell_type": "markdown",
   "metadata": {},
   "source": [
    "В данной таблице мы видим, что данные заполнены, есть некоторые неточности, ошибки в заполнении, конкретно в столбце \"days_employed\" данные не корректны, ведь стаж не может быть отрицательным."
   ]
  },
  {
   "cell_type": "markdown",
   "metadata": {},
   "source": [
    "Проверим к примеру первыу строку и допустим, что здесь ошибочный только знак \"-\",опустим его: 8473/365 = 23 года, тоесть 42 -23 = 19 лет, что вполне допустимо. Но возьмем строку под индексом 4: 340266 / 365 = 932 года при своих 53. Видмо человек работает уже 9 жизней вподряд и судя по всему без выходных.\n",
    "\n"
   ]
  },
  {
   "cell_type": "markdown",
   "metadata": {},
   "source": [
    "**Вывод** Видимо придется исключить из теории зависимость от стажа."
   ]
  },
  {
   "cell_type": "code",
   "execution_count": 2,
   "metadata": {},
   "outputs": [
    {
     "name": "stdout",
     "output_type": "stream",
     "text": [
      "<class 'pandas.core.frame.DataFrame'>\n",
      "RangeIndex: 21525 entries, 0 to 21524\n",
      "Data columns (total 12 columns):\n",
      "children            21525 non-null int64\n",
      "days_employed       19351 non-null float64\n",
      "dob_years           21525 non-null int64\n",
      "education           21525 non-null object\n",
      "education_id        21525 non-null int64\n",
      "family_status       21525 non-null object\n",
      "family_status_id    21525 non-null int64\n",
      "gender              21525 non-null object\n",
      "income_type         21525 non-null object\n",
      "debt                21525 non-null int64\n",
      "total_income        19351 non-null float64\n",
      "purpose             21525 non-null object\n",
      "dtypes: float64(2), int64(5), object(5)\n",
      "memory usage: 2.0+ MB\n"
     ]
    }
   ],
   "source": [
    "data.info()"
   ]
  },
  {
   "cell_type": "markdown",
   "metadata": {},
   "source": [
    "Столбцы days_employed и total_income заполнены не полностью, есть вероятность взаимосвязи между общим трудовым стажем и ежемесячным доходом некоторых дюдей. Возможно кредит пытаются взяь люди не имеющие работы."
   ]
  },
  {
   "cell_type": "markdown",
   "metadata": {},
   "source": [
    "## Предобработка данных"
   ]
  },
  {
   "cell_type": "markdown",
   "metadata": {},
   "source": [
    "### Обработка пропусков"
   ]
  },
  {
   "cell_type": "markdown",
   "metadata": {},
   "source": [
    "Посмотрим сколько пропусков в датафрейме"
   ]
  },
  {
   "cell_type": "code",
   "execution_count": 3,
   "metadata": {},
   "outputs": [
    {
     "data": {
      "text/plain": [
       "children               0\n",
       "days_employed       2174\n",
       "dob_years              0\n",
       "education              0\n",
       "education_id           0\n",
       "family_status          0\n",
       "family_status_id       0\n",
       "gender                 0\n",
       "income_type            0\n",
       "debt                   0\n",
       "total_income        2174\n",
       "purpose                0\n",
       "dtype: int64"
      ]
     },
     "execution_count": 3,
     "metadata": {},
     "output_type": "execute_result"
    }
   ],
   "source": [
    "data.isna().sum()"
   ]
  },
  {
   "cell_type": "markdown",
   "metadata": {},
   "source": [
    "Мы видим одинаковое количество пропусков в 2х столбцах выведем часть их на экран"
   ]
  },
  {
   "cell_type": "code",
   "execution_count": 4,
   "metadata": {},
   "outputs": [
    {
     "data": {
      "text/html": [
       "<div>\n",
       "<style scoped>\n",
       "    .dataframe tbody tr th:only-of-type {\n",
       "        vertical-align: middle;\n",
       "    }\n",
       "\n",
       "    .dataframe tbody tr th {\n",
       "        vertical-align: top;\n",
       "    }\n",
       "\n",
       "    .dataframe thead th {\n",
       "        text-align: right;\n",
       "    }\n",
       "</style>\n",
       "<table border=\"1\" class=\"dataframe\">\n",
       "  <thead>\n",
       "    <tr style=\"text-align: right;\">\n",
       "      <th></th>\n",
       "      <th>children</th>\n",
       "      <th>days_employed</th>\n",
       "      <th>dob_years</th>\n",
       "      <th>education</th>\n",
       "      <th>education_id</th>\n",
       "      <th>family_status</th>\n",
       "      <th>family_status_id</th>\n",
       "      <th>gender</th>\n",
       "      <th>income_type</th>\n",
       "      <th>debt</th>\n",
       "      <th>total_income</th>\n",
       "      <th>purpose</th>\n",
       "    </tr>\n",
       "  </thead>\n",
       "  <tbody>\n",
       "    <tr>\n",
       "      <td>12</td>\n",
       "      <td>0</td>\n",
       "      <td>NaN</td>\n",
       "      <td>65</td>\n",
       "      <td>среднее</td>\n",
       "      <td>1</td>\n",
       "      <td>гражданский брак</td>\n",
       "      <td>1</td>\n",
       "      <td>M</td>\n",
       "      <td>пенсионер</td>\n",
       "      <td>0</td>\n",
       "      <td>NaN</td>\n",
       "      <td>сыграть свадьбу</td>\n",
       "    </tr>\n",
       "    <tr>\n",
       "      <td>26</td>\n",
       "      <td>0</td>\n",
       "      <td>NaN</td>\n",
       "      <td>41</td>\n",
       "      <td>среднее</td>\n",
       "      <td>1</td>\n",
       "      <td>женат / замужем</td>\n",
       "      <td>0</td>\n",
       "      <td>M</td>\n",
       "      <td>госслужащий</td>\n",
       "      <td>0</td>\n",
       "      <td>NaN</td>\n",
       "      <td>образование</td>\n",
       "    </tr>\n",
       "    <tr>\n",
       "      <td>29</td>\n",
       "      <td>0</td>\n",
       "      <td>NaN</td>\n",
       "      <td>63</td>\n",
       "      <td>среднее</td>\n",
       "      <td>1</td>\n",
       "      <td>Не женат / не замужем</td>\n",
       "      <td>4</td>\n",
       "      <td>F</td>\n",
       "      <td>пенсионер</td>\n",
       "      <td>0</td>\n",
       "      <td>NaN</td>\n",
       "      <td>строительство жилой недвижимости</td>\n",
       "    </tr>\n",
       "    <tr>\n",
       "      <td>41</td>\n",
       "      <td>0</td>\n",
       "      <td>NaN</td>\n",
       "      <td>50</td>\n",
       "      <td>среднее</td>\n",
       "      <td>1</td>\n",
       "      <td>женат / замужем</td>\n",
       "      <td>0</td>\n",
       "      <td>F</td>\n",
       "      <td>госслужащий</td>\n",
       "      <td>0</td>\n",
       "      <td>NaN</td>\n",
       "      <td>сделка с подержанным автомобилем</td>\n",
       "    </tr>\n",
       "    <tr>\n",
       "      <td>55</td>\n",
       "      <td>0</td>\n",
       "      <td>NaN</td>\n",
       "      <td>54</td>\n",
       "      <td>среднее</td>\n",
       "      <td>1</td>\n",
       "      <td>гражданский брак</td>\n",
       "      <td>1</td>\n",
       "      <td>F</td>\n",
       "      <td>пенсионер</td>\n",
       "      <td>1</td>\n",
       "      <td>NaN</td>\n",
       "      <td>сыграть свадьбу</td>\n",
       "    </tr>\n",
       "  </tbody>\n",
       "</table>\n",
       "</div>"
      ],
      "text/plain": [
       "    children  days_employed  dob_years education  education_id  \\\n",
       "12         0            NaN         65   среднее             1   \n",
       "26         0            NaN         41   среднее             1   \n",
       "29         0            NaN         63   среднее             1   \n",
       "41         0            NaN         50   среднее             1   \n",
       "55         0            NaN         54   среднее             1   \n",
       "\n",
       "            family_status  family_status_id gender  income_type  debt  \\\n",
       "12       гражданский брак                 1      M    пенсионер     0   \n",
       "26        женат / замужем                 0      M  госслужащий     0   \n",
       "29  Не женат / не замужем                 4      F    пенсионер     0   \n",
       "41        женат / замужем                 0      F  госслужащий     0   \n",
       "55       гражданский брак                 1      F    пенсионер     1   \n",
       "\n",
       "    total_income                           purpose  \n",
       "12           NaN                   сыграть свадьбу  \n",
       "26           NaN                       образование  \n",
       "29           NaN  строительство жилой недвижимости  \n",
       "41           NaN  сделка с подержанным автомобилем  \n",
       "55           NaN                   сыграть свадьбу  "
      ]
     },
     "execution_count": 4,
     "metadata": {},
     "output_type": "execute_result"
    }
   ],
   "source": [
    "data[data['days_employed'].isna()].head()"
   ]
  },
  {
   "cell_type": "markdown",
   "metadata": {},
   "source": [
    "Проверим есть ли в столбце dob_years значения меньше 18. Ведь мы знаем, что кредит моложе 18 лет не выдают. и посмотрим на них"
   ]
  },
  {
   "cell_type": "code",
   "execution_count": 5,
   "metadata": {},
   "outputs": [
    {
     "data": {
      "text/plain": [
       "101"
      ]
     },
     "execution_count": 5,
     "metadata": {},
     "output_type": "execute_result"
    }
   ],
   "source": [
    "data[data['dob_years']< 18]['dob_years'].count()"
   ]
  },
  {
   "cell_type": "code",
   "execution_count": 6,
   "metadata": {},
   "outputs": [
    {
     "data": {
      "text/html": [
       "<div>\n",
       "<style scoped>\n",
       "    .dataframe tbody tr th:only-of-type {\n",
       "        vertical-align: middle;\n",
       "    }\n",
       "\n",
       "    .dataframe tbody tr th {\n",
       "        vertical-align: top;\n",
       "    }\n",
       "\n",
       "    .dataframe thead th {\n",
       "        text-align: right;\n",
       "    }\n",
       "</style>\n",
       "<table border=\"1\" class=\"dataframe\">\n",
       "  <thead>\n",
       "    <tr style=\"text-align: right;\">\n",
       "      <th></th>\n",
       "      <th>children</th>\n",
       "      <th>days_employed</th>\n",
       "      <th>dob_years</th>\n",
       "      <th>education</th>\n",
       "      <th>education_id</th>\n",
       "      <th>family_status</th>\n",
       "      <th>family_status_id</th>\n",
       "      <th>gender</th>\n",
       "      <th>income_type</th>\n",
       "      <th>debt</th>\n",
       "      <th>total_income</th>\n",
       "      <th>purpose</th>\n",
       "    </tr>\n",
       "  </thead>\n",
       "  <tbody>\n",
       "    <tr>\n",
       "      <td>99</td>\n",
       "      <td>0</td>\n",
       "      <td>346541.618895</td>\n",
       "      <td>0</td>\n",
       "      <td>Среднее</td>\n",
       "      <td>1</td>\n",
       "      <td>женат / замужем</td>\n",
       "      <td>0</td>\n",
       "      <td>F</td>\n",
       "      <td>пенсионер</td>\n",
       "      <td>0</td>\n",
       "      <td>71291.522491</td>\n",
       "      <td>автомобиль</td>\n",
       "    </tr>\n",
       "    <tr>\n",
       "      <td>149</td>\n",
       "      <td>0</td>\n",
       "      <td>-2664.273168</td>\n",
       "      <td>0</td>\n",
       "      <td>среднее</td>\n",
       "      <td>1</td>\n",
       "      <td>в разводе</td>\n",
       "      <td>3</td>\n",
       "      <td>F</td>\n",
       "      <td>сотрудник</td>\n",
       "      <td>0</td>\n",
       "      <td>70176.435951</td>\n",
       "      <td>операции с жильем</td>\n",
       "    </tr>\n",
       "    <tr>\n",
       "      <td>270</td>\n",
       "      <td>3</td>\n",
       "      <td>-1872.663186</td>\n",
       "      <td>0</td>\n",
       "      <td>среднее</td>\n",
       "      <td>1</td>\n",
       "      <td>женат / замужем</td>\n",
       "      <td>0</td>\n",
       "      <td>F</td>\n",
       "      <td>сотрудник</td>\n",
       "      <td>0</td>\n",
       "      <td>102166.458894</td>\n",
       "      <td>ремонт жилью</td>\n",
       "    </tr>\n",
       "    <tr>\n",
       "      <td>578</td>\n",
       "      <td>0</td>\n",
       "      <td>397856.565013</td>\n",
       "      <td>0</td>\n",
       "      <td>среднее</td>\n",
       "      <td>1</td>\n",
       "      <td>женат / замужем</td>\n",
       "      <td>0</td>\n",
       "      <td>F</td>\n",
       "      <td>пенсионер</td>\n",
       "      <td>0</td>\n",
       "      <td>97620.687042</td>\n",
       "      <td>строительство собственной недвижимости</td>\n",
       "    </tr>\n",
       "    <tr>\n",
       "      <td>1040</td>\n",
       "      <td>0</td>\n",
       "      <td>-1158.029561</td>\n",
       "      <td>0</td>\n",
       "      <td>высшее</td>\n",
       "      <td>0</td>\n",
       "      <td>в разводе</td>\n",
       "      <td>3</td>\n",
       "      <td>F</td>\n",
       "      <td>компаньон</td>\n",
       "      <td>0</td>\n",
       "      <td>303994.134987</td>\n",
       "      <td>свой автомобиль</td>\n",
       "    </tr>\n",
       "  </tbody>\n",
       "</table>\n",
       "</div>"
      ],
      "text/plain": [
       "      children  days_employed  dob_years education  education_id  \\\n",
       "99           0  346541.618895          0   Среднее             1   \n",
       "149          0   -2664.273168          0   среднее             1   \n",
       "270          3   -1872.663186          0   среднее             1   \n",
       "578          0  397856.565013          0   среднее             1   \n",
       "1040         0   -1158.029561          0    высшее             0   \n",
       "\n",
       "        family_status  family_status_id gender income_type  debt  \\\n",
       "99    женат / замужем                 0      F   пенсионер     0   \n",
       "149         в разводе                 3      F   сотрудник     0   \n",
       "270   женат / замужем                 0      F   сотрудник     0   \n",
       "578   женат / замужем                 0      F   пенсионер     0   \n",
       "1040        в разводе                 3      F   компаньон     0   \n",
       "\n",
       "       total_income                                 purpose  \n",
       "99     71291.522491                              автомобиль  \n",
       "149    70176.435951                       операции с жильем  \n",
       "270   102166.458894                            ремонт жилью  \n",
       "578    97620.687042  строительство собственной недвижимости  \n",
       "1040  303994.134987                         свой автомобиль  "
      ]
     },
     "execution_count": 6,
     "metadata": {},
     "output_type": "execute_result"
    }
   ],
   "source": [
    "data[data['dob_years']< 18].head()"
   ]
  },
  {
   "cell_type": "markdown",
   "metadata": {},
   "source": [
    "Проверим все ли значения в столбце равны 0."
   ]
  },
  {
   "cell_type": "code",
   "execution_count": 7,
   "metadata": {},
   "outputs": [
    {
     "data": {
      "text/plain": [
       "101"
      ]
     },
     "execution_count": 7,
     "metadata": {},
     "output_type": "execute_result"
    }
   ],
   "source": [
    "data[data['dob_years'] == 0]['dob_years'].count()"
   ]
  },
  {
   "cell_type": "markdown",
   "metadata": {},
   "source": [
    "Все верно значение количество значений  меньше 18 равно количеству значений 0 в столбце. Заменим 0 значения медианному значению столбца income_type для каждой группы"
   ]
  },
  {
   "cell_type": "code",
   "execution_count": 8,
   "metadata": {},
   "outputs": [],
   "source": [
    "for row in data['income_type'].unique():\n",
    "\n",
    "    data.loc[(data['dob_years'] == 0)&(data['income_type'] == row), 'dob_years'] = data.loc[data['income_type'] ==\n",
    "                                                                                            row, 'dob_years'].median()"
   ]
  },
  {
   "cell_type": "markdown",
   "metadata": {},
   "source": [
    "Проверим пропали ли 0 значения"
   ]
  },
  {
   "cell_type": "code",
   "execution_count": 9,
   "metadata": {},
   "outputs": [
    {
     "data": {
      "text/plain": [
       "0"
      ]
     },
     "execution_count": 9,
     "metadata": {},
     "output_type": "execute_result"
    }
   ],
   "source": [
    "data[data['dob_years'] == 0]['dob_years'].count()"
   ]
  },
  {
   "cell_type": "markdown",
   "metadata": {},
   "source": [
    "Обнаруженые пропуски в столбцах days_employed и total_income могли возникнут в результате не заполнения самих людей подающих заявки на кредит либо в виду программной ошибки. Так как данные в столбце days_employed не корректны, а новые данные взять негде, то попробуем заменить их на боллее правильные, расчитаем стаж сами. В среднем человек без высшего образования начинает работать в 18 лет(не будем учитывать срок службы в армии для мужчин), а с высшим образованием примерно в 23 года. С неоконченным высшим конечно сложнее но мы возьмем средннее 3 года учебы, тоесть отчет начнется с 21 года. Со средним образованием так же возьмем 21 год. С ученой степенью возьмем как и с высшим образованием т.к. в основном в это время уже все работают."
   ]
  },
  {
   "cell_type": "code",
   "execution_count": 10,
   "metadata": {},
   "outputs": [],
   "source": [
    "#Определяем стаж работы. Выполняя следующие условия:\n",
    "#Если у человека неоконченное высшее или среднее тогда из количества его лет вычитается 21 год.\n",
    "#Если у человека высшее образование или ученая степень тогда из количества его лет вычитается 23 года.\n",
    "#Если у человека начальное образование тогда вычитается 18 лет.\n",
    "data.loc[(data['education_id'] == 1)|(data['education_id'] == 2), 'days_employed'] = data['dob_years']-21\n",
    "data.loc[(data['education_id'] == 0)|(data['education_id'] == 4), 'days_employed'] = data['dob_years']-23\n",
    "data.loc[data['education_id'] == 3, 'days_employed'] = data['dob_years']-18"
   ]
  },
  {
   "cell_type": "markdown",
   "metadata": {},
   "source": [
    "проверим остались ли отрицательные значения в столбце days_employed"
   ]
  },
  {
   "cell_type": "code",
   "execution_count": 11,
   "metadata": {},
   "outputs": [
    {
     "data": {
      "text/plain": [
       "133"
      ]
     },
     "execution_count": 11,
     "metadata": {},
     "output_type": "execute_result"
    }
   ],
   "source": [
    "data[data['days_employed'] <0]['days_employed'].count()"
   ]
  },
  {
   "cell_type": "markdown",
   "metadata": {},
   "source": [
    "Выведем их на экран"
   ]
  },
  {
   "cell_type": "code",
   "execution_count": 12,
   "metadata": {},
   "outputs": [
    {
     "data": {
      "text/html": [
       "<div>\n",
       "<style scoped>\n",
       "    .dataframe tbody tr th:only-of-type {\n",
       "        vertical-align: middle;\n",
       "    }\n",
       "\n",
       "    .dataframe tbody tr th {\n",
       "        vertical-align: top;\n",
       "    }\n",
       "\n",
       "    .dataframe thead th {\n",
       "        text-align: right;\n",
       "    }\n",
       "</style>\n",
       "<table border=\"1\" class=\"dataframe\">\n",
       "  <thead>\n",
       "    <tr style=\"text-align: right;\">\n",
       "      <th></th>\n",
       "      <th>children</th>\n",
       "      <th>days_employed</th>\n",
       "      <th>dob_years</th>\n",
       "      <th>education</th>\n",
       "      <th>education_id</th>\n",
       "      <th>family_status</th>\n",
       "      <th>family_status_id</th>\n",
       "      <th>gender</th>\n",
       "      <th>income_type</th>\n",
       "      <th>debt</th>\n",
       "      <th>total_income</th>\n",
       "      <th>purpose</th>\n",
       "    </tr>\n",
       "  </thead>\n",
       "  <tbody>\n",
       "    <tr>\n",
       "      <td>23</td>\n",
       "      <td>0</td>\n",
       "      <td>-2.0</td>\n",
       "      <td>21.0</td>\n",
       "      <td>высшее</td>\n",
       "      <td>0</td>\n",
       "      <td>гражданский брак</td>\n",
       "      <td>1</td>\n",
       "      <td>M</td>\n",
       "      <td>сотрудник</td>\n",
       "      <td>0</td>\n",
       "      <td>128265.720871</td>\n",
       "      <td>сыграть свадьбу</td>\n",
       "    </tr>\n",
       "    <tr>\n",
       "      <td>42</td>\n",
       "      <td>0</td>\n",
       "      <td>-1.0</td>\n",
       "      <td>20.0</td>\n",
       "      <td>неоконченное высшее</td>\n",
       "      <td>2</td>\n",
       "      <td>Не женат / не замужем</td>\n",
       "      <td>4</td>\n",
       "      <td>F</td>\n",
       "      <td>сотрудник</td>\n",
       "      <td>0</td>\n",
       "      <td>82065.089021</td>\n",
       "      <td>получение образования</td>\n",
       "    </tr>\n",
       "    <tr>\n",
       "      <td>153</td>\n",
       "      <td>1</td>\n",
       "      <td>-1.0</td>\n",
       "      <td>20.0</td>\n",
       "      <td>среднее</td>\n",
       "      <td>1</td>\n",
       "      <td>женат / замужем</td>\n",
       "      <td>0</td>\n",
       "      <td>M</td>\n",
       "      <td>компаньон</td>\n",
       "      <td>1</td>\n",
       "      <td>134750.749515</td>\n",
       "      <td>жилье</td>\n",
       "    </tr>\n",
       "    <tr>\n",
       "      <td>216</td>\n",
       "      <td>0</td>\n",
       "      <td>-1.0</td>\n",
       "      <td>22.0</td>\n",
       "      <td>высшее</td>\n",
       "      <td>0</td>\n",
       "      <td>гражданский брак</td>\n",
       "      <td>1</td>\n",
       "      <td>F</td>\n",
       "      <td>сотрудник</td>\n",
       "      <td>0</td>\n",
       "      <td>118757.770135</td>\n",
       "      <td>образование</td>\n",
       "    </tr>\n",
       "    <tr>\n",
       "      <td>317</td>\n",
       "      <td>0</td>\n",
       "      <td>-2.0</td>\n",
       "      <td>21.0</td>\n",
       "      <td>высшее</td>\n",
       "      <td>0</td>\n",
       "      <td>Не женат / не замужем</td>\n",
       "      <td>4</td>\n",
       "      <td>M</td>\n",
       "      <td>сотрудник</td>\n",
       "      <td>0</td>\n",
       "      <td>NaN</td>\n",
       "      <td>сделка с автомобилем</td>\n",
       "    </tr>\n",
       "    <tr>\n",
       "      <td>437</td>\n",
       "      <td>1</td>\n",
       "      <td>-1.0</td>\n",
       "      <td>22.0</td>\n",
       "      <td>высшее</td>\n",
       "      <td>0</td>\n",
       "      <td>женат / замужем</td>\n",
       "      <td>0</td>\n",
       "      <td>M</td>\n",
       "      <td>сотрудник</td>\n",
       "      <td>1</td>\n",
       "      <td>168110.287253</td>\n",
       "      <td>покупка жилой недвижимости</td>\n",
       "    </tr>\n",
       "    <tr>\n",
       "      <td>766</td>\n",
       "      <td>0</td>\n",
       "      <td>-2.0</td>\n",
       "      <td>19.0</td>\n",
       "      <td>неоконченное высшее</td>\n",
       "      <td>2</td>\n",
       "      <td>женат / замужем</td>\n",
       "      <td>0</td>\n",
       "      <td>F</td>\n",
       "      <td>сотрудник</td>\n",
       "      <td>0</td>\n",
       "      <td>80812.147802</td>\n",
       "      <td>покупка жилья для сдачи</td>\n",
       "    </tr>\n",
       "    <tr>\n",
       "      <td>1277</td>\n",
       "      <td>0</td>\n",
       "      <td>-1.0</td>\n",
       "      <td>20.0</td>\n",
       "      <td>среднее</td>\n",
       "      <td>1</td>\n",
       "      <td>Не женат / не замужем</td>\n",
       "      <td>4</td>\n",
       "      <td>M</td>\n",
       "      <td>сотрудник</td>\n",
       "      <td>0</td>\n",
       "      <td>92387.574189</td>\n",
       "      <td>жилье</td>\n",
       "    </tr>\n",
       "    <tr>\n",
       "      <td>1614</td>\n",
       "      <td>0</td>\n",
       "      <td>-1.0</td>\n",
       "      <td>20.0</td>\n",
       "      <td>среднее</td>\n",
       "      <td>1</td>\n",
       "      <td>женат / замужем</td>\n",
       "      <td>0</td>\n",
       "      <td>F</td>\n",
       "      <td>компаньон</td>\n",
       "      <td>0</td>\n",
       "      <td>201818.035916</td>\n",
       "      <td>ремонт жилью</td>\n",
       "    </tr>\n",
       "    <tr>\n",
       "      <td>1621</td>\n",
       "      <td>0</td>\n",
       "      <td>-1.0</td>\n",
       "      <td>22.0</td>\n",
       "      <td>высшее</td>\n",
       "      <td>0</td>\n",
       "      <td>Не женат / не замужем</td>\n",
       "      <td>4</td>\n",
       "      <td>M</td>\n",
       "      <td>компаньон</td>\n",
       "      <td>0</td>\n",
       "      <td>289344.998213</td>\n",
       "      <td>операции со своей недвижимостью</td>\n",
       "    </tr>\n",
       "  </tbody>\n",
       "</table>\n",
       "</div>"
      ],
      "text/plain": [
       "      children  days_employed  dob_years            education  education_id  \\\n",
       "23           0           -2.0       21.0               высшее             0   \n",
       "42           0           -1.0       20.0  неоконченное высшее             2   \n",
       "153          1           -1.0       20.0              среднее             1   \n",
       "216          0           -1.0       22.0               высшее             0   \n",
       "317          0           -2.0       21.0               высшее             0   \n",
       "437          1           -1.0       22.0               высшее             0   \n",
       "766          0           -2.0       19.0  неоконченное высшее             2   \n",
       "1277         0           -1.0       20.0              среднее             1   \n",
       "1614         0           -1.0       20.0              среднее             1   \n",
       "1621         0           -1.0       22.0               высшее             0   \n",
       "\n",
       "              family_status  family_status_id gender income_type  debt  \\\n",
       "23         гражданский брак                 1      M   сотрудник     0   \n",
       "42    Не женат / не замужем                 4      F   сотрудник     0   \n",
       "153         женат / замужем                 0      M   компаньон     1   \n",
       "216        гражданский брак                 1      F   сотрудник     0   \n",
       "317   Не женат / не замужем                 4      M   сотрудник     0   \n",
       "437         женат / замужем                 0      M   сотрудник     1   \n",
       "766         женат / замужем                 0      F   сотрудник     0   \n",
       "1277  Не женат / не замужем                 4      M   сотрудник     0   \n",
       "1614        женат / замужем                 0      F   компаньон     0   \n",
       "1621  Не женат / не замужем                 4      M   компаньон     0   \n",
       "\n",
       "       total_income                          purpose  \n",
       "23    128265.720871                  сыграть свадьбу  \n",
       "42     82065.089021            получение образования  \n",
       "153   134750.749515                            жилье  \n",
       "216   118757.770135                      образование  \n",
       "317             NaN             сделка с автомобилем  \n",
       "437   168110.287253       покупка жилой недвижимости  \n",
       "766    80812.147802          покупка жилья для сдачи  \n",
       "1277   92387.574189                            жилье  \n",
       "1614  201818.035916                     ремонт жилью  \n",
       "1621  289344.998213  операции со своей недвижимостью  "
      ]
     },
     "execution_count": 12,
     "metadata": {},
     "output_type": "execute_result"
    }
   ],
   "source": [
    "data[data['days_employed'] <0].head(10)"
   ]
  },
  {
   "cell_type": "markdown",
   "metadata": {},
   "source": [
    "Посмотрим какие значения встречаются в столбце days_employed"
   ]
  },
  {
   "cell_type": "code",
   "execution_count": 13,
   "metadata": {},
   "outputs": [
    {
     "data": {
      "text/plain": [
       "array([-2., -1., -3.])"
      ]
     },
     "execution_count": 13,
     "metadata": {},
     "output_type": "execute_result"
    }
   ],
   "source": [
    "data[data['days_employed'] <0]['days_employed'].unique()"
   ]
  },
  {
   "cell_type": "markdown",
   "metadata": {},
   "source": [
    "То есть это все те люди которые не подпадают под правило выше указанной функции, для нашего исследования это не так важно, т.к. эти люди будут объеденнены в одну группу в итоге, поэтому просто уберем знак \"-\" "
   ]
  },
  {
   "cell_type": "code",
   "execution_count": 14,
   "metadata": {},
   "outputs": [],
   "source": [
    "data['days_employed']=data['days_employed'].abs()"
   ]
  },
  {
   "cell_type": "code",
   "execution_count": 15,
   "metadata": {},
   "outputs": [
    {
     "data": {
      "text/plain": [
       "array([], dtype=float64)"
      ]
     },
     "execution_count": 15,
     "metadata": {},
     "output_type": "execute_result"
    }
   ],
   "source": [
    "data[data['days_employed'] <0]['days_employed'].unique()"
   ]
  },
  {
   "cell_type": "markdown",
   "metadata": {},
   "source": [
    "От знака минус избавились."
   ]
  },
  {
   "cell_type": "markdown",
   "metadata": {},
   "source": [
    "Посмотрим на значения в столбце income_type."
   ]
  },
  {
   "cell_type": "code",
   "execution_count": 16,
   "metadata": {},
   "outputs": [
    {
     "data": {
      "text/plain": [
       "array(['сотрудник', 'пенсионер', 'компаньон', 'госслужащий',\n",
       "       'безработный', 'предприниматель', 'студент', 'в декрете'],\n",
       "      dtype=object)"
      ]
     },
     "execution_count": 16,
     "metadata": {},
     "output_type": "execute_result"
    }
   ],
   "source": [
    "data['income_type'].unique()"
   ]
  },
  {
   "cell_type": "markdown",
   "metadata": {},
   "source": [
    "Мы видим, что в столбце income_type все типы занятости делятся на 8 категорий, логично предположить что для заполнения пропусков в столбце total_income необходимо сгруппировать данные по этип типам занятости и заменить пропуски на медианное значение этой группы."
   ]
  },
  {
   "cell_type": "code",
   "execution_count": 17,
   "metadata": {},
   "outputs": [],
   "source": [
    "for row in data['income_type'].unique():\n",
    "    \n",
    "    data.loc[(data['total_income'].isna())&(data['income_type'] ==row), 'total_income'] = data.loc[data['income_type'] == row, 'total_income'].median()"
   ]
  },
  {
   "cell_type": "code",
   "execution_count": 18,
   "metadata": {},
   "outputs": [
    {
     "data": {
      "text/plain": [
       "children            0\n",
       "days_employed       0\n",
       "dob_years           0\n",
       "education           0\n",
       "education_id        0\n",
       "family_status       0\n",
       "family_status_id    0\n",
       "gender              0\n",
       "income_type         0\n",
       "debt                0\n",
       "total_income        0\n",
       "purpose             0\n",
       "dtype: int64"
      ]
     },
     "execution_count": 18,
     "metadata": {},
     "output_type": "execute_result"
    }
   ],
   "source": [
    "data.isna().sum()"
   ]
  },
  {
   "cell_type": "markdown",
   "metadata": {},
   "source": [
    "**Вывод**: Мы обнаружили количественные пропуски в столбцах \"days_employed\" и \"total_income\". Данные пропуски скорее всего возникли из за программной ошибки. Так же заметили, что в столбце dob_years некоторые значения были равны 0, мы их заменили."
   ]
  },
  {
   "cell_type": "markdown",
   "metadata": {},
   "source": [
    "### Замена типа данных"
   ]
  },
  {
   "cell_type": "markdown",
   "metadata": {},
   "source": [
    "Для начала напишем функцию для объединения людей в группы по возрасту и сохраним в столбец age_group"
   ]
  },
  {
   "cell_type": "code",
   "execution_count": 19,
   "metadata": {},
   "outputs": [],
   "source": [
    "def age_group(age):\n",
    "    \"\"\"\n",
    "    Возвращает возврастную группу по значению возраста age, используя правила:\n",
    "    - 'молодежь', если 18 <= age <= 30 лет;\n",
    "    - 'взрослые', если age более 31 и менее 64, включая 31 и 64;\n",
    "    - 'пенсионеры' — во всех остальных случаях.\n",
    "    \"\"\"\n",
    "    \n",
    "    if 18 <= age <= 30:\n",
    "        return 'молодежь'\n",
    "    elif 31 <= age <= 64:\n",
    "        return 'зрелые'\n",
    "    else:\n",
    "        return 'пенсионеры' "
   ]
  },
  {
   "cell_type": "markdown",
   "metadata": {},
   "source": [
    "</div>\n",
    "<div class=\"alert alert-info\"> \n",
    "<b>Комментарий ревьюера</b> \n",
    "    \n",
    "Такую же функцию можно написать для разбивки на группы по доходу.\n",
    "\n",
    "\n",
    "</div>"
   ]
  },
  {
   "cell_type": "code",
   "execution_count": 20,
   "metadata": {},
   "outputs": [],
   "source": [
    "data['age_group'] = data['dob_years'].apply(age_group)"
   ]
  },
  {
   "cell_type": "code",
   "execution_count": 21,
   "metadata": {},
   "outputs": [
    {
     "data": {
      "text/html": [
       "<div>\n",
       "<style scoped>\n",
       "    .dataframe tbody tr th:only-of-type {\n",
       "        vertical-align: middle;\n",
       "    }\n",
       "\n",
       "    .dataframe tbody tr th {\n",
       "        vertical-align: top;\n",
       "    }\n",
       "\n",
       "    .dataframe thead th {\n",
       "        text-align: right;\n",
       "    }\n",
       "</style>\n",
       "<table border=\"1\" class=\"dataframe\">\n",
       "  <thead>\n",
       "    <tr style=\"text-align: right;\">\n",
       "      <th></th>\n",
       "      <th>children</th>\n",
       "      <th>days_employed</th>\n",
       "      <th>dob_years</th>\n",
       "      <th>education</th>\n",
       "      <th>education_id</th>\n",
       "      <th>family_status</th>\n",
       "      <th>family_status_id</th>\n",
       "      <th>gender</th>\n",
       "      <th>income_type</th>\n",
       "      <th>debt</th>\n",
       "      <th>total_income</th>\n",
       "      <th>purpose</th>\n",
       "      <th>age_group</th>\n",
       "    </tr>\n",
       "  </thead>\n",
       "  <tbody>\n",
       "    <tr>\n",
       "      <td>0</td>\n",
       "      <td>1</td>\n",
       "      <td>19.0</td>\n",
       "      <td>42.0</td>\n",
       "      <td>высшее</td>\n",
       "      <td>0</td>\n",
       "      <td>женат / замужем</td>\n",
       "      <td>0</td>\n",
       "      <td>F</td>\n",
       "      <td>сотрудник</td>\n",
       "      <td>0</td>\n",
       "      <td>253875.639453</td>\n",
       "      <td>покупка жилья</td>\n",
       "      <td>зрелые</td>\n",
       "    </tr>\n",
       "    <tr>\n",
       "      <td>1</td>\n",
       "      <td>1</td>\n",
       "      <td>15.0</td>\n",
       "      <td>36.0</td>\n",
       "      <td>среднее</td>\n",
       "      <td>1</td>\n",
       "      <td>женат / замужем</td>\n",
       "      <td>0</td>\n",
       "      <td>F</td>\n",
       "      <td>сотрудник</td>\n",
       "      <td>0</td>\n",
       "      <td>112080.014102</td>\n",
       "      <td>приобретение автомобиля</td>\n",
       "      <td>зрелые</td>\n",
       "    </tr>\n",
       "    <tr>\n",
       "      <td>2</td>\n",
       "      <td>0</td>\n",
       "      <td>12.0</td>\n",
       "      <td>33.0</td>\n",
       "      <td>Среднее</td>\n",
       "      <td>1</td>\n",
       "      <td>женат / замужем</td>\n",
       "      <td>0</td>\n",
       "      <td>M</td>\n",
       "      <td>сотрудник</td>\n",
       "      <td>0</td>\n",
       "      <td>145885.952297</td>\n",
       "      <td>покупка жилья</td>\n",
       "      <td>зрелые</td>\n",
       "    </tr>\n",
       "    <tr>\n",
       "      <td>3</td>\n",
       "      <td>3</td>\n",
       "      <td>11.0</td>\n",
       "      <td>32.0</td>\n",
       "      <td>среднее</td>\n",
       "      <td>1</td>\n",
       "      <td>женат / замужем</td>\n",
       "      <td>0</td>\n",
       "      <td>M</td>\n",
       "      <td>сотрудник</td>\n",
       "      <td>0</td>\n",
       "      <td>267628.550329</td>\n",
       "      <td>дополнительное образование</td>\n",
       "      <td>зрелые</td>\n",
       "    </tr>\n",
       "    <tr>\n",
       "      <td>4</td>\n",
       "      <td>0</td>\n",
       "      <td>32.0</td>\n",
       "      <td>53.0</td>\n",
       "      <td>среднее</td>\n",
       "      <td>1</td>\n",
       "      <td>гражданский брак</td>\n",
       "      <td>1</td>\n",
       "      <td>F</td>\n",
       "      <td>пенсионер</td>\n",
       "      <td>0</td>\n",
       "      <td>158616.077870</td>\n",
       "      <td>сыграть свадьбу</td>\n",
       "      <td>зрелые</td>\n",
       "    </tr>\n",
       "  </tbody>\n",
       "</table>\n",
       "</div>"
      ],
      "text/plain": [
       "   children  days_employed  dob_years education  education_id  \\\n",
       "0         1           19.0       42.0    высшее             0   \n",
       "1         1           15.0       36.0   среднее             1   \n",
       "2         0           12.0       33.0   Среднее             1   \n",
       "3         3           11.0       32.0   среднее             1   \n",
       "4         0           32.0       53.0   среднее             1   \n",
       "\n",
       "      family_status  family_status_id gender income_type  debt   total_income  \\\n",
       "0   женат / замужем                 0      F   сотрудник     0  253875.639453   \n",
       "1   женат / замужем                 0      F   сотрудник     0  112080.014102   \n",
       "2   женат / замужем                 0      M   сотрудник     0  145885.952297   \n",
       "3   женат / замужем                 0      M   сотрудник     0  267628.550329   \n",
       "4  гражданский брак                 1      F   пенсионер     0  158616.077870   \n",
       "\n",
       "                      purpose age_group  \n",
       "0               покупка жилья    зрелые  \n",
       "1     приобретение автомобиля    зрелые  \n",
       "2               покупка жилья    зрелые  \n",
       "3  дополнительное образование    зрелые  \n",
       "4             сыграть свадьбу    зрелые  "
      ]
     },
     "execution_count": 21,
     "metadata": {},
     "output_type": "execute_result"
    }
   ],
   "source": [
    "data.head()"
   ]
  },
  {
   "cell_type": "markdown",
   "metadata": {},
   "source": [
    "В столбцах days_employed и total_income используется вещественный тип данных float64, что не совсем удобно для нас. Переведем их в целое число методом astype."
   ]
  },
  {
   "cell_type": "code",
   "execution_count": 22,
   "metadata": {},
   "outputs": [],
   "source": [
    "data['days_employed'] = data['days_employed'].astype('int')"
   ]
  },
  {
   "cell_type": "code",
   "execution_count": 23,
   "metadata": {},
   "outputs": [],
   "source": [
    "data['dob_years'] = data['dob_years'].astype('int')"
   ]
  },
  {
   "cell_type": "code",
   "execution_count": 24,
   "metadata": {},
   "outputs": [],
   "source": [
    "data['total_income'] = data['total_income'].astype('int')"
   ]
  },
  {
   "cell_type": "markdown",
   "metadata": {},
   "source": [
    "Удостоверимся что тип данных изменился"
   ]
  },
  {
   "cell_type": "code",
   "execution_count": 25,
   "metadata": {},
   "outputs": [
    {
     "name": "stdout",
     "output_type": "stream",
     "text": [
      "<class 'pandas.core.frame.DataFrame'>\n",
      "RangeIndex: 21525 entries, 0 to 21524\n",
      "Data columns (total 13 columns):\n",
      "children            21525 non-null int64\n",
      "days_employed       21525 non-null int64\n",
      "dob_years           21525 non-null int64\n",
      "education           21525 non-null object\n",
      "education_id        21525 non-null int64\n",
      "family_status       21525 non-null object\n",
      "family_status_id    21525 non-null int64\n",
      "gender              21525 non-null object\n",
      "income_type         21525 non-null object\n",
      "debt                21525 non-null int64\n",
      "total_income        21525 non-null int64\n",
      "purpose             21525 non-null object\n",
      "age_group           21525 non-null object\n",
      "dtypes: int64(7), object(6)\n",
      "memory usage: 2.1+ MB\n"
     ]
    }
   ],
   "source": [
    "data.info()"
   ]
  },
  {
   "cell_type": "markdown",
   "metadata": {},
   "source": [
    "посмотрим на уникальные значения столбца количества детей."
   ]
  },
  {
   "cell_type": "code",
   "execution_count": 26,
   "metadata": {
    "scrolled": true
   },
   "outputs": [
    {
     "data": {
      "text/plain": [
       "array([ 1,  0,  3,  2, -1,  4, 20,  5])"
      ]
     },
     "execution_count": 26,
     "metadata": {},
     "output_type": "execute_result"
    }
   ],
   "source": [
    "data['children'].unique()"
   ]
  },
  {
   "cell_type": "markdown",
   "metadata": {},
   "source": [
    "мы видим не совсем корректные дынные, а именно -1 и 20. Проверим количество семей с 20 детьми."
   ]
  },
  {
   "cell_type": "code",
   "execution_count": 27,
   "metadata": {},
   "outputs": [
    {
     "data": {
      "text/plain": [
       "76"
      ]
     },
     "execution_count": 27,
     "metadata": {},
     "output_type": "execute_result"
    }
   ],
   "source": [
    "data[data['children'] == 20]['children'].count()"
   ]
  },
  {
   "cell_type": "markdown",
   "metadata": {},
   "source": [
    "Как мы видим целых 76 семей. Но если проверить информацию через всем известный поисковик, то таких семей всего лишь 1 на всю страну. Делаем выводы, что это выброс и просто его подправим, уберем 0, скорее всего это просто опечатка. А так же уберем -1 ведь отрицательного значения детей не бывает, они или есть или нет."
   ]
  },
  {
   "cell_type": "code",
   "execution_count": 28,
   "metadata": {},
   "outputs": [],
   "source": [
    "data['children'] = data['children'].abs()"
   ]
  },
  {
   "cell_type": "code",
   "execution_count": 29,
   "metadata": {},
   "outputs": [],
   "source": [
    "data.loc[(data['children'] == 20), 'children'] = 2"
   ]
  },
  {
   "cell_type": "markdown",
   "metadata": {},
   "source": [
    "Проверим действительно ли изменились значения в столбце"
   ]
  },
  {
   "cell_type": "code",
   "execution_count": null,
   "metadata": {
    "scrolled": true
   },
   "outputs": [],
   "source": [
    "data['children'].unique()"
   ]
  },
  {
   "cell_type": "markdown",
   "metadata": {},
   "source": [
    "**Вывод**: Тип данных заменили на целочисленный, в таком виде данные выглядят куда удобней. Так же был обнаружен вброс данных в столбце с количеством детей, данные исправили"
   ]
  },
  {
   "cell_type": "markdown",
   "metadata": {},
   "source": [
    "### Обработка дубликатов"
   ]
  },
  {
   "cell_type": "markdown",
   "metadata": {},
   "source": [
    "Выполним поиск полных дубликатов во всем дата фрейме:"
   ]
  },
  {
   "cell_type": "code",
   "execution_count": 31,
   "metadata": {},
   "outputs": [
    {
     "data": {
      "text/plain": [
       "54"
      ]
     },
     "execution_count": 31,
     "metadata": {},
     "output_type": "execute_result"
    }
   ],
   "source": [
    "data.duplicated().sum()"
   ]
  },
  {
   "cell_type": "markdown",
   "metadata": {},
   "source": [
    "На данный момент мы видим 54 дубликата, но если внимательно посмотрим на вызов таблицы в начале нашего исследования, то увидим, что в некоторых строках есть значения данные которых записаны не в одном регистре."
   ]
  },
  {
   "cell_type": "markdown",
   "metadata": {},
   "source": [
    "Приведем все записи столбцов education, family_status, income_type, purpose к нижнему регистру."
   ]
  },
  {
   "cell_type": "code",
   "execution_count": 33,
   "metadata": {},
   "outputs": [],
   "source": [
    "data['education'] = data['education'].str.lower()"
   ]
  },
  {
   "cell_type": "code",
   "execution_count": 34,
   "metadata": {},
   "outputs": [],
   "source": [
    "data['family_status'] = data['family_status'].str.lower()"
   ]
  },
  {
   "cell_type": "code",
   "execution_count": 35,
   "metadata": {},
   "outputs": [],
   "source": [
    "data['income_type'] = data['income_type'].str.lower()"
   ]
  },
  {
   "cell_type": "code",
   "execution_count": 36,
   "metadata": {},
   "outputs": [],
   "source": [
    "data['purpose'] = data['purpose'].str.lower()"
   ]
  },
  {
   "cell_type": "code",
   "execution_count": 37,
   "metadata": {},
   "outputs": [
    {
     "data": {
      "text/html": [
       "<div>\n",
       "<style scoped>\n",
       "    .dataframe tbody tr th:only-of-type {\n",
       "        vertical-align: middle;\n",
       "    }\n",
       "\n",
       "    .dataframe tbody tr th {\n",
       "        vertical-align: top;\n",
       "    }\n",
       "\n",
       "    .dataframe thead th {\n",
       "        text-align: right;\n",
       "    }\n",
       "</style>\n",
       "<table border=\"1\" class=\"dataframe\">\n",
       "  <thead>\n",
       "    <tr style=\"text-align: right;\">\n",
       "      <th></th>\n",
       "      <th>children</th>\n",
       "      <th>days_employed</th>\n",
       "      <th>dob_years</th>\n",
       "      <th>education</th>\n",
       "      <th>education_id</th>\n",
       "      <th>family_status</th>\n",
       "      <th>family_status_id</th>\n",
       "      <th>gender</th>\n",
       "      <th>income_type</th>\n",
       "      <th>debt</th>\n",
       "      <th>total_income</th>\n",
       "      <th>purpose</th>\n",
       "      <th>age_group</th>\n",
       "    </tr>\n",
       "  </thead>\n",
       "  <tbody>\n",
       "    <tr>\n",
       "      <td>0</td>\n",
       "      <td>1</td>\n",
       "      <td>19</td>\n",
       "      <td>42</td>\n",
       "      <td>высшее</td>\n",
       "      <td>0</td>\n",
       "      <td>женат / замужем</td>\n",
       "      <td>0</td>\n",
       "      <td>F</td>\n",
       "      <td>сотрудник</td>\n",
       "      <td>0</td>\n",
       "      <td>253875</td>\n",
       "      <td>покупка жилья</td>\n",
       "      <td>зрелые</td>\n",
       "    </tr>\n",
       "    <tr>\n",
       "      <td>1</td>\n",
       "      <td>1</td>\n",
       "      <td>15</td>\n",
       "      <td>36</td>\n",
       "      <td>среднее</td>\n",
       "      <td>1</td>\n",
       "      <td>женат / замужем</td>\n",
       "      <td>0</td>\n",
       "      <td>F</td>\n",
       "      <td>сотрудник</td>\n",
       "      <td>0</td>\n",
       "      <td>112080</td>\n",
       "      <td>приобретение автомобиля</td>\n",
       "      <td>зрелые</td>\n",
       "    </tr>\n",
       "    <tr>\n",
       "      <td>2</td>\n",
       "      <td>0</td>\n",
       "      <td>12</td>\n",
       "      <td>33</td>\n",
       "      <td>среднее</td>\n",
       "      <td>1</td>\n",
       "      <td>женат / замужем</td>\n",
       "      <td>0</td>\n",
       "      <td>M</td>\n",
       "      <td>сотрудник</td>\n",
       "      <td>0</td>\n",
       "      <td>145885</td>\n",
       "      <td>покупка жилья</td>\n",
       "      <td>зрелые</td>\n",
       "    </tr>\n",
       "    <tr>\n",
       "      <td>3</td>\n",
       "      <td>3</td>\n",
       "      <td>11</td>\n",
       "      <td>32</td>\n",
       "      <td>среднее</td>\n",
       "      <td>1</td>\n",
       "      <td>женат / замужем</td>\n",
       "      <td>0</td>\n",
       "      <td>M</td>\n",
       "      <td>сотрудник</td>\n",
       "      <td>0</td>\n",
       "      <td>267628</td>\n",
       "      <td>дополнительное образование</td>\n",
       "      <td>зрелые</td>\n",
       "    </tr>\n",
       "    <tr>\n",
       "      <td>4</td>\n",
       "      <td>0</td>\n",
       "      <td>32</td>\n",
       "      <td>53</td>\n",
       "      <td>среднее</td>\n",
       "      <td>1</td>\n",
       "      <td>гражданский брак</td>\n",
       "      <td>1</td>\n",
       "      <td>F</td>\n",
       "      <td>пенсионер</td>\n",
       "      <td>0</td>\n",
       "      <td>158616</td>\n",
       "      <td>сыграть свадьбу</td>\n",
       "      <td>зрелые</td>\n",
       "    </tr>\n",
       "  </tbody>\n",
       "</table>\n",
       "</div>"
      ],
      "text/plain": [
       "   children  days_employed  dob_years education  education_id  \\\n",
       "0         1             19         42    высшее             0   \n",
       "1         1             15         36   среднее             1   \n",
       "2         0             12         33   среднее             1   \n",
       "3         3             11         32   среднее             1   \n",
       "4         0             32         53   среднее             1   \n",
       "\n",
       "      family_status  family_status_id gender income_type  debt  total_income  \\\n",
       "0   женат / замужем                 0      F   сотрудник     0        253875   \n",
       "1   женат / замужем                 0      F   сотрудник     0        112080   \n",
       "2   женат / замужем                 0      M   сотрудник     0        145885   \n",
       "3   женат / замужем                 0      M   сотрудник     0        267628   \n",
       "4  гражданский брак                 1      F   пенсионер     0        158616   \n",
       "\n",
       "                      purpose age_group  \n",
       "0               покупка жилья    зрелые  \n",
       "1     приобретение автомобиля    зрелые  \n",
       "2               покупка жилья    зрелые  \n",
       "3  дополнительное образование    зрелые  \n",
       "4             сыграть свадьбу    зрелые  "
      ]
     },
     "execution_count": 37,
     "metadata": {},
     "output_type": "execute_result"
    }
   ],
   "source": [
    "data.head()"
   ]
  },
  {
   "cell_type": "markdown",
   "metadata": {},
   "source": [
    "Посчитаем еще раз количество полных дубликатов:"
   ]
  },
  {
   "cell_type": "code",
   "execution_count": 38,
   "metadata": {},
   "outputs": [
    {
     "data": {
      "text/plain": [
       "71"
      ]
     },
     "execution_count": 38,
     "metadata": {},
     "output_type": "execute_result"
    }
   ],
   "source": [
    "data.duplicated().sum()"
   ]
  },
  {
   "cell_type": "markdown",
   "metadata": {},
   "source": [
    "Теперь мы видим, что количество дубликатов изменилось, значит слова в которых был использован верхний регистр к дубликатам не относятся, удалим их и обновим индексы."
   ]
  },
  {
   "cell_type": "code",
   "execution_count": 39,
   "metadata": {},
   "outputs": [],
   "source": [
    "data = data.drop_duplicates().reset_index(drop=True)"
   ]
  },
  {
   "cell_type": "markdown",
   "metadata": {},
   "source": [
    "Убедимся, что сработало."
   ]
  },
  {
   "cell_type": "code",
   "execution_count": 40,
   "metadata": {
    "scrolled": true
   },
   "outputs": [
    {
     "data": {
      "text/plain": [
       "0"
      ]
     },
     "execution_count": 40,
     "metadata": {},
     "output_type": "execute_result"
    }
   ],
   "source": [
    "data.duplicated().sum()"
   ]
  },
  {
   "cell_type": "markdown",
   "metadata": {},
   "source": [
    "**Вывод**: Мы определили дубликаты, привели все строки к единому виду и удалили дубликаты. Данные дубликаты могли появится в связи как с человеческойй ошибкой так и программной. Теперь можем приступать к следующему пункту нашего исследования."
   ]
  },
  {
   "cell_type": "markdown",
   "metadata": {},
   "source": [
    "### Лемматизация"
   ]
  },
  {
   "cell_type": "markdown",
   "metadata": {},
   "source": [
    "Посмотрим внимательно на столбец purpose."
   ]
  },
  {
   "cell_type": "code",
   "execution_count": 41,
   "metadata": {},
   "outputs": [
    {
     "data": {
      "text/plain": [
       "array(['автомобили', 'автомобиль', 'высшее образование',\n",
       "       'дополнительное образование', 'жилье',\n",
       "       'заняться высшим образованием', 'заняться образованием',\n",
       "       'на покупку автомобиля', 'на покупку подержанного автомобиля',\n",
       "       'на покупку своего автомобиля', 'на проведение свадьбы',\n",
       "       'недвижимость', 'образование', 'операции с жильем',\n",
       "       'операции с коммерческой недвижимостью',\n",
       "       'операции с недвижимостью', 'операции со своей недвижимостью',\n",
       "       'покупка жилой недвижимости', 'покупка жилья',\n",
       "       'покупка жилья для сдачи', 'покупка жилья для семьи',\n",
       "       'покупка коммерческой недвижимости', 'покупка недвижимости',\n",
       "       'покупка своего жилья', 'получение высшего образования',\n",
       "       'получение дополнительного образования', 'получение образования',\n",
       "       'приобретение автомобиля', 'профильное образование',\n",
       "       'ремонт жилью', 'свадьба', 'свой автомобиль',\n",
       "       'сделка с автомобилем', 'сделка с подержанным автомобилем',\n",
       "       'строительство жилой недвижимости', 'строительство недвижимости',\n",
       "       'строительство собственной недвижимости', 'сыграть свадьбу'],\n",
       "      dtype=object)"
      ]
     },
     "execution_count": 41,
     "metadata": {},
     "output_type": "execute_result"
    }
   ],
   "source": [
    "data['purpose'].sort_values().unique()"
   ]
  },
  {
   "cell_type": "markdown",
   "metadata": {},
   "source": [
    "Мы видим много разных запросов которые содержат одинаковый смысл. Чтобы разделить запросы для дальнейшего использования, проведем лемматизацию."
   ]
  },
  {
   "cell_type": "code",
   "execution_count": 42,
   "metadata": {},
   "outputs": [],
   "source": [
    "a = [i for i in data['purpose']]\n",
    "text = ', '.join(a)"
   ]
  },
  {
   "cell_type": "code",
   "execution_count": 43,
   "metadata": {
    "scrolled": false
   },
   "outputs": [],
   "source": [
    "lemmas = m.lemmatize(text)"
   ]
  },
  {
   "cell_type": "markdown",
   "metadata": {},
   "source": [
    "Посчитаем количество часто используемых слов в лемматизированном словаре"
   ]
  },
  {
   "cell_type": "code",
   "execution_count": 44,
   "metadata": {},
   "outputs": [
    {
     "data": {
      "text/plain": [
       "Counter({'покупка': 5897,\n",
       "         ' ': 33570,\n",
       "         'жилье': 4460,\n",
       "         ', ': 21453,\n",
       "         'приобретение': 461,\n",
       "         'автомобиль': 4306,\n",
       "         'дополнительный': 906,\n",
       "         'образование': 4013,\n",
       "         'сыграть': 765,\n",
       "         'свадьба': 2324,\n",
       "         'операция': 2604,\n",
       "         'с': 2918,\n",
       "         'на': 2222,\n",
       "         'проведение': 768,\n",
       "         'для': 1289,\n",
       "         'семья': 638,\n",
       "         'недвижимость': 6351,\n",
       "         'коммерческий': 1311,\n",
       "         'жилой': 1230,\n",
       "         'строительство': 1878,\n",
       "         'собственный': 635,\n",
       "         'подержать': 853,\n",
       "         'свой': 2230,\n",
       "         'со': 627,\n",
       "         'заниматься': 904,\n",
       "         'сделка': 941,\n",
       "         'получение': 1314,\n",
       "         'высокий': 1374,\n",
       "         'подержанный': 111,\n",
       "         'профильный': 436,\n",
       "         'сдача': 651,\n",
       "         'ремонт': 607,\n",
       "         '\\n': 1})"
      ]
     },
     "execution_count": 44,
     "metadata": {},
     "output_type": "execute_result"
    }
   ],
   "source": [
    "Counter(lemmas)"
   ]
  },
  {
   "cell_type": "markdown",
   "metadata": {},
   "source": [
    "И создадим список на основе часто встречаемых запросов"
   ]
  },
  {
   "cell_type": "code",
   "execution_count": 45,
   "metadata": {},
   "outputs": [],
   "source": [
    "list_of_requests=['ремонт','жилье','автомобиль','образование','свадьба','операция','недвижимость','строительство']"
   ]
  },
  {
   "cell_type": "markdown",
   "metadata": {},
   "source": [
    "Напишем функцию которая будет принимать на вход значение столбца purpose и возвращает в новый столбец уже его лемматизированное слово"
   ]
  },
  {
   "cell_type": "code",
   "execution_count": 46,
   "metadata": {},
   "outputs": [],
   "source": [
    "def query_reguest(query):\n",
    "    lemma = m.lemmatize(query)\n",
    "    for i in lemma:\n",
    "        if i in list_of_requests:\n",
    "            \n",
    "            try:\n",
    "                return i\n",
    "            except:\n",
    "        \n",
    "                return print(f'слова {i} нет в списке list_of_requests')\n",
    "    "
   ]
  },
  {
   "cell_type": "code",
   "execution_count": 47,
   "metadata": {},
   "outputs": [],
   "source": [
    "data['requests'] = data['purpose'].apply(query_reguest)"
   ]
  },
  {
   "cell_type": "markdown",
   "metadata": {},
   "source": [
    "Выведем таблицу на экран и посмотрим уникальные значения нового столбца"
   ]
  },
  {
   "cell_type": "code",
   "execution_count": 48,
   "metadata": {},
   "outputs": [
    {
     "data": {
      "text/html": [
       "<div>\n",
       "<style scoped>\n",
       "    .dataframe tbody tr th:only-of-type {\n",
       "        vertical-align: middle;\n",
       "    }\n",
       "\n",
       "    .dataframe tbody tr th {\n",
       "        vertical-align: top;\n",
       "    }\n",
       "\n",
       "    .dataframe thead th {\n",
       "        text-align: right;\n",
       "    }\n",
       "</style>\n",
       "<table border=\"1\" class=\"dataframe\">\n",
       "  <thead>\n",
       "    <tr style=\"text-align: right;\">\n",
       "      <th></th>\n",
       "      <th>children</th>\n",
       "      <th>days_employed</th>\n",
       "      <th>dob_years</th>\n",
       "      <th>education</th>\n",
       "      <th>education_id</th>\n",
       "      <th>family_status</th>\n",
       "      <th>family_status_id</th>\n",
       "      <th>gender</th>\n",
       "      <th>income_type</th>\n",
       "      <th>debt</th>\n",
       "      <th>total_income</th>\n",
       "      <th>purpose</th>\n",
       "      <th>age_group</th>\n",
       "      <th>requests</th>\n",
       "    </tr>\n",
       "  </thead>\n",
       "  <tbody>\n",
       "    <tr>\n",
       "      <td>0</td>\n",
       "      <td>1</td>\n",
       "      <td>19</td>\n",
       "      <td>42</td>\n",
       "      <td>высшее</td>\n",
       "      <td>0</td>\n",
       "      <td>женат / замужем</td>\n",
       "      <td>0</td>\n",
       "      <td>F</td>\n",
       "      <td>сотрудник</td>\n",
       "      <td>0</td>\n",
       "      <td>253875</td>\n",
       "      <td>покупка жилья</td>\n",
       "      <td>зрелые</td>\n",
       "      <td>жилье</td>\n",
       "    </tr>\n",
       "    <tr>\n",
       "      <td>1</td>\n",
       "      <td>1</td>\n",
       "      <td>15</td>\n",
       "      <td>36</td>\n",
       "      <td>среднее</td>\n",
       "      <td>1</td>\n",
       "      <td>женат / замужем</td>\n",
       "      <td>0</td>\n",
       "      <td>F</td>\n",
       "      <td>сотрудник</td>\n",
       "      <td>0</td>\n",
       "      <td>112080</td>\n",
       "      <td>приобретение автомобиля</td>\n",
       "      <td>зрелые</td>\n",
       "      <td>автомобиль</td>\n",
       "    </tr>\n",
       "    <tr>\n",
       "      <td>2</td>\n",
       "      <td>0</td>\n",
       "      <td>12</td>\n",
       "      <td>33</td>\n",
       "      <td>среднее</td>\n",
       "      <td>1</td>\n",
       "      <td>женат / замужем</td>\n",
       "      <td>0</td>\n",
       "      <td>M</td>\n",
       "      <td>сотрудник</td>\n",
       "      <td>0</td>\n",
       "      <td>145885</td>\n",
       "      <td>покупка жилья</td>\n",
       "      <td>зрелые</td>\n",
       "      <td>жилье</td>\n",
       "    </tr>\n",
       "    <tr>\n",
       "      <td>3</td>\n",
       "      <td>3</td>\n",
       "      <td>11</td>\n",
       "      <td>32</td>\n",
       "      <td>среднее</td>\n",
       "      <td>1</td>\n",
       "      <td>женат / замужем</td>\n",
       "      <td>0</td>\n",
       "      <td>M</td>\n",
       "      <td>сотрудник</td>\n",
       "      <td>0</td>\n",
       "      <td>267628</td>\n",
       "      <td>дополнительное образование</td>\n",
       "      <td>зрелые</td>\n",
       "      <td>образование</td>\n",
       "    </tr>\n",
       "    <tr>\n",
       "      <td>4</td>\n",
       "      <td>0</td>\n",
       "      <td>32</td>\n",
       "      <td>53</td>\n",
       "      <td>среднее</td>\n",
       "      <td>1</td>\n",
       "      <td>гражданский брак</td>\n",
       "      <td>1</td>\n",
       "      <td>F</td>\n",
       "      <td>пенсионер</td>\n",
       "      <td>0</td>\n",
       "      <td>158616</td>\n",
       "      <td>сыграть свадьбу</td>\n",
       "      <td>зрелые</td>\n",
       "      <td>свадьба</td>\n",
       "    </tr>\n",
       "  </tbody>\n",
       "</table>\n",
       "</div>"
      ],
      "text/plain": [
       "   children  days_employed  dob_years education  education_id  \\\n",
       "0         1             19         42    высшее             0   \n",
       "1         1             15         36   среднее             1   \n",
       "2         0             12         33   среднее             1   \n",
       "3         3             11         32   среднее             1   \n",
       "4         0             32         53   среднее             1   \n",
       "\n",
       "      family_status  family_status_id gender income_type  debt  total_income  \\\n",
       "0   женат / замужем                 0      F   сотрудник     0        253875   \n",
       "1   женат / замужем                 0      F   сотрудник     0        112080   \n",
       "2   женат / замужем                 0      M   сотрудник     0        145885   \n",
       "3   женат / замужем                 0      M   сотрудник     0        267628   \n",
       "4  гражданский брак                 1      F   пенсионер     0        158616   \n",
       "\n",
       "                      purpose age_group     requests  \n",
       "0               покупка жилья    зрелые        жилье  \n",
       "1     приобретение автомобиля    зрелые   автомобиль  \n",
       "2               покупка жилья    зрелые        жилье  \n",
       "3  дополнительное образование    зрелые  образование  \n",
       "4             сыграть свадьбу    зрелые      свадьба  "
      ]
     },
     "execution_count": 48,
     "metadata": {},
     "output_type": "execute_result"
    }
   ],
   "source": [
    "data.head()"
   ]
  },
  {
   "cell_type": "code",
   "execution_count": 49,
   "metadata": {},
   "outputs": [
    {
     "data": {
      "text/plain": [
       "array(['жилье', 'автомобиль', 'образование', 'свадьба', 'операция',\n",
       "       'недвижимость', 'строительство', 'ремонт'], dtype=object)"
      ]
     },
     "execution_count": 49,
     "metadata": {},
     "output_type": "execute_result"
    }
   ],
   "source": [
    "data['requests'].unique()"
   ]
  },
  {
   "cell_type": "markdown",
   "metadata": {},
   "source": [
    "**Вывод**: Мы получили слова приведенные к единственной форме и убрали лишние запросы чтобы в дальнейшем их можно было группировать по запросам."
   ]
  },
  {
   "cell_type": "markdown",
   "metadata": {},
   "source": [
    "### Категоризация данных"
   ]
  },
  {
   "cell_type": "markdown",
   "metadata": {},
   "source": [
    "Объеденим необходимые нам данные в таблицу group_filter"
   ]
  },
  {
   "cell_type": "code",
   "execution_count": 50,
   "metadata": {},
   "outputs": [],
   "source": [
    "group_filter = data[['children','family_status','family_status_id','total_income','income_type','age_group','requests','education','debt']]"
   ]
  },
  {
   "cell_type": "markdown",
   "metadata": {},
   "source": [
    "И выведем на экран"
   ]
  },
  {
   "cell_type": "code",
   "execution_count": 51,
   "metadata": {},
   "outputs": [
    {
     "data": {
      "text/html": [
       "<div>\n",
       "<style scoped>\n",
       "    .dataframe tbody tr th:only-of-type {\n",
       "        vertical-align: middle;\n",
       "    }\n",
       "\n",
       "    .dataframe tbody tr th {\n",
       "        vertical-align: top;\n",
       "    }\n",
       "\n",
       "    .dataframe thead th {\n",
       "        text-align: right;\n",
       "    }\n",
       "</style>\n",
       "<table border=\"1\" class=\"dataframe\">\n",
       "  <thead>\n",
       "    <tr style=\"text-align: right;\">\n",
       "      <th></th>\n",
       "      <th>children</th>\n",
       "      <th>family_status</th>\n",
       "      <th>family_status_id</th>\n",
       "      <th>total_income</th>\n",
       "      <th>income_type</th>\n",
       "      <th>age_group</th>\n",
       "      <th>requests</th>\n",
       "      <th>education</th>\n",
       "      <th>debt</th>\n",
       "    </tr>\n",
       "  </thead>\n",
       "  <tbody>\n",
       "    <tr>\n",
       "      <td>0</td>\n",
       "      <td>1</td>\n",
       "      <td>женат / замужем</td>\n",
       "      <td>0</td>\n",
       "      <td>253875</td>\n",
       "      <td>сотрудник</td>\n",
       "      <td>зрелые</td>\n",
       "      <td>жилье</td>\n",
       "      <td>высшее</td>\n",
       "      <td>0</td>\n",
       "    </tr>\n",
       "    <tr>\n",
       "      <td>1</td>\n",
       "      <td>1</td>\n",
       "      <td>женат / замужем</td>\n",
       "      <td>0</td>\n",
       "      <td>112080</td>\n",
       "      <td>сотрудник</td>\n",
       "      <td>зрелые</td>\n",
       "      <td>автомобиль</td>\n",
       "      <td>среднее</td>\n",
       "      <td>0</td>\n",
       "    </tr>\n",
       "    <tr>\n",
       "      <td>2</td>\n",
       "      <td>0</td>\n",
       "      <td>женат / замужем</td>\n",
       "      <td>0</td>\n",
       "      <td>145885</td>\n",
       "      <td>сотрудник</td>\n",
       "      <td>зрелые</td>\n",
       "      <td>жилье</td>\n",
       "      <td>среднее</td>\n",
       "      <td>0</td>\n",
       "    </tr>\n",
       "    <tr>\n",
       "      <td>3</td>\n",
       "      <td>3</td>\n",
       "      <td>женат / замужем</td>\n",
       "      <td>0</td>\n",
       "      <td>267628</td>\n",
       "      <td>сотрудник</td>\n",
       "      <td>зрелые</td>\n",
       "      <td>образование</td>\n",
       "      <td>среднее</td>\n",
       "      <td>0</td>\n",
       "    </tr>\n",
       "    <tr>\n",
       "      <td>4</td>\n",
       "      <td>0</td>\n",
       "      <td>гражданский брак</td>\n",
       "      <td>1</td>\n",
       "      <td>158616</td>\n",
       "      <td>пенсионер</td>\n",
       "      <td>зрелые</td>\n",
       "      <td>свадьба</td>\n",
       "      <td>среднее</td>\n",
       "      <td>0</td>\n",
       "    </tr>\n",
       "    <tr>\n",
       "      <td>5</td>\n",
       "      <td>0</td>\n",
       "      <td>гражданский брак</td>\n",
       "      <td>1</td>\n",
       "      <td>255763</td>\n",
       "      <td>компаньон</td>\n",
       "      <td>молодежь</td>\n",
       "      <td>жилье</td>\n",
       "      <td>высшее</td>\n",
       "      <td>0</td>\n",
       "    </tr>\n",
       "    <tr>\n",
       "      <td>6</td>\n",
       "      <td>0</td>\n",
       "      <td>женат / замужем</td>\n",
       "      <td>0</td>\n",
       "      <td>240525</td>\n",
       "      <td>компаньон</td>\n",
       "      <td>зрелые</td>\n",
       "      <td>операция</td>\n",
       "      <td>высшее</td>\n",
       "      <td>0</td>\n",
       "    </tr>\n",
       "    <tr>\n",
       "      <td>7</td>\n",
       "      <td>0</td>\n",
       "      <td>женат / замужем</td>\n",
       "      <td>0</td>\n",
       "      <td>135823</td>\n",
       "      <td>сотрудник</td>\n",
       "      <td>зрелые</td>\n",
       "      <td>образование</td>\n",
       "      <td>среднее</td>\n",
       "      <td>0</td>\n",
       "    </tr>\n",
       "    <tr>\n",
       "      <td>8</td>\n",
       "      <td>2</td>\n",
       "      <td>гражданский брак</td>\n",
       "      <td>1</td>\n",
       "      <td>95856</td>\n",
       "      <td>сотрудник</td>\n",
       "      <td>зрелые</td>\n",
       "      <td>свадьба</td>\n",
       "      <td>высшее</td>\n",
       "      <td>0</td>\n",
       "    </tr>\n",
       "    <tr>\n",
       "      <td>9</td>\n",
       "      <td>0</td>\n",
       "      <td>женат / замужем</td>\n",
       "      <td>0</td>\n",
       "      <td>144425</td>\n",
       "      <td>сотрудник</td>\n",
       "      <td>зрелые</td>\n",
       "      <td>жилье</td>\n",
       "      <td>среднее</td>\n",
       "      <td>0</td>\n",
       "    </tr>\n",
       "  </tbody>\n",
       "</table>\n",
       "</div>"
      ],
      "text/plain": [
       "   children     family_status  family_status_id  total_income income_type  \\\n",
       "0         1   женат / замужем                 0        253875   сотрудник   \n",
       "1         1   женат / замужем                 0        112080   сотрудник   \n",
       "2         0   женат / замужем                 0        145885   сотрудник   \n",
       "3         3   женат / замужем                 0        267628   сотрудник   \n",
       "4         0  гражданский брак                 1        158616   пенсионер   \n",
       "5         0  гражданский брак                 1        255763   компаньон   \n",
       "6         0   женат / замужем                 0        240525   компаньон   \n",
       "7         0   женат / замужем                 0        135823   сотрудник   \n",
       "8         2  гражданский брак                 1         95856   сотрудник   \n",
       "9         0   женат / замужем                 0        144425   сотрудник   \n",
       "\n",
       "  age_group     requests education  debt  \n",
       "0    зрелые        жилье    высшее     0  \n",
       "1    зрелые   автомобиль   среднее     0  \n",
       "2    зрелые        жилье   среднее     0  \n",
       "3    зрелые  образование   среднее     0  \n",
       "4    зрелые      свадьба   среднее     0  \n",
       "5  молодежь        жилье    высшее     0  \n",
       "6    зрелые     операция    высшее     0  \n",
       "7    зрелые  образование   среднее     0  \n",
       "8    зрелые      свадьба    высшее     0  \n",
       "9    зрелые        жилье   среднее     0  "
      ]
     },
     "execution_count": 51,
     "metadata": {},
     "output_type": "execute_result"
    }
   ],
   "source": [
    "group_filter.head(10)"
   ]
  },
  {
   "cell_type": "markdown",
   "metadata": {},
   "source": [
    "**Вывод**: Мы создали новую таблицу по параметрам: количество детей, id количества детей, уровень зарплаты, тип рабочего, возрастная группа цель кредита, образование и  количество просрочек так как именно эти данные нужны нам для анализа"
   ]
  },
  {
   "cell_type": "markdown",
   "metadata": {},
   "source": [
    "## Ответим на вопросы:"
   ]
  },
  {
   "cell_type": "markdown",
   "metadata": {},
   "source": [
    "- Есть ли зависимость между наличием детей и возвратом кредита в срок?"
   ]
  },
  {
   "cell_type": "markdown",
   "metadata": {},
   "source": [
    "Сгруппируем данные по количеству детей и количеству просрочек."
   ]
  },
  {
   "cell_type": "code",
   "execution_count": 52,
   "metadata": {},
   "outputs": [],
   "source": [
    "data_grouped = group_filter.groupby(['children']).agg({ 'children':'count','debt':'sum'})"
   ]
  },
  {
   "cell_type": "markdown",
   "metadata": {},
   "source": [
    "Создадим столбец в котором посчитаем процент невозврата кредита в зависимости от общего количества детей."
   ]
  },
  {
   "cell_type": "code",
   "execution_count": 53,
   "metadata": {},
   "outputs": [
    {
     "data": {
      "text/html": [
       "<div>\n",
       "<style scoped>\n",
       "    .dataframe tbody tr th:only-of-type {\n",
       "        vertical-align: middle;\n",
       "    }\n",
       "\n",
       "    .dataframe tbody tr th {\n",
       "        vertical-align: top;\n",
       "    }\n",
       "\n",
       "    .dataframe thead th {\n",
       "        text-align: right;\n",
       "    }\n",
       "</style>\n",
       "<table border=\"1\" class=\"dataframe\">\n",
       "  <thead>\n",
       "    <tr style=\"text-align: right;\">\n",
       "      <th></th>\n",
       "      <th>children</th>\n",
       "      <th>debt</th>\n",
       "    </tr>\n",
       "    <tr>\n",
       "      <th>children</th>\n",
       "      <th></th>\n",
       "      <th></th>\n",
       "    </tr>\n",
       "  </thead>\n",
       "  <tbody>\n",
       "    <tr>\n",
       "      <td>0</td>\n",
       "      <td>14091</td>\n",
       "      <td>1063</td>\n",
       "    </tr>\n",
       "    <tr>\n",
       "      <td>1</td>\n",
       "      <td>4855</td>\n",
       "      <td>445</td>\n",
       "    </tr>\n",
       "    <tr>\n",
       "      <td>2</td>\n",
       "      <td>2128</td>\n",
       "      <td>202</td>\n",
       "    </tr>\n",
       "    <tr>\n",
       "      <td>3</td>\n",
       "      <td>330</td>\n",
       "      <td>27</td>\n",
       "    </tr>\n",
       "    <tr>\n",
       "      <td>4</td>\n",
       "      <td>41</td>\n",
       "      <td>4</td>\n",
       "    </tr>\n",
       "    <tr>\n",
       "      <td>5</td>\n",
       "      <td>9</td>\n",
       "      <td>0</td>\n",
       "    </tr>\n",
       "  </tbody>\n",
       "</table>\n",
       "</div>"
      ],
      "text/plain": [
       "          children  debt\n",
       "children                \n",
       "0            14091  1063\n",
       "1             4855   445\n",
       "2             2128   202\n",
       "3              330    27\n",
       "4               41     4\n",
       "5                9     0"
      ]
     },
     "execution_count": 53,
     "metadata": {},
     "output_type": "execute_result"
    }
   ],
   "source": [
    "data_grouped"
   ]
  },
  {
   "cell_type": "code",
   "execution_count": 54,
   "metadata": {},
   "outputs": [],
   "source": [
    "data_grouped['all_results']=data_grouped['debt']/data_grouped['children'] *100"
   ]
  },
  {
   "cell_type": "code",
   "execution_count": 55,
   "metadata": {},
   "outputs": [
    {
     "data": {
      "text/html": [
       "<div>\n",
       "<style scoped>\n",
       "    .dataframe tbody tr th:only-of-type {\n",
       "        vertical-align: middle;\n",
       "    }\n",
       "\n",
       "    .dataframe tbody tr th {\n",
       "        vertical-align: top;\n",
       "    }\n",
       "\n",
       "    .dataframe thead th {\n",
       "        text-align: right;\n",
       "    }\n",
       "</style>\n",
       "<table border=\"1\" class=\"dataframe\">\n",
       "  <thead>\n",
       "    <tr style=\"text-align: right;\">\n",
       "      <th></th>\n",
       "      <th>children</th>\n",
       "      <th>debt</th>\n",
       "      <th>all_results</th>\n",
       "    </tr>\n",
       "    <tr>\n",
       "      <th>children</th>\n",
       "      <th></th>\n",
       "      <th></th>\n",
       "      <th></th>\n",
       "    </tr>\n",
       "  </thead>\n",
       "  <tbody>\n",
       "    <tr>\n",
       "      <td>4</td>\n",
       "      <td>41</td>\n",
       "      <td>4</td>\n",
       "      <td>9.756098</td>\n",
       "    </tr>\n",
       "    <tr>\n",
       "      <td>2</td>\n",
       "      <td>2128</td>\n",
       "      <td>202</td>\n",
       "      <td>9.492481</td>\n",
       "    </tr>\n",
       "    <tr>\n",
       "      <td>1</td>\n",
       "      <td>4855</td>\n",
       "      <td>445</td>\n",
       "      <td>9.165808</td>\n",
       "    </tr>\n",
       "    <tr>\n",
       "      <td>3</td>\n",
       "      <td>330</td>\n",
       "      <td>27</td>\n",
       "      <td>8.181818</td>\n",
       "    </tr>\n",
       "    <tr>\n",
       "      <td>0</td>\n",
       "      <td>14091</td>\n",
       "      <td>1063</td>\n",
       "      <td>7.543822</td>\n",
       "    </tr>\n",
       "    <tr>\n",
       "      <td>5</td>\n",
       "      <td>9</td>\n",
       "      <td>0</td>\n",
       "      <td>0.000000</td>\n",
       "    </tr>\n",
       "  </tbody>\n",
       "</table>\n",
       "</div>"
      ],
      "text/plain": [
       "          children  debt  all_results\n",
       "children                             \n",
       "4               41     4     9.756098\n",
       "2             2128   202     9.492481\n",
       "1             4855   445     9.165808\n",
       "3              330    27     8.181818\n",
       "0            14091  1063     7.543822\n",
       "5                9     0     0.000000"
      ]
     },
     "execution_count": 55,
     "metadata": {},
     "output_type": "execute_result"
    }
   ],
   "source": [
    "data_grouped.sort_values('all_results',ascending=False)"
   ]
  },
  {
   "cell_type": "markdown",
   "metadata": {},
   "source": [
    "И так, мы видим, что с увеличением количества детей в семье растет и количество просрочек по кредиту. Добавим в таблицу возраст людей и посмотрим на результат"
   ]
  },
  {
   "cell_type": "code",
   "execution_count": 56,
   "metadata": {},
   "outputs": [],
   "source": [
    "data_grouped = group_filter.groupby(['age_group','children']).agg({ 'children':'count','debt':'sum'})"
   ]
  },
  {
   "cell_type": "code",
   "execution_count": 57,
   "metadata": {},
   "outputs": [],
   "source": [
    "data_grouped['all_results']=data_grouped['debt']/data_grouped['children'] *100"
   ]
  },
  {
   "cell_type": "code",
   "execution_count": 58,
   "metadata": {},
   "outputs": [
    {
     "data": {
      "text/html": [
       "<div>\n",
       "<style scoped>\n",
       "    .dataframe tbody tr th:only-of-type {\n",
       "        vertical-align: middle;\n",
       "    }\n",
       "\n",
       "    .dataframe tbody tr th {\n",
       "        vertical-align: top;\n",
       "    }\n",
       "\n",
       "    .dataframe thead th {\n",
       "        text-align: right;\n",
       "    }\n",
       "</style>\n",
       "<table border=\"1\" class=\"dataframe\">\n",
       "  <thead>\n",
       "    <tr style=\"text-align: right;\">\n",
       "      <th></th>\n",
       "      <th></th>\n",
       "      <th>children</th>\n",
       "      <th>debt</th>\n",
       "      <th>all_results</th>\n",
       "    </tr>\n",
       "    <tr>\n",
       "      <th>age_group</th>\n",
       "      <th>children</th>\n",
       "      <th></th>\n",
       "      <th></th>\n",
       "      <th></th>\n",
       "    </tr>\n",
       "  </thead>\n",
       "  <tbody>\n",
       "    <tr>\n",
       "      <td rowspan=\"6\" valign=\"top\">зрелые</td>\n",
       "      <td>0</td>\n",
       "      <td>11090</td>\n",
       "      <td>782</td>\n",
       "      <td>7.051398</td>\n",
       "    </tr>\n",
       "    <tr>\n",
       "      <td>1</td>\n",
       "      <td>3754</td>\n",
       "      <td>329</td>\n",
       "      <td>8.763985</td>\n",
       "    </tr>\n",
       "    <tr>\n",
       "      <td>2</td>\n",
       "      <td>1674</td>\n",
       "      <td>151</td>\n",
       "      <td>9.020311</td>\n",
       "    </tr>\n",
       "    <tr>\n",
       "      <td>3</td>\n",
       "      <td>280</td>\n",
       "      <td>24</td>\n",
       "      <td>8.571429</td>\n",
       "    </tr>\n",
       "    <tr>\n",
       "      <td>4</td>\n",
       "      <td>35</td>\n",
       "      <td>3</td>\n",
       "      <td>8.571429</td>\n",
       "    </tr>\n",
       "    <tr>\n",
       "      <td>5</td>\n",
       "      <td>9</td>\n",
       "      <td>0</td>\n",
       "      <td>0.000000</td>\n",
       "    </tr>\n",
       "    <tr>\n",
       "      <td rowspan=\"5\" valign=\"top\">молодежь</td>\n",
       "      <td>0</td>\n",
       "      <td>2147</td>\n",
       "      <td>234</td>\n",
       "      <td>10.898929</td>\n",
       "    </tr>\n",
       "    <tr>\n",
       "      <td>1</td>\n",
       "      <td>1061</td>\n",
       "      <td>114</td>\n",
       "      <td>10.744581</td>\n",
       "    </tr>\n",
       "    <tr>\n",
       "      <td>2</td>\n",
       "      <td>453</td>\n",
       "      <td>51</td>\n",
       "      <td>11.258278</td>\n",
       "    </tr>\n",
       "    <tr>\n",
       "      <td>3</td>\n",
       "      <td>50</td>\n",
       "      <td>3</td>\n",
       "      <td>6.000000</td>\n",
       "    </tr>\n",
       "    <tr>\n",
       "      <td>4</td>\n",
       "      <td>6</td>\n",
       "      <td>1</td>\n",
       "      <td>16.666667</td>\n",
       "    </tr>\n",
       "    <tr>\n",
       "      <td rowspan=\"3\" valign=\"top\">пенсионеры</td>\n",
       "      <td>0</td>\n",
       "      <td>854</td>\n",
       "      <td>47</td>\n",
       "      <td>5.503513</td>\n",
       "    </tr>\n",
       "    <tr>\n",
       "      <td>1</td>\n",
       "      <td>40</td>\n",
       "      <td>2</td>\n",
       "      <td>5.000000</td>\n",
       "    </tr>\n",
       "    <tr>\n",
       "      <td>2</td>\n",
       "      <td>1</td>\n",
       "      <td>0</td>\n",
       "      <td>0.000000</td>\n",
       "    </tr>\n",
       "  </tbody>\n",
       "</table>\n",
       "</div>"
      ],
      "text/plain": [
       "                     children  debt  all_results\n",
       "age_group  children                             \n",
       "зрелые     0            11090   782     7.051398\n",
       "           1             3754   329     8.763985\n",
       "           2             1674   151     9.020311\n",
       "           3              280    24     8.571429\n",
       "           4               35     3     8.571429\n",
       "           5                9     0     0.000000\n",
       "молодежь   0             2147   234    10.898929\n",
       "           1             1061   114    10.744581\n",
       "           2              453    51    11.258278\n",
       "           3               50     3     6.000000\n",
       "           4                6     1    16.666667\n",
       "пенсионеры 0              854    47     5.503513\n",
       "           1               40     2     5.000000\n",
       "           2                1     0     0.000000"
      ]
     },
     "execution_count": 58,
     "metadata": {},
     "output_type": "execute_result"
    }
   ],
   "source": [
    "data_grouped"
   ]
  },
  {
   "cell_type": "markdown",
   "metadata": {},
   "source": [
    "**Вывод**: И так, мы видим, что у зрелых людей больше всего просрочек у семей с 2 детьми, дальше примерно одинаково. У молодежи больше всего просрочек у людей с 4 детьми, но так как всего таких семей 6, то это очень маленькое количество для проведения анализа.Дальше идут с 2, а вот с 1 и без детей примерно на одном уровне. У пенсионеров количество просрочек больше всего с 1 ребенком и без детей примерно на одном уровне"
   ]
  },
  {
   "cell_type": "markdown",
   "metadata": {},
   "source": [
    "- Есть ли зависимость между семейным положением и возвратом кредита в срок?"
   ]
  },
  {
   "cell_type": "markdown",
   "metadata": {},
   "source": [
    "Выведем на экран таблицу зависимости семейного положения и просроченных платежей"
   ]
  },
  {
   "cell_type": "code",
   "execution_count": 59,
   "metadata": {},
   "outputs": [],
   "source": [
    "data_grouped_family = group_filter.groupby(['family_status']).agg({ 'family_status_id':'count','debt':'sum'})"
   ]
  },
  {
   "cell_type": "code",
   "execution_count": 60,
   "metadata": {},
   "outputs": [],
   "source": [
    "data_grouped_family['percent'] = data_grouped_family['debt'] / data_grouped_family['family_status_id'] * 100"
   ]
  },
  {
   "cell_type": "code",
   "execution_count": 61,
   "metadata": {},
   "outputs": [
    {
     "data": {
      "text/html": [
       "<div>\n",
       "<style scoped>\n",
       "    .dataframe tbody tr th:only-of-type {\n",
       "        vertical-align: middle;\n",
       "    }\n",
       "\n",
       "    .dataframe tbody tr th {\n",
       "        vertical-align: top;\n",
       "    }\n",
       "\n",
       "    .dataframe thead th {\n",
       "        text-align: right;\n",
       "    }\n",
       "</style>\n",
       "<table border=\"1\" class=\"dataframe\">\n",
       "  <thead>\n",
       "    <tr style=\"text-align: right;\">\n",
       "      <th></th>\n",
       "      <th>family_status_id</th>\n",
       "      <th>debt</th>\n",
       "      <th>percent</th>\n",
       "    </tr>\n",
       "    <tr>\n",
       "      <th>family_status</th>\n",
       "      <th></th>\n",
       "      <th></th>\n",
       "      <th></th>\n",
       "    </tr>\n",
       "  </thead>\n",
       "  <tbody>\n",
       "    <tr>\n",
       "      <td>не женат / не замужем</td>\n",
       "      <td>2810</td>\n",
       "      <td>274</td>\n",
       "      <td>9.750890</td>\n",
       "    </tr>\n",
       "    <tr>\n",
       "      <td>гражданский брак</td>\n",
       "      <td>4151</td>\n",
       "      <td>388</td>\n",
       "      <td>9.347145</td>\n",
       "    </tr>\n",
       "    <tr>\n",
       "      <td>женат / замужем</td>\n",
       "      <td>12339</td>\n",
       "      <td>931</td>\n",
       "      <td>7.545182</td>\n",
       "    </tr>\n",
       "    <tr>\n",
       "      <td>в разводе</td>\n",
       "      <td>1195</td>\n",
       "      <td>85</td>\n",
       "      <td>7.112971</td>\n",
       "    </tr>\n",
       "    <tr>\n",
       "      <td>вдовец / вдова</td>\n",
       "      <td>959</td>\n",
       "      <td>63</td>\n",
       "      <td>6.569343</td>\n",
       "    </tr>\n",
       "  </tbody>\n",
       "</table>\n",
       "</div>"
      ],
      "text/plain": [
       "                       family_status_id  debt   percent\n",
       "family_status                                          \n",
       "не женат / не замужем              2810   274  9.750890\n",
       "гражданский брак                   4151   388  9.347145\n",
       "женат / замужем                   12339   931  7.545182\n",
       "в разводе                          1195    85  7.112971\n",
       "вдовец / вдова                      959    63  6.569343"
      ]
     },
     "execution_count": 61,
     "metadata": {},
     "output_type": "execute_result"
    }
   ],
   "source": [
    "data_grouped_family.sort_values('percent', ascending=False)"
   ]
  },
  {
   "cell_type": "markdown",
   "metadata": {},
   "source": [
    "Мы видим, что человек потерявший супруга/супругу более серьездно относится к выплате кредита, чем холостые люди. Попробуем капнуть не много глубже и разделим так же людей на возрастные категории."
   ]
  },
  {
   "cell_type": "code",
   "execution_count": 62,
   "metadata": {},
   "outputs": [],
   "source": [
    "data_grouped_family_percent = group_filter.groupby(['age_group','family_status']).agg({ 'family_status_id':'count','debt':'sum'})"
   ]
  },
  {
   "cell_type": "markdown",
   "metadata": {},
   "source": [
    "И так же найдем процент по не возврату кредитов для каждой категории."
   ]
  },
  {
   "cell_type": "code",
   "execution_count": 63,
   "metadata": {},
   "outputs": [],
   "source": [
    "data_grouped_family_percent['percent'] = data_grouped_family_percent['debt'] / data_grouped_family_percent['family_status_id'] *100"
   ]
  },
  {
   "cell_type": "code",
   "execution_count": 64,
   "metadata": {},
   "outputs": [
    {
     "data": {
      "text/html": [
       "<div>\n",
       "<style scoped>\n",
       "    .dataframe tbody tr th:only-of-type {\n",
       "        vertical-align: middle;\n",
       "    }\n",
       "\n",
       "    .dataframe tbody tr th {\n",
       "        vertical-align: top;\n",
       "    }\n",
       "\n",
       "    .dataframe thead th {\n",
       "        text-align: right;\n",
       "    }\n",
       "</style>\n",
       "<table border=\"1\" class=\"dataframe\">\n",
       "  <thead>\n",
       "    <tr style=\"text-align: right;\">\n",
       "      <th></th>\n",
       "      <th></th>\n",
       "      <th>family_status_id</th>\n",
       "      <th>debt</th>\n",
       "      <th>percent</th>\n",
       "    </tr>\n",
       "    <tr>\n",
       "      <th>age_group</th>\n",
       "      <th>family_status</th>\n",
       "      <th></th>\n",
       "      <th></th>\n",
       "      <th></th>\n",
       "    </tr>\n",
       "  </thead>\n",
       "  <tbody>\n",
       "    <tr>\n",
       "      <td rowspan=\"5\" valign=\"top\">зрелые</td>\n",
       "      <td>в разводе</td>\n",
       "      <td>1029</td>\n",
       "      <td>63</td>\n",
       "      <td>6.122449</td>\n",
       "    </tr>\n",
       "    <tr>\n",
       "      <td>вдовец / вдова</td>\n",
       "      <td>783</td>\n",
       "      <td>50</td>\n",
       "      <td>6.385696</td>\n",
       "    </tr>\n",
       "    <tr>\n",
       "      <td>гражданский брак</td>\n",
       "      <td>3226</td>\n",
       "      <td>296</td>\n",
       "      <td>9.175449</td>\n",
       "    </tr>\n",
       "    <tr>\n",
       "      <td>женат / замужем</td>\n",
       "      <td>10094</td>\n",
       "      <td>722</td>\n",
       "      <td>7.152764</td>\n",
       "    </tr>\n",
       "    <tr>\n",
       "      <td>не женат / не замужем</td>\n",
       "      <td>1710</td>\n",
       "      <td>158</td>\n",
       "      <td>9.239766</td>\n",
       "    </tr>\n",
       "    <tr>\n",
       "      <td rowspan=\"5\" valign=\"top\">молодежь</td>\n",
       "      <td>в разводе</td>\n",
       "      <td>117</td>\n",
       "      <td>17</td>\n",
       "      <td>14.529915</td>\n",
       "    </tr>\n",
       "    <tr>\n",
       "      <td>вдовец / вдова</td>\n",
       "      <td>7</td>\n",
       "      <td>1</td>\n",
       "      <td>14.285714</td>\n",
       "    </tr>\n",
       "    <tr>\n",
       "      <td>гражданский брак</td>\n",
       "      <td>785</td>\n",
       "      <td>84</td>\n",
       "      <td>10.700637</td>\n",
       "    </tr>\n",
       "    <tr>\n",
       "      <td>женат / замужем</td>\n",
       "      <td>1794</td>\n",
       "      <td>187</td>\n",
       "      <td>10.423634</td>\n",
       "    </tr>\n",
       "    <tr>\n",
       "      <td>не женат / не замужем</td>\n",
       "      <td>1014</td>\n",
       "      <td>114</td>\n",
       "      <td>11.242604</td>\n",
       "    </tr>\n",
       "    <tr>\n",
       "      <td rowspan=\"5\" valign=\"top\">пенсионеры</td>\n",
       "      <td>в разводе</td>\n",
       "      <td>49</td>\n",
       "      <td>5</td>\n",
       "      <td>10.204082</td>\n",
       "    </tr>\n",
       "    <tr>\n",
       "      <td>вдовец / вдова</td>\n",
       "      <td>169</td>\n",
       "      <td>12</td>\n",
       "      <td>7.100592</td>\n",
       "    </tr>\n",
       "    <tr>\n",
       "      <td>гражданский брак</td>\n",
       "      <td>140</td>\n",
       "      <td>8</td>\n",
       "      <td>5.714286</td>\n",
       "    </tr>\n",
       "    <tr>\n",
       "      <td>женат / замужем</td>\n",
       "      <td>451</td>\n",
       "      <td>22</td>\n",
       "      <td>4.878049</td>\n",
       "    </tr>\n",
       "    <tr>\n",
       "      <td>не женат / не замужем</td>\n",
       "      <td>86</td>\n",
       "      <td>2</td>\n",
       "      <td>2.325581</td>\n",
       "    </tr>\n",
       "  </tbody>\n",
       "</table>\n",
       "</div>"
      ],
      "text/plain": [
       "                                  family_status_id  debt    percent\n",
       "age_group  family_status                                           \n",
       "зрелые     в разводе                          1029    63   6.122449\n",
       "           вдовец / вдова                      783    50   6.385696\n",
       "           гражданский брак                   3226   296   9.175449\n",
       "           женат / замужем                   10094   722   7.152764\n",
       "           не женат / не замужем              1710   158   9.239766\n",
       "молодежь   в разводе                           117    17  14.529915\n",
       "           вдовец / вдова                        7     1  14.285714\n",
       "           гражданский брак                    785    84  10.700637\n",
       "           женат / замужем                    1794   187  10.423634\n",
       "           не женат / не замужем              1014   114  11.242604\n",
       "пенсионеры в разводе                            49     5  10.204082\n",
       "           вдовец / вдова                      169    12   7.100592\n",
       "           гражданский брак                    140     8   5.714286\n",
       "           женат / замужем                     451    22   4.878049\n",
       "           не женат / не замужем                86     2   2.325581"
      ]
     },
     "execution_count": 64,
     "metadata": {},
     "output_type": "execute_result"
    }
   ],
   "source": [
    "data_grouped_family_percent"
   ]
  },
  {
   "cell_type": "markdown",
   "metadata": {},
   "source": [
    "**Вывод**: И так: Исходя из таблицы мы видим, что к примеру зрелые люди чаще всего имеют просрочки по кредитам не женатые и в гражданском браке скорее всего это те люди которые живут что называется сегодняшним днем и не думают о последствиях.В то время как в разводе, замужние или вдовцы имеют более низкий процент по невыплатам в срок. У молодежи процент просрочек гораздо выше по всем пунктам, но особенно выделяются в разводе и вдовцы, хоть конечно их количество гораздо меньше чем к примеру у не женатых. У пенсионеров лидируют по невыплатам люди в разводе и вдовцы хотя общее количество пенсионеров меньше чем людей из других групп они более качественно осуществляют платеди по кредитам."
   ]
  },
  {
   "cell_type": "markdown",
   "metadata": {},
   "source": [
    "- Есть ли зависимость между уровнем дохода и возвратом кредита в срок?"
   ]
  },
  {
   "cell_type": "code",
   "execution_count": 65,
   "metadata": {},
   "outputs": [],
   "source": [
    "data_grouped_family_income = group_filter.groupby(['age_group']).agg({ 'total_income':'sum','debt':'sum'})"
   ]
  },
  {
   "cell_type": "code",
   "execution_count": 66,
   "metadata": {},
   "outputs": [],
   "source": [
    "data_grouped_family_income['percent'] = data_grouped_family_income['debt'] / data_grouped_family_income['total_income'] * 100"
   ]
  },
  {
   "cell_type": "code",
   "execution_count": 67,
   "metadata": {},
   "outputs": [
    {
     "data": {
      "text/html": [
       "<div>\n",
       "<style scoped>\n",
       "    .dataframe tbody tr th:only-of-type {\n",
       "        vertical-align: middle;\n",
       "    }\n",
       "\n",
       "    .dataframe tbody tr th {\n",
       "        vertical-align: top;\n",
       "    }\n",
       "\n",
       "    .dataframe thead th {\n",
       "        text-align: right;\n",
       "    }\n",
       "</style>\n",
       "<table border=\"1\" class=\"dataframe\">\n",
       "  <thead>\n",
       "    <tr style=\"text-align: right;\">\n",
       "      <th></th>\n",
       "      <th>total_income</th>\n",
       "      <th>debt</th>\n",
       "      <th>percent</th>\n",
       "    </tr>\n",
       "    <tr>\n",
       "      <th>age_group</th>\n",
       "      <th></th>\n",
       "      <th></th>\n",
       "      <th></th>\n",
       "    </tr>\n",
       "  </thead>\n",
       "  <tbody>\n",
       "    <tr>\n",
       "      <td>зрелые</td>\n",
       "      <td>2831027277</td>\n",
       "      <td>1289</td>\n",
       "      <td>0.000046</td>\n",
       "    </tr>\n",
       "    <tr>\n",
       "      <td>молодежь</td>\n",
       "      <td>596098608</td>\n",
       "      <td>403</td>\n",
       "      <td>0.000068</td>\n",
       "    </tr>\n",
       "    <tr>\n",
       "      <td>пенсионеры</td>\n",
       "      <td>119640219</td>\n",
       "      <td>49</td>\n",
       "      <td>0.000041</td>\n",
       "    </tr>\n",
       "  </tbody>\n",
       "</table>\n",
       "</div>"
      ],
      "text/plain": [
       "            total_income  debt   percent\n",
       "age_group                               \n",
       "зрелые        2831027277  1289  0.000046\n",
       "молодежь       596098608   403  0.000068\n",
       "пенсионеры     119640219    49  0.000041"
      ]
     },
     "execution_count": 67,
     "metadata": {},
     "output_type": "execute_result"
    }
   ],
   "source": [
    "data_grouped_family_income"
   ]
  },
  {
   "cell_type": "markdown",
   "metadata": {},
   "source": [
    "Мы видим, что процент просроченных платежей очень маленький хотя с увеличением заработной платы количество просроченных платежей растет. Попробуем посчитать количество людей в каждой возрастной группе и выясним отношение просроченных платежей к количеству людей в каждой возрастной группе."
   ]
  },
  {
   "cell_type": "code",
   "execution_count": 68,
   "metadata": {},
   "outputs": [],
   "source": [
    "data_grouped_family_income = group_filter.groupby(['age_group']).agg({ 'total_income':'sum','debt':'sum','income_type':'count'})"
   ]
  },
  {
   "cell_type": "code",
   "execution_count": 69,
   "metadata": {},
   "outputs": [],
   "source": [
    "data_grouped_family_income['percent'] = data_grouped_family_income['debt'] / data_grouped_family_income['income_type'] * 100"
   ]
  },
  {
   "cell_type": "code",
   "execution_count": 70,
   "metadata": {},
   "outputs": [
    {
     "data": {
      "text/html": [
       "<div>\n",
       "<style scoped>\n",
       "    .dataframe tbody tr th:only-of-type {\n",
       "        vertical-align: middle;\n",
       "    }\n",
       "\n",
       "    .dataframe tbody tr th {\n",
       "        vertical-align: top;\n",
       "    }\n",
       "\n",
       "    .dataframe thead th {\n",
       "        text-align: right;\n",
       "    }\n",
       "</style>\n",
       "<table border=\"1\" class=\"dataframe\">\n",
       "  <thead>\n",
       "    <tr style=\"text-align: right;\">\n",
       "      <th></th>\n",
       "      <th>total_income</th>\n",
       "      <th>debt</th>\n",
       "      <th>income_type</th>\n",
       "      <th>percent</th>\n",
       "    </tr>\n",
       "    <tr>\n",
       "      <th>age_group</th>\n",
       "      <th></th>\n",
       "      <th></th>\n",
       "      <th></th>\n",
       "      <th></th>\n",
       "    </tr>\n",
       "  </thead>\n",
       "  <tbody>\n",
       "    <tr>\n",
       "      <td>зрелые</td>\n",
       "      <td>2831027277</td>\n",
       "      <td>1289</td>\n",
       "      <td>16842</td>\n",
       "      <td>7.653485</td>\n",
       "    </tr>\n",
       "    <tr>\n",
       "      <td>молодежь</td>\n",
       "      <td>596098608</td>\n",
       "      <td>403</td>\n",
       "      <td>3717</td>\n",
       "      <td>10.842077</td>\n",
       "    </tr>\n",
       "    <tr>\n",
       "      <td>пенсионеры</td>\n",
       "      <td>119640219</td>\n",
       "      <td>49</td>\n",
       "      <td>895</td>\n",
       "      <td>5.474860</td>\n",
       "    </tr>\n",
       "  </tbody>\n",
       "</table>\n",
       "</div>"
      ],
      "text/plain": [
       "            total_income  debt  income_type    percent\n",
       "age_group                                             \n",
       "зрелые        2831027277  1289        16842   7.653485\n",
       "молодежь       596098608   403         3717  10.842077\n",
       "пенсионеры     119640219    49          895   5.474860"
      ]
     },
     "execution_count": 70,
     "metadata": {},
     "output_type": "execute_result"
    }
   ],
   "source": [
    "data_grouped_family_income"
   ]
  },
  {
   "cell_type": "markdown",
   "metadata": {},
   "source": [
    "**Вывод**: Мы видим что не смотря на большую заработную плату у зрелых людей процент просроченных платежей находится на 2м месте, на третьем пенсионеры, ну а лидирует молодежь. Видимо чем моложе люди, тем они менее ответственнее."
   ]
  },
  {
   "cell_type": "markdown",
   "metadata": {},
   "source": [
    "- Как разные цели кредита влияют на его возврат в срок?"
   ]
  },
  {
   "cell_type": "markdown",
   "metadata": {},
   "source": [
    "Сгруппируем таблицу по запросам и посчитаем общее количество запросов и сумму просроченных платежей, так же добавим столбец процентов просроченных платежей и отсортируем по убыванию"
   ]
  },
  {
   "cell_type": "code",
   "execution_count": 71,
   "metadata": {},
   "outputs": [],
   "source": [
    "data_grouped_family_request = group_filter.groupby(['requests']).agg({'total_income':'count','debt':'sum'})"
   ]
  },
  {
   "cell_type": "code",
   "execution_count": 72,
   "metadata": {},
   "outputs": [],
   "source": [
    "data_grouped_family_request['percent'] = data_grouped_family_request['debt'] / data_grouped_family_request['total_income'] * 100"
   ]
  },
  {
   "cell_type": "code",
   "execution_count": 73,
   "metadata": {},
   "outputs": [
    {
     "data": {
      "text/html": [
       "<div>\n",
       "<style scoped>\n",
       "    .dataframe tbody tr th:only-of-type {\n",
       "        vertical-align: middle;\n",
       "    }\n",
       "\n",
       "    .dataframe tbody tr th {\n",
       "        vertical-align: top;\n",
       "    }\n",
       "\n",
       "    .dataframe thead th {\n",
       "        text-align: right;\n",
       "    }\n",
       "</style>\n",
       "<table border=\"1\" class=\"dataframe\">\n",
       "  <thead>\n",
       "    <tr style=\"text-align: right;\">\n",
       "      <th></th>\n",
       "      <th>total_income</th>\n",
       "      <th>debt</th>\n",
       "      <th>percent</th>\n",
       "    </tr>\n",
       "    <tr>\n",
       "      <th>requests</th>\n",
       "      <th></th>\n",
       "      <th></th>\n",
       "      <th></th>\n",
       "    </tr>\n",
       "  </thead>\n",
       "  <tbody>\n",
       "    <tr>\n",
       "      <td>автомобиль</td>\n",
       "      <td>4306</td>\n",
       "      <td>403</td>\n",
       "      <td>9.359034</td>\n",
       "    </tr>\n",
       "    <tr>\n",
       "      <td>образование</td>\n",
       "      <td>4013</td>\n",
       "      <td>370</td>\n",
       "      <td>9.220035</td>\n",
       "    </tr>\n",
       "    <tr>\n",
       "      <td>свадьба</td>\n",
       "      <td>2324</td>\n",
       "      <td>186</td>\n",
       "      <td>8.003442</td>\n",
       "    </tr>\n",
       "    <tr>\n",
       "      <td>операция</td>\n",
       "      <td>2604</td>\n",
       "      <td>205</td>\n",
       "      <td>7.872504</td>\n",
       "    </tr>\n",
       "    <tr>\n",
       "      <td>строительство</td>\n",
       "      <td>1878</td>\n",
       "      <td>144</td>\n",
       "      <td>7.667732</td>\n",
       "    </tr>\n",
       "    <tr>\n",
       "      <td>жилье</td>\n",
       "      <td>3201</td>\n",
       "      <td>225</td>\n",
       "      <td>7.029053</td>\n",
       "    </tr>\n",
       "    <tr>\n",
       "      <td>недвижимость</td>\n",
       "      <td>2521</td>\n",
       "      <td>173</td>\n",
       "      <td>6.862356</td>\n",
       "    </tr>\n",
       "    <tr>\n",
       "      <td>ремонт</td>\n",
       "      <td>607</td>\n",
       "      <td>35</td>\n",
       "      <td>5.766063</td>\n",
       "    </tr>\n",
       "  </tbody>\n",
       "</table>\n",
       "</div>"
      ],
      "text/plain": [
       "               total_income  debt   percent\n",
       "requests                                   \n",
       "автомобиль             4306   403  9.359034\n",
       "образование            4013   370  9.220035\n",
       "свадьба                2324   186  8.003442\n",
       "операция               2604   205  7.872504\n",
       "строительство          1878   144  7.667732\n",
       "жилье                  3201   225  7.029053\n",
       "недвижимость           2521   173  6.862356\n",
       "ремонт                  607    35  5.766063"
      ]
     },
     "execution_count": 73,
     "metadata": {},
     "output_type": "execute_result"
    }
   ],
   "source": [
    "data_grouped_family_request.sort_values('percent', ascending=False)"
   ]
  },
  {
   "cell_type": "markdown",
   "metadata": {},
   "source": [
    "Как мы видим на первые по количеству просроченных платежей запросы на автомобиль, образование и свадьбу. Совместим это с возрастом и проверим как это отразится на результате и так же добавим колонку с процентами просроченных платажей."
   ]
  },
  {
   "cell_type": "code",
   "execution_count": 74,
   "metadata": {},
   "outputs": [],
   "source": [
    "data_all_group = group_filter.groupby(['age_group','requests']).agg({'education':'count','debt':'sum'})"
   ]
  },
  {
   "cell_type": "code",
   "execution_count": 75,
   "metadata": {},
   "outputs": [],
   "source": [
    "data_all_group['percent'] = data_all_group['debt'] / data_all_group['education'] * 100"
   ]
  },
  {
   "cell_type": "code",
   "execution_count": 76,
   "metadata": {},
   "outputs": [
    {
     "data": {
      "text/html": [
       "<div>\n",
       "<style scoped>\n",
       "    .dataframe tbody tr th:only-of-type {\n",
       "        vertical-align: middle;\n",
       "    }\n",
       "\n",
       "    .dataframe tbody tr th {\n",
       "        vertical-align: top;\n",
       "    }\n",
       "\n",
       "    .dataframe thead th {\n",
       "        text-align: right;\n",
       "    }\n",
       "</style>\n",
       "<table border=\"1\" class=\"dataframe\">\n",
       "  <thead>\n",
       "    <tr style=\"text-align: right;\">\n",
       "      <th></th>\n",
       "      <th></th>\n",
       "      <th>education</th>\n",
       "      <th>debt</th>\n",
       "      <th>percent</th>\n",
       "    </tr>\n",
       "    <tr>\n",
       "      <th>age_group</th>\n",
       "      <th>requests</th>\n",
       "      <th></th>\n",
       "      <th></th>\n",
       "      <th></th>\n",
       "    </tr>\n",
       "  </thead>\n",
       "  <tbody>\n",
       "    <tr>\n",
       "      <td rowspan=\"8\" valign=\"top\">зрелые</td>\n",
       "      <td>автомобиль</td>\n",
       "      <td>3434</td>\n",
       "      <td>309</td>\n",
       "      <td>8.998253</td>\n",
       "    </tr>\n",
       "    <tr>\n",
       "      <td>жилье</td>\n",
       "      <td>2514</td>\n",
       "      <td>164</td>\n",
       "      <td>6.523469</td>\n",
       "    </tr>\n",
       "    <tr>\n",
       "      <td>недвижимость</td>\n",
       "      <td>1973</td>\n",
       "      <td>125</td>\n",
       "      <td>6.335530</td>\n",
       "    </tr>\n",
       "    <tr>\n",
       "      <td>образование</td>\n",
       "      <td>3120</td>\n",
       "      <td>268</td>\n",
       "      <td>8.589744</td>\n",
       "    </tr>\n",
       "    <tr>\n",
       "      <td>операция</td>\n",
       "      <td>2035</td>\n",
       "      <td>151</td>\n",
       "      <td>7.420147</td>\n",
       "    </tr>\n",
       "    <tr>\n",
       "      <td>ремонт</td>\n",
       "      <td>450</td>\n",
       "      <td>22</td>\n",
       "      <td>4.888889</td>\n",
       "    </tr>\n",
       "    <tr>\n",
       "      <td>свадьба</td>\n",
       "      <td>1833</td>\n",
       "      <td>142</td>\n",
       "      <td>7.746863</td>\n",
       "    </tr>\n",
       "    <tr>\n",
       "      <td>строительство</td>\n",
       "      <td>1483</td>\n",
       "      <td>108</td>\n",
       "      <td>7.282535</td>\n",
       "    </tr>\n",
       "    <tr>\n",
       "      <td rowspan=\"8\" valign=\"top\">молодежь</td>\n",
       "      <td>автомобиль</td>\n",
       "      <td>686</td>\n",
       "      <td>84</td>\n",
       "      <td>12.244898</td>\n",
       "    </tr>\n",
       "    <tr>\n",
       "      <td>жилье</td>\n",
       "      <td>558</td>\n",
       "      <td>54</td>\n",
       "      <td>9.677419</td>\n",
       "    </tr>\n",
       "    <tr>\n",
       "      <td>недвижимость</td>\n",
       "      <td>440</td>\n",
       "      <td>41</td>\n",
       "      <td>9.318182</td>\n",
       "    </tr>\n",
       "    <tr>\n",
       "      <td>образование</td>\n",
       "      <td>719</td>\n",
       "      <td>93</td>\n",
       "      <td>12.934631</td>\n",
       "    </tr>\n",
       "    <tr>\n",
       "      <td>операция</td>\n",
       "      <td>460</td>\n",
       "      <td>48</td>\n",
       "      <td>10.434783</td>\n",
       "    </tr>\n",
       "    <tr>\n",
       "      <td>ремонт</td>\n",
       "      <td>131</td>\n",
       "      <td>11</td>\n",
       "      <td>8.396947</td>\n",
       "    </tr>\n",
       "    <tr>\n",
       "      <td>свадьба</td>\n",
       "      <td>392</td>\n",
       "      <td>38</td>\n",
       "      <td>9.693878</td>\n",
       "    </tr>\n",
       "    <tr>\n",
       "      <td>строительство</td>\n",
       "      <td>331</td>\n",
       "      <td>34</td>\n",
       "      <td>10.271903</td>\n",
       "    </tr>\n",
       "    <tr>\n",
       "      <td rowspan=\"8\" valign=\"top\">пенсионеры</td>\n",
       "      <td>автомобиль</td>\n",
       "      <td>186</td>\n",
       "      <td>10</td>\n",
       "      <td>5.376344</td>\n",
       "    </tr>\n",
       "    <tr>\n",
       "      <td>жилье</td>\n",
       "      <td>129</td>\n",
       "      <td>7</td>\n",
       "      <td>5.426357</td>\n",
       "    </tr>\n",
       "    <tr>\n",
       "      <td>недвижимость</td>\n",
       "      <td>108</td>\n",
       "      <td>7</td>\n",
       "      <td>6.481481</td>\n",
       "    </tr>\n",
       "    <tr>\n",
       "      <td>образование</td>\n",
       "      <td>174</td>\n",
       "      <td>9</td>\n",
       "      <td>5.172414</td>\n",
       "    </tr>\n",
       "    <tr>\n",
       "      <td>операция</td>\n",
       "      <td>109</td>\n",
       "      <td>6</td>\n",
       "      <td>5.504587</td>\n",
       "    </tr>\n",
       "    <tr>\n",
       "      <td>ремонт</td>\n",
       "      <td>26</td>\n",
       "      <td>2</td>\n",
       "      <td>7.692308</td>\n",
       "    </tr>\n",
       "    <tr>\n",
       "      <td>свадьба</td>\n",
       "      <td>99</td>\n",
       "      <td>6</td>\n",
       "      <td>6.060606</td>\n",
       "    </tr>\n",
       "    <tr>\n",
       "      <td>строительство</td>\n",
       "      <td>64</td>\n",
       "      <td>2</td>\n",
       "      <td>3.125000</td>\n",
       "    </tr>\n",
       "  </tbody>\n",
       "</table>\n",
       "</div>"
      ],
      "text/plain": [
       "                          education  debt    percent\n",
       "age_group  requests                                 \n",
       "зрелые     автомобиль          3434   309   8.998253\n",
       "           жилье               2514   164   6.523469\n",
       "           недвижимость        1973   125   6.335530\n",
       "           образование         3120   268   8.589744\n",
       "           операция            2035   151   7.420147\n",
       "           ремонт               450    22   4.888889\n",
       "           свадьба             1833   142   7.746863\n",
       "           строительство       1483   108   7.282535\n",
       "молодежь   автомобиль           686    84  12.244898\n",
       "           жилье                558    54   9.677419\n",
       "           недвижимость         440    41   9.318182\n",
       "           образование          719    93  12.934631\n",
       "           операция             460    48  10.434783\n",
       "           ремонт               131    11   8.396947\n",
       "           свадьба              392    38   9.693878\n",
       "           строительство        331    34  10.271903\n",
       "пенсионеры автомобиль           186    10   5.376344\n",
       "           жилье                129     7   5.426357\n",
       "           недвижимость         108     7   6.481481\n",
       "           образование          174     9   5.172414\n",
       "           операция             109     6   5.504587\n",
       "           ремонт                26     2   7.692308\n",
       "           свадьба               99     6   6.060606\n",
       "           строительство         64     2   3.125000"
      ]
     },
     "execution_count": 76,
     "metadata": {},
     "output_type": "execute_result"
    }
   ],
   "source": [
    "data_all_group"
   ]
  },
  {
   "cell_type": "markdown",
   "metadata": {},
   "source": [
    "**Вывод**: Как мы видим лидирует по количеству просроченных платежей по прежнему молодежь при том, что в числе самых поулярных запросов как по количеству просроченных платежей так и по общему количеству находится автомобиль. Дальше идет образование и операция у других же категорий ситуация не много лучше, у зрелых людей идет так же автомобиль и образование. А вот у пенсионеров ситуация гораздо лучше они гораздо чаще выплачивают кредит вовремя."
   ]
  },
  {
   "cell_type": "markdown",
   "metadata": {},
   "source": [
    "- Как образование влияет на возврат кредита в срок?"
   ]
  },
  {
   "cell_type": "markdown",
   "metadata": {},
   "source": [
    "Сгруппируем данные по столбцам возраст и образование, добаивм столбец с процентами и посмотрим на него"
   ]
  },
  {
   "cell_type": "code",
   "execution_count": 77,
   "metadata": {},
   "outputs": [],
   "source": [
    "data_education = group_filter.groupby(['age_group','education']).agg({'education':'count','debt':'sum'})"
   ]
  },
  {
   "cell_type": "code",
   "execution_count": 78,
   "metadata": {},
   "outputs": [
    {
     "data": {
      "text/html": [
       "<div>\n",
       "<style scoped>\n",
       "    .dataframe tbody tr th:only-of-type {\n",
       "        vertical-align: middle;\n",
       "    }\n",
       "\n",
       "    .dataframe tbody tr th {\n",
       "        vertical-align: top;\n",
       "    }\n",
       "\n",
       "    .dataframe thead th {\n",
       "        text-align: right;\n",
       "    }\n",
       "</style>\n",
       "<table border=\"1\" class=\"dataframe\">\n",
       "  <thead>\n",
       "    <tr style=\"text-align: right;\">\n",
       "      <th></th>\n",
       "      <th></th>\n",
       "      <th>education</th>\n",
       "      <th>debt</th>\n",
       "    </tr>\n",
       "    <tr>\n",
       "      <th>age_group</th>\n",
       "      <th>education</th>\n",
       "      <th></th>\n",
       "      <th></th>\n",
       "    </tr>\n",
       "  </thead>\n",
       "  <tbody>\n",
       "    <tr>\n",
       "      <td rowspan=\"5\" valign=\"top\">зрелые</td>\n",
       "      <td>высшее</td>\n",
       "      <td>3921</td>\n",
       "      <td>191</td>\n",
       "    </tr>\n",
       "    <tr>\n",
       "      <td>начальное</td>\n",
       "      <td>219</td>\n",
       "      <td>26</td>\n",
       "    </tr>\n",
       "    <tr>\n",
       "      <td>неоконченное высшее</td>\n",
       "      <td>398</td>\n",
       "      <td>38</td>\n",
       "    </tr>\n",
       "    <tr>\n",
       "      <td>среднее</td>\n",
       "      <td>12299</td>\n",
       "      <td>1034</td>\n",
       "    </tr>\n",
       "    <tr>\n",
       "      <td>ученая степень</td>\n",
       "      <td>5</td>\n",
       "      <td>0</td>\n",
       "    </tr>\n",
       "    <tr>\n",
       "      <td rowspan=\"4\" valign=\"top\">молодежь</td>\n",
       "      <td>высшее</td>\n",
       "      <td>1185</td>\n",
       "      <td>78</td>\n",
       "    </tr>\n",
       "    <tr>\n",
       "      <td>начальное</td>\n",
       "      <td>30</td>\n",
       "      <td>5</td>\n",
       "    </tr>\n",
       "    <tr>\n",
       "      <td>неоконченное высшее</td>\n",
       "      <td>331</td>\n",
       "      <td>30</td>\n",
       "    </tr>\n",
       "    <tr>\n",
       "      <td>среднее</td>\n",
       "      <td>2171</td>\n",
       "      <td>290</td>\n",
       "    </tr>\n",
       "    <tr>\n",
       "      <td rowspan=\"5\" valign=\"top\">пенсионеры</td>\n",
       "      <td>высшее</td>\n",
       "      <td>144</td>\n",
       "      <td>9</td>\n",
       "    </tr>\n",
       "    <tr>\n",
       "      <td>начальное</td>\n",
       "      <td>33</td>\n",
       "      <td>0</td>\n",
       "    </tr>\n",
       "    <tr>\n",
       "      <td>неоконченное высшее</td>\n",
       "      <td>15</td>\n",
       "      <td>0</td>\n",
       "    </tr>\n",
       "    <tr>\n",
       "      <td>среднее</td>\n",
       "      <td>702</td>\n",
       "      <td>40</td>\n",
       "    </tr>\n",
       "    <tr>\n",
       "      <td>ученая степень</td>\n",
       "      <td>1</td>\n",
       "      <td>0</td>\n",
       "    </tr>\n",
       "  </tbody>\n",
       "</table>\n",
       "</div>"
      ],
      "text/plain": [
       "                                education  debt\n",
       "age_group  education                           \n",
       "зрелые     высшее                    3921   191\n",
       "           начальное                  219    26\n",
       "           неоконченное высшее        398    38\n",
       "           среднее                  12299  1034\n",
       "           ученая степень               5     0\n",
       "молодежь   высшее                    1185    78\n",
       "           начальное                   30     5\n",
       "           неоконченное высшее        331    30\n",
       "           среднее                   2171   290\n",
       "пенсионеры высшее                     144     9\n",
       "           начальное                   33     0\n",
       "           неоконченное высшее         15     0\n",
       "           среднее                    702    40\n",
       "           ученая степень               1     0"
      ]
     },
     "execution_count": 78,
     "metadata": {},
     "output_type": "execute_result"
    }
   ],
   "source": [
    "data_education"
   ]
  },
  {
   "cell_type": "code",
   "execution_count": 79,
   "metadata": {},
   "outputs": [],
   "source": [
    "data_education['percent'] = data_education['debt'] / data_education['education'] * 100"
   ]
  },
  {
   "cell_type": "code",
   "execution_count": 80,
   "metadata": {},
   "outputs": [
    {
     "data": {
      "text/html": [
       "<div>\n",
       "<style scoped>\n",
       "    .dataframe tbody tr th:only-of-type {\n",
       "        vertical-align: middle;\n",
       "    }\n",
       "\n",
       "    .dataframe tbody tr th {\n",
       "        vertical-align: top;\n",
       "    }\n",
       "\n",
       "    .dataframe thead th {\n",
       "        text-align: right;\n",
       "    }\n",
       "</style>\n",
       "<table border=\"1\" class=\"dataframe\">\n",
       "  <thead>\n",
       "    <tr style=\"text-align: right;\">\n",
       "      <th></th>\n",
       "      <th></th>\n",
       "      <th>education</th>\n",
       "      <th>debt</th>\n",
       "      <th>percent</th>\n",
       "    </tr>\n",
       "    <tr>\n",
       "      <th>age_group</th>\n",
       "      <th>education</th>\n",
       "      <th></th>\n",
       "      <th></th>\n",
       "      <th></th>\n",
       "    </tr>\n",
       "  </thead>\n",
       "  <tbody>\n",
       "    <tr>\n",
       "      <td rowspan=\"5\" valign=\"top\">зрелые</td>\n",
       "      <td>высшее</td>\n",
       "      <td>3921</td>\n",
       "      <td>191</td>\n",
       "      <td>4.871206</td>\n",
       "    </tr>\n",
       "    <tr>\n",
       "      <td>начальное</td>\n",
       "      <td>219</td>\n",
       "      <td>26</td>\n",
       "      <td>11.872146</td>\n",
       "    </tr>\n",
       "    <tr>\n",
       "      <td>неоконченное высшее</td>\n",
       "      <td>398</td>\n",
       "      <td>38</td>\n",
       "      <td>9.547739</td>\n",
       "    </tr>\n",
       "    <tr>\n",
       "      <td>среднее</td>\n",
       "      <td>12299</td>\n",
       "      <td>1034</td>\n",
       "      <td>8.407188</td>\n",
       "    </tr>\n",
       "    <tr>\n",
       "      <td>ученая степень</td>\n",
       "      <td>5</td>\n",
       "      <td>0</td>\n",
       "      <td>0.000000</td>\n",
       "    </tr>\n",
       "    <tr>\n",
       "      <td rowspan=\"4\" valign=\"top\">молодежь</td>\n",
       "      <td>высшее</td>\n",
       "      <td>1185</td>\n",
       "      <td>78</td>\n",
       "      <td>6.582278</td>\n",
       "    </tr>\n",
       "    <tr>\n",
       "      <td>начальное</td>\n",
       "      <td>30</td>\n",
       "      <td>5</td>\n",
       "      <td>16.666667</td>\n",
       "    </tr>\n",
       "    <tr>\n",
       "      <td>неоконченное высшее</td>\n",
       "      <td>331</td>\n",
       "      <td>30</td>\n",
       "      <td>9.063444</td>\n",
       "    </tr>\n",
       "    <tr>\n",
       "      <td>среднее</td>\n",
       "      <td>2171</td>\n",
       "      <td>290</td>\n",
       "      <td>13.357900</td>\n",
       "    </tr>\n",
       "    <tr>\n",
       "      <td rowspan=\"5\" valign=\"top\">пенсионеры</td>\n",
       "      <td>высшее</td>\n",
       "      <td>144</td>\n",
       "      <td>9</td>\n",
       "      <td>6.250000</td>\n",
       "    </tr>\n",
       "    <tr>\n",
       "      <td>начальное</td>\n",
       "      <td>33</td>\n",
       "      <td>0</td>\n",
       "      <td>0.000000</td>\n",
       "    </tr>\n",
       "    <tr>\n",
       "      <td>неоконченное высшее</td>\n",
       "      <td>15</td>\n",
       "      <td>0</td>\n",
       "      <td>0.000000</td>\n",
       "    </tr>\n",
       "    <tr>\n",
       "      <td>среднее</td>\n",
       "      <td>702</td>\n",
       "      <td>40</td>\n",
       "      <td>5.698006</td>\n",
       "    </tr>\n",
       "    <tr>\n",
       "      <td>ученая степень</td>\n",
       "      <td>1</td>\n",
       "      <td>0</td>\n",
       "      <td>0.000000</td>\n",
       "    </tr>\n",
       "  </tbody>\n",
       "</table>\n",
       "</div>"
      ],
      "text/plain": [
       "                                education  debt    percent\n",
       "age_group  education                                      \n",
       "зрелые     высшее                    3921   191   4.871206\n",
       "           начальное                  219    26  11.872146\n",
       "           неоконченное высшее        398    38   9.547739\n",
       "           среднее                  12299  1034   8.407188\n",
       "           ученая степень               5     0   0.000000\n",
       "молодежь   высшее                    1185    78   6.582278\n",
       "           начальное                   30     5  16.666667\n",
       "           неоконченное высшее        331    30   9.063444\n",
       "           среднее                   2171   290  13.357900\n",
       "пенсионеры высшее                     144     9   6.250000\n",
       "           начальное                   33     0   0.000000\n",
       "           неоконченное высшее         15     0   0.000000\n",
       "           среднее                    702    40   5.698006\n",
       "           ученая степень               1     0   0.000000"
      ]
     },
     "execution_count": 80,
     "metadata": {},
     "output_type": "execute_result"
    }
   ],
   "source": [
    "data_education"
   ]
  },
  {
   "cell_type": "markdown",
   "metadata": {},
   "source": [
    "**Вывод**: Мы видим, что на первом месте по прежнему молодежь с начальным и средним образованием дальше идут категория зрелых людей с начальным образовнием и зрелые с неоконченным высшим."
   ]
  },
  {
   "cell_type": "markdown",
   "metadata": {},
   "source": [
    "## Общий вывод"
   ]
  },
  {
   "cell_type": "markdown",
   "metadata": {},
   "source": [
    "Мы провели большое исследование зависимости просроченных платежей от разных факторов. Преобразовали пропуски, удалили дубликаты. Воспользовались лемматизацией чтобы выявить основные виды запросов. В итоге выяснили, что самая не платежеспособная группа людей - это люди от 18 до 30 лет в разводе либо не женаты/не замужем покупающие автомобиль либо оплачивающие образование со средним или начальным образованием. Видимо люди образование играет далеко не последнюю роль правильной оценки ситуации при выборе кредита, к тому же в таком возрасте не совсем задумываются о последствиях, что конечно чревато в итоге как для банка, так и для самих заемщиков. Так же и это относится к людям в возрасте от 31 до 64 лет с начальным образованием, но здсь уже процент по просроченным кредитам меньше. Скорее всего если эту группу людей разделить еще на подгруппу, то ситуация окажется такой, что чем старше человек, тем ответственне он относится к свои обязанностям. У людей старше 65 лет процент по просрочкам всех платежей гораздо меньше исключение составляет категория людей которые в разводе или уже вдовцы. Размер оплаты труда особую роль в качестве платежей по кредитам не играет."
   ]
  }
 ],
 "metadata": {
  "ExecuteTimeLog": [
   {
    "duration": 891,
    "start_time": "2021-11-03T06:14:15.857Z"
   },
   {
    "duration": 16,
    "start_time": "2021-11-03T06:21:49.789Z"
   },
   {
    "duration": 29,
    "start_time": "2021-11-03T06:51:15.793Z"
   },
   {
    "duration": 12,
    "start_time": "2021-11-03T06:51:22.447Z"
   },
   {
    "duration": 603,
    "start_time": "2021-11-03T06:53:50.914Z"
   },
   {
    "duration": 13,
    "start_time": "2021-11-03T06:54:21.264Z"
   },
   {
    "duration": 11,
    "start_time": "2021-11-03T06:54:32.795Z"
   },
   {
    "duration": 11,
    "start_time": "2021-11-03T06:54:40.769Z"
   },
   {
    "duration": 12,
    "start_time": "2021-11-03T06:54:46.099Z"
   },
   {
    "duration": 106,
    "start_time": "2021-11-03T06:55:49.449Z"
   },
   {
    "duration": 7,
    "start_time": "2021-11-03T06:55:54.108Z"
   },
   {
    "duration": 7,
    "start_time": "2021-11-03T06:56:00.851Z"
   },
   {
    "duration": 23,
    "start_time": "2021-11-03T06:56:17.039Z"
   },
   {
    "duration": 19,
    "start_time": "2021-11-03T06:57:21.289Z"
   },
   {
    "duration": 8,
    "start_time": "2021-11-03T07:00:30.630Z"
   },
   {
    "duration": 8,
    "start_time": "2021-11-03T07:00:36.336Z"
   },
   {
    "duration": 19,
    "start_time": "2021-11-03T07:12:52.737Z"
   },
   {
    "duration": 20,
    "start_time": "2021-11-03T07:25:01.481Z"
   },
   {
    "duration": 19,
    "start_time": "2021-11-03T07:25:12.755Z"
   },
   {
    "duration": 20,
    "start_time": "2021-11-03T07:25:17.572Z"
   },
   {
    "duration": 20,
    "start_time": "2021-11-03T07:26:59.797Z"
   },
   {
    "duration": 385,
    "start_time": "2021-11-03T07:42:38.491Z"
   },
   {
    "duration": 6,
    "start_time": "2021-11-03T07:43:09.959Z"
   },
   {
    "duration": 27,
    "start_time": "2021-11-03T07:43:18.734Z"
   },
   {
    "duration": 77,
    "start_time": "2021-11-03T07:47:13.465Z"
   },
   {
    "duration": 360,
    "start_time": "2021-11-03T07:50:25.642Z"
   },
   {
    "duration": 75,
    "start_time": "2021-11-03T07:50:30.137Z"
   },
   {
    "duration": 99,
    "start_time": "2021-11-03T08:18:01.405Z"
   },
   {
    "duration": 1158,
    "start_time": "2021-11-03T08:18:14.018Z"
   },
   {
    "duration": 97,
    "start_time": "2021-11-03T08:18:46.022Z"
   },
   {
    "duration": 4,
    "start_time": "2021-11-03T08:20:59.580Z"
   },
   {
    "duration": 293,
    "start_time": "2021-11-03T09:51:42.988Z"
   },
   {
    "duration": 891,
    "start_time": "2021-11-04T04:48:34.577Z"
   },
   {
    "duration": 6,
    "start_time": "2021-11-04T04:48:54.579Z"
   },
   {
    "duration": 6,
    "start_time": "2021-11-04T04:50:11.634Z"
   },
   {
    "duration": 817,
    "start_time": "2021-11-04T04:55:24.352Z"
   },
   {
    "duration": 16,
    "start_time": "2021-11-04T04:55:25.171Z"
   },
   {
    "duration": 13,
    "start_time": "2021-11-04T04:55:25.194Z"
   },
   {
    "duration": 20,
    "start_time": "2021-11-04T04:55:25.210Z"
   },
   {
    "duration": 54,
    "start_time": "2021-11-04T04:55:25.232Z"
   },
   {
    "duration": 28,
    "start_time": "2021-11-04T04:55:25.288Z"
   },
   {
    "duration": 4,
    "start_time": "2021-11-04T04:55:25.318Z"
   },
   {
    "duration": 356,
    "start_time": "2021-11-04T04:55:25.326Z"
   },
   {
    "duration": -487,
    "start_time": "2021-11-04T04:55:26.171Z"
   },
   {
    "duration": 6,
    "start_time": "2021-11-04T05:00:37.927Z"
   },
   {
    "duration": 26,
    "start_time": "2021-11-04T05:01:07.019Z"
   },
   {
    "duration": 27,
    "start_time": "2021-11-04T05:01:17.877Z"
   },
   {
    "duration": 31,
    "start_time": "2021-11-04T05:01:45.965Z"
   },
   {
    "duration": 36,
    "start_time": "2021-11-04T05:02:50.914Z"
   },
   {
    "duration": 35,
    "start_time": "2021-11-04T05:03:04.649Z"
   },
   {
    "duration": 19,
    "start_time": "2021-11-04T05:03:09.543Z"
   },
   {
    "duration": 92,
    "start_time": "2021-11-04T05:03:22.089Z"
   },
   {
    "duration": 4,
    "start_time": "2021-11-04T05:07:02.931Z"
   },
   {
    "duration": 5,
    "start_time": "2021-11-04T05:07:06.971Z"
   },
   {
    "duration": 7531,
    "start_time": "2021-11-04T05:07:29.740Z"
   },
   {
    "duration": 1209,
    "start_time": "2021-11-04T05:10:15.889Z"
   },
   {
    "duration": 1832,
    "start_time": "2021-11-04T05:10:26.571Z"
   },
   {
    "duration": 5,
    "start_time": "2021-11-04T05:12:31.742Z"
   },
   {
    "duration": 6,
    "start_time": "2021-11-04T05:12:32.793Z"
   },
   {
    "duration": 1421,
    "start_time": "2021-11-04T05:12:34.003Z"
   },
   {
    "duration": 11,
    "start_time": "2021-11-04T05:13:13.339Z"
   },
   {
    "duration": 5,
    "start_time": "2021-11-04T05:14:32.601Z"
   },
   {
    "duration": 5,
    "start_time": "2021-11-04T05:14:34.010Z"
   },
   {
    "duration": 9,
    "start_time": "2021-11-04T05:14:35.750Z"
   },
   {
    "duration": 1405,
    "start_time": "2021-11-04T05:14:37.181Z"
   },
   {
    "duration": 4,
    "start_time": "2021-11-04T05:15:13.603Z"
   },
   {
    "duration": 5,
    "start_time": "2021-11-04T05:15:15.302Z"
   },
   {
    "duration": 9,
    "start_time": "2021-11-04T05:15:15.600Z"
   },
   {
    "duration": 1457,
    "start_time": "2021-11-04T05:15:15.763Z"
   },
   {
    "duration": 5,
    "start_time": "2021-11-04T05:21:25.778Z"
   },
   {
    "duration": 35,
    "start_time": "2021-11-04T05:24:24.610Z"
   },
   {
    "duration": 34,
    "start_time": "2021-11-04T05:27:05.425Z"
   },
   {
    "duration": 19,
    "start_time": "2021-11-04T05:28:18.303Z"
   },
   {
    "duration": 33,
    "start_time": "2021-11-04T05:32:24.763Z"
   },
   {
    "duration": 34,
    "start_time": "2021-11-04T05:32:35.305Z"
   },
   {
    "duration": 35,
    "start_time": "2021-11-04T05:33:09.520Z"
   },
   {
    "duration": 34,
    "start_time": "2021-11-04T05:34:22.448Z"
   },
   {
    "duration": 20,
    "start_time": "2021-11-04T05:34:33.931Z"
   },
   {
    "duration": 37,
    "start_time": "2021-11-04T05:35:37.478Z"
   },
   {
    "duration": 6,
    "start_time": "2021-11-04T05:36:10.838Z"
   },
   {
    "duration": 6,
    "start_time": "2021-11-04T05:36:13.483Z"
   },
   {
    "duration": 9,
    "start_time": "2021-11-04T05:36:14.096Z"
   },
   {
    "duration": 6,
    "start_time": "2021-11-04T05:36:32.988Z"
   },
   {
    "duration": 9,
    "start_time": "2021-11-04T05:36:33.395Z"
   },
   {
    "duration": 6,
    "start_time": "2021-11-04T05:39:50.554Z"
   },
   {
    "duration": 6,
    "start_time": "2021-11-04T05:39:52.719Z"
   },
   {
    "duration": 10,
    "start_time": "2021-11-04T05:39:53.255Z"
   },
   {
    "duration": 19,
    "start_time": "2021-11-04T06:01:23.541Z"
   },
   {
    "duration": 7,
    "start_time": "2021-11-04T06:04:03.327Z"
   },
   {
    "duration": 104,
    "start_time": "2021-11-04T06:04:32.527Z"
   },
   {
    "duration": 139,
    "start_time": "2021-11-04T06:04:40.978Z"
   },
   {
    "duration": 478,
    "start_time": "2021-11-04T06:05:12.220Z"
   },
   {
    "duration": 313,
    "start_time": "2021-11-04T06:06:22.831Z"
   },
   {
    "duration": 278,
    "start_time": "2021-11-04T06:06:29.404Z"
   },
   {
    "duration": 9,
    "start_time": "2021-11-04T06:07:12.469Z"
   },
   {
    "duration": 121,
    "start_time": "2021-11-04T06:16:46.460Z"
   },
   {
    "duration": 102,
    "start_time": "2021-11-04T06:17:15.150Z"
   },
   {
    "duration": 303,
    "start_time": "2021-11-04T06:17:20.982Z"
   },
   {
    "duration": 16,
    "start_time": "2021-11-04T06:17:34.979Z"
   },
   {
    "duration": 16,
    "start_time": "2021-11-04T06:18:15.195Z"
   },
   {
    "duration": 7,
    "start_time": "2021-11-04T06:27:19.403Z"
   },
   {
    "duration": 167,
    "start_time": "2021-11-04T06:27:25.369Z"
   },
   {
    "duration": 11,
    "start_time": "2021-11-04T06:27:32.721Z"
   },
   {
    "duration": 11264,
    "start_time": "2021-11-04T06:28:11.597Z"
   },
   {
    "duration": 39,
    "start_time": "2021-11-04T06:28:40.459Z"
   },
   {
    "duration": 13,
    "start_time": "2021-11-04T06:34:20.230Z"
   },
   {
    "duration": 7,
    "start_time": "2021-11-04T07:10:05.697Z"
   },
   {
    "duration": 4,
    "start_time": "2021-11-04T07:11:05.688Z"
   },
   {
    "duration": 286,
    "start_time": "2021-11-04T07:11:18.637Z"
   },
   {
    "duration": 3,
    "start_time": "2021-11-04T07:11:27.839Z"
   },
   {
    "duration": 278,
    "start_time": "2021-11-04T07:11:28.117Z"
   },
   {
    "duration": 6,
    "start_time": "2021-11-04T07:13:09.984Z"
   },
   {
    "duration": 17,
    "start_time": "2021-11-04T07:13:10.776Z"
   },
   {
    "duration": 12,
    "start_time": "2021-11-04T07:14:03.200Z"
   },
   {
    "duration": 18,
    "start_time": "2021-11-04T07:14:18.786Z"
   },
   {
    "duration": 299,
    "start_time": "2021-11-04T07:14:36.247Z"
   },
   {
    "duration": 18,
    "start_time": "2021-11-04T07:14:36.741Z"
   },
   {
    "duration": 6,
    "start_time": "2021-11-04T07:14:49.755Z"
   },
   {
    "duration": 10,
    "start_time": "2021-11-04T07:14:55.878Z"
   },
   {
    "duration": 8,
    "start_time": "2021-11-04T07:15:20.558Z"
   },
   {
    "duration": 18,
    "start_time": "2021-11-04T07:15:23.183Z"
   },
   {
    "duration": 11,
    "start_time": "2021-11-04T07:15:38.996Z"
   },
   {
    "duration": 11,
    "start_time": "2021-11-04T07:15:43.997Z"
   },
   {
    "duration": 7,
    "start_time": "2021-11-04T07:22:22.457Z"
   },
   {
    "duration": 7,
    "start_time": "2021-11-04T07:22:55.824Z"
   },
   {
    "duration": 6,
    "start_time": "2021-11-04T07:23:04.153Z"
   },
   {
    "duration": 10,
    "start_time": "2021-11-04T08:24:48.128Z"
   },
   {
    "duration": 14,
    "start_time": "2021-11-04T08:25:04.007Z"
   },
   {
    "duration": 10,
    "start_time": "2021-11-04T08:25:14.115Z"
   },
   {
    "duration": 76,
    "start_time": "2021-11-04T08:25:42.159Z"
   },
   {
    "duration": 6,
    "start_time": "2021-11-04T08:25:49.065Z"
   },
   {
    "duration": 9,
    "start_time": "2021-11-04T08:25:50.546Z"
   },
   {
    "duration": 9,
    "start_time": "2021-11-04T08:25:51.833Z"
   },
   {
    "duration": 9,
    "start_time": "2021-11-04T08:25:52.680Z"
   },
   {
    "duration": 307,
    "start_time": "2021-11-04T08:26:08.899Z"
   },
   {
    "duration": 6863,
    "start_time": "2021-11-04T08:26:53.001Z"
   },
   {
    "duration": -1063,
    "start_time": "2021-11-04T08:27:00.929Z"
   },
   {
    "duration": 377,
    "start_time": "2021-11-04T08:27:21.095Z"
   },
   {
    "duration": 7,
    "start_time": "2021-11-04T08:27:28.455Z"
   },
   {
    "duration": 9,
    "start_time": "2021-11-04T08:27:33.366Z"
   },
   {
    "duration": 5,
    "start_time": "2021-11-04T08:32:25.556Z"
   },
   {
    "duration": 16,
    "start_time": "2021-11-04T08:32:26.213Z"
   },
   {
    "duration": 9,
    "start_time": "2021-11-04T08:32:30.732Z"
   },
   {
    "duration": 5,
    "start_time": "2021-11-04T08:33:32.152Z"
   },
   {
    "duration": 16,
    "start_time": "2021-11-04T08:33:33.689Z"
   },
   {
    "duration": 10,
    "start_time": "2021-11-04T08:33:36.137Z"
   },
   {
    "duration": 6,
    "start_time": "2021-11-04T08:34:37.004Z"
   },
   {
    "duration": 16,
    "start_time": "2021-11-04T08:34:38.252Z"
   },
   {
    "duration": 10,
    "start_time": "2021-11-04T08:34:45.612Z"
   },
   {
    "duration": 8,
    "start_time": "2021-11-04T08:36:01.099Z"
   },
   {
    "duration": 17,
    "start_time": "2021-11-04T08:36:05.304Z"
   },
   {
    "duration": 9,
    "start_time": "2021-11-04T08:36:05.924Z"
   },
   {
    "duration": 6,
    "start_time": "2021-11-04T08:43:22.762Z"
   },
   {
    "duration": 20,
    "start_time": "2021-11-04T08:47:04.847Z"
   },
   {
    "duration": 17,
    "start_time": "2021-11-04T08:47:13.195Z"
   },
   {
    "duration": 10,
    "start_time": "2021-11-04T08:48:37.559Z"
   },
   {
    "duration": 10,
    "start_time": "2021-11-04T08:48:42.863Z"
   },
   {
    "duration": 7,
    "start_time": "2021-11-04T08:50:42.928Z"
   },
   {
    "duration": 522,
    "start_time": "2021-11-04T08:51:47.961Z"
   },
   {
    "duration": 97,
    "start_time": "2021-11-04T08:52:17.703Z"
   },
   {
    "duration": 332,
    "start_time": "2021-11-04T08:52:24.956Z"
   },
   {
    "duration": 11,
    "start_time": "2021-11-04T08:52:43.808Z"
   },
   {
    "duration": 88,
    "start_time": "2021-11-04T08:54:07.729Z"
   },
   {
    "duration": 18,
    "start_time": "2021-11-04T08:54:15.831Z"
   },
   {
    "duration": 105,
    "start_time": "2021-11-04T09:02:19.698Z"
   },
   {
    "duration": 100,
    "start_time": "2021-11-04T09:02:23.667Z"
   },
   {
    "duration": 38,
    "start_time": "2021-11-04T09:02:30.171Z"
   },
   {
    "duration": 284,
    "start_time": "2021-11-04T09:04:19.418Z"
   },
   {
    "duration": 273,
    "start_time": "2021-11-04T09:04:28.932Z"
   },
   {
    "duration": 297,
    "start_time": "2021-11-04T09:04:45.293Z"
   },
   {
    "duration": 9080,
    "start_time": "2021-11-04T09:06:05.120Z"
   },
   {
    "duration": 15,
    "start_time": "2021-11-04T09:06:59.830Z"
   },
   {
    "duration": 9046,
    "start_time": "2021-11-04T09:07:34.539Z"
   },
   {
    "duration": 15,
    "start_time": "2021-11-04T09:07:47.636Z"
   },
   {
    "duration": 12,
    "start_time": "2021-11-04T09:07:54.718Z"
   },
   {
    "duration": 19,
    "start_time": "2021-11-04T09:08:18.414Z"
   },
   {
    "duration": 2425,
    "start_time": "2021-11-04T09:09:51.351Z"
   },
   {
    "duration": 7,
    "start_time": "2021-11-04T09:09:56.476Z"
   },
   {
    "duration": 18,
    "start_time": "2021-11-04T09:10:10.400Z"
   },
   {
    "duration": 6,
    "start_time": "2021-11-04T09:10:15.616Z"
   },
   {
    "duration": 26,
    "start_time": "2021-11-04T09:10:17.482Z"
   },
   {
    "duration": 2357,
    "start_time": "2021-11-04T09:10:21.760Z"
   },
   {
    "duration": 6,
    "start_time": "2021-11-04T09:10:27.787Z"
   },
   {
    "duration": 6,
    "start_time": "2021-11-04T09:10:38.048Z"
   },
   {
    "duration": 99,
    "start_time": "2021-11-04T09:11:18.291Z"
   },
   {
    "duration": 1136,
    "start_time": "2021-11-04T09:11:24.152Z"
   },
   {
    "duration": 1153,
    "start_time": "2021-11-04T09:12:01.677Z"
   },
   {
    "duration": 1892,
    "start_time": "2021-11-04T09:12:44.390Z"
   },
   {
    "duration": 6,
    "start_time": "2021-11-04T09:12:50.518Z"
   },
   {
    "duration": 112,
    "start_time": "2021-11-04T09:34:26.233Z"
   },
   {
    "duration": 2326,
    "start_time": "2021-11-04T09:34:45.026Z"
   },
   {
    "duration": 7,
    "start_time": "2021-11-04T09:34:53.893Z"
   },
   {
    "duration": 8,
    "start_time": "2021-11-04T09:37:27.602Z"
   },
   {
    "duration": 6,
    "start_time": "2021-11-04T09:37:30.830Z"
   },
   {
    "duration": 42,
    "start_time": "2021-11-04T09:39:55.776Z"
   },
   {
    "duration": 44,
    "start_time": "2021-11-04T09:40:37.895Z"
   },
   {
    "duration": 14,
    "start_time": "2021-11-04T09:40:58.521Z"
   },
   {
    "duration": 309,
    "start_time": "2021-11-04T09:41:13.114Z"
   },
   {
    "duration": 7,
    "start_time": "2021-11-04T09:41:27.914Z"
   },
   {
    "duration": 6,
    "start_time": "2021-11-04T09:42:06.479Z"
   },
   {
    "duration": 7,
    "start_time": "2021-11-04T09:42:24.992Z"
   },
   {
    "duration": 13,
    "start_time": "2021-11-04T09:48:07.880Z"
   },
   {
    "duration": 5,
    "start_time": "2021-11-04T09:48:15.318Z"
   },
   {
    "duration": 95,
    "start_time": "2021-11-04T09:49:34.441Z"
   },
   {
    "duration": 3528,
    "start_time": "2021-11-04T09:49:50.829Z"
   },
   {
    "duration": 4,
    "start_time": "2021-11-04T09:50:06.733Z"
   },
   {
    "duration": 5,
    "start_time": "2021-11-04T09:50:12.486Z"
   },
   {
    "duration": 8,
    "start_time": "2021-11-04T09:56:45.703Z"
   },
   {
    "duration": 8,
    "start_time": "2021-11-04T09:57:02.429Z"
   },
   {
    "duration": 669,
    "start_time": "2021-11-05T05:32:49.850Z"
   },
   {
    "duration": 621,
    "start_time": "2021-11-05T05:32:57.885Z"
   },
   {
    "duration": 11,
    "start_time": "2021-11-05T05:32:58.508Z"
   },
   {
    "duration": 10,
    "start_time": "2021-11-05T05:32:58.521Z"
   },
   {
    "duration": 16,
    "start_time": "2021-11-05T05:32:58.533Z"
   },
   {
    "duration": 3,
    "start_time": "2021-11-05T05:32:58.550Z"
   },
   {
    "duration": 15,
    "start_time": "2021-11-05T05:32:58.555Z"
   },
   {
    "duration": 3,
    "start_time": "2021-11-05T05:32:58.572Z"
   },
   {
    "duration": 4,
    "start_time": "2021-11-05T05:32:58.577Z"
   },
   {
    "duration": 8,
    "start_time": "2021-11-05T05:32:58.583Z"
   },
   {
    "duration": 6,
    "start_time": "2021-11-05T05:32:58.592Z"
   },
   {
    "duration": 8,
    "start_time": "2021-11-05T05:32:58.599Z"
   },
   {
    "duration": 36,
    "start_time": "2021-11-05T05:32:58.608Z"
   },
   {
    "duration": 351,
    "start_time": "2021-11-05T05:32:58.646Z"
   },
   {
    "duration": -1631,
    "start_time": "2021-11-05T05:33:00.629Z"
   },
   {
    "duration": -1646,
    "start_time": "2021-11-05T05:33:00.646Z"
   },
   {
    "duration": -1682,
    "start_time": "2021-11-05T05:33:00.683Z"
   },
   {
    "duration": -1689,
    "start_time": "2021-11-05T05:33:00.691Z"
   },
   {
    "duration": -1697,
    "start_time": "2021-11-05T05:33:00.700Z"
   },
   {
    "duration": -1702,
    "start_time": "2021-11-05T05:33:00.706Z"
   },
   {
    "duration": 12,
    "start_time": "2021-11-05T05:34:15.486Z"
   },
   {
    "duration": 22,
    "start_time": "2021-11-05T05:34:35.814Z"
   },
   {
    "duration": 24,
    "start_time": "2021-11-05T05:35:08.333Z"
   },
   {
    "duration": 16,
    "start_time": "2021-11-05T05:35:18.481Z"
   },
   {
    "duration": 16,
    "start_time": "2021-11-05T05:35:34.258Z"
   },
   {
    "duration": 85,
    "start_time": "2021-11-05T05:35:38.498Z"
   },
   {
    "duration": 19,
    "start_time": "2021-11-05T05:35:46.237Z"
   },
   {
    "duration": 6,
    "start_time": "2021-11-05T05:36:49.615Z"
   },
   {
    "duration": 96,
    "start_time": "2021-11-05T05:37:58.441Z"
   },
   {
    "duration": 12,
    "start_time": "2021-11-05T05:38:05.667Z"
   },
   {
    "duration": 18,
    "start_time": "2021-11-05T05:38:45.076Z"
   },
   {
    "duration": 88,
    "start_time": "2021-11-05T05:40:56.646Z"
   },
   {
    "duration": 91,
    "start_time": "2021-11-05T05:41:02.529Z"
   },
   {
    "duration": 103,
    "start_time": "2021-11-05T05:41:06.508Z"
   },
   {
    "duration": 8,
    "start_time": "2021-11-05T05:41:18.596Z"
   },
   {
    "duration": 8,
    "start_time": "2021-11-05T05:41:23.703Z"
   },
   {
    "duration": 5,
    "start_time": "2021-11-05T05:42:49.413Z"
   },
   {
    "duration": 41,
    "start_time": "2021-11-05T05:44:34.155Z"
   },
   {
    "duration": 12,
    "start_time": "2021-11-05T05:44:52.350Z"
   },
   {
    "duration": 5,
    "start_time": "2021-11-05T05:51:00.243Z"
   },
   {
    "duration": 41,
    "start_time": "2021-11-05T05:53:39.129Z"
   },
   {
    "duration": 10,
    "start_time": "2021-11-05T05:54:25.549Z"
   },
   {
    "duration": 4,
    "start_time": "2021-11-05T06:16:21.551Z"
   },
   {
    "duration": 4,
    "start_time": "2021-11-05T06:16:40.506Z"
   },
   {
    "duration": 13,
    "start_time": "2021-11-05T06:16:47.552Z"
   },
   {
    "duration": 10,
    "start_time": "2021-11-05T06:18:36.046Z"
   },
   {
    "duration": 85,
    "start_time": "2021-11-05T06:19:20.477Z"
   },
   {
    "duration": 29,
    "start_time": "2021-11-05T06:19:29.413Z"
   },
   {
    "duration": 8,
    "start_time": "2021-11-05T06:47:16.594Z"
   },
   {
    "duration": 19,
    "start_time": "2021-11-05T06:47:28.080Z"
   },
   {
    "duration": 21,
    "start_time": "2021-11-05T06:47:35.244Z"
   },
   {
    "duration": 16,
    "start_time": "2021-11-05T06:47:49.397Z"
   },
   {
    "duration": 8,
    "start_time": "2021-11-05T06:48:01.490Z"
   },
   {
    "duration": 13,
    "start_time": "2021-11-05T06:48:08.454Z"
   },
   {
    "duration": 11,
    "start_time": "2021-11-05T06:49:30.017Z"
   },
   {
    "duration": 16,
    "start_time": "2021-11-05T06:58:54.335Z"
   },
   {
    "duration": 263,
    "start_time": "2021-11-05T07:03:46.929Z"
   },
   {
    "duration": 257,
    "start_time": "2021-11-05T07:05:38.112Z"
   },
   {
    "duration": 12,
    "start_time": "2021-11-05T07:05:43.760Z"
   },
   {
    "duration": 250,
    "start_time": "2021-11-05T07:06:31.604Z"
   },
   {
    "duration": 4,
    "start_time": "2021-11-05T07:07:08.384Z"
   },
   {
    "duration": 4,
    "start_time": "2021-11-05T07:07:35.632Z"
   },
   {
    "duration": 255,
    "start_time": "2021-11-05T07:08:02.798Z"
   },
   {
    "duration": 84,
    "start_time": "2021-11-05T07:08:08.329Z"
   },
   {
    "duration": 6769,
    "start_time": "2021-11-05T07:08:15.564Z"
   },
   {
    "duration": 313,
    "start_time": "2021-11-05T07:08:41.822Z"
   },
   {
    "duration": 261,
    "start_time": "2021-11-05T07:09:25.933Z"
   },
   {
    "duration": 5,
    "start_time": "2021-11-05T07:09:33.535Z"
   },
   {
    "duration": 515,
    "start_time": "2021-11-05T07:10:09.992Z"
   },
   {
    "duration": 4,
    "start_time": "2021-11-05T07:10:19.099Z"
   },
   {
    "duration": 324,
    "start_time": "2021-11-05T07:11:15.945Z"
   },
   {
    "duration": 255,
    "start_time": "2021-11-05T07:11:24.058Z"
   },
   {
    "duration": 4,
    "start_time": "2021-11-05T07:11:31.277Z"
   },
   {
    "duration": 266,
    "start_time": "2021-11-05T07:12:05.314Z"
   },
   {
    "duration": 361,
    "start_time": "2021-11-05T07:13:42.153Z"
   },
   {
    "duration": 254,
    "start_time": "2021-11-05T07:13:53.139Z"
   },
   {
    "duration": 5,
    "start_time": "2021-11-05T07:14:13.778Z"
   },
   {
    "duration": 7105,
    "start_time": "2021-11-05T07:14:34.070Z"
   },
   {
    "duration": 5,
    "start_time": "2021-11-05T07:18:35.165Z"
   },
   {
    "duration": 7420,
    "start_time": "2021-11-05T07:19:39.723Z"
   },
   {
    "duration": 4,
    "start_time": "2021-11-05T07:20:51.287Z"
   },
   {
    "duration": 324,
    "start_time": "2021-11-05T07:21:52.865Z"
   },
   {
    "duration": 255,
    "start_time": "2021-11-05T07:22:14.007Z"
   },
   {
    "duration": 252,
    "start_time": "2021-11-05T07:22:25.169Z"
   },
   {
    "duration": 7268,
    "start_time": "2021-11-05T07:23:52.198Z"
   },
   {
    "duration": 5,
    "start_time": "2021-11-05T07:26:02.012Z"
   },
   {
    "duration": 334,
    "start_time": "2021-11-05T07:26:29.000Z"
   },
   {
    "duration": 3,
    "start_time": "2021-11-05T07:27:26.633Z"
   },
   {
    "duration": 10,
    "start_time": "2021-11-05T07:27:41.623Z"
   },
   {
    "duration": 14,
    "start_time": "2021-11-05T07:27:45.875Z"
   },
   {
    "duration": 13,
    "start_time": "2021-11-05T07:28:22.852Z"
   },
   {
    "duration": 18,
    "start_time": "2021-11-05T07:29:08.778Z"
   },
   {
    "duration": 31,
    "start_time": "2021-11-05T07:41:12.965Z"
   },
   {
    "duration": 260,
    "start_time": "2021-11-05T07:41:40.040Z"
   },
   {
    "duration": 10,
    "start_time": "2021-11-05T07:41:43.887Z"
   },
   {
    "duration": 18,
    "start_time": "2021-11-05T07:42:10.945Z"
   },
   {
    "duration": 11,
    "start_time": "2021-11-05T07:42:15.223Z"
   },
   {
    "duration": 15,
    "start_time": "2021-11-05T07:50:54.302Z"
   },
   {
    "duration": 16,
    "start_time": "2021-11-05T07:50:59.324Z"
   },
   {
    "duration": 722,
    "start_time": "2021-11-06T06:06:01.792Z"
   },
   {
    "duration": 12,
    "start_time": "2021-11-06T06:06:02.516Z"
   },
   {
    "duration": 46,
    "start_time": "2021-11-06T06:06:02.529Z"
   },
   {
    "duration": 16,
    "start_time": "2021-11-06T06:06:02.577Z"
   },
   {
    "duration": 14,
    "start_time": "2021-11-06T06:06:02.594Z"
   },
   {
    "duration": 12,
    "start_time": "2021-11-06T06:06:02.610Z"
   },
   {
    "duration": 402,
    "start_time": "2021-11-06T06:06:02.623Z"
   },
   {
    "duration": -1155,
    "start_time": "2021-11-06T06:06:04.182Z"
   },
   {
    "duration": -1175,
    "start_time": "2021-11-06T06:06:04.203Z"
   },
   {
    "duration": -1184,
    "start_time": "2021-11-06T06:06:04.213Z"
   },
   {
    "duration": -1191,
    "start_time": "2021-11-06T06:06:04.221Z"
   },
   {
    "duration": -1205,
    "start_time": "2021-11-06T06:06:04.236Z"
   },
   {
    "duration": -1215,
    "start_time": "2021-11-06T06:06:04.247Z"
   },
   {
    "duration": -1224,
    "start_time": "2021-11-06T06:06:04.257Z"
   },
   {
    "duration": -1231,
    "start_time": "2021-11-06T06:06:04.265Z"
   },
   {
    "duration": -1239,
    "start_time": "2021-11-06T06:06:04.274Z"
   },
   {
    "duration": -1246,
    "start_time": "2021-11-06T06:06:04.282Z"
   },
   {
    "duration": 404,
    "start_time": "2021-11-06T06:08:17.403Z"
   },
   {
    "duration": 338,
    "start_time": "2021-11-06T06:08:40.308Z"
   },
   {
    "duration": 44,
    "start_time": "2021-11-06T06:08:53.376Z"
   },
   {
    "duration": 11,
    "start_time": "2021-11-06T06:08:57.981Z"
   },
   {
    "duration": 695,
    "start_time": "2021-11-06T06:09:05.803Z"
   },
   {
    "duration": 12,
    "start_time": "2021-11-06T06:09:06.500Z"
   },
   {
    "duration": 18,
    "start_time": "2021-11-06T06:09:06.514Z"
   },
   {
    "duration": 15,
    "start_time": "2021-11-06T06:09:06.534Z"
   },
   {
    "duration": 13,
    "start_time": "2021-11-06T06:09:06.551Z"
   },
   {
    "duration": 21,
    "start_time": "2021-11-06T06:09:06.566Z"
   },
   {
    "duration": 58,
    "start_time": "2021-11-06T06:09:06.588Z"
   },
   {
    "duration": 10,
    "start_time": "2021-11-06T06:09:06.648Z"
   },
   {
    "duration": 9,
    "start_time": "2021-11-06T06:09:06.660Z"
   },
   {
    "duration": 19,
    "start_time": "2021-11-06T06:09:06.671Z"
   },
   {
    "duration": 34,
    "start_time": "2021-11-06T06:09:06.692Z"
   },
   {
    "duration": 103,
    "start_time": "2021-11-06T06:09:06.728Z"
   },
   {
    "duration": -1146,
    "start_time": "2021-11-06T06:09:07.979Z"
   },
   {
    "duration": -1157,
    "start_time": "2021-11-06T06:09:07.991Z"
   },
   {
    "duration": -1165,
    "start_time": "2021-11-06T06:09:08.000Z"
   },
   {
    "duration": -1174,
    "start_time": "2021-11-06T06:09:08.009Z"
   },
   {
    "duration": -1181,
    "start_time": "2021-11-06T06:09:08.017Z"
   },
   {
    "duration": -1190,
    "start_time": "2021-11-06T06:09:08.027Z"
   },
   {
    "duration": 17,
    "start_time": "2021-11-06T06:09:22.153Z"
   },
   {
    "duration": 4,
    "start_time": "2021-11-06T06:09:24.693Z"
   },
   {
    "duration": 18,
    "start_time": "2021-11-06T06:09:26.590Z"
   },
   {
    "duration": 18,
    "start_time": "2021-11-06T06:09:28.525Z"
   },
   {
    "duration": 16,
    "start_time": "2021-11-06T06:09:29.572Z"
   },
   {
    "duration": 444,
    "start_time": "2021-11-06T06:09:39.531Z"
   },
   {
    "duration": 6,
    "start_time": "2021-11-06T06:10:07.757Z"
   },
   {
    "duration": 19,
    "start_time": "2021-11-06T06:11:55.200Z"
   },
   {
    "duration": 67,
    "start_time": "2021-11-06T06:16:35.687Z"
   },
   {
    "duration": 420,
    "start_time": "2021-11-06T06:17:53.194Z"
   },
   {
    "duration": 5,
    "start_time": "2021-11-06T06:20:54.789Z"
   },
   {
    "duration": 18,
    "start_time": "2021-11-06T06:21:31.969Z"
   },
   {
    "duration": 685,
    "start_time": "2021-11-06T06:22:33.103Z"
   },
   {
    "duration": 5,
    "start_time": "2021-11-06T06:22:46.424Z"
   },
   {
    "duration": 18,
    "start_time": "2021-11-06T06:26:10.183Z"
   },
   {
    "duration": 175,
    "start_time": "2021-11-06T06:26:56.668Z"
   },
   {
    "duration": 134,
    "start_time": "2021-11-06T06:27:02.913Z"
   },
   {
    "duration": 384,
    "start_time": "2021-11-06T06:27:15.514Z"
   },
   {
    "duration": 131,
    "start_time": "2021-11-06T06:28:01.794Z"
   },
   {
    "duration": 5,
    "start_time": "2021-11-06T06:28:19.086Z"
   },
   {
    "duration": 445,
    "start_time": "2021-11-06T06:28:29.821Z"
   },
   {
    "duration": 17,
    "start_time": "2021-11-06T06:29:30.732Z"
   },
   {
    "duration": 13,
    "start_time": "2021-11-06T06:29:58.833Z"
   },
   {
    "duration": 18,
    "start_time": "2021-11-06T06:30:00.355Z"
   },
   {
    "duration": 385,
    "start_time": "2021-11-06T06:30:19.664Z"
   },
   {
    "duration": 9,
    "start_time": "2021-11-06T06:30:32.933Z"
   },
   {
    "duration": 15,
    "start_time": "2021-11-06T06:30:33.692Z"
   },
   {
    "duration": 401,
    "start_time": "2021-11-06T06:30:42.332Z"
   },
   {
    "duration": 3,
    "start_time": "2021-11-06T06:32:47.359Z"
   },
   {
    "duration": 4,
    "start_time": "2021-11-06T06:32:51.025Z"
   },
   {
    "duration": 13,
    "start_time": "2021-11-06T06:33:00.291Z"
   },
   {
    "duration": 15,
    "start_time": "2021-11-06T06:33:00.853Z"
   },
   {
    "duration": 3,
    "start_time": "2021-11-06T06:33:02.398Z"
   },
   {
    "duration": 4,
    "start_time": "2021-11-06T06:33:03.264Z"
   },
   {
    "duration": 440,
    "start_time": "2021-11-06T06:33:37.931Z"
   },
   {
    "duration": 466,
    "start_time": "2021-11-06T06:33:55.862Z"
   },
   {
    "duration": 3,
    "start_time": "2021-11-06T06:34:25.330Z"
   },
   {
    "duration": 4,
    "start_time": "2021-11-06T06:34:26.692Z"
   },
   {
    "duration": 203,
    "start_time": "2021-11-06T06:35:05.126Z"
   },
   {
    "duration": 117,
    "start_time": "2021-11-06T06:35:12.281Z"
   },
   {
    "duration": 10,
    "start_time": "2021-11-06T06:35:24.173Z"
   },
   {
    "duration": 18,
    "start_time": "2021-11-06T06:35:25.283Z"
   },
   {
    "duration": 5,
    "start_time": "2021-11-06T06:35:56.382Z"
   },
   {
    "duration": 18,
    "start_time": "2021-11-06T06:35:57.124Z"
   },
   {
    "duration": 206,
    "start_time": "2021-11-06T06:36:22.531Z"
   },
   {
    "duration": 436,
    "start_time": "2021-11-06T06:36:28.880Z"
   },
   {
    "duration": 65,
    "start_time": "2021-11-06T06:39:32.826Z"
   },
   {
    "duration": 16,
    "start_time": "2021-11-06T06:39:37.036Z"
   },
   {
    "duration": 69,
    "start_time": "2021-11-06T06:39:55.283Z"
   },
   {
    "duration": 16,
    "start_time": "2021-11-06T06:39:55.457Z"
   },
   {
    "duration": 87,
    "start_time": "2021-11-06T06:43:13.254Z"
   },
   {
    "duration": 38,
    "start_time": "2021-11-06T06:43:15.019Z"
   },
   {
    "duration": 89,
    "start_time": "2021-11-06T06:43:31.836Z"
   },
   {
    "duration": 16,
    "start_time": "2021-11-06T06:43:32.381Z"
   },
   {
    "duration": 581,
    "start_time": "2021-11-06T06:43:41.263Z"
   },
   {
    "duration": 15,
    "start_time": "2021-11-06T06:43:41.848Z"
   },
   {
    "duration": 5,
    "start_time": "2021-11-06T06:43:45.262Z"
   },
   {
    "duration": 15,
    "start_time": "2021-11-06T06:43:46.861Z"
   },
   {
    "duration": 130,
    "start_time": "2021-11-06T06:44:26.852Z"
   },
   {
    "duration": 114,
    "start_time": "2021-11-06T06:44:38.648Z"
   },
   {
    "duration": 38,
    "start_time": "2021-11-06T06:45:07.310Z"
   },
   {
    "duration": 4,
    "start_time": "2021-11-06T06:45:15.054Z"
   },
   {
    "duration": 124,
    "start_time": "2021-11-06T06:48:44.736Z"
   },
   {
    "duration": 125,
    "start_time": "2021-11-06T06:49:17.695Z"
   },
   {
    "duration": 4,
    "start_time": "2021-11-06T06:49:23.235Z"
   },
   {
    "duration": 19,
    "start_time": "2021-11-06T06:49:24.607Z"
   },
   {
    "duration": 36,
    "start_time": "2021-11-06T06:51:17.481Z"
   },
   {
    "duration": 14,
    "start_time": "2021-11-06T06:51:22.938Z"
   },
   {
    "duration": 391,
    "start_time": "2021-11-06T06:51:51.713Z"
   },
   {
    "duration": 722,
    "start_time": "2021-11-06T06:52:07.411Z"
   },
   {
    "duration": 11,
    "start_time": "2021-11-06T06:52:08.135Z"
   },
   {
    "duration": 15,
    "start_time": "2021-11-06T06:52:08.149Z"
   },
   {
    "duration": 29,
    "start_time": "2021-11-06T06:52:08.166Z"
   },
   {
    "duration": 15,
    "start_time": "2021-11-06T06:52:08.197Z"
   },
   {
    "duration": 4,
    "start_time": "2021-11-06T06:52:08.214Z"
   },
   {
    "duration": 51,
    "start_time": "2021-11-06T06:52:08.220Z"
   },
   {
    "duration": 10,
    "start_time": "2021-11-06T06:52:08.273Z"
   },
   {
    "duration": 21,
    "start_time": "2021-11-06T06:52:08.285Z"
   },
   {
    "duration": 4,
    "start_time": "2021-11-06T06:52:08.308Z"
   },
   {
    "duration": 15,
    "start_time": "2021-11-06T06:52:08.314Z"
   },
   {
    "duration": 15,
    "start_time": "2021-11-06T06:52:08.330Z"
   },
   {
    "duration": 3,
    "start_time": "2021-11-06T06:52:08.347Z"
   },
   {
    "duration": 17,
    "start_time": "2021-11-06T06:52:08.352Z"
   },
   {
    "duration": 51,
    "start_time": "2021-11-06T06:52:08.371Z"
   },
   {
    "duration": 15,
    "start_time": "2021-11-06T06:52:08.424Z"
   },
   {
    "duration": 19,
    "start_time": "2021-11-06T06:52:08.441Z"
   },
   {
    "duration": 5,
    "start_time": "2021-11-06T06:52:08.461Z"
   },
   {
    "duration": 47,
    "start_time": "2021-11-06T06:52:08.467Z"
   },
   {
    "duration": 3,
    "start_time": "2021-11-06T06:52:08.516Z"
   },
   {
    "duration": 22,
    "start_time": "2021-11-06T06:52:08.521Z"
   },
   {
    "duration": 743,
    "start_time": "2021-11-06T06:52:08.544Z"
   },
   {
    "duration": 4,
    "start_time": "2021-11-06T06:52:09.290Z"
   },
   {
    "duration": 6,
    "start_time": "2021-11-06T06:53:06.604Z"
   },
   {
    "duration": 18,
    "start_time": "2021-11-06T06:53:11.825Z"
   },
   {
    "duration": 5,
    "start_time": "2021-11-06T06:53:46.651Z"
   },
   {
    "duration": 1788,
    "start_time": "2021-11-06T06:53:59.991Z"
   },
   {
    "duration": 14,
    "start_time": "2021-11-06T06:54:03.737Z"
   },
   {
    "duration": 109,
    "start_time": "2021-11-06T06:55:36.370Z"
   },
   {
    "duration": 17,
    "start_time": "2021-11-06T06:55:59.924Z"
   },
   {
    "duration": 14,
    "start_time": "2021-11-06T06:56:25.865Z"
   },
   {
    "duration": 380,
    "start_time": "2021-11-06T06:56:39.834Z"
   },
   {
    "duration": 464,
    "start_time": "2021-11-06T06:56:50.758Z"
   },
   {
    "duration": 15,
    "start_time": "2021-11-06T06:57:20.714Z"
   },
   {
    "duration": 14,
    "start_time": "2021-11-06T06:57:37.566Z"
   },
   {
    "duration": 5,
    "start_time": "2021-11-06T07:08:37.554Z"
   },
   {
    "duration": 355,
    "start_time": "2021-11-06T07:09:25.552Z"
   },
   {
    "duration": 20,
    "start_time": "2021-11-06T07:10:18.229Z"
   },
   {
    "duration": 5,
    "start_time": "2021-11-06T07:29:29.907Z"
   },
   {
    "duration": 228,
    "start_time": "2021-11-06T07:39:52.864Z"
   },
   {
    "duration": 116,
    "start_time": "2021-11-06T07:40:22.077Z"
   },
   {
    "duration": 116,
    "start_time": "2021-11-06T07:40:27.523Z"
   },
   {
    "duration": 12,
    "start_time": "2021-11-06T07:40:33.353Z"
   },
   {
    "duration": 5,
    "start_time": "2021-11-06T07:57:41.540Z"
   },
   {
    "duration": 69,
    "start_time": "2021-11-06T07:57:59.408Z"
   },
   {
    "duration": 3,
    "start_time": "2021-11-06T08:01:41.631Z"
   },
   {
    "duration": 8,
    "start_time": "2021-11-06T08:03:05.514Z"
   },
   {
    "duration": 12,
    "start_time": "2021-11-06T08:03:14.580Z"
   },
   {
    "duration": 6,
    "start_time": "2021-11-06T08:04:23.975Z"
   },
   {
    "duration": 4,
    "start_time": "2021-11-06T08:10:30.529Z"
   },
   {
    "duration": 346,
    "start_time": "2021-11-06T08:10:42.290Z"
   },
   {
    "duration": 3,
    "start_time": "2021-11-06T08:13:48.819Z"
   },
   {
    "duration": 747,
    "start_time": "2021-11-06T08:13:50.308Z"
   },
   {
    "duration": 339,
    "start_time": "2021-11-06T08:14:17.547Z"
   },
   {
    "duration": 6,
    "start_time": "2021-11-06T08:14:38.826Z"
   },
   {
    "duration": 9,
    "start_time": "2021-11-06T08:14:46.704Z"
   },
   {
    "duration": 5,
    "start_time": "2021-11-06T08:15:56.352Z"
   },
   {
    "duration": 11,
    "start_time": "2021-11-06T08:15:56.939Z"
   },
   {
    "duration": 619,
    "start_time": "2021-11-08T05:02:38.266Z"
   },
   {
    "duration": 10,
    "start_time": "2021-11-08T05:02:38.887Z"
   },
   {
    "duration": 8,
    "start_time": "2021-11-08T05:02:38.899Z"
   },
   {
    "duration": 12,
    "start_time": "2021-11-08T05:02:38.909Z"
   },
   {
    "duration": 12,
    "start_time": "2021-11-08T05:02:38.922Z"
   },
   {
    "duration": 3,
    "start_time": "2021-11-08T05:02:38.936Z"
   },
   {
    "duration": 73,
    "start_time": "2021-11-08T05:02:38.941Z"
   },
   {
    "duration": 8,
    "start_time": "2021-11-08T05:02:39.016Z"
   },
   {
    "duration": 6,
    "start_time": "2021-11-08T05:02:39.026Z"
   },
   {
    "duration": 6,
    "start_time": "2021-11-08T05:02:39.033Z"
   },
   {
    "duration": 15,
    "start_time": "2021-11-08T05:02:39.040Z"
   },
   {
    "duration": 36,
    "start_time": "2021-11-08T05:02:39.056Z"
   },
   {
    "duration": 3,
    "start_time": "2021-11-08T05:02:39.093Z"
   },
   {
    "duration": 18,
    "start_time": "2021-11-08T05:02:39.097Z"
   },
   {
    "duration": 15,
    "start_time": "2021-11-08T05:02:39.116Z"
   },
   {
    "duration": 13,
    "start_time": "2021-11-08T05:02:39.132Z"
   },
   {
    "duration": 44,
    "start_time": "2021-11-08T05:02:39.147Z"
   },
   {
    "duration": 5,
    "start_time": "2021-11-08T05:02:39.192Z"
   },
   {
    "duration": 2719,
    "start_time": "2021-11-08T05:02:39.199Z"
   },
   {
    "duration": 15,
    "start_time": "2021-11-08T05:02:41.920Z"
   },
   {
    "duration": 9,
    "start_time": "2021-11-08T05:02:41.937Z"
   },
   {
    "duration": 21,
    "start_time": "2021-11-08T05:02:41.947Z"
   },
   {
    "duration": 6,
    "start_time": "2021-11-08T05:02:41.970Z"
   },
   {
    "duration": 20,
    "start_time": "2021-11-08T05:02:41.978Z"
   },
   {
    "duration": 8,
    "start_time": "2021-11-08T05:02:41.999Z"
   },
   {
    "duration": 5,
    "start_time": "2021-11-08T05:02:42.008Z"
   },
   {
    "duration": 19,
    "start_time": "2021-11-08T05:12:49.313Z"
   },
   {
    "duration": 120,
    "start_time": "2021-11-08T05:14:49.191Z"
   },
   {
    "duration": 6,
    "start_time": "2021-11-08T05:15:11.608Z"
   },
   {
    "duration": 6,
    "start_time": "2021-11-08T05:15:24.877Z"
   },
   {
    "duration": 7,
    "start_time": "2021-11-08T05:15:44.553Z"
   },
   {
    "duration": 7,
    "start_time": "2021-11-08T05:15:52.544Z"
   },
   {
    "duration": 9,
    "start_time": "2021-11-08T05:15:58.301Z"
   },
   {
    "duration": 6,
    "start_time": "2021-11-08T05:19:57.646Z"
   },
   {
    "duration": 6,
    "start_time": "2021-11-08T05:20:12.786Z"
   },
   {
    "duration": 6,
    "start_time": "2021-11-08T05:20:47.662Z"
   },
   {
    "duration": 7,
    "start_time": "2021-11-08T05:21:24.688Z"
   },
   {
    "duration": 11,
    "start_time": "2021-11-08T05:21:45.931Z"
   },
   {
    "duration": 6,
    "start_time": "2021-11-08T05:22:00.399Z"
   },
   {
    "duration": 118,
    "start_time": "2021-11-08T05:24:02.376Z"
   },
   {
    "duration": 6,
    "start_time": "2021-11-08T05:24:34.606Z"
   },
   {
    "duration": 4676,
    "start_time": "2021-11-08T05:24:50.352Z"
   },
   {
    "duration": 224,
    "start_time": "2021-11-08T05:47:04.149Z"
   },
   {
    "duration": 17,
    "start_time": "2021-11-08T05:47:49.678Z"
   },
   {
    "duration": 9,
    "start_time": "2021-11-08T05:48:01.215Z"
   },
   {
    "duration": 180,
    "start_time": "2021-11-08T05:48:27.722Z"
   },
   {
    "duration": 14,
    "start_time": "2021-11-08T05:48:37.806Z"
   },
   {
    "duration": 9,
    "start_time": "2021-11-08T05:49:01.315Z"
   },
   {
    "duration": 5,
    "start_time": "2021-11-08T05:49:03.041Z"
   },
   {
    "duration": 5,
    "start_time": "2021-11-08T05:49:33.367Z"
   },
   {
    "duration": 14,
    "start_time": "2021-11-08T05:49:47.167Z"
   },
   {
    "duration": 4,
    "start_time": "2021-11-08T05:54:57.243Z"
   },
   {
    "duration": 19,
    "start_time": "2021-11-08T05:55:36.816Z"
   },
   {
    "duration": 6,
    "start_time": "2021-11-08T05:59:09.929Z"
   },
   {
    "duration": 61,
    "start_time": "2021-11-08T05:59:22.919Z"
   },
   {
    "duration": 6,
    "start_time": "2021-11-08T05:59:31.479Z"
   },
   {
    "duration": 6,
    "start_time": "2021-11-08T05:59:38.622Z"
   },
   {
    "duration": 67,
    "start_time": "2021-11-08T06:00:14.593Z"
   },
   {
    "duration": 64,
    "start_time": "2021-11-08T06:01:57.211Z"
   },
   {
    "duration": 3,
    "start_time": "2021-11-08T06:03:12.694Z"
   },
   {
    "duration": 102,
    "start_time": "2021-11-08T06:04:04.919Z"
   },
   {
    "duration": 7,
    "start_time": "2021-11-08T06:05:39.826Z"
   },
   {
    "duration": 5,
    "start_time": "2021-11-08T06:05:49.482Z"
   },
   {
    "duration": 4,
    "start_time": "2021-11-08T06:07:30.836Z"
   },
   {
    "duration": 5,
    "start_time": "2021-11-08T06:07:37.074Z"
   },
   {
    "duration": 4,
    "start_time": "2021-11-08T06:07:43.049Z"
   },
   {
    "duration": 11,
    "start_time": "2021-11-08T06:08:40.985Z"
   },
   {
    "duration": 11,
    "start_time": "2021-11-08T06:08:53.924Z"
   },
   {
    "duration": 615,
    "start_time": "2021-11-08T06:10:27.600Z"
   },
   {
    "duration": 10,
    "start_time": "2021-11-08T06:10:28.217Z"
   },
   {
    "duration": 9,
    "start_time": "2021-11-08T06:10:28.230Z"
   },
   {
    "duration": 13,
    "start_time": "2021-11-08T06:10:28.241Z"
   },
   {
    "duration": 16,
    "start_time": "2021-11-08T06:10:28.292Z"
   },
   {
    "duration": 5,
    "start_time": "2021-11-08T06:10:28.309Z"
   },
   {
    "duration": 40,
    "start_time": "2021-11-08T06:10:28.316Z"
   },
   {
    "duration": 35,
    "start_time": "2021-11-08T06:10:28.358Z"
   },
   {
    "duration": 4,
    "start_time": "2021-11-08T06:10:28.395Z"
   },
   {
    "duration": 6,
    "start_time": "2021-11-08T06:10:28.401Z"
   },
   {
    "duration": 17,
    "start_time": "2021-11-08T06:10:28.408Z"
   },
   {
    "duration": 4,
    "start_time": "2021-11-08T06:10:28.427Z"
   },
   {
    "duration": 9,
    "start_time": "2021-11-08T06:10:28.432Z"
   },
   {
    "duration": 3,
    "start_time": "2021-11-08T06:10:28.443Z"
   },
   {
    "duration": 44,
    "start_time": "2021-11-08T06:10:28.447Z"
   },
   {
    "duration": 4,
    "start_time": "2021-11-08T06:10:28.493Z"
   },
   {
    "duration": 16,
    "start_time": "2021-11-08T06:10:28.498Z"
   },
   {
    "duration": 2,
    "start_time": "2021-11-08T06:10:28.516Z"
   },
   {
    "duration": 31,
    "start_time": "2021-11-08T06:10:28.520Z"
   },
   {
    "duration": 15,
    "start_time": "2021-11-08T06:10:28.553Z"
   },
   {
    "duration": 29,
    "start_time": "2021-11-08T06:10:28.570Z"
   },
   {
    "duration": 17,
    "start_time": "2021-11-08T06:10:28.601Z"
   },
   {
    "duration": 5,
    "start_time": "2021-11-08T06:10:28.621Z"
   },
   {
    "duration": 2353,
    "start_time": "2021-11-08T06:10:28.628Z"
   },
   {
    "duration": 20,
    "start_time": "2021-11-08T06:10:30.983Z"
   },
   {
    "duration": 12,
    "start_time": "2021-11-08T06:10:31.005Z"
   },
   {
    "duration": 21,
    "start_time": "2021-11-08T06:10:31.018Z"
   },
   {
    "duration": 11,
    "start_time": "2021-11-08T06:10:31.041Z"
   },
   {
    "duration": 13,
    "start_time": "2021-11-08T06:10:31.054Z"
   },
   {
    "duration": 18,
    "start_time": "2021-11-08T06:10:31.069Z"
   },
   {
    "duration": 5,
    "start_time": "2021-11-08T06:10:31.089Z"
   },
   {
    "duration": 34,
    "start_time": "2021-11-08T06:10:31.096Z"
   },
   {
    "duration": 10,
    "start_time": "2021-11-08T06:10:31.131Z"
   },
   {
    "duration": 18,
    "start_time": "2021-11-08T06:10:31.142Z"
   },
   {
    "duration": 2782,
    "start_time": "2021-11-08T06:10:31.162Z"
   },
   {
    "duration": -54,
    "start_time": "2021-11-08T06:10:33.999Z"
   },
   {
    "duration": 69,
    "start_time": "2021-11-08T06:13:32.813Z"
   },
   {
    "duration": 185,
    "start_time": "2021-11-08T06:13:41.437Z"
   },
   {
    "duration": 19,
    "start_time": "2021-11-08T06:21:12.892Z"
   },
   {
    "duration": 28,
    "start_time": "2021-11-08T06:21:16.046Z"
   },
   {
    "duration": 13,
    "start_time": "2021-11-08T06:21:55.425Z"
   },
   {
    "duration": 10,
    "start_time": "2021-11-08T06:21:56.591Z"
   },
   {
    "duration": 15,
    "start_time": "2021-11-08T06:22:36.357Z"
   },
   {
    "duration": 15,
    "start_time": "2021-11-08T06:22:37.057Z"
   },
   {
    "duration": 184,
    "start_time": "2021-11-08T06:23:12.692Z"
   },
   {
    "duration": 6,
    "start_time": "2021-11-08T06:26:14.121Z"
   },
   {
    "duration": 6,
    "start_time": "2021-11-08T06:26:21.533Z"
   },
   {
    "duration": 7,
    "start_time": "2021-11-08T06:29:00.990Z"
   },
   {
    "duration": 7,
    "start_time": "2021-11-08T06:29:01.965Z"
   },
   {
    "duration": 6,
    "start_time": "2021-11-08T06:29:24.834Z"
   },
   {
    "duration": 6,
    "start_time": "2021-11-08T06:29:25.387Z"
   },
   {
    "duration": 6,
    "start_time": "2021-11-08T06:30:01.833Z"
   },
   {
    "duration": 7,
    "start_time": "2021-11-08T06:30:03.337Z"
   },
   {
    "duration": 56,
    "start_time": "2021-11-08T06:33:20.406Z"
   },
   {
    "duration": 8,
    "start_time": "2021-11-08T06:43:11.263Z"
   },
   {
    "duration": 8,
    "start_time": "2021-11-08T06:43:31.891Z"
   },
   {
    "duration": 7,
    "start_time": "2021-11-08T06:43:37.505Z"
   },
   {
    "duration": 8,
    "start_time": "2021-11-08T06:44:51.831Z"
   },
   {
    "duration": 88,
    "start_time": "2021-11-08T06:51:31.570Z"
   },
   {
    "duration": 59,
    "start_time": "2021-11-08T06:51:42.713Z"
   },
   {
    "duration": 8,
    "start_time": "2021-11-08T06:51:43.799Z"
   },
   {
    "duration": 9,
    "start_time": "2021-11-08T06:52:29.634Z"
   },
   {
    "duration": 9,
    "start_time": "2021-11-08T06:52:34.084Z"
   },
   {
    "duration": 6,
    "start_time": "2021-11-08T06:52:34.834Z"
   },
   {
    "duration": 7,
    "start_time": "2021-11-08T06:53:30.442Z"
   },
   {
    "duration": 6,
    "start_time": "2021-11-08T06:53:30.707Z"
   },
   {
    "duration": 166,
    "start_time": "2021-11-08T06:55:10.350Z"
   },
   {
    "duration": 18,
    "start_time": "2021-11-08T06:55:23.235Z"
   },
   {
    "duration": 10,
    "start_time": "2021-11-08T06:55:31.117Z"
   },
   {
    "duration": 122,
    "start_time": "2021-11-08T06:55:58.240Z"
   },
   {
    "duration": 17,
    "start_time": "2021-11-08T06:56:06.747Z"
   },
   {
    "duration": 10,
    "start_time": "2021-11-08T06:56:07.878Z"
   },
   {
    "duration": 16,
    "start_time": "2021-11-08T06:57:05.776Z"
   },
   {
    "duration": 11,
    "start_time": "2021-11-08T06:57:06.992Z"
   },
   {
    "duration": 14,
    "start_time": "2021-11-08T06:57:39.233Z"
   },
   {
    "duration": 7,
    "start_time": "2021-11-08T06:57:40.326Z"
   },
   {
    "duration": 4,
    "start_time": "2021-11-08T07:03:55.962Z"
   },
   {
    "duration": 7,
    "start_time": "2021-11-08T07:04:02.677Z"
   },
   {
    "duration": 93,
    "start_time": "2021-11-08T07:05:26.569Z"
   },
   {
    "duration": 175,
    "start_time": "2021-11-08T07:06:17.419Z"
   },
   {
    "duration": 5,
    "start_time": "2021-11-08T07:06:36.158Z"
   },
   {
    "duration": 8,
    "start_time": "2021-11-08T07:08:10.409Z"
   },
   {
    "duration": 8,
    "start_time": "2021-11-08T07:08:27.436Z"
   },
   {
    "duration": 12,
    "start_time": "2021-11-08T07:11:08.706Z"
   },
   {
    "duration": 8,
    "start_time": "2021-11-08T07:11:21.482Z"
   },
   {
    "duration": 11,
    "start_time": "2021-11-08T07:11:39.004Z"
   },
   {
    "duration": 8,
    "start_time": "2021-11-08T07:12:08.956Z"
   },
   {
    "duration": 11,
    "start_time": "2021-11-08T07:12:24.760Z"
   },
   {
    "duration": 162,
    "start_time": "2021-11-08T07:12:46.063Z"
   },
   {
    "duration": 5,
    "start_time": "2021-11-08T07:13:03.187Z"
   },
   {
    "duration": 5,
    "start_time": "2021-11-08T07:20:28.235Z"
   },
   {
    "duration": 7,
    "start_time": "2021-11-08T07:20:35.189Z"
   },
   {
    "duration": 8,
    "start_time": "2021-11-08T07:21:11.888Z"
   },
   {
    "duration": 14,
    "start_time": "2021-11-08T07:24:20.070Z"
   },
   {
    "duration": 8,
    "start_time": "2021-11-08T07:24:20.476Z"
   },
   {
    "duration": 14,
    "start_time": "2021-11-08T07:25:44.381Z"
   },
   {
    "duration": 8,
    "start_time": "2021-11-08T07:25:45.278Z"
   },
   {
    "duration": 429,
    "start_time": "2021-11-08T07:26:31.753Z"
   },
   {
    "duration": 19,
    "start_time": "2021-11-08T07:28:42.040Z"
   },
   {
    "duration": 7,
    "start_time": "2021-11-08T07:28:42.861Z"
   },
   {
    "duration": 13,
    "start_time": "2021-11-08T07:29:01.880Z"
   },
   {
    "duration": 8,
    "start_time": "2021-11-08T07:29:02.758Z"
   },
   {
    "duration": 14,
    "start_time": "2021-11-08T07:29:11.777Z"
   },
   {
    "duration": 7,
    "start_time": "2021-11-08T07:29:12.467Z"
   },
   {
    "duration": 434,
    "start_time": "2021-11-08T07:30:41.215Z"
   },
   {
    "duration": 23,
    "start_time": "2021-11-08T07:30:56.855Z"
   },
   {
    "duration": 10,
    "start_time": "2021-11-08T07:30:58.440Z"
   },
   {
    "duration": 10,
    "start_time": "2021-11-08T07:34:26.857Z"
   },
   {
    "duration": 8,
    "start_time": "2021-11-08T07:34:32.284Z"
   },
   {
    "duration": 85,
    "start_time": "2021-11-08T07:35:21.469Z"
   },
   {
    "duration": 4,
    "start_time": "2021-11-08T07:36:04.632Z"
   },
   {
    "duration": 9,
    "start_time": "2021-11-08T07:36:12.139Z"
   },
   {
    "duration": 9,
    "start_time": "2021-11-08T07:37:10.258Z"
   },
   {
    "duration": 8,
    "start_time": "2021-11-08T07:40:11.277Z"
   },
   {
    "duration": 10,
    "start_time": "2021-11-08T07:43:09.588Z"
   },
   {
    "duration": 20,
    "start_time": "2021-11-08T07:47:14.328Z"
   },
   {
    "duration": 22,
    "start_time": "2021-11-08T07:49:04.546Z"
   },
   {
    "duration": 8,
    "start_time": "2021-11-08T07:50:06.181Z"
   },
   {
    "duration": 6,
    "start_time": "2021-11-08T07:50:18.054Z"
   },
   {
    "duration": 22,
    "start_time": "2021-11-08T07:50:26.995Z"
   },
   {
    "duration": 6,
    "start_time": "2021-11-08T07:51:17.526Z"
   },
   {
    "duration": 6,
    "start_time": "2021-11-08T07:51:26.000Z"
   },
   {
    "duration": 4,
    "start_time": "2021-11-08T07:54:15.292Z"
   },
   {
    "duration": 7,
    "start_time": "2021-11-08T07:54:23.023Z"
   },
   {
    "duration": 6,
    "start_time": "2021-11-08T07:55:20.291Z"
   },
   {
    "duration": 4,
    "start_time": "2021-11-08T07:55:23.155Z"
   },
   {
    "duration": 6,
    "start_time": "2021-11-08T07:55:23.556Z"
   },
   {
    "duration": 6,
    "start_time": "2021-11-08T07:55:31.222Z"
   },
   {
    "duration": 6,
    "start_time": "2021-11-08T07:55:35.701Z"
   },
   {
    "duration": 6,
    "start_time": "2021-11-08T07:55:39.721Z"
   },
   {
    "duration": 23,
    "start_time": "2021-11-08T07:55:49.489Z"
   },
   {
    "duration": 8,
    "start_time": "2021-11-08T07:56:13.263Z"
   },
   {
    "duration": 584,
    "start_time": "2021-11-08T07:56:29.157Z"
   },
   {
    "duration": 9,
    "start_time": "2021-11-08T07:56:29.743Z"
   },
   {
    "duration": 11,
    "start_time": "2021-11-08T07:56:29.754Z"
   },
   {
    "duration": 34,
    "start_time": "2021-11-08T07:56:29.767Z"
   },
   {
    "duration": 15,
    "start_time": "2021-11-08T07:56:29.802Z"
   },
   {
    "duration": 5,
    "start_time": "2021-11-08T07:56:29.818Z"
   },
   {
    "duration": 38,
    "start_time": "2021-11-08T07:56:29.824Z"
   },
   {
    "duration": 8,
    "start_time": "2021-11-08T07:56:29.893Z"
   },
   {
    "duration": 4,
    "start_time": "2021-11-08T07:56:29.903Z"
   },
   {
    "duration": 4,
    "start_time": "2021-11-08T07:56:29.909Z"
   },
   {
    "duration": 13,
    "start_time": "2021-11-08T07:56:29.914Z"
   },
   {
    "duration": 4,
    "start_time": "2021-11-08T07:56:29.929Z"
   },
   {
    "duration": 6,
    "start_time": "2021-11-08T07:56:29.935Z"
   },
   {
    "duration": 3,
    "start_time": "2021-11-08T07:56:29.943Z"
   },
   {
    "duration": 47,
    "start_time": "2021-11-08T07:56:29.948Z"
   },
   {
    "duration": 6,
    "start_time": "2021-11-08T07:56:29.996Z"
   },
   {
    "duration": 16,
    "start_time": "2021-11-08T07:56:30.003Z"
   },
   {
    "duration": 3,
    "start_time": "2021-11-08T07:56:30.021Z"
   },
   {
    "duration": 8,
    "start_time": "2021-11-08T07:56:30.026Z"
   },
   {
    "duration": 19,
    "start_time": "2021-11-08T07:56:30.036Z"
   },
   {
    "duration": 2,
    "start_time": "2021-11-08T07:56:30.057Z"
   },
   {
    "duration": 50,
    "start_time": "2021-11-08T07:56:30.061Z"
   },
   {
    "duration": 16,
    "start_time": "2021-11-08T07:56:30.114Z"
   },
   {
    "duration": 13,
    "start_time": "2021-11-08T07:56:30.132Z"
   },
   {
    "duration": 45,
    "start_time": "2021-11-08T07:56:30.147Z"
   },
   {
    "duration": 5,
    "start_time": "2021-11-08T07:56:30.193Z"
   },
   {
    "duration": 2359,
    "start_time": "2021-11-08T07:56:30.200Z"
   },
   {
    "duration": 14,
    "start_time": "2021-11-08T07:56:32.561Z"
   },
   {
    "duration": 15,
    "start_time": "2021-11-08T07:56:32.576Z"
   },
   {
    "duration": 7,
    "start_time": "2021-11-08T07:56:32.593Z"
   },
   {
    "duration": 11,
    "start_time": "2021-11-08T07:56:32.601Z"
   },
   {
    "duration": 9,
    "start_time": "2021-11-08T07:56:32.614Z"
   },
   {
    "duration": 8,
    "start_time": "2021-11-08T07:56:32.624Z"
   },
   {
    "duration": 7,
    "start_time": "2021-11-08T07:56:32.634Z"
   },
   {
    "duration": 21,
    "start_time": "2021-11-08T07:56:32.643Z"
   },
   {
    "duration": 29,
    "start_time": "2021-11-08T07:56:32.665Z"
   },
   {
    "duration": 3,
    "start_time": "2021-11-08T07:56:32.696Z"
   },
   {
    "duration": 12,
    "start_time": "2021-11-08T07:56:32.701Z"
   },
   {
    "duration": 11,
    "start_time": "2021-11-08T07:56:32.714Z"
   },
   {
    "duration": 3,
    "start_time": "2021-11-08T07:56:32.726Z"
   },
   {
    "duration": 10,
    "start_time": "2021-11-08T07:56:32.731Z"
   },
   {
    "duration": 18,
    "start_time": "2021-11-08T07:56:54.755Z"
   },
   {
    "duration": 8,
    "start_time": "2021-11-08T08:03:34.538Z"
   },
   {
    "duration": 17,
    "start_time": "2021-11-08T08:03:41.951Z"
   },
   {
    "duration": 621,
    "start_time": "2021-11-08T08:04:09.007Z"
   },
   {
    "duration": 11,
    "start_time": "2021-11-08T08:04:11.856Z"
   },
   {
    "duration": 10,
    "start_time": "2021-11-08T08:04:14.253Z"
   },
   {
    "duration": 13,
    "start_time": "2021-11-08T08:04:21.241Z"
   },
   {
    "duration": 21,
    "start_time": "2021-11-08T08:04:25.028Z"
   },
   {
    "duration": 5,
    "start_time": "2021-11-08T08:04:48.015Z"
   },
   {
    "duration": 53,
    "start_time": "2021-11-08T08:05:34.884Z"
   },
   {
    "duration": 13,
    "start_time": "2021-11-08T08:05:53.663Z"
   },
   {
    "duration": 60,
    "start_time": "2021-11-08T08:06:28.759Z"
   },
   {
    "duration": 8,
    "start_time": "2021-11-08T08:06:34.192Z"
   },
   {
    "duration": 6,
    "start_time": "2021-11-08T08:07:11.397Z"
   },
   {
    "duration": 5,
    "start_time": "2021-11-08T08:15:28.070Z"
   },
   {
    "duration": 41,
    "start_time": "2021-11-08T08:16:39.411Z"
   },
   {
    "duration": 6,
    "start_time": "2021-11-08T08:16:51.388Z"
   },
   {
    "duration": 5,
    "start_time": "2021-11-08T08:17:25.260Z"
   },
   {
    "duration": 37,
    "start_time": "2021-11-08T08:18:48.574Z"
   },
   {
    "duration": 627,
    "start_time": "2021-11-08T08:19:09.488Z"
   },
   {
    "duration": 12,
    "start_time": "2021-11-08T08:19:10.117Z"
   },
   {
    "duration": 10,
    "start_time": "2021-11-08T08:19:10.132Z"
   },
   {
    "duration": 23,
    "start_time": "2021-11-08T08:19:10.144Z"
   },
   {
    "duration": 26,
    "start_time": "2021-11-08T08:19:10.169Z"
   },
   {
    "duration": 13,
    "start_time": "2021-11-08T08:19:10.197Z"
   },
   {
    "duration": 6,
    "start_time": "2021-11-08T08:19:10.212Z"
   },
   {
    "duration": 76,
    "start_time": "2021-11-08T08:19:10.220Z"
   },
   {
    "duration": 5,
    "start_time": "2021-11-08T08:19:10.298Z"
   },
   {
    "duration": 16,
    "start_time": "2021-11-08T08:19:10.304Z"
   },
   {
    "duration": 4,
    "start_time": "2021-11-08T08:19:10.321Z"
   },
   {
    "duration": 38,
    "start_time": "2021-11-08T08:19:10.327Z"
   },
   {
    "duration": 32,
    "start_time": "2021-11-08T08:19:10.367Z"
   },
   {
    "duration": 4,
    "start_time": "2021-11-08T08:19:10.400Z"
   },
   {
    "duration": 5,
    "start_time": "2021-11-08T08:19:10.406Z"
   },
   {
    "duration": 13,
    "start_time": "2021-11-08T08:19:10.412Z"
   },
   {
    "duration": 4,
    "start_time": "2021-11-08T08:19:10.426Z"
   },
   {
    "duration": 10,
    "start_time": "2021-11-08T08:19:10.431Z"
   },
   {
    "duration": 6,
    "start_time": "2021-11-08T08:19:10.442Z"
   },
   {
    "duration": 43,
    "start_time": "2021-11-08T08:19:10.450Z"
   },
   {
    "duration": 5,
    "start_time": "2021-11-08T08:19:10.495Z"
   },
   {
    "duration": 8,
    "start_time": "2021-11-08T08:19:10.502Z"
   },
   {
    "duration": 6,
    "start_time": "2021-11-08T08:19:10.513Z"
   },
   {
    "duration": 9,
    "start_time": "2021-11-08T08:19:10.521Z"
   },
   {
    "duration": 17,
    "start_time": "2021-11-08T08:19:10.531Z"
   },
   {
    "duration": 2,
    "start_time": "2021-11-08T08:19:10.550Z"
   },
   {
    "duration": 44,
    "start_time": "2021-11-08T08:19:10.553Z"
   },
   {
    "duration": 16,
    "start_time": "2021-11-08T08:19:10.598Z"
   },
   {
    "duration": 14,
    "start_time": "2021-11-08T08:19:10.615Z"
   },
   {
    "duration": 16,
    "start_time": "2021-11-08T08:19:10.630Z"
   },
   {
    "duration": 5,
    "start_time": "2021-11-08T08:19:10.648Z"
   },
   {
    "duration": 2415,
    "start_time": "2021-11-08T08:19:10.655Z"
   },
   {
    "duration": 21,
    "start_time": "2021-11-08T08:19:13.072Z"
   },
   {
    "duration": 14,
    "start_time": "2021-11-08T08:19:13.094Z"
   },
   {
    "duration": 23,
    "start_time": "2021-11-08T08:19:13.110Z"
   },
   {
    "duration": 27,
    "start_time": "2021-11-08T08:19:13.134Z"
   },
   {
    "duration": 21,
    "start_time": "2021-11-08T08:19:13.162Z"
   },
   {
    "duration": 17,
    "start_time": "2021-11-08T08:19:13.184Z"
   },
   {
    "duration": 11,
    "start_time": "2021-11-08T08:19:13.202Z"
   },
   {
    "duration": 20,
    "start_time": "2021-11-08T08:19:13.214Z"
   },
   {
    "duration": 33,
    "start_time": "2021-11-08T08:19:13.236Z"
   },
   {
    "duration": 17,
    "start_time": "2021-11-08T08:19:13.270Z"
   },
   {
    "duration": 10,
    "start_time": "2021-11-08T08:19:13.289Z"
   },
   {
    "duration": 30,
    "start_time": "2021-11-08T08:19:13.300Z"
   },
   {
    "duration": 3,
    "start_time": "2021-11-08T08:19:13.332Z"
   },
   {
    "duration": 16,
    "start_time": "2021-11-08T08:19:13.337Z"
   },
   {
    "duration": 8,
    "start_time": "2021-11-08T08:20:32.654Z"
   },
   {
    "duration": 6,
    "start_time": "2021-11-08T08:21:17.288Z"
   },
   {
    "duration": 12,
    "start_time": "2021-11-08T08:21:40.191Z"
   },
   {
    "duration": 18,
    "start_time": "2021-11-08T08:21:58.966Z"
   },
   {
    "duration": 538,
    "start_time": "2021-11-08T08:29:58.521Z"
   },
   {
    "duration": 4,
    "start_time": "2021-11-08T08:30:06.361Z"
   },
   {
    "duration": 4,
    "start_time": "2021-11-08T08:31:14.031Z"
   },
   {
    "duration": 9,
    "start_time": "2021-11-08T08:31:25.897Z"
   },
   {
    "duration": 11,
    "start_time": "2021-11-08T08:31:38.613Z"
   },
   {
    "duration": 614,
    "start_time": "2021-11-08T08:32:04.629Z"
   },
   {
    "duration": 10,
    "start_time": "2021-11-08T08:32:05.244Z"
   },
   {
    "duration": 10,
    "start_time": "2021-11-08T08:32:05.256Z"
   },
   {
    "duration": 29,
    "start_time": "2021-11-08T08:32:05.268Z"
   },
   {
    "duration": 5,
    "start_time": "2021-11-08T08:32:05.299Z"
   },
   {
    "duration": 23,
    "start_time": "2021-11-08T08:32:05.305Z"
   },
   {
    "duration": 5,
    "start_time": "2021-11-08T08:32:05.330Z"
   },
   {
    "duration": 57,
    "start_time": "2021-11-08T08:32:05.337Z"
   },
   {
    "duration": 5,
    "start_time": "2021-11-08T08:32:05.396Z"
   },
   {
    "duration": 22,
    "start_time": "2021-11-08T08:32:05.403Z"
   },
   {
    "duration": 5,
    "start_time": "2021-11-08T08:32:05.427Z"
   },
   {
    "duration": 58,
    "start_time": "2021-11-08T08:32:05.433Z"
   },
   {
    "duration": 9,
    "start_time": "2021-11-08T08:32:05.493Z"
   },
   {
    "duration": 6,
    "start_time": "2021-11-08T08:32:05.504Z"
   },
   {
    "duration": 10,
    "start_time": "2021-11-08T08:32:05.511Z"
   },
   {
    "duration": 17,
    "start_time": "2021-11-08T08:32:05.522Z"
   },
   {
    "duration": 4,
    "start_time": "2021-11-08T08:32:05.541Z"
   },
   {
    "duration": 17,
    "start_time": "2021-11-08T08:32:05.547Z"
   },
   {
    "duration": 25,
    "start_time": "2021-11-08T08:32:05.566Z"
   },
   {
    "duration": 6,
    "start_time": "2021-11-08T08:32:05.593Z"
   },
   {
    "duration": 9,
    "start_time": "2021-11-08T08:32:05.600Z"
   },
   {
    "duration": 12,
    "start_time": "2021-11-08T08:32:05.610Z"
   },
   {
    "duration": 24,
    "start_time": "2021-11-08T08:32:05.626Z"
   },
   {
    "duration": 11,
    "start_time": "2021-11-08T08:32:05.652Z"
   },
   {
    "duration": 22,
    "start_time": "2021-11-08T08:32:05.665Z"
   },
   {
    "duration": 3,
    "start_time": "2021-11-08T08:32:05.688Z"
   },
   {
    "duration": 22,
    "start_time": "2021-11-08T08:32:05.692Z"
   },
   {
    "duration": 16,
    "start_time": "2021-11-08T08:32:05.716Z"
   },
   {
    "duration": 14,
    "start_time": "2021-11-08T08:32:05.734Z"
   },
   {
    "duration": 17,
    "start_time": "2021-11-08T08:32:05.749Z"
   },
   {
    "duration": 27,
    "start_time": "2021-11-08T08:32:05.768Z"
   },
   {
    "duration": 2374,
    "start_time": "2021-11-08T08:32:05.796Z"
   },
   {
    "duration": 20,
    "start_time": "2021-11-08T08:32:08.172Z"
   },
   {
    "duration": 6,
    "start_time": "2021-11-08T08:32:08.194Z"
   },
   {
    "duration": 13,
    "start_time": "2021-11-08T08:32:08.202Z"
   },
   {
    "duration": 18,
    "start_time": "2021-11-08T08:32:08.217Z"
   },
   {
    "duration": 13,
    "start_time": "2021-11-08T08:32:08.236Z"
   },
   {
    "duration": 11,
    "start_time": "2021-11-08T08:32:08.250Z"
   },
   {
    "duration": 29,
    "start_time": "2021-11-08T08:32:08.262Z"
   },
   {
    "duration": 10,
    "start_time": "2021-11-08T08:32:08.293Z"
   },
   {
    "duration": 36,
    "start_time": "2021-11-08T08:32:08.304Z"
   },
   {
    "duration": 17,
    "start_time": "2021-11-08T08:32:08.341Z"
   },
   {
    "duration": 16,
    "start_time": "2021-11-08T08:32:08.359Z"
   },
   {
    "duration": 35,
    "start_time": "2021-11-08T08:32:08.376Z"
   },
   {
    "duration": 11,
    "start_time": "2021-11-08T08:32:08.412Z"
   },
   {
    "duration": 12,
    "start_time": "2021-11-08T08:32:08.425Z"
   },
   {
    "duration": 32,
    "start_time": "2021-11-08T08:32:08.439Z"
   },
   {
    "duration": 3,
    "start_time": "2021-11-08T08:34:59.912Z"
   },
   {
    "duration": 9,
    "start_time": "2021-11-08T08:35:03.964Z"
   },
   {
    "duration": 10,
    "start_time": "2021-11-08T08:35:12.569Z"
   },
   {
    "duration": 13,
    "start_time": "2021-11-08T08:35:23.885Z"
   },
   {
    "duration": 14,
    "start_time": "2021-11-08T08:35:39.129Z"
   },
   {
    "duration": 3,
    "start_time": "2021-11-08T08:35:41.813Z"
   },
   {
    "duration": 4,
    "start_time": "2021-11-08T08:35:42.200Z"
   },
   {
    "duration": 15,
    "start_time": "2021-11-08T08:35:43.109Z"
   },
   {
    "duration": 278,
    "start_time": "2021-11-08T08:38:03.464Z"
   },
   {
    "duration": 3,
    "start_time": "2021-11-08T08:38:16.921Z"
   },
   {
    "duration": 13,
    "start_time": "2021-11-08T08:38:20.523Z"
   },
   {
    "duration": 594,
    "start_time": "2021-11-08T08:39:09.831Z"
   },
   {
    "duration": 10,
    "start_time": "2021-11-08T08:39:10.426Z"
   },
   {
    "duration": 13,
    "start_time": "2021-11-08T08:39:10.439Z"
   },
   {
    "duration": 38,
    "start_time": "2021-11-08T08:39:10.454Z"
   },
   {
    "duration": 7,
    "start_time": "2021-11-08T08:39:10.494Z"
   },
   {
    "duration": 14,
    "start_time": "2021-11-08T08:39:10.503Z"
   },
   {
    "duration": 6,
    "start_time": "2021-11-08T08:39:10.519Z"
   },
   {
    "duration": 73,
    "start_time": "2021-11-08T08:39:10.528Z"
   },
   {
    "duration": 5,
    "start_time": "2021-11-08T08:39:10.603Z"
   },
   {
    "duration": 16,
    "start_time": "2021-11-08T08:39:10.609Z"
   },
   {
    "duration": 4,
    "start_time": "2021-11-08T08:39:10.626Z"
   },
   {
    "duration": 60,
    "start_time": "2021-11-08T08:39:10.632Z"
   },
   {
    "duration": 9,
    "start_time": "2021-11-08T08:39:10.693Z"
   },
   {
    "duration": 4,
    "start_time": "2021-11-08T08:39:10.703Z"
   },
   {
    "duration": 13,
    "start_time": "2021-11-08T08:39:10.708Z"
   },
   {
    "duration": 14,
    "start_time": "2021-11-08T08:39:10.723Z"
   },
   {
    "duration": 9,
    "start_time": "2021-11-08T08:39:10.739Z"
   },
   {
    "duration": 9,
    "start_time": "2021-11-08T08:39:10.749Z"
   },
   {
    "duration": 6,
    "start_time": "2021-11-08T08:39:10.759Z"
   },
   {
    "duration": 37,
    "start_time": "2021-11-08T08:39:10.766Z"
   },
   {
    "duration": 4,
    "start_time": "2021-11-08T08:39:10.805Z"
   },
   {
    "duration": 10,
    "start_time": "2021-11-08T08:39:10.811Z"
   },
   {
    "duration": 3,
    "start_time": "2021-11-08T08:39:10.824Z"
   },
   {
    "duration": 8,
    "start_time": "2021-11-08T08:39:10.829Z"
   },
   {
    "duration": 7,
    "start_time": "2021-11-08T08:39:10.839Z"
   },
   {
    "duration": 9,
    "start_time": "2021-11-08T08:39:10.848Z"
   },
   {
    "duration": 3,
    "start_time": "2021-11-08T08:39:10.892Z"
   },
   {
    "duration": 9,
    "start_time": "2021-11-08T08:39:10.896Z"
   },
   {
    "duration": 23,
    "start_time": "2021-11-08T08:39:10.907Z"
   },
   {
    "duration": 3,
    "start_time": "2021-11-08T08:39:10.931Z"
   },
   {
    "duration": 20,
    "start_time": "2021-11-08T08:39:10.935Z"
   },
   {
    "duration": 42,
    "start_time": "2021-11-08T08:39:10.956Z"
   },
   {
    "duration": 16,
    "start_time": "2021-11-08T08:39:11.000Z"
   },
   {
    "duration": 17,
    "start_time": "2021-11-08T08:39:11.017Z"
   },
   {
    "duration": 5,
    "start_time": "2021-11-08T08:39:11.036Z"
   },
   {
    "duration": 2490,
    "start_time": "2021-11-08T08:39:11.042Z"
   },
   {
    "duration": 64,
    "start_time": "2021-11-08T08:39:13.534Z"
   },
   {
    "duration": 7,
    "start_time": "2021-11-08T08:39:13.600Z"
   },
   {
    "duration": 13,
    "start_time": "2021-11-08T08:39:13.608Z"
   },
   {
    "duration": 8,
    "start_time": "2021-11-08T08:39:13.622Z"
   },
   {
    "duration": 7,
    "start_time": "2021-11-08T08:39:13.632Z"
   },
   {
    "duration": 9,
    "start_time": "2021-11-08T08:39:13.692Z"
   },
   {
    "duration": 7,
    "start_time": "2021-11-08T08:39:13.702Z"
   },
   {
    "duration": 5,
    "start_time": "2021-11-08T08:39:13.710Z"
   },
   {
    "duration": 11,
    "start_time": "2021-11-08T08:39:13.716Z"
   },
   {
    "duration": 63,
    "start_time": "2021-11-08T08:39:13.728Z"
   },
   {
    "duration": 4,
    "start_time": "2021-11-08T08:39:13.794Z"
   },
   {
    "duration": 14,
    "start_time": "2021-11-08T08:39:13.799Z"
   },
   {
    "duration": 264,
    "start_time": "2021-11-08T08:39:38.253Z"
   },
   {
    "duration": 4,
    "start_time": "2021-11-08T08:40:15.059Z"
   },
   {
    "duration": 3,
    "start_time": "2021-11-08T08:40:15.986Z"
   },
   {
    "duration": 12,
    "start_time": "2021-11-08T08:40:20.818Z"
   },
   {
    "duration": 787,
    "start_time": "2021-11-08T11:21:25.400Z"
   },
   {
    "duration": 15,
    "start_time": "2021-11-08T11:21:26.189Z"
   },
   {
    "duration": 25,
    "start_time": "2021-11-08T11:21:26.207Z"
   },
   {
    "duration": 29,
    "start_time": "2021-11-08T11:21:26.234Z"
   },
   {
    "duration": 15,
    "start_time": "2021-11-08T11:21:26.265Z"
   },
   {
    "duration": 26,
    "start_time": "2021-11-08T11:21:26.282Z"
   },
   {
    "duration": 19,
    "start_time": "2021-11-08T11:21:26.310Z"
   },
   {
    "duration": 46,
    "start_time": "2021-11-08T11:21:26.332Z"
   },
   {
    "duration": 5,
    "start_time": "2021-11-08T11:21:26.380Z"
   },
   {
    "duration": 33,
    "start_time": "2021-11-08T11:21:26.387Z"
   },
   {
    "duration": 11,
    "start_time": "2021-11-08T11:21:26.421Z"
   },
   {
    "duration": 64,
    "start_time": "2021-11-08T11:21:26.434Z"
   },
   {
    "duration": 9,
    "start_time": "2021-11-08T11:21:26.500Z"
   },
   {
    "duration": 37,
    "start_time": "2021-11-08T11:21:26.511Z"
   },
   {
    "duration": 51,
    "start_time": "2021-11-08T11:21:26.550Z"
   },
   {
    "duration": 26,
    "start_time": "2021-11-08T11:21:26.603Z"
   },
   {
    "duration": 19,
    "start_time": "2021-11-08T11:21:26.630Z"
   },
   {
    "duration": 17,
    "start_time": "2021-11-08T11:21:26.650Z"
   },
   {
    "duration": 36,
    "start_time": "2021-11-08T11:21:26.668Z"
   },
   {
    "duration": 40,
    "start_time": "2021-11-08T11:21:26.706Z"
   },
   {
    "duration": 14,
    "start_time": "2021-11-08T11:21:26.748Z"
   },
   {
    "duration": 18,
    "start_time": "2021-11-08T11:21:26.764Z"
   },
   {
    "duration": 24,
    "start_time": "2021-11-08T11:21:26.785Z"
   },
   {
    "duration": 20,
    "start_time": "2021-11-08T11:21:26.811Z"
   },
   {
    "duration": 18,
    "start_time": "2021-11-08T11:21:26.833Z"
   },
   {
    "duration": 28,
    "start_time": "2021-11-08T11:21:26.853Z"
   },
   {
    "duration": 21,
    "start_time": "2021-11-08T11:21:26.883Z"
   },
   {
    "duration": 24,
    "start_time": "2021-11-08T11:21:26.906Z"
   },
   {
    "duration": 27,
    "start_time": "2021-11-08T11:21:26.932Z"
   },
   {
    "duration": 4,
    "start_time": "2021-11-08T11:21:26.961Z"
   },
   {
    "duration": 43,
    "start_time": "2021-11-08T11:21:26.966Z"
   },
   {
    "duration": 34,
    "start_time": "2021-11-08T11:21:27.011Z"
   },
   {
    "duration": 31,
    "start_time": "2021-11-08T11:21:27.047Z"
   },
   {
    "duration": 29,
    "start_time": "2021-11-08T11:21:27.080Z"
   },
   {
    "duration": 23,
    "start_time": "2021-11-08T11:21:27.111Z"
   },
   {
    "duration": 2777,
    "start_time": "2021-11-08T11:21:27.135Z"
   },
   {
    "duration": 17,
    "start_time": "2021-11-08T11:21:29.913Z"
   },
   {
    "duration": 7,
    "start_time": "2021-11-08T11:21:29.932Z"
   },
   {
    "duration": 15,
    "start_time": "2021-11-08T11:21:29.940Z"
   },
   {
    "duration": 24,
    "start_time": "2021-11-08T11:21:29.957Z"
   },
   {
    "duration": 7,
    "start_time": "2021-11-08T11:21:29.983Z"
   },
   {
    "duration": 26,
    "start_time": "2021-11-08T11:21:29.992Z"
   },
   {
    "duration": 14,
    "start_time": "2021-11-08T11:21:30.020Z"
   },
   {
    "duration": 17,
    "start_time": "2021-11-08T11:21:30.036Z"
   },
   {
    "duration": 16,
    "start_time": "2021-11-08T11:21:30.054Z"
   },
   {
    "duration": 24,
    "start_time": "2021-11-08T11:21:30.072Z"
   },
   {
    "duration": 23,
    "start_time": "2021-11-08T11:21:30.098Z"
   },
   {
    "duration": 42,
    "start_time": "2021-11-08T11:21:30.123Z"
   },
   {
    "duration": 4,
    "start_time": "2021-11-08T11:27:57.701Z"
   },
   {
    "duration": 113,
    "start_time": "2021-11-08T11:28:59.060Z"
   },
   {
    "duration": 125,
    "start_time": "2021-11-08T11:29:03.109Z"
   },
   {
    "duration": 1505,
    "start_time": "2021-11-08T11:29:21.131Z"
   },
   {
    "duration": 3,
    "start_time": "2021-11-08T11:29:36.724Z"
   },
   {
    "duration": 3,
    "start_time": "2021-11-08T11:29:37.011Z"
   },
   {
    "duration": 4,
    "start_time": "2021-11-08T11:29:37.201Z"
   },
   {
    "duration": 12,
    "start_time": "2021-11-08T11:29:38.860Z"
   },
   {
    "duration": 6,
    "start_time": "2021-11-08T11:32:49.579Z"
   },
   {
    "duration": 7,
    "start_time": "2021-11-08T11:33:23.660Z"
   },
   {
    "duration": 238,
    "start_time": "2021-11-08T11:33:29.958Z"
   },
   {
    "duration": 22,
    "start_time": "2021-11-08T11:33:33.650Z"
   },
   {
    "duration": 111,
    "start_time": "2021-11-08T11:33:45.832Z"
   },
   {
    "duration": 13,
    "start_time": "2021-11-08T11:33:49.590Z"
   },
   {
    "duration": 15,
    "start_time": "2021-11-08T11:34:30.882Z"
   },
   {
    "duration": 369,
    "start_time": "2021-11-08T11:36:11.400Z"
   },
   {
    "duration": 122,
    "start_time": "2021-11-08T11:37:03.389Z"
   },
   {
    "duration": 347,
    "start_time": "2021-11-08T11:37:16.474Z"
   },
   {
    "duration": 7,
    "start_time": "2021-11-08T11:37:45.780Z"
   },
   {
    "duration": 4,
    "start_time": "2021-11-08T11:39:43.475Z"
   },
   {
    "duration": 6,
    "start_time": "2021-11-08T11:39:53.382Z"
   },
   {
    "duration": 9,
    "start_time": "2021-11-08T11:43:47.885Z"
   },
   {
    "duration": 9,
    "start_time": "2021-11-08T11:46:36.867Z"
   },
   {
    "duration": 2210,
    "start_time": "2021-11-08T11:46:51.917Z"
   },
   {
    "duration": 12,
    "start_time": "2021-11-08T11:46:54.129Z"
   },
   {
    "duration": 12,
    "start_time": "2021-11-08T11:46:54.143Z"
   },
   {
    "duration": 49,
    "start_time": "2021-11-08T11:46:54.157Z"
   },
   {
    "duration": 9,
    "start_time": "2021-11-08T11:46:54.208Z"
   },
   {
    "duration": 26,
    "start_time": "2021-11-08T11:46:54.219Z"
   },
   {
    "duration": 7,
    "start_time": "2021-11-08T11:46:54.247Z"
   },
   {
    "duration": 51,
    "start_time": "2021-11-08T11:46:54.256Z"
   },
   {
    "duration": 5,
    "start_time": "2021-11-08T11:46:54.309Z"
   },
   {
    "duration": 20,
    "start_time": "2021-11-08T11:46:54.316Z"
   },
   {
    "duration": 7,
    "start_time": "2021-11-08T11:46:54.338Z"
   },
   {
    "duration": 24,
    "start_time": "2021-11-08T11:46:54.347Z"
   },
   {
    "duration": 133,
    "start_time": "2021-11-08T11:46:54.373Z"
   },
   {
    "duration": -709,
    "start_time": "2021-11-08T11:46:55.218Z"
   },
   {
    "duration": -714,
    "start_time": "2021-11-08T11:46:55.224Z"
   },
   {
    "duration": -720,
    "start_time": "2021-11-08T11:46:55.231Z"
   },
   {
    "duration": -728,
    "start_time": "2021-11-08T11:46:55.240Z"
   },
   {
    "duration": -734,
    "start_time": "2021-11-08T11:46:55.247Z"
   },
   {
    "duration": -745,
    "start_time": "2021-11-08T11:46:55.259Z"
   },
   {
    "duration": -750,
    "start_time": "2021-11-08T11:46:55.265Z"
   },
   {
    "duration": -756,
    "start_time": "2021-11-08T11:46:55.272Z"
   },
   {
    "duration": -761,
    "start_time": "2021-11-08T11:46:55.278Z"
   },
   {
    "duration": -792,
    "start_time": "2021-11-08T11:46:55.310Z"
   },
   {
    "duration": -799,
    "start_time": "2021-11-08T11:46:55.318Z"
   },
   {
    "duration": -805,
    "start_time": "2021-11-08T11:46:55.326Z"
   },
   {
    "duration": -811,
    "start_time": "2021-11-08T11:46:55.333Z"
   },
   {
    "duration": -818,
    "start_time": "2021-11-08T11:46:55.341Z"
   },
   {
    "duration": -824,
    "start_time": "2021-11-08T11:46:55.348Z"
   },
   {
    "duration": -830,
    "start_time": "2021-11-08T11:46:55.355Z"
   },
   {
    "duration": -835,
    "start_time": "2021-11-08T11:46:55.361Z"
   },
   {
    "duration": -842,
    "start_time": "2021-11-08T11:46:55.369Z"
   },
   {
    "duration": -847,
    "start_time": "2021-11-08T11:46:55.375Z"
   },
   {
    "duration": -853,
    "start_time": "2021-11-08T11:46:55.382Z"
   },
   {
    "duration": -913,
    "start_time": "2021-11-08T11:46:55.443Z"
   },
   {
    "duration": -919,
    "start_time": "2021-11-08T11:46:55.450Z"
   },
   {
    "duration": -925,
    "start_time": "2021-11-08T11:46:55.457Z"
   },
   {
    "duration": -931,
    "start_time": "2021-11-08T11:46:55.464Z"
   },
   {
    "duration": -937,
    "start_time": "2021-11-08T11:46:55.471Z"
   },
   {
    "duration": -943,
    "start_time": "2021-11-08T11:46:55.478Z"
   },
   {
    "duration": -948,
    "start_time": "2021-11-08T11:46:55.484Z"
   },
   {
    "duration": -956,
    "start_time": "2021-11-08T11:46:55.493Z"
   },
   {
    "duration": -962,
    "start_time": "2021-11-08T11:46:55.500Z"
   },
   {
    "duration": -968,
    "start_time": "2021-11-08T11:46:55.507Z"
   },
   {
    "duration": -974,
    "start_time": "2021-11-08T11:46:55.514Z"
   },
   {
    "duration": -979,
    "start_time": "2021-11-08T11:46:55.520Z"
   },
   {
    "duration": -985,
    "start_time": "2021-11-08T11:46:55.527Z"
   },
   {
    "duration": -1001,
    "start_time": "2021-11-08T11:46:55.544Z"
   },
   {
    "duration": -1010,
    "start_time": "2021-11-08T11:46:55.554Z"
   },
   {
    "duration": -1016,
    "start_time": "2021-11-08T11:46:55.562Z"
   },
   {
    "duration": -1021,
    "start_time": "2021-11-08T11:46:55.568Z"
   },
   {
    "duration": -1028,
    "start_time": "2021-11-08T11:46:55.576Z"
   },
   {
    "duration": 737,
    "start_time": "2021-11-08T11:47:13.000Z"
   },
   {
    "duration": 12,
    "start_time": "2021-11-08T11:47:13.739Z"
   },
   {
    "duration": 18,
    "start_time": "2021-11-08T11:47:13.753Z"
   },
   {
    "duration": 18,
    "start_time": "2021-11-08T11:47:13.773Z"
   },
   {
    "duration": 19,
    "start_time": "2021-11-08T11:47:13.792Z"
   },
   {
    "duration": 16,
    "start_time": "2021-11-08T11:47:13.813Z"
   },
   {
    "duration": 15,
    "start_time": "2021-11-08T11:47:13.830Z"
   },
   {
    "duration": 59,
    "start_time": "2021-11-08T11:47:13.847Z"
   },
   {
    "duration": 5,
    "start_time": "2021-11-08T11:47:13.909Z"
   },
   {
    "duration": 16,
    "start_time": "2021-11-08T11:47:13.915Z"
   },
   {
    "duration": 5,
    "start_time": "2021-11-08T11:47:13.933Z"
   },
   {
    "duration": 25,
    "start_time": "2021-11-08T11:47:13.939Z"
   },
   {
    "duration": 112,
    "start_time": "2021-11-08T11:47:13.965Z"
   },
   {
    "duration": -685,
    "start_time": "2021-11-08T11:47:14.765Z"
   },
   {
    "duration": -691,
    "start_time": "2021-11-08T11:47:14.772Z"
   },
   {
    "duration": -700,
    "start_time": "2021-11-08T11:47:14.782Z"
   },
   {
    "duration": -707,
    "start_time": "2021-11-08T11:47:14.790Z"
   },
   {
    "duration": -731,
    "start_time": "2021-11-08T11:47:14.815Z"
   },
   {
    "duration": -738,
    "start_time": "2021-11-08T11:47:14.823Z"
   },
   {
    "duration": -745,
    "start_time": "2021-11-08T11:47:14.831Z"
   },
   {
    "duration": -785,
    "start_time": "2021-11-08T11:47:14.872Z"
   },
   {
    "duration": -797,
    "start_time": "2021-11-08T11:47:14.885Z"
   },
   {
    "duration": -806,
    "start_time": "2021-11-08T11:47:14.894Z"
   },
   {
    "duration": -814,
    "start_time": "2021-11-08T11:47:14.903Z"
   },
   {
    "duration": -822,
    "start_time": "2021-11-08T11:47:14.912Z"
   },
   {
    "duration": -832,
    "start_time": "2021-11-08T11:47:14.923Z"
   },
   {
    "duration": -840,
    "start_time": "2021-11-08T11:47:14.932Z"
   },
   {
    "duration": -849,
    "start_time": "2021-11-08T11:47:14.941Z"
   },
   {
    "duration": -856,
    "start_time": "2021-11-08T11:47:14.949Z"
   },
   {
    "duration": -864,
    "start_time": "2021-11-08T11:47:14.958Z"
   },
   {
    "duration": -934,
    "start_time": "2021-11-08T11:47:15.029Z"
   },
   {
    "duration": -940,
    "start_time": "2021-11-08T11:47:15.036Z"
   },
   {
    "duration": -947,
    "start_time": "2021-11-08T11:47:15.044Z"
   },
   {
    "duration": -953,
    "start_time": "2021-11-08T11:47:15.051Z"
   },
   {
    "duration": -959,
    "start_time": "2021-11-08T11:47:15.058Z"
   },
   {
    "duration": -965,
    "start_time": "2021-11-08T11:47:15.065Z"
   },
   {
    "duration": -971,
    "start_time": "2021-11-08T11:47:15.072Z"
   },
   {
    "duration": -979,
    "start_time": "2021-11-08T11:47:15.081Z"
   },
   {
    "duration": -986,
    "start_time": "2021-11-08T11:47:15.088Z"
   },
   {
    "duration": -992,
    "start_time": "2021-11-08T11:47:15.095Z"
   },
   {
    "duration": -1011,
    "start_time": "2021-11-08T11:47:15.115Z"
   },
   {
    "duration": -1018,
    "start_time": "2021-11-08T11:47:15.123Z"
   },
   {
    "duration": -1024,
    "start_time": "2021-11-08T11:47:15.130Z"
   },
   {
    "duration": -1031,
    "start_time": "2021-11-08T11:47:15.138Z"
   },
   {
    "duration": -1038,
    "start_time": "2021-11-08T11:47:15.145Z"
   },
   {
    "duration": -1045,
    "start_time": "2021-11-08T11:47:15.153Z"
   },
   {
    "duration": -1051,
    "start_time": "2021-11-08T11:47:15.160Z"
   },
   {
    "duration": -1060,
    "start_time": "2021-11-08T11:47:15.170Z"
   },
   {
    "duration": -1068,
    "start_time": "2021-11-08T11:47:15.179Z"
   },
   {
    "duration": -1074,
    "start_time": "2021-11-08T11:47:15.186Z"
   },
   {
    "duration": -1080,
    "start_time": "2021-11-08T11:47:15.193Z"
   },
   {
    "duration": 765,
    "start_time": "2021-11-08T11:47:32.696Z"
   },
   {
    "duration": 14,
    "start_time": "2021-11-08T11:47:33.463Z"
   },
   {
    "duration": 10,
    "start_time": "2021-11-08T11:47:33.481Z"
   },
   {
    "duration": 26,
    "start_time": "2021-11-08T11:47:33.493Z"
   },
   {
    "duration": 18,
    "start_time": "2021-11-08T11:47:33.521Z"
   },
   {
    "duration": 26,
    "start_time": "2021-11-08T11:47:33.541Z"
   },
   {
    "duration": 11,
    "start_time": "2021-11-08T11:47:33.568Z"
   },
   {
    "duration": 74,
    "start_time": "2021-11-08T11:47:33.581Z"
   },
   {
    "duration": 6,
    "start_time": "2021-11-08T11:47:33.658Z"
   },
   {
    "duration": 39,
    "start_time": "2021-11-08T11:47:33.666Z"
   },
   {
    "duration": 5,
    "start_time": "2021-11-08T11:47:33.707Z"
   },
   {
    "duration": 42,
    "start_time": "2021-11-08T11:47:33.714Z"
   },
   {
    "duration": 11,
    "start_time": "2021-11-08T11:47:33.758Z"
   },
   {
    "duration": 23,
    "start_time": "2021-11-08T11:47:33.770Z"
   },
   {
    "duration": 20,
    "start_time": "2021-11-08T11:47:33.794Z"
   },
   {
    "duration": 30,
    "start_time": "2021-11-08T11:47:33.816Z"
   },
   {
    "duration": 58,
    "start_time": "2021-11-08T11:47:33.847Z"
   },
   {
    "duration": 9,
    "start_time": "2021-11-08T11:47:33.907Z"
   },
   {
    "duration": 15,
    "start_time": "2021-11-08T11:47:33.918Z"
   },
   {
    "duration": 22,
    "start_time": "2021-11-08T11:47:33.935Z"
   },
   {
    "duration": 27,
    "start_time": "2021-11-08T11:47:33.959Z"
   },
   {
    "duration": 5,
    "start_time": "2021-11-08T11:47:33.988Z"
   },
   {
    "duration": 4,
    "start_time": "2021-11-08T11:47:33.997Z"
   },
   {
    "duration": 11,
    "start_time": "2021-11-08T11:47:34.003Z"
   },
   {
    "duration": 20,
    "start_time": "2021-11-08T11:47:34.016Z"
   },
   {
    "duration": 4,
    "start_time": "2021-11-08T11:47:34.039Z"
   },
   {
    "duration": 14,
    "start_time": "2021-11-08T11:47:34.045Z"
   },
   {
    "duration": 5,
    "start_time": "2021-11-08T11:47:34.061Z"
   },
   {
    "duration": 14,
    "start_time": "2021-11-08T11:47:34.068Z"
   },
   {
    "duration": 11,
    "start_time": "2021-11-08T11:47:34.083Z"
   },
   {
    "duration": 31,
    "start_time": "2021-11-08T11:47:34.096Z"
   },
   {
    "duration": 3,
    "start_time": "2021-11-08T11:47:34.129Z"
   },
   {
    "duration": 27,
    "start_time": "2021-11-08T11:47:34.133Z"
   },
   {
    "duration": 19,
    "start_time": "2021-11-08T11:47:34.162Z"
   },
   {
    "duration": 23,
    "start_time": "2021-11-08T11:47:34.183Z"
   },
   {
    "duration": 19,
    "start_time": "2021-11-08T11:47:34.208Z"
   },
   {
    "duration": 8,
    "start_time": "2021-11-08T11:47:34.229Z"
   },
   {
    "duration": 3181,
    "start_time": "2021-11-08T11:47:34.238Z"
   },
   {
    "duration": 17,
    "start_time": "2021-11-08T11:47:37.420Z"
   },
   {
    "duration": 11,
    "start_time": "2021-11-08T11:47:37.439Z"
   },
   {
    "duration": 12,
    "start_time": "2021-11-08T11:47:37.451Z"
   },
   {
    "duration": 10,
    "start_time": "2021-11-08T11:47:37.465Z"
   },
   {
    "duration": 4,
    "start_time": "2021-11-08T11:47:37.477Z"
   },
   {
    "duration": 31,
    "start_time": "2021-11-08T11:47:37.483Z"
   },
   {
    "duration": 9,
    "start_time": "2021-11-08T11:47:37.516Z"
   },
   {
    "duration": 4,
    "start_time": "2021-11-08T11:47:37.527Z"
   },
   {
    "duration": 19,
    "start_time": "2021-11-08T11:47:37.533Z"
   },
   {
    "duration": 14,
    "start_time": "2021-11-08T11:47:37.553Z"
   },
   {
    "duration": 3,
    "start_time": "2021-11-08T11:47:37.569Z"
   },
   {
    "duration": 12,
    "start_time": "2021-11-08T11:47:37.574Z"
   },
   {
    "duration": 4,
    "start_time": "2021-11-08T12:17:32.619Z"
   },
   {
    "duration": 748,
    "start_time": "2021-11-08T12:17:39.969Z"
   },
   {
    "duration": 11,
    "start_time": "2021-11-08T12:17:40.719Z"
   },
   {
    "duration": 14,
    "start_time": "2021-11-08T12:17:40.732Z"
   },
   {
    "duration": 19,
    "start_time": "2021-11-08T12:17:40.747Z"
   },
   {
    "duration": 5,
    "start_time": "2021-11-08T12:17:40.768Z"
   },
   {
    "duration": 37,
    "start_time": "2021-11-08T12:17:40.775Z"
   },
   {
    "duration": 12,
    "start_time": "2021-11-08T12:17:40.814Z"
   },
   {
    "duration": 49,
    "start_time": "2021-11-08T12:17:40.829Z"
   },
   {
    "duration": 5,
    "start_time": "2021-11-08T12:17:40.880Z"
   },
   {
    "duration": 35,
    "start_time": "2021-11-08T12:17:40.887Z"
   },
   {
    "duration": 9,
    "start_time": "2021-11-08T12:17:40.924Z"
   },
   {
    "duration": 24,
    "start_time": "2021-11-08T12:17:40.935Z"
   },
   {
    "duration": 19,
    "start_time": "2021-11-08T12:17:40.961Z"
   },
   {
    "duration": 8,
    "start_time": "2021-11-08T12:17:40.982Z"
   },
   {
    "duration": 9,
    "start_time": "2021-11-08T12:17:40.991Z"
   },
   {
    "duration": 8,
    "start_time": "2021-11-08T12:17:41.002Z"
   },
   {
    "duration": 47,
    "start_time": "2021-11-08T12:17:41.012Z"
   },
   {
    "duration": 10,
    "start_time": "2021-11-08T12:17:41.061Z"
   },
   {
    "duration": 4,
    "start_time": "2021-11-08T12:17:41.073Z"
   },
   {
    "duration": 35,
    "start_time": "2021-11-08T12:17:41.079Z"
   },
   {
    "duration": 14,
    "start_time": "2021-11-08T12:17:41.116Z"
   },
   {
    "duration": 7,
    "start_time": "2021-11-08T12:17:41.132Z"
   },
   {
    "duration": 11,
    "start_time": "2021-11-08T12:17:41.142Z"
   },
   {
    "duration": 8,
    "start_time": "2021-11-08T12:17:41.156Z"
   },
   {
    "duration": 19,
    "start_time": "2021-11-08T12:17:41.165Z"
   },
   {
    "duration": 5,
    "start_time": "2021-11-08T12:17:41.206Z"
   },
   {
    "duration": 7,
    "start_time": "2021-11-08T12:17:41.214Z"
   },
   {
    "duration": 9,
    "start_time": "2021-11-08T12:17:41.223Z"
   },
   {
    "duration": 13,
    "start_time": "2021-11-08T12:17:41.235Z"
   },
   {
    "duration": 13,
    "start_time": "2021-11-08T12:17:41.250Z"
   },
   {
    "duration": 18,
    "start_time": "2021-11-08T12:17:41.265Z"
   },
   {
    "duration": 3,
    "start_time": "2021-11-08T12:17:41.307Z"
   },
   {
    "duration": 20,
    "start_time": "2021-11-08T12:17:41.312Z"
   },
   {
    "duration": 18,
    "start_time": "2021-11-08T12:17:41.334Z"
   },
   {
    "duration": 16,
    "start_time": "2021-11-08T12:17:41.354Z"
   },
   {
    "duration": 44,
    "start_time": "2021-11-08T12:17:41.372Z"
   },
   {
    "duration": 17,
    "start_time": "2021-11-08T12:17:41.418Z"
   },
   {
    "duration": 3049,
    "start_time": "2021-11-08T12:17:41.437Z"
   },
   {
    "duration": 19,
    "start_time": "2021-11-08T12:17:44.488Z"
   },
   {
    "duration": 22,
    "start_time": "2021-11-08T12:17:44.509Z"
   },
   {
    "duration": 34,
    "start_time": "2021-11-08T12:17:44.533Z"
   },
   {
    "duration": 25,
    "start_time": "2021-11-08T12:17:44.569Z"
   },
   {
    "duration": 61,
    "start_time": "2021-11-08T12:17:44.595Z"
   },
   {
    "duration": 43,
    "start_time": "2021-11-08T12:17:44.658Z"
   },
   {
    "duration": 17,
    "start_time": "2021-11-08T12:17:44.703Z"
   },
   {
    "duration": 30,
    "start_time": "2021-11-08T12:17:44.722Z"
   },
   {
    "duration": 32,
    "start_time": "2021-11-08T12:17:44.755Z"
   },
   {
    "duration": 24,
    "start_time": "2021-11-08T12:17:44.789Z"
   },
   {
    "duration": 22,
    "start_time": "2021-11-08T12:17:44.815Z"
   },
   {
    "duration": 46,
    "start_time": "2021-11-08T12:17:44.839Z"
   },
   {
    "duration": 13,
    "start_time": "2021-11-08T12:20:04.787Z"
   },
   {
    "duration": 5,
    "start_time": "2021-11-08T12:20:05.768Z"
   },
   {
    "duration": 10,
    "start_time": "2021-11-08T12:20:06.236Z"
   },
   {
    "duration": 8,
    "start_time": "2021-11-08T12:21:17.023Z"
   },
   {
    "duration": 5,
    "start_time": "2021-11-08T12:21:17.268Z"
   },
   {
    "duration": 9,
    "start_time": "2021-11-08T12:21:17.465Z"
   },
   {
    "duration": 11,
    "start_time": "2021-11-08T12:21:32.265Z"
   },
   {
    "duration": 4,
    "start_time": "2021-11-08T12:21:33.731Z"
   },
   {
    "duration": 10,
    "start_time": "2021-11-08T12:21:34.541Z"
   },
   {
    "duration": 10,
    "start_time": "2021-11-08T12:22:14.308Z"
   },
   {
    "duration": 4,
    "start_time": "2021-11-08T12:22:14.700Z"
   },
   {
    "duration": 9,
    "start_time": "2021-11-08T12:22:15.026Z"
   },
   {
    "duration": 11,
    "start_time": "2021-11-08T12:22:36.813Z"
   },
   {
    "duration": 4,
    "start_time": "2021-11-08T12:22:37.490Z"
   },
   {
    "duration": 10,
    "start_time": "2021-11-08T12:22:37.944Z"
   },
   {
    "duration": 10,
    "start_time": "2021-11-08T12:23:17.803Z"
   },
   {
    "duration": 4,
    "start_time": "2021-11-08T12:23:18.761Z"
   },
   {
    "duration": 9,
    "start_time": "2021-11-08T12:23:19.007Z"
   },
   {
    "duration": 8,
    "start_time": "2021-11-08T12:35:50.688Z"
   },
   {
    "duration": 7,
    "start_time": "2021-11-08T12:35:55.265Z"
   },
   {
    "duration": 1252,
    "start_time": "2021-11-10T07:47:25.351Z"
   },
   {
    "duration": 11,
    "start_time": "2021-11-10T07:47:26.605Z"
   },
   {
    "duration": 9,
    "start_time": "2021-11-10T07:47:26.618Z"
   },
   {
    "duration": 13,
    "start_time": "2021-11-10T07:47:26.629Z"
   },
   {
    "duration": 5,
    "start_time": "2021-11-10T07:47:26.644Z"
   },
   {
    "duration": 45,
    "start_time": "2021-11-10T07:47:26.651Z"
   },
   {
    "duration": 6,
    "start_time": "2021-11-10T07:47:26.698Z"
   },
   {
    "duration": 40,
    "start_time": "2021-11-10T07:47:26.707Z"
   },
   {
    "duration": 5,
    "start_time": "2021-11-10T07:47:26.749Z"
   },
   {
    "duration": 38,
    "start_time": "2021-11-10T07:47:26.756Z"
   },
   {
    "duration": 5,
    "start_time": "2021-11-10T07:47:26.796Z"
   },
   {
    "duration": 16,
    "start_time": "2021-11-10T07:47:26.803Z"
   },
   {
    "duration": 6,
    "start_time": "2021-11-10T07:47:26.820Z"
   },
   {
    "duration": 5,
    "start_time": "2021-11-10T07:47:26.827Z"
   },
   {
    "duration": 8,
    "start_time": "2021-11-10T07:47:26.833Z"
   },
   {
    "duration": 8,
    "start_time": "2021-11-10T07:47:26.842Z"
   },
   {
    "duration": 73,
    "start_time": "2021-11-10T07:47:26.851Z"
   },
   {
    "duration": 8,
    "start_time": "2021-11-10T07:47:26.926Z"
   },
   {
    "duration": 5,
    "start_time": "2021-11-10T07:47:26.936Z"
   },
   {
    "duration": 12,
    "start_time": "2021-11-10T07:47:26.942Z"
   },
   {
    "duration": 14,
    "start_time": "2021-11-10T07:47:26.956Z"
   },
   {
    "duration": 22,
    "start_time": "2021-11-10T07:47:26.971Z"
   },
   {
    "duration": 3,
    "start_time": "2021-11-10T07:47:26.996Z"
   },
   {
    "duration": 5,
    "start_time": "2021-11-10T07:47:27.002Z"
   },
   {
    "duration": 19,
    "start_time": "2021-11-10T07:47:27.008Z"
   },
   {
    "duration": 4,
    "start_time": "2021-11-10T07:47:27.029Z"
   },
   {
    "duration": 6,
    "start_time": "2021-11-10T07:47:27.034Z"
   },
   {
    "duration": 7,
    "start_time": "2021-11-10T07:47:27.042Z"
   },
   {
    "duration": 7,
    "start_time": "2021-11-10T07:47:27.051Z"
   },
   {
    "duration": 33,
    "start_time": "2021-11-10T07:47:27.059Z"
   },
   {
    "duration": 16,
    "start_time": "2021-11-10T07:47:27.094Z"
   },
   {
    "duration": 2,
    "start_time": "2021-11-10T07:47:27.112Z"
   },
   {
    "duration": 19,
    "start_time": "2021-11-10T07:47:27.115Z"
   },
   {
    "duration": 18,
    "start_time": "2021-11-10T07:47:27.136Z"
   },
   {
    "duration": 41,
    "start_time": "2021-11-10T07:47:27.155Z"
   },
   {
    "duration": 20,
    "start_time": "2021-11-10T07:47:27.198Z"
   },
   {
    "duration": 7,
    "start_time": "2021-11-10T07:47:27.220Z"
   },
   {
    "duration": 2436,
    "start_time": "2021-11-10T07:47:27.228Z"
   },
   {
    "duration": 16,
    "start_time": "2021-11-10T07:47:29.666Z"
   },
   {
    "duration": 5,
    "start_time": "2021-11-10T07:47:29.692Z"
   },
   {
    "duration": 20,
    "start_time": "2021-11-10T07:47:29.699Z"
   },
   {
    "duration": 15,
    "start_time": "2021-11-10T07:47:29.721Z"
   },
   {
    "duration": 6,
    "start_time": "2021-11-10T07:47:29.737Z"
   },
   {
    "duration": 19,
    "start_time": "2021-11-10T07:47:29.744Z"
   },
   {
    "duration": 12,
    "start_time": "2021-11-10T07:47:29.765Z"
   },
   {
    "duration": 5,
    "start_time": "2021-11-10T07:47:29.779Z"
   },
   {
    "duration": 14,
    "start_time": "2021-11-10T07:47:29.785Z"
   },
   {
    "duration": 11,
    "start_time": "2021-11-10T07:47:29.800Z"
   },
   {
    "duration": 4,
    "start_time": "2021-11-10T07:47:29.812Z"
   },
   {
    "duration": 11,
    "start_time": "2021-11-10T07:47:29.818Z"
   },
   {
    "duration": 9,
    "start_time": "2021-11-10T07:47:29.830Z"
   },
   {
    "duration": 7,
    "start_time": "2021-11-10T07:47:29.840Z"
   },
   {
    "duration": 5,
    "start_time": "2021-11-10T07:48:36.500Z"
   },
   {
    "duration": 11,
    "start_time": "2021-11-10T07:48:37.572Z"
   },
   {
    "duration": 59,
    "start_time": "2021-11-10T07:49:19.379Z"
   },
   {
    "duration": 8,
    "start_time": "2021-11-10T07:49:23.797Z"
   },
   {
    "duration": 6,
    "start_time": "2021-11-10T07:49:24.856Z"
   },
   {
    "duration": 9,
    "start_time": "2021-11-10T07:49:25.871Z"
   },
   {
    "duration": 9,
    "start_time": "2021-11-10T07:49:36.324Z"
   },
   {
    "duration": 10,
    "start_time": "2021-11-10T07:53:36.547Z"
   },
   {
    "duration": 4495,
    "start_time": "2021-11-10T07:54:41.267Z"
   },
   {
    "duration": -100,
    "start_time": "2021-11-10T07:54:45.864Z"
   },
   {
    "duration": 4,
    "start_time": "2021-11-10T07:55:08.696Z"
   },
   {
    "duration": 9,
    "start_time": "2021-11-10T07:55:10.224Z"
   },
   {
    "duration": 4,
    "start_time": "2021-11-10T07:57:33.205Z"
   },
   {
    "duration": 8,
    "start_time": "2021-11-10T07:57:39.501Z"
   },
   {
    "duration": 4,
    "start_time": "2021-11-10T07:57:40.722Z"
   },
   {
    "duration": 8,
    "start_time": "2021-11-10T07:57:45.770Z"
   },
   {
    "duration": 9,
    "start_time": "2021-11-10T08:02:45.375Z"
   },
   {
    "duration": 4,
    "start_time": "2021-11-10T08:02:59.228Z"
   },
   {
    "duration": 8,
    "start_time": "2021-11-10T08:03:04.610Z"
   },
   {
    "duration": 349,
    "start_time": "2021-11-10T08:10:30.131Z"
   },
   {
    "duration": 9,
    "start_time": "2021-11-10T08:10:40.718Z"
   },
   {
    "duration": 7,
    "start_time": "2021-11-10T08:10:55.241Z"
   },
   {
    "duration": 6,
    "start_time": "2021-11-10T08:10:56.303Z"
   },
   {
    "duration": 8,
    "start_time": "2021-11-10T08:14:06.731Z"
   },
   {
    "duration": 7,
    "start_time": "2021-11-10T08:14:07.541Z"
   },
   {
    "duration": 14,
    "start_time": "2021-11-10T08:40:53.641Z"
   },
   {
    "duration": 19,
    "start_time": "2021-11-10T08:42:40.362Z"
   },
   {
    "duration": 25,
    "start_time": "2021-11-10T08:44:27.119Z"
   },
   {
    "duration": 5,
    "start_time": "2021-11-10T08:45:07.144Z"
   },
   {
    "duration": 838,
    "start_time": "2021-11-11T05:30:17.894Z"
   },
   {
    "duration": 15,
    "start_time": "2021-11-11T05:30:18.737Z"
   },
   {
    "duration": 30,
    "start_time": "2021-11-11T05:30:18.754Z"
   },
   {
    "duration": 23,
    "start_time": "2021-11-11T05:30:18.787Z"
   },
   {
    "duration": 10,
    "start_time": "2021-11-11T05:30:18.812Z"
   },
   {
    "duration": 66,
    "start_time": "2021-11-11T05:30:18.824Z"
   },
   {
    "duration": 8,
    "start_time": "2021-11-11T05:30:18.894Z"
   },
   {
    "duration": 77,
    "start_time": "2021-11-11T05:30:18.905Z"
   },
   {
    "duration": 7,
    "start_time": "2021-11-11T05:30:18.984Z"
   },
   {
    "duration": 26,
    "start_time": "2021-11-11T05:30:18.993Z"
   },
   {
    "duration": 7,
    "start_time": "2021-11-11T05:30:19.022Z"
   },
   {
    "duration": 51,
    "start_time": "2021-11-11T05:30:19.032Z"
   },
   {
    "duration": 9,
    "start_time": "2021-11-11T05:30:19.086Z"
   },
   {
    "duration": 6,
    "start_time": "2021-11-11T05:30:19.097Z"
   },
   {
    "duration": 13,
    "start_time": "2021-11-11T05:30:19.105Z"
   },
   {
    "duration": 8,
    "start_time": "2021-11-11T05:30:19.120Z"
   },
   {
    "duration": 104,
    "start_time": "2021-11-11T05:30:19.131Z"
   },
   {
    "duration": 12,
    "start_time": "2021-11-11T05:30:19.237Z"
   },
   {
    "duration": 5,
    "start_time": "2021-11-11T05:30:19.251Z"
   },
   {
    "duration": 33,
    "start_time": "2021-11-11T05:30:19.259Z"
   },
   {
    "duration": 20,
    "start_time": "2021-11-11T05:30:19.294Z"
   },
   {
    "duration": 5,
    "start_time": "2021-11-11T05:30:19.320Z"
   },
   {
    "duration": 5,
    "start_time": "2021-11-11T05:30:19.329Z"
   },
   {
    "duration": 5,
    "start_time": "2021-11-11T05:30:19.337Z"
   },
   {
    "duration": 20,
    "start_time": "2021-11-11T05:30:19.383Z"
   },
   {
    "duration": 6,
    "start_time": "2021-11-11T05:30:19.405Z"
   },
   {
    "duration": 13,
    "start_time": "2021-11-11T05:30:19.414Z"
   },
   {
    "duration": 4,
    "start_time": "2021-11-11T05:30:19.430Z"
   },
   {
    "duration": 46,
    "start_time": "2021-11-11T05:30:19.437Z"
   },
   {
    "duration": 9,
    "start_time": "2021-11-11T05:30:19.485Z"
   },
   {
    "duration": 27,
    "start_time": "2021-11-11T05:30:19.496Z"
   },
   {
    "duration": 4,
    "start_time": "2021-11-11T05:30:19.525Z"
   },
   {
    "duration": 52,
    "start_time": "2021-11-11T05:30:19.531Z"
   },
   {
    "duration": 27,
    "start_time": "2021-11-11T05:30:19.586Z"
   },
   {
    "duration": 24,
    "start_time": "2021-11-11T05:30:19.615Z"
   },
   {
    "duration": 49,
    "start_time": "2021-11-11T05:30:19.641Z"
   },
   {
    "duration": 7,
    "start_time": "2021-11-11T05:30:19.692Z"
   },
   {
    "duration": 10,
    "start_time": "2021-11-11T05:30:19.701Z"
   },
   {
    "duration": 114,
    "start_time": "2021-11-11T05:30:19.714Z"
   },
   {
    "duration": -673,
    "start_time": "2021-11-11T05:30:20.503Z"
   },
   {
    "duration": -701,
    "start_time": "2021-11-11T05:30:20.533Z"
   },
   {
    "duration": -710,
    "start_time": "2021-11-11T05:30:20.543Z"
   },
   {
    "duration": -718,
    "start_time": "2021-11-11T05:30:20.552Z"
   },
   {
    "duration": -728,
    "start_time": "2021-11-11T05:30:20.564Z"
   },
   {
    "duration": -736,
    "start_time": "2021-11-11T05:30:20.574Z"
   },
   {
    "duration": -744,
    "start_time": "2021-11-11T05:30:20.583Z"
   },
   {
    "duration": -753,
    "start_time": "2021-11-11T05:30:20.593Z"
   },
   {
    "duration": -764,
    "start_time": "2021-11-11T05:30:20.606Z"
   },
   {
    "duration": -776,
    "start_time": "2021-11-11T05:30:20.619Z"
   },
   {
    "duration": -786,
    "start_time": "2021-11-11T05:30:20.630Z"
   },
   {
    "duration": -805,
    "start_time": "2021-11-11T05:30:20.651Z"
   },
   {
    "duration": -813,
    "start_time": "2021-11-11T05:30:20.660Z"
   },
   {
    "duration": -822,
    "start_time": "2021-11-11T05:30:20.670Z"
   },
   {
    "duration": -832,
    "start_time": "2021-11-11T05:30:20.681Z"
   },
   {
    "duration": -838,
    "start_time": "2021-11-11T05:30:20.690Z"
   },
   {
    "duration": -847,
    "start_time": "2021-11-11T05:30:20.700Z"
   },
   {
    "duration": -855,
    "start_time": "2021-11-11T05:30:20.709Z"
   },
   {
    "duration": -866,
    "start_time": "2021-11-11T05:30:20.722Z"
   },
   {
    "duration": -873,
    "start_time": "2021-11-11T05:30:20.730Z"
   },
   {
    "duration": -881,
    "start_time": "2021-11-11T05:30:20.739Z"
   },
   {
    "duration": -887,
    "start_time": "2021-11-11T05:30:20.747Z"
   },
   {
    "duration": -910,
    "start_time": "2021-11-11T05:30:20.771Z"
   },
   {
    "duration": -919,
    "start_time": "2021-11-11T05:30:20.781Z"
   },
   {
    "duration": 4,
    "start_time": "2021-11-11T05:32:02.997Z"
   },
   {
    "duration": 109,
    "start_time": "2021-11-11T05:35:30.748Z"
   },
   {
    "duration": 983,
    "start_time": "2021-11-11T05:35:37.963Z"
   },
   {
    "duration": 19,
    "start_time": "2021-11-11T05:35:50.082Z"
   },
   {
    "duration": 88,
    "start_time": "2021-11-11T05:39:13.107Z"
   },
   {
    "duration": 18,
    "start_time": "2021-11-11T05:39:16.083Z"
   },
   {
    "duration": 3909,
    "start_time": "2021-11-11T05:43:35.114Z"
   },
   {
    "duration": 8,
    "start_time": "2021-11-11T05:44:05.822Z"
   },
   {
    "duration": 17,
    "start_time": "2021-11-11T05:44:07.573Z"
   },
   {
    "duration": 118,
    "start_time": "2021-11-11T05:45:48.010Z"
   },
   {
    "duration": 9,
    "start_time": "2021-11-11T05:45:59.077Z"
   },
   {
    "duration": 17,
    "start_time": "2021-11-11T05:46:03.512Z"
   },
   {
    "duration": 9,
    "start_time": "2021-11-11T05:46:40.231Z"
   },
   {
    "duration": 17,
    "start_time": "2021-11-11T05:46:42.567Z"
   },
   {
    "duration": 3409,
    "start_time": "2021-11-11T05:47:00.152Z"
   },
   {
    "duration": 28,
    "start_time": "2021-11-11T05:47:03.563Z"
   },
   {
    "duration": 11469,
    "start_time": "2021-11-11T05:47:58.428Z"
   },
   {
    "duration": 11537,
    "start_time": "2021-11-11T05:48:34.690Z"
   },
   {
    "duration": 31980,
    "start_time": "2021-11-11T05:49:28.338Z"
   },
   {
    "duration": 18,
    "start_time": "2021-11-11T05:50:00.320Z"
   },
   {
    "duration": 32335,
    "start_time": "2021-11-11T05:50:50.360Z"
   },
   {
    "duration": 17,
    "start_time": "2021-11-11T05:51:29.090Z"
   },
   {
    "duration": 18,
    "start_time": "2021-11-11T05:52:27.131Z"
   },
   {
    "duration": 139,
    "start_time": "2021-11-11T05:52:55.535Z"
   },
   {
    "duration": 31117,
    "start_time": "2021-11-11T05:54:06.621Z"
   },
   {
    "duration": 3577,
    "start_time": "2021-11-11T05:55:18.189Z"
   },
   {
    "duration": 18,
    "start_time": "2021-11-11T05:55:53.874Z"
   },
   {
    "duration": 400,
    "start_time": "2021-11-11T05:58:07.611Z"
   },
   {
    "duration": 1214,
    "start_time": "2021-11-11T05:58:29.445Z"
   },
   {
    "duration": 3394,
    "start_time": "2021-11-11T06:04:53.497Z"
   },
   {
    "duration": 976,
    "start_time": "2021-11-11T06:17:38.448Z"
   },
   {
    "duration": 14,
    "start_time": "2021-11-11T06:17:39.426Z"
   },
   {
    "duration": 12,
    "start_time": "2021-11-11T06:17:39.444Z"
   },
   {
    "duration": 20,
    "start_time": "2021-11-11T06:17:39.482Z"
   },
   {
    "duration": 7,
    "start_time": "2021-11-11T06:17:39.504Z"
   },
   {
    "duration": 19,
    "start_time": "2021-11-11T06:17:39.513Z"
   },
   {
    "duration": 12,
    "start_time": "2021-11-11T06:17:39.534Z"
   },
   {
    "duration": 61,
    "start_time": "2021-11-11T06:17:39.584Z"
   },
   {
    "duration": 7,
    "start_time": "2021-11-11T06:17:39.648Z"
   },
   {
    "duration": 47,
    "start_time": "2021-11-11T06:17:39.657Z"
   },
   {
    "duration": 8,
    "start_time": "2021-11-11T06:17:39.707Z"
   },
   {
    "duration": 25,
    "start_time": "2021-11-11T06:17:39.718Z"
   },
   {
    "duration": 10,
    "start_time": "2021-11-11T06:17:39.745Z"
   },
   {
    "duration": 4,
    "start_time": "2021-11-11T06:17:39.783Z"
   },
   {
    "duration": 12,
    "start_time": "2021-11-11T06:17:39.790Z"
   },
   {
    "duration": 9,
    "start_time": "2021-11-11T06:17:39.804Z"
   },
   {
    "duration": 87,
    "start_time": "2021-11-11T06:17:39.815Z"
   },
   {
    "duration": 11,
    "start_time": "2021-11-11T06:17:39.904Z"
   },
   {
    "duration": 5,
    "start_time": "2021-11-11T06:17:39.918Z"
   },
   {
    "duration": 19,
    "start_time": "2021-11-11T06:17:39.925Z"
   },
   {
    "duration": 46,
    "start_time": "2021-11-11T06:17:39.947Z"
   },
   {
    "duration": 6,
    "start_time": "2021-11-11T06:17:39.995Z"
   },
   {
    "duration": 5,
    "start_time": "2021-11-11T06:17:40.007Z"
   },
   {
    "duration": 5,
    "start_time": "2021-11-11T06:17:40.015Z"
   },
   {
    "duration": 24,
    "start_time": "2021-11-11T06:17:40.022Z"
   },
   {
    "duration": 39,
    "start_time": "2021-11-11T06:17:40.048Z"
   },
   {
    "duration": 10,
    "start_time": "2021-11-11T06:17:40.089Z"
   },
   {
    "duration": 9,
    "start_time": "2021-11-11T06:17:40.101Z"
   },
   {
    "duration": 9,
    "start_time": "2021-11-11T06:17:40.112Z"
   },
   {
    "duration": 6,
    "start_time": "2021-11-11T06:17:40.124Z"
   },
   {
    "duration": 62,
    "start_time": "2021-11-11T06:17:40.132Z"
   },
   {
    "duration": 3,
    "start_time": "2021-11-11T06:17:40.197Z"
   },
   {
    "duration": 32,
    "start_time": "2021-11-11T06:17:40.203Z"
   },
   {
    "duration": 46,
    "start_time": "2021-11-11T06:17:40.239Z"
   },
   {
    "duration": 24,
    "start_time": "2021-11-11T06:17:40.288Z"
   },
   {
    "duration": 24,
    "start_time": "2021-11-11T06:17:40.315Z"
   },
   {
    "duration": 41,
    "start_time": "2021-11-11T06:17:40.341Z"
   },
   {
    "duration": 9,
    "start_time": "2021-11-11T06:17:40.385Z"
   },
   {
    "duration": 5,
    "start_time": "2021-11-11T06:17:40.397Z"
   },
   {
    "duration": 3187,
    "start_time": "2021-11-11T06:17:40.405Z"
   },
   {
    "duration": 3830,
    "start_time": "2021-11-11T06:17:43.595Z"
   },
   {
    "duration": 21,
    "start_time": "2021-11-11T06:17:47.428Z"
   },
   {
    "duration": 2682,
    "start_time": "2021-11-11T06:17:47.451Z"
   },
   {
    "duration": 4,
    "start_time": "2021-11-11T06:17:50.135Z"
   },
   {
    "duration": 43,
    "start_time": "2021-11-11T06:17:50.141Z"
   },
   {
    "duration": 12,
    "start_time": "2021-11-11T06:17:50.186Z"
   },
   {
    "duration": 18,
    "start_time": "2021-11-11T06:17:50.201Z"
   },
   {
    "duration": 8,
    "start_time": "2021-11-11T06:17:50.222Z"
   },
   {
    "duration": 9,
    "start_time": "2021-11-11T06:17:50.233Z"
   },
   {
    "duration": 48,
    "start_time": "2021-11-11T06:17:50.244Z"
   },
   {
    "duration": 11,
    "start_time": "2021-11-11T06:17:50.294Z"
   },
   {
    "duration": 8,
    "start_time": "2021-11-11T06:17:50.308Z"
   },
   {
    "duration": 16,
    "start_time": "2021-11-11T06:17:50.319Z"
   },
   {
    "duration": 14,
    "start_time": "2021-11-11T06:17:50.338Z"
   },
   {
    "duration": 30,
    "start_time": "2021-11-11T06:17:50.355Z"
   },
   {
    "duration": 17,
    "start_time": "2021-11-11T06:17:50.387Z"
   },
   {
    "duration": 18,
    "start_time": "2021-11-11T06:17:50.406Z"
   },
   {
    "duration": 10,
    "start_time": "2021-11-11T06:17:50.426Z"
   },
   {
    "duration": 16,
    "start_time": "2021-11-11T06:17:50.439Z"
   },
   {
    "duration": 35,
    "start_time": "2021-11-11T06:17:50.457Z"
   },
   {
    "duration": 12,
    "start_time": "2021-11-11T06:17:50.494Z"
   },
   {
    "duration": 20,
    "start_time": "2021-11-11T06:17:50.508Z"
   },
   {
    "duration": 18,
    "start_time": "2021-11-11T06:17:50.530Z"
   },
   {
    "duration": 12,
    "start_time": "2021-11-11T06:17:50.551Z"
   },
   {
    "duration": 534,
    "start_time": "2021-11-11T06:33:36.997Z"
   },
   {
    "duration": 11071,
    "start_time": "2021-11-11T06:34:00.312Z"
   },
   {
    "duration": 1358,
    "start_time": "2021-11-11T06:34:34.645Z"
   },
   {
    "duration": 642,
    "start_time": "2021-11-11T06:35:01.104Z"
   },
   {
    "duration": 470,
    "start_time": "2021-11-11T06:38:02.339Z"
   },
   {
    "duration": 96,
    "start_time": "2021-11-11T06:39:18.403Z"
   },
   {
    "duration": 301,
    "start_time": "2021-11-11T06:39:32.364Z"
   },
   {
    "duration": 94,
    "start_time": "2021-11-11T07:21:53.696Z"
   },
   {
    "duration": 111,
    "start_time": "2021-11-11T07:22:07.902Z"
   },
   {
    "duration": 169,
    "start_time": "2021-11-11T07:22:19.221Z"
   },
   {
    "duration": 98,
    "start_time": "2021-11-11T07:22:36.475Z"
   },
   {
    "duration": 112,
    "start_time": "2021-11-11T07:23:03.545Z"
   },
   {
    "duration": 117,
    "start_time": "2021-11-11T07:23:32.117Z"
   },
   {
    "duration": 120,
    "start_time": "2021-11-11T07:23:48.055Z"
   },
   {
    "duration": 96,
    "start_time": "2021-11-11T07:24:04.482Z"
   },
   {
    "duration": 100,
    "start_time": "2021-11-11T07:27:56.414Z"
   },
   {
    "duration": 112,
    "start_time": "2021-11-11T07:28:04.117Z"
   },
   {
    "duration": 4,
    "start_time": "2021-11-11T07:28:13.737Z"
   },
   {
    "duration": 3772,
    "start_time": "2021-11-11T07:28:24.162Z"
   },
   {
    "duration": 20,
    "start_time": "2021-11-11T07:28:30.246Z"
   },
   {
    "duration": 306,
    "start_time": "2021-11-11T07:29:19.108Z"
   },
   {
    "duration": 7,
    "start_time": "2021-11-11T07:29:30.069Z"
   },
   {
    "duration": 4,
    "start_time": "2021-11-11T07:30:31.512Z"
   },
   {
    "duration": 4,
    "start_time": "2021-11-11T07:30:47.636Z"
   },
   {
    "duration": 3410,
    "start_time": "2021-11-11T07:30:48.617Z"
   },
   {
    "duration": 18,
    "start_time": "2021-11-11T07:30:55.243Z"
   },
   {
    "duration": 4,
    "start_time": "2021-11-11T07:33:43.303Z"
   },
   {
    "duration": 4263,
    "start_time": "2021-11-11T07:33:45.541Z"
   },
   {
    "duration": 17,
    "start_time": "2021-11-11T07:33:50.737Z"
   },
   {
    "duration": 4,
    "start_time": "2021-11-11T07:36:01.114Z"
   },
   {
    "duration": 3423,
    "start_time": "2021-11-11T07:36:02.914Z"
   },
   {
    "duration": 20,
    "start_time": "2021-11-11T07:36:07.708Z"
   },
   {
    "duration": 5,
    "start_time": "2021-11-11T07:36:21.715Z"
   },
   {
    "duration": 3654,
    "start_time": "2021-11-11T07:36:22.213Z"
   },
   {
    "duration": 20,
    "start_time": "2021-11-11T07:36:27.035Z"
   },
   {
    "duration": 4,
    "start_time": "2021-11-11T07:36:57.560Z"
   },
   {
    "duration": 12542,
    "start_time": "2021-11-11T07:36:58.465Z"
   },
   {
    "duration": 4,
    "start_time": "2021-11-11T07:37:31.560Z"
   },
   {
    "duration": 11943,
    "start_time": "2021-11-11T07:37:33.746Z"
   },
   {
    "duration": 5,
    "start_time": "2021-11-11T07:38:46.256Z"
   },
   {
    "duration": 12845,
    "start_time": "2021-11-11T07:38:48.096Z"
   },
   {
    "duration": 5,
    "start_time": "2021-11-11T07:39:28.157Z"
   },
   {
    "duration": 12368,
    "start_time": "2021-11-11T07:39:29.870Z"
   },
   {
    "duration": 13,
    "start_time": "2021-11-11T07:40:33.784Z"
   },
   {
    "duration": 4257,
    "start_time": "2021-11-11T07:40:34.998Z"
   },
   {
    "duration": 23,
    "start_time": "2021-11-11T07:40:41.289Z"
   },
   {
    "duration": 10,
    "start_time": "2021-11-11T07:40:50.029Z"
   },
   {
    "duration": 2426,
    "start_time": "2021-11-11T07:42:26.461Z"
   },
   {
    "duration": 30,
    "start_time": "2021-11-11T07:43:41.868Z"
   },
   {
    "duration": 10,
    "start_time": "2021-11-11T07:49:34.450Z"
   },
   {
    "duration": 17,
    "start_time": "2021-11-11T07:49:35.385Z"
   },
   {
    "duration": 7,
    "start_time": "2021-11-11T07:49:46.549Z"
   },
   {
    "duration": 16,
    "start_time": "2021-11-11T07:49:48.739Z"
   },
   {
    "duration": 1165,
    "start_time": "2021-11-11T07:49:58.570Z"
   },
   {
    "duration": 23,
    "start_time": "2021-11-11T07:49:59.738Z"
   },
   {
    "duration": 18,
    "start_time": "2021-11-11T07:49:59.781Z"
   },
   {
    "duration": 29,
    "start_time": "2021-11-11T07:49:59.802Z"
   },
   {
    "duration": 10,
    "start_time": "2021-11-11T07:49:59.834Z"
   },
   {
    "duration": 63,
    "start_time": "2021-11-11T07:49:59.846Z"
   },
   {
    "duration": 9,
    "start_time": "2021-11-11T07:49:59.911Z"
   },
   {
    "duration": 124,
    "start_time": "2021-11-11T07:49:59.926Z"
   },
   {
    "duration": 9,
    "start_time": "2021-11-11T07:50:00.055Z"
   },
   {
    "duration": 30,
    "start_time": "2021-11-11T07:50:00.082Z"
   },
   {
    "duration": 9,
    "start_time": "2021-11-11T07:50:00.116Z"
   },
   {
    "duration": 27,
    "start_time": "2021-11-11T07:50:00.128Z"
   },
   {
    "duration": 10,
    "start_time": "2021-11-11T07:50:00.183Z"
   },
   {
    "duration": 14,
    "start_time": "2021-11-11T07:50:00.196Z"
   },
   {
    "duration": 17,
    "start_time": "2021-11-11T07:50:00.212Z"
   },
   {
    "duration": 20,
    "start_time": "2021-11-11T07:50:00.232Z"
   },
   {
    "duration": 86,
    "start_time": "2021-11-11T07:50:00.255Z"
   },
   {
    "duration": 12,
    "start_time": "2021-11-11T07:50:00.343Z"
   },
   {
    "duration": 23,
    "start_time": "2021-11-11T07:50:00.357Z"
   },
   {
    "duration": 34,
    "start_time": "2021-11-11T07:50:00.383Z"
   },
   {
    "duration": 24,
    "start_time": "2021-11-11T07:50:00.419Z"
   },
   {
    "duration": 16,
    "start_time": "2021-11-11T07:50:00.446Z"
   },
   {
    "duration": 21,
    "start_time": "2021-11-11T07:50:00.468Z"
   },
   {
    "duration": 22,
    "start_time": "2021-11-11T07:50:00.492Z"
   },
   {
    "duration": 36,
    "start_time": "2021-11-11T07:50:00.517Z"
   },
   {
    "duration": 9,
    "start_time": "2021-11-11T07:50:00.556Z"
   },
   {
    "duration": 20,
    "start_time": "2021-11-11T07:50:00.567Z"
   },
   {
    "duration": 27,
    "start_time": "2021-11-11T07:50:00.590Z"
   },
   {
    "duration": 21,
    "start_time": "2021-11-11T07:50:00.620Z"
   },
   {
    "duration": 24,
    "start_time": "2021-11-11T07:50:00.643Z"
   },
   {
    "duration": 42,
    "start_time": "2021-11-11T07:50:00.670Z"
   },
   {
    "duration": 4,
    "start_time": "2021-11-11T07:50:00.714Z"
   },
   {
    "duration": 41,
    "start_time": "2021-11-11T07:50:00.720Z"
   },
   {
    "duration": 33,
    "start_time": "2021-11-11T07:50:00.763Z"
   },
   {
    "duration": 28,
    "start_time": "2021-11-11T07:50:00.798Z"
   },
   {
    "duration": 26,
    "start_time": "2021-11-11T07:50:00.828Z"
   },
   {
    "duration": 28,
    "start_time": "2021-11-11T07:50:00.857Z"
   },
   {
    "duration": 3810,
    "start_time": "2021-11-11T07:50:00.887Z"
   },
   {
    "duration": 22,
    "start_time": "2021-11-11T07:50:04.699Z"
   },
   {
    "duration": 13,
    "start_time": "2021-11-11T07:50:04.723Z"
   },
   {
    "duration": 9,
    "start_time": "2021-11-11T07:50:04.739Z"
   },
   {
    "duration": 4016,
    "start_time": "2021-11-11T07:50:04.751Z"
   },
   {
    "duration": 30,
    "start_time": "2021-11-11T07:50:08.769Z"
   },
   {
    "duration": 17,
    "start_time": "2021-11-11T07:50:08.801Z"
   },
   {
    "duration": 14,
    "start_time": "2021-11-11T07:50:08.820Z"
   },
   {
    "duration": 15,
    "start_time": "2021-11-11T07:50:08.837Z"
   },
   {
    "duration": 13,
    "start_time": "2021-11-11T07:50:08.883Z"
   },
   {
    "duration": 7,
    "start_time": "2021-11-11T07:50:08.898Z"
   },
   {
    "duration": 17,
    "start_time": "2021-11-11T07:50:08.907Z"
   },
   {
    "duration": 12,
    "start_time": "2021-11-11T07:50:08.927Z"
   },
   {
    "duration": 42,
    "start_time": "2021-11-11T07:50:08.942Z"
   },
   {
    "duration": 18,
    "start_time": "2021-11-11T07:50:08.987Z"
   },
   {
    "duration": 20,
    "start_time": "2021-11-11T07:50:09.008Z"
   },
   {
    "duration": 6,
    "start_time": "2021-11-11T07:50:09.031Z"
   },
   {
    "duration": 46,
    "start_time": "2021-11-11T07:50:09.040Z"
   },
   {
    "duration": 20,
    "start_time": "2021-11-11T07:50:09.089Z"
   },
   {
    "duration": 6,
    "start_time": "2021-11-11T07:50:09.112Z"
   },
   {
    "duration": 30,
    "start_time": "2021-11-11T07:50:09.120Z"
   },
   {
    "duration": 18,
    "start_time": "2021-11-11T07:50:09.152Z"
   },
   {
    "duration": 6,
    "start_time": "2021-11-11T07:50:09.173Z"
   },
   {
    "duration": 24,
    "start_time": "2021-11-11T07:50:09.181Z"
   },
   {
    "duration": 408,
    "start_time": "2021-11-11T07:50:09.208Z"
   },
   {
    "duration": -645,
    "start_time": "2021-11-11T07:50:10.264Z"
   },
   {
    "duration": 11,
    "start_time": "2021-11-11T07:50:41.111Z"
   },
   {
    "duration": 291,
    "start_time": "2021-11-11T07:50:55.727Z"
   },
   {
    "duration": 295,
    "start_time": "2021-11-11T07:51:14.947Z"
   },
   {
    "duration": 10,
    "start_time": "2021-11-11T07:52:04.421Z"
   },
   {
    "duration": 9,
    "start_time": "2021-11-11T07:52:05.178Z"
   },
   {
    "duration": 16,
    "start_time": "2021-11-11T07:53:04.651Z"
   },
   {
    "duration": 13,
    "start_time": "2021-11-11T07:53:05.924Z"
   },
   {
    "duration": 6,
    "start_time": "2021-11-11T07:54:52.461Z"
   },
   {
    "duration": 10,
    "start_time": "2021-11-11T07:54:52.735Z"
   },
   {
    "duration": 369,
    "start_time": "2021-11-11T07:55:46.381Z"
   },
   {
    "duration": 351,
    "start_time": "2021-11-11T07:56:10.414Z"
   },
   {
    "duration": 12,
    "start_time": "2021-11-11T07:56:33.510Z"
   },
   {
    "duration": 7,
    "start_time": "2021-11-11T07:59:52.715Z"
   },
   {
    "duration": 17,
    "start_time": "2021-11-11T07:59:54.217Z"
   },
   {
    "duration": 955,
    "start_time": "2021-11-11T08:00:08.264Z"
   },
   {
    "duration": 17,
    "start_time": "2021-11-11T08:00:09.221Z"
   },
   {
    "duration": 41,
    "start_time": "2021-11-11T08:00:09.243Z"
   },
   {
    "duration": 23,
    "start_time": "2021-11-11T08:00:09.287Z"
   },
   {
    "duration": 8,
    "start_time": "2021-11-11T08:00:09.312Z"
   },
   {
    "duration": 38,
    "start_time": "2021-11-11T08:00:09.323Z"
   },
   {
    "duration": 26,
    "start_time": "2021-11-11T08:00:09.363Z"
   },
   {
    "duration": 89,
    "start_time": "2021-11-11T08:00:09.394Z"
   },
   {
    "duration": 8,
    "start_time": "2021-11-11T08:00:09.487Z"
   },
   {
    "duration": 39,
    "start_time": "2021-11-11T08:00:09.497Z"
   },
   {
    "duration": 7,
    "start_time": "2021-11-11T08:00:09.538Z"
   },
   {
    "duration": 36,
    "start_time": "2021-11-11T08:00:09.548Z"
   },
   {
    "duration": 17,
    "start_time": "2021-11-11T08:00:09.586Z"
   },
   {
    "duration": 8,
    "start_time": "2021-11-11T08:00:09.605Z"
   },
   {
    "duration": 17,
    "start_time": "2021-11-11T08:00:09.615Z"
   },
   {
    "duration": 10,
    "start_time": "2021-11-11T08:00:09.634Z"
   },
   {
    "duration": 88,
    "start_time": "2021-11-11T08:00:09.646Z"
   },
   {
    "duration": 12,
    "start_time": "2021-11-11T08:00:09.736Z"
   },
   {
    "duration": 17,
    "start_time": "2021-11-11T08:00:09.750Z"
   },
   {
    "duration": 35,
    "start_time": "2021-11-11T08:00:09.769Z"
   },
   {
    "duration": 22,
    "start_time": "2021-11-11T08:00:09.806Z"
   },
   {
    "duration": 6,
    "start_time": "2021-11-11T08:00:09.831Z"
   },
   {
    "duration": 21,
    "start_time": "2021-11-11T08:00:09.845Z"
   },
   {
    "duration": 21,
    "start_time": "2021-11-11T08:00:09.871Z"
   },
   {
    "duration": 24,
    "start_time": "2021-11-11T08:00:09.896Z"
   },
   {
    "duration": 6,
    "start_time": "2021-11-11T08:00:09.922Z"
   },
   {
    "duration": 19,
    "start_time": "2021-11-11T08:00:09.930Z"
   },
   {
    "duration": 11,
    "start_time": "2021-11-11T08:00:09.952Z"
   },
   {
    "duration": 10,
    "start_time": "2021-11-11T08:00:09.983Z"
   },
   {
    "duration": 25,
    "start_time": "2021-11-11T08:00:09.995Z"
   },
   {
    "duration": 37,
    "start_time": "2021-11-11T08:00:10.022Z"
   },
   {
    "duration": 3,
    "start_time": "2021-11-11T08:00:10.062Z"
   },
   {
    "duration": 39,
    "start_time": "2021-11-11T08:00:10.067Z"
   },
   {
    "duration": 27,
    "start_time": "2021-11-11T08:00:10.108Z"
   },
   {
    "duration": 44,
    "start_time": "2021-11-11T08:00:10.138Z"
   },
   {
    "duration": 31,
    "start_time": "2021-11-11T08:00:10.185Z"
   },
   {
    "duration": 9,
    "start_time": "2021-11-11T08:00:10.219Z"
   },
   {
    "duration": 3348,
    "start_time": "2021-11-11T08:00:10.230Z"
   },
   {
    "duration": 26,
    "start_time": "2021-11-11T08:00:13.583Z"
   },
   {
    "duration": 8,
    "start_time": "2021-11-11T08:00:13.611Z"
   },
   {
    "duration": 20,
    "start_time": "2021-11-11T08:00:13.621Z"
   },
   {
    "duration": 4349,
    "start_time": "2021-11-11T08:00:13.643Z"
   },
   {
    "duration": 21,
    "start_time": "2021-11-11T08:00:17.994Z"
   },
   {
    "duration": 11,
    "start_time": "2021-11-11T08:00:18.019Z"
   },
   {
    "duration": 13,
    "start_time": "2021-11-11T08:00:18.033Z"
   },
   {
    "duration": 56,
    "start_time": "2021-11-11T08:00:18.049Z"
   },
   {
    "duration": 10,
    "start_time": "2021-11-11T08:00:18.107Z"
   },
   {
    "duration": 5,
    "start_time": "2021-11-11T08:00:18.120Z"
   },
   {
    "duration": 14,
    "start_time": "2021-11-11T08:00:18.127Z"
   },
   {
    "duration": 45,
    "start_time": "2021-11-11T08:00:18.143Z"
   },
   {
    "duration": 6,
    "start_time": "2021-11-11T08:00:18.191Z"
   },
   {
    "duration": 16,
    "start_time": "2021-11-11T08:00:18.200Z"
   },
   {
    "duration": 13,
    "start_time": "2021-11-11T08:00:18.218Z"
   },
   {
    "duration": 5,
    "start_time": "2021-11-11T08:00:18.233Z"
   },
   {
    "duration": 49,
    "start_time": "2021-11-11T08:00:18.240Z"
   },
   {
    "duration": 13,
    "start_time": "2021-11-11T08:00:18.292Z"
   },
   {
    "duration": 6,
    "start_time": "2021-11-11T08:00:18.308Z"
   },
   {
    "duration": 11,
    "start_time": "2021-11-11T08:00:18.317Z"
   },
   {
    "duration": 19,
    "start_time": "2021-11-11T08:00:18.330Z"
   },
   {
    "duration": 32,
    "start_time": "2021-11-11T08:00:18.352Z"
   },
   {
    "duration": 19,
    "start_time": "2021-11-11T08:00:18.388Z"
   },
   {
    "duration": 13,
    "start_time": "2021-11-11T08:00:18.411Z"
   },
   {
    "duration": 5,
    "start_time": "2021-11-11T08:00:18.426Z"
   },
   {
    "duration": 13,
    "start_time": "2021-11-11T08:00:18.433Z"
   },
   {
    "duration": 7,
    "start_time": "2021-11-11T08:01:47.631Z"
   },
   {
    "duration": 7,
    "start_time": "2021-11-11T08:02:32.077Z"
   },
   {
    "duration": 4,
    "start_time": "2021-11-11T08:08:32.028Z"
   },
   {
    "duration": 9051,
    "start_time": "2021-11-11T08:13:03.344Z"
   },
   {
    "duration": 17,
    "start_time": "2021-11-11T08:13:24.895Z"
   },
   {
    "duration": 4,
    "start_time": "2021-11-11T08:15:56.359Z"
   },
   {
    "duration": 9140,
    "start_time": "2021-11-11T08:16:00.746Z"
   },
   {
    "duration": 19,
    "start_time": "2021-11-11T08:16:11.679Z"
   },
   {
    "duration": 5,
    "start_time": "2021-11-11T08:17:13.748Z"
   },
   {
    "duration": 14497,
    "start_time": "2021-11-11T08:17:15.373Z"
   },
   {
    "duration": 25,
    "start_time": "2021-11-11T08:17:30.865Z"
   },
   {
    "duration": 4,
    "start_time": "2021-11-11T08:21:15.736Z"
   },
   {
    "duration": 158,
    "start_time": "2021-11-11T08:21:17.641Z"
   },
   {
    "duration": 7,
    "start_time": "2021-11-11T08:21:20.697Z"
   },
   {
    "duration": 4,
    "start_time": "2021-11-11T08:22:08.649Z"
   },
   {
    "duration": 1524,
    "start_time": "2021-11-11T08:22:09.777Z"
   },
   {
    "duration": -665,
    "start_time": "2021-11-11T08:22:11.971Z"
   },
   {
    "duration": 894,
    "start_time": "2021-11-11T08:22:32.581Z"
   },
   {
    "duration": 25,
    "start_time": "2021-11-11T08:22:33.478Z"
   },
   {
    "duration": 12,
    "start_time": "2021-11-11T08:22:33.507Z"
   },
   {
    "duration": 19,
    "start_time": "2021-11-11T08:22:33.522Z"
   },
   {
    "duration": 7,
    "start_time": "2021-11-11T08:22:33.544Z"
   },
   {
    "duration": 28,
    "start_time": "2021-11-11T08:22:33.581Z"
   },
   {
    "duration": 8,
    "start_time": "2021-11-11T08:22:33.612Z"
   },
   {
    "duration": 89,
    "start_time": "2021-11-11T08:22:33.624Z"
   },
   {
    "duration": 8,
    "start_time": "2021-11-11T08:22:33.716Z"
   },
   {
    "duration": 22,
    "start_time": "2021-11-11T08:22:33.727Z"
   },
   {
    "duration": 36,
    "start_time": "2021-11-11T08:22:33.751Z"
   },
   {
    "duration": 23,
    "start_time": "2021-11-11T08:22:33.793Z"
   },
   {
    "duration": 8,
    "start_time": "2021-11-11T08:22:33.819Z"
   },
   {
    "duration": 6,
    "start_time": "2021-11-11T08:22:33.830Z"
   },
   {
    "duration": 10,
    "start_time": "2021-11-11T08:22:33.838Z"
   },
   {
    "duration": 14,
    "start_time": "2021-11-11T08:22:33.883Z"
   },
   {
    "duration": 56,
    "start_time": "2021-11-11T08:22:33.898Z"
   },
   {
    "duration": 39,
    "start_time": "2021-11-11T08:22:33.957Z"
   },
   {
    "duration": 5,
    "start_time": "2021-11-11T08:22:33.999Z"
   },
   {
    "duration": 15,
    "start_time": "2021-11-11T08:22:34.007Z"
   },
   {
    "duration": 26,
    "start_time": "2021-11-11T08:22:34.025Z"
   },
   {
    "duration": 34,
    "start_time": "2021-11-11T08:22:34.053Z"
   },
   {
    "duration": 10,
    "start_time": "2021-11-11T08:22:34.096Z"
   },
   {
    "duration": 5,
    "start_time": "2021-11-11T08:22:34.110Z"
   },
   {
    "duration": 22,
    "start_time": "2021-11-11T08:22:34.118Z"
   },
   {
    "duration": 47,
    "start_time": "2021-11-11T08:22:34.143Z"
   },
   {
    "duration": 17,
    "start_time": "2021-11-11T08:22:34.193Z"
   },
   {
    "duration": 7,
    "start_time": "2021-11-11T08:22:34.213Z"
   },
   {
    "duration": 10,
    "start_time": "2021-11-11T08:22:34.222Z"
   },
   {
    "duration": 7,
    "start_time": "2021-11-11T08:22:34.235Z"
   },
   {
    "duration": 56,
    "start_time": "2021-11-11T08:22:34.245Z"
   },
   {
    "duration": 6,
    "start_time": "2021-11-11T08:22:34.304Z"
   },
   {
    "duration": 11,
    "start_time": "2021-11-11T08:22:34.312Z"
   },
   {
    "duration": 4,
    "start_time": "2021-11-11T08:22:34.325Z"
   },
   {
    "duration": 11810,
    "start_time": "2021-11-11T08:22:34.331Z"
   },
   {
    "duration": 19,
    "start_time": "2021-11-11T08:22:46.144Z"
   },
   {
    "duration": 68,
    "start_time": "2021-11-11T08:22:46.165Z"
   },
   {
    "duration": 51,
    "start_time": "2021-11-11T08:22:46.235Z"
   },
   {
    "duration": 18,
    "start_time": "2021-11-11T08:22:46.288Z"
   },
   {
    "duration": 14,
    "start_time": "2021-11-11T08:22:46.309Z"
   },
   {
    "duration": 5,
    "start_time": "2021-11-11T08:22:46.325Z"
   },
   {
    "duration": 2107,
    "start_time": "2021-11-11T08:22:46.333Z"
   },
   {
    "duration": 12,
    "start_time": "2021-11-11T08:22:48.443Z"
   },
   {
    "duration": 8,
    "start_time": "2021-11-11T08:22:48.457Z"
   },
   {
    "duration": 5,
    "start_time": "2021-11-11T08:22:48.483Z"
   },
   {
    "duration": 784,
    "start_time": "2021-11-11T08:22:48.493Z"
   },
   {
    "duration": 30,
    "start_time": "2021-11-11T08:22:49.280Z"
   },
   {
    "duration": 11,
    "start_time": "2021-11-11T08:22:49.313Z"
   },
   {
    "duration": 13,
    "start_time": "2021-11-11T08:22:49.326Z"
   },
   {
    "duration": 22,
    "start_time": "2021-11-11T08:22:49.341Z"
   },
   {
    "duration": 8,
    "start_time": "2021-11-11T08:22:49.381Z"
   },
   {
    "duration": 9,
    "start_time": "2021-11-11T08:22:49.392Z"
   },
   {
    "duration": 21,
    "start_time": "2021-11-11T08:22:49.404Z"
   },
   {
    "duration": 14,
    "start_time": "2021-11-11T08:22:49.428Z"
   },
   {
    "duration": 6,
    "start_time": "2021-11-11T08:22:49.445Z"
   },
   {
    "duration": 42,
    "start_time": "2021-11-11T08:22:49.455Z"
   },
   {
    "duration": 14,
    "start_time": "2021-11-11T08:22:49.500Z"
   },
   {
    "duration": 7,
    "start_time": "2021-11-11T08:22:49.516Z"
   },
   {
    "duration": 17,
    "start_time": "2021-11-11T08:22:49.526Z"
   },
   {
    "duration": 47,
    "start_time": "2021-11-11T08:22:49.546Z"
   },
   {
    "duration": 6,
    "start_time": "2021-11-11T08:22:49.596Z"
   },
   {
    "duration": 14,
    "start_time": "2021-11-11T08:22:49.605Z"
   },
   {
    "duration": 11,
    "start_time": "2021-11-11T08:22:49.622Z"
   },
   {
    "duration": 49,
    "start_time": "2021-11-11T08:22:49.636Z"
   },
   {
    "duration": 16,
    "start_time": "2021-11-11T08:22:49.690Z"
   },
   {
    "duration": 11,
    "start_time": "2021-11-11T08:22:49.709Z"
   },
   {
    "duration": 6,
    "start_time": "2021-11-11T08:22:49.723Z"
   },
   {
    "duration": 49,
    "start_time": "2021-11-11T08:22:49.738Z"
   },
   {
    "duration": 933,
    "start_time": "2021-11-11T08:23:47.989Z"
   },
   {
    "duration": 15,
    "start_time": "2021-11-11T08:23:48.924Z"
   },
   {
    "duration": 12,
    "start_time": "2021-11-11T08:23:48.942Z"
   },
   {
    "duration": 46,
    "start_time": "2021-11-11T08:23:48.956Z"
   },
   {
    "duration": 8,
    "start_time": "2021-11-11T08:23:49.005Z"
   },
   {
    "duration": 22,
    "start_time": "2021-11-11T08:23:49.016Z"
   },
   {
    "duration": 48,
    "start_time": "2021-11-11T08:23:49.040Z"
   },
   {
    "duration": 66,
    "start_time": "2021-11-11T08:23:49.092Z"
   },
   {
    "duration": 34,
    "start_time": "2021-11-11T08:23:49.161Z"
   },
   {
    "duration": 22,
    "start_time": "2021-11-11T08:23:49.198Z"
   },
   {
    "duration": 9,
    "start_time": "2021-11-11T08:23:49.223Z"
   },
   {
    "duration": 67,
    "start_time": "2021-11-11T08:23:49.234Z"
   },
   {
    "duration": 10,
    "start_time": "2021-11-11T08:23:49.304Z"
   },
   {
    "duration": 7,
    "start_time": "2021-11-11T08:23:49.317Z"
   },
   {
    "duration": 11,
    "start_time": "2021-11-11T08:23:49.327Z"
   },
   {
    "duration": 54,
    "start_time": "2021-11-11T08:23:49.341Z"
   },
   {
    "duration": 59,
    "start_time": "2021-11-11T08:23:49.397Z"
   },
   {
    "duration": 13,
    "start_time": "2021-11-11T08:23:49.458Z"
   },
   {
    "duration": 7,
    "start_time": "2021-11-11T08:23:49.487Z"
   },
   {
    "duration": 22,
    "start_time": "2021-11-11T08:23:49.496Z"
   },
   {
    "duration": 21,
    "start_time": "2021-11-11T08:23:49.521Z"
   },
   {
    "duration": 6,
    "start_time": "2021-11-11T08:23:49.544Z"
   },
   {
    "duration": 6,
    "start_time": "2021-11-11T08:23:49.583Z"
   },
   {
    "duration": 7,
    "start_time": "2021-11-11T08:23:49.595Z"
   },
   {
    "duration": 27,
    "start_time": "2021-11-11T08:23:49.604Z"
   },
   {
    "duration": 6,
    "start_time": "2021-11-11T08:23:49.633Z"
   },
   {
    "duration": 39,
    "start_time": "2021-11-11T08:23:49.642Z"
   },
   {
    "duration": 7,
    "start_time": "2021-11-11T08:23:49.685Z"
   },
   {
    "duration": 16,
    "start_time": "2021-11-11T08:23:49.695Z"
   },
   {
    "duration": 8,
    "start_time": "2021-11-11T08:23:49.713Z"
   },
   {
    "duration": 67,
    "start_time": "2021-11-11T08:23:49.724Z"
   },
   {
    "duration": 8,
    "start_time": "2021-11-11T08:23:49.793Z"
   },
   {
    "duration": 9,
    "start_time": "2021-11-11T08:23:49.804Z"
   },
   {
    "duration": 107,
    "start_time": "2021-11-11T08:23:49.815Z"
   },
   {
    "duration": -1139,
    "start_time": "2021-11-11T08:23:51.063Z"
   },
   {
    "duration": -1142,
    "start_time": "2021-11-11T08:23:51.068Z"
   },
   {
    "duration": -1146,
    "start_time": "2021-11-11T08:23:51.073Z"
   },
   {
    "duration": -1149,
    "start_time": "2021-11-11T08:23:51.077Z"
   },
   {
    "duration": -1153,
    "start_time": "2021-11-11T08:23:51.083Z"
   },
   {
    "duration": -1156,
    "start_time": "2021-11-11T08:23:51.087Z"
   },
   {
    "duration": -1159,
    "start_time": "2021-11-11T08:23:51.092Z"
   },
   {
    "duration": -1187,
    "start_time": "2021-11-11T08:23:51.121Z"
   },
   {
    "duration": -1198,
    "start_time": "2021-11-11T08:23:51.133Z"
   },
   {
    "duration": -1207,
    "start_time": "2021-11-11T08:23:51.144Z"
   },
   {
    "duration": -1219,
    "start_time": "2021-11-11T08:23:51.157Z"
   },
   {
    "duration": -1222,
    "start_time": "2021-11-11T08:23:51.162Z"
   },
   {
    "duration": -1233,
    "start_time": "2021-11-11T08:23:51.174Z"
   },
   {
    "duration": -1240,
    "start_time": "2021-11-11T08:23:51.182Z"
   },
   {
    "duration": -1248,
    "start_time": "2021-11-11T08:23:51.192Z"
   },
   {
    "duration": -1258,
    "start_time": "2021-11-11T08:23:51.203Z"
   },
   {
    "duration": -1267,
    "start_time": "2021-11-11T08:23:51.213Z"
   },
   {
    "duration": -1285,
    "start_time": "2021-11-11T08:23:51.232Z"
   },
   {
    "duration": -1294,
    "start_time": "2021-11-11T08:23:51.243Z"
   },
   {
    "duration": -1304,
    "start_time": "2021-11-11T08:23:51.254Z"
   },
   {
    "duration": -1313,
    "start_time": "2021-11-11T08:23:51.264Z"
   },
   {
    "duration": -1320,
    "start_time": "2021-11-11T08:23:51.273Z"
   },
   {
    "duration": -1328,
    "start_time": "2021-11-11T08:23:51.282Z"
   },
   {
    "duration": -1332,
    "start_time": "2021-11-11T08:23:51.287Z"
   },
   {
    "duration": -1340,
    "start_time": "2021-11-11T08:23:51.297Z"
   },
   {
    "duration": -1351,
    "start_time": "2021-11-11T08:23:51.309Z"
   },
   {
    "duration": -1361,
    "start_time": "2021-11-11T08:23:51.321Z"
   },
   {
    "duration": -1368,
    "start_time": "2021-11-11T08:23:51.329Z"
   },
   {
    "duration": -1363,
    "start_time": "2021-11-11T08:23:51.351Z"
   },
   {
    "duration": -1370,
    "start_time": "2021-11-11T08:23:51.360Z"
   },
   {
    "duration": -1378,
    "start_time": "2021-11-11T08:23:51.370Z"
   },
   {
    "duration": -1383,
    "start_time": "2021-11-11T08:23:51.376Z"
   },
   {
    "duration": -1388,
    "start_time": "2021-11-11T08:23:51.385Z"
   },
   {
    "duration": -1392,
    "start_time": "2021-11-11T08:23:51.391Z"
   },
   {
    "duration": 4,
    "start_time": "2021-11-11T08:24:12.055Z"
   },
   {
    "duration": 9103,
    "start_time": "2021-11-11T08:24:14.072Z"
   },
   {
    "duration": 16,
    "start_time": "2021-11-11T08:24:23.182Z"
   },
   {
    "duration": 4,
    "start_time": "2021-11-11T08:25:00.673Z"
   },
   {
    "duration": 9953,
    "start_time": "2021-11-11T08:25:04.256Z"
   },
   {
    "duration": 17,
    "start_time": "2021-11-11T08:25:14.211Z"
   },
   {
    "duration": 395,
    "start_time": "2021-11-11T08:28:14.514Z"
   },
   {
    "duration": 24,
    "start_time": "2021-11-11T08:30:06.858Z"
   },
   {
    "duration": 17,
    "start_time": "2021-11-11T08:30:10.205Z"
   },
   {
    "duration": 15,
    "start_time": "2021-11-11T08:31:21.703Z"
   },
   {
    "duration": 17,
    "start_time": "2021-11-11T08:31:22.171Z"
   },
   {
    "duration": 16,
    "start_time": "2021-11-11T08:31:22.575Z"
   },
   {
    "duration": 21,
    "start_time": "2021-11-11T08:31:22.995Z"
   },
   {
    "duration": 884,
    "start_time": "2021-11-11T08:31:37.376Z"
   },
   {
    "duration": 22,
    "start_time": "2021-11-11T08:31:38.263Z"
   },
   {
    "duration": 12,
    "start_time": "2021-11-11T08:31:38.288Z"
   },
   {
    "duration": 20,
    "start_time": "2021-11-11T08:31:38.302Z"
   },
   {
    "duration": 8,
    "start_time": "2021-11-11T08:31:38.324Z"
   },
   {
    "duration": 57,
    "start_time": "2021-11-11T08:31:38.334Z"
   },
   {
    "duration": 8,
    "start_time": "2021-11-11T08:31:38.393Z"
   },
   {
    "duration": 81,
    "start_time": "2021-11-11T08:31:38.404Z"
   },
   {
    "duration": 7,
    "start_time": "2021-11-11T08:31:38.488Z"
   },
   {
    "duration": 25,
    "start_time": "2021-11-11T08:31:38.497Z"
   },
   {
    "duration": 7,
    "start_time": "2021-11-11T08:31:38.524Z"
   },
   {
    "duration": 51,
    "start_time": "2021-11-11T08:31:38.533Z"
   },
   {
    "duration": 9,
    "start_time": "2021-11-11T08:31:38.586Z"
   },
   {
    "duration": 4,
    "start_time": "2021-11-11T08:31:38.598Z"
   },
   {
    "duration": 11,
    "start_time": "2021-11-11T08:31:38.605Z"
   },
   {
    "duration": 8,
    "start_time": "2021-11-11T08:31:38.618Z"
   },
   {
    "duration": 96,
    "start_time": "2021-11-11T08:31:38.629Z"
   },
   {
    "duration": 12,
    "start_time": "2021-11-11T08:31:38.727Z"
   },
   {
    "duration": 7,
    "start_time": "2021-11-11T08:31:38.742Z"
   },
   {
    "duration": 39,
    "start_time": "2021-11-11T08:31:38.751Z"
   },
   {
    "duration": 20,
    "start_time": "2021-11-11T08:31:38.792Z"
   },
   {
    "duration": 6,
    "start_time": "2021-11-11T08:31:38.814Z"
   },
   {
    "duration": 5,
    "start_time": "2021-11-11T08:31:38.826Z"
   },
   {
    "duration": 7,
    "start_time": "2021-11-11T08:31:38.834Z"
   },
   {
    "duration": 56,
    "start_time": "2021-11-11T08:31:38.843Z"
   },
   {
    "duration": 6,
    "start_time": "2021-11-11T08:31:38.901Z"
   },
   {
    "duration": 8,
    "start_time": "2021-11-11T08:31:38.909Z"
   },
   {
    "duration": 4,
    "start_time": "2021-11-11T08:31:38.920Z"
   },
   {
    "duration": 11,
    "start_time": "2021-11-11T08:31:38.926Z"
   },
   {
    "duration": 45,
    "start_time": "2021-11-11T08:31:38.939Z"
   },
   {
    "duration": 24,
    "start_time": "2021-11-11T08:31:38.987Z"
   },
   {
    "duration": 7,
    "start_time": "2021-11-11T08:31:39.014Z"
   },
   {
    "duration": 7,
    "start_time": "2021-11-11T08:31:39.024Z"
   },
   {
    "duration": 56,
    "start_time": "2021-11-11T08:31:39.033Z"
   },
   {
    "duration": 20,
    "start_time": "2021-11-11T08:31:39.092Z"
   },
   {
    "duration": 17,
    "start_time": "2021-11-11T08:31:39.114Z"
   },
   {
    "duration": 24,
    "start_time": "2021-11-11T08:31:39.133Z"
   },
   {
    "duration": 34,
    "start_time": "2021-11-11T08:31:39.159Z"
   },
   {
    "duration": 35,
    "start_time": "2021-11-11T08:31:39.195Z"
   },
   {
    "duration": 58,
    "start_time": "2021-11-11T08:31:39.232Z"
   },
   {
    "duration": 25,
    "start_time": "2021-11-11T08:31:39.292Z"
   },
   {
    "duration": 63,
    "start_time": "2021-11-11T08:31:39.319Z"
   },
   {
    "duration": 9,
    "start_time": "2021-11-11T08:31:39.385Z"
   },
   {
    "duration": 3701,
    "start_time": "2021-11-11T08:31:39.397Z"
   },
   {
    "duration": 25,
    "start_time": "2021-11-11T08:31:43.101Z"
   },
   {
    "duration": 6,
    "start_time": "2021-11-11T08:31:43.128Z"
   },
   {
    "duration": 11,
    "start_time": "2021-11-11T08:31:43.136Z"
   },
   {
    "duration": 3603,
    "start_time": "2021-11-11T08:31:43.149Z"
   },
   {
    "duration": 31,
    "start_time": "2021-11-11T08:31:46.754Z"
   },
   {
    "duration": 15,
    "start_time": "2021-11-11T08:31:46.788Z"
   },
   {
    "duration": 18,
    "start_time": "2021-11-11T08:31:46.805Z"
   },
   {
    "duration": 23,
    "start_time": "2021-11-11T08:31:46.826Z"
   },
   {
    "duration": 38,
    "start_time": "2021-11-11T08:31:46.851Z"
   },
   {
    "duration": 7,
    "start_time": "2021-11-11T08:31:46.892Z"
   },
   {
    "duration": 17,
    "start_time": "2021-11-11T08:31:46.901Z"
   },
   {
    "duration": 15,
    "start_time": "2021-11-11T08:31:46.921Z"
   },
   {
    "duration": 5,
    "start_time": "2021-11-11T08:31:46.939Z"
   },
   {
    "duration": 39,
    "start_time": "2021-11-11T08:31:46.946Z"
   },
   {
    "duration": 17,
    "start_time": "2021-11-11T08:31:46.988Z"
   },
   {
    "duration": 5,
    "start_time": "2021-11-11T08:31:47.007Z"
   },
   {
    "duration": 15,
    "start_time": "2021-11-11T08:31:47.015Z"
   },
   {
    "duration": 12,
    "start_time": "2021-11-11T08:31:47.033Z"
   },
   {
    "duration": 37,
    "start_time": "2021-11-11T08:31:47.047Z"
   },
   {
    "duration": 16,
    "start_time": "2021-11-11T08:31:47.087Z"
   },
   {
    "duration": 13,
    "start_time": "2021-11-11T08:31:47.106Z"
   },
   {
    "duration": 5,
    "start_time": "2021-11-11T08:31:47.122Z"
   },
   {
    "duration": 19,
    "start_time": "2021-11-11T08:31:47.130Z"
   },
   {
    "duration": 12,
    "start_time": "2021-11-11T08:31:47.181Z"
   },
   {
    "duration": 7,
    "start_time": "2021-11-11T08:31:47.195Z"
   },
   {
    "duration": 16,
    "start_time": "2021-11-11T08:31:47.205Z"
   },
   {
    "duration": 906,
    "start_time": "2021-11-11T11:09:02.298Z"
   },
   {
    "duration": 23,
    "start_time": "2021-11-11T11:09:03.207Z"
   },
   {
    "duration": 13,
    "start_time": "2021-11-11T11:09:03.233Z"
   },
   {
    "duration": 19,
    "start_time": "2021-11-11T11:09:03.249Z"
   },
   {
    "duration": 7,
    "start_time": "2021-11-11T11:09:03.271Z"
   },
   {
    "duration": 57,
    "start_time": "2021-11-11T11:09:03.281Z"
   },
   {
    "duration": 23,
    "start_time": "2021-11-11T11:09:03.340Z"
   },
   {
    "duration": 69,
    "start_time": "2021-11-11T11:09:03.366Z"
   },
   {
    "duration": 6,
    "start_time": "2021-11-11T11:09:03.438Z"
   },
   {
    "duration": 31,
    "start_time": "2021-11-11T11:09:03.446Z"
   },
   {
    "duration": 8,
    "start_time": "2021-11-11T11:09:03.479Z"
   },
   {
    "duration": 46,
    "start_time": "2021-11-11T11:09:03.489Z"
   },
   {
    "duration": 21,
    "start_time": "2021-11-11T11:09:03.537Z"
   },
   {
    "duration": 14,
    "start_time": "2021-11-11T11:09:03.560Z"
   },
   {
    "duration": 23,
    "start_time": "2021-11-11T11:09:03.576Z"
   },
   {
    "duration": 15,
    "start_time": "2021-11-11T11:09:03.602Z"
   },
   {
    "duration": 68,
    "start_time": "2021-11-11T11:09:03.620Z"
   },
   {
    "duration": 12,
    "start_time": "2021-11-11T11:09:03.690Z"
   },
   {
    "duration": 12,
    "start_time": "2021-11-11T11:09:03.704Z"
   },
   {
    "duration": 21,
    "start_time": "2021-11-11T11:09:03.719Z"
   },
   {
    "duration": 29,
    "start_time": "2021-11-11T11:09:03.742Z"
   },
   {
    "duration": 6,
    "start_time": "2021-11-11T11:09:03.774Z"
   },
   {
    "duration": 19,
    "start_time": "2021-11-11T11:09:03.785Z"
   },
   {
    "duration": 31,
    "start_time": "2021-11-11T11:09:03.807Z"
   },
   {
    "duration": 41,
    "start_time": "2021-11-11T11:09:03.840Z"
   },
   {
    "duration": 6,
    "start_time": "2021-11-11T11:09:03.884Z"
   },
   {
    "duration": 25,
    "start_time": "2021-11-11T11:09:03.892Z"
   },
   {
    "duration": 23,
    "start_time": "2021-11-11T11:09:03.920Z"
   },
   {
    "duration": 22,
    "start_time": "2021-11-11T11:09:03.946Z"
   },
   {
    "duration": 20,
    "start_time": "2021-11-11T11:09:03.970Z"
   },
   {
    "duration": 52,
    "start_time": "2021-11-11T11:09:03.993Z"
   },
   {
    "duration": 18,
    "start_time": "2021-11-11T11:09:04.047Z"
   },
   {
    "duration": 34,
    "start_time": "2021-11-11T11:09:04.068Z"
   },
   {
    "duration": 37,
    "start_time": "2021-11-11T11:09:04.105Z"
   },
   {
    "duration": 32,
    "start_time": "2021-11-11T11:09:04.144Z"
   },
   {
    "duration": 29,
    "start_time": "2021-11-11T11:09:04.178Z"
   },
   {
    "duration": 46,
    "start_time": "2021-11-11T11:09:04.210Z"
   },
   {
    "duration": 29,
    "start_time": "2021-11-11T11:09:04.259Z"
   },
   {
    "duration": 45,
    "start_time": "2021-11-11T11:09:04.290Z"
   },
   {
    "duration": 43,
    "start_time": "2021-11-11T11:09:04.337Z"
   },
   {
    "duration": 11,
    "start_time": "2021-11-11T11:09:04.382Z"
   },
   {
    "duration": 3615,
    "start_time": "2021-11-11T11:09:04.395Z"
   },
   {
    "duration": 28,
    "start_time": "2021-11-11T11:09:08.013Z"
   },
   {
    "duration": 13,
    "start_time": "2021-11-11T11:09:08.043Z"
   },
   {
    "duration": 33,
    "start_time": "2021-11-11T11:09:08.058Z"
   },
   {
    "duration": 3947,
    "start_time": "2021-11-11T11:09:08.094Z"
   },
   {
    "duration": 20,
    "start_time": "2021-11-11T11:09:12.044Z"
   },
   {
    "duration": 43,
    "start_time": "2021-11-11T11:09:12.067Z"
   },
   {
    "duration": 27,
    "start_time": "2021-11-11T11:09:12.114Z"
   },
   {
    "duration": 31,
    "start_time": "2021-11-11T11:09:12.144Z"
   },
   {
    "duration": 18,
    "start_time": "2021-11-11T11:09:12.178Z"
   },
   {
    "duration": 20,
    "start_time": "2021-11-11T11:09:12.199Z"
   },
   {
    "duration": 42,
    "start_time": "2021-11-11T11:09:12.222Z"
   },
   {
    "duration": 33,
    "start_time": "2021-11-11T11:09:12.267Z"
   },
   {
    "duration": 7,
    "start_time": "2021-11-11T11:09:12.303Z"
   },
   {
    "duration": 37,
    "start_time": "2021-11-11T11:09:12.312Z"
   },
   {
    "duration": 30,
    "start_time": "2021-11-11T11:09:12.351Z"
   },
   {
    "duration": 20,
    "start_time": "2021-11-11T11:09:12.384Z"
   },
   {
    "duration": 33,
    "start_time": "2021-11-11T11:09:12.406Z"
   },
   {
    "duration": 26,
    "start_time": "2021-11-11T11:09:12.441Z"
   },
   {
    "duration": 28,
    "start_time": "2021-11-11T11:09:12.470Z"
   },
   {
    "duration": 38,
    "start_time": "2021-11-11T11:09:12.500Z"
   },
   {
    "duration": 26,
    "start_time": "2021-11-11T11:09:12.541Z"
   },
   {
    "duration": 31,
    "start_time": "2021-11-11T11:09:12.569Z"
   },
   {
    "duration": 38,
    "start_time": "2021-11-11T11:09:12.602Z"
   },
   {
    "duration": 26,
    "start_time": "2021-11-11T11:09:12.643Z"
   },
   {
    "duration": 37,
    "start_time": "2021-11-11T11:09:12.672Z"
   },
   {
    "duration": 22,
    "start_time": "2021-11-11T11:09:12.716Z"
   },
   {
    "duration": 21,
    "start_time": "2021-11-11T11:21:44.731Z"
   },
   {
    "duration": 24,
    "start_time": "2021-11-11T11:21:52.341Z"
   },
   {
    "duration": 22,
    "start_time": "2021-11-11T11:22:29.841Z"
   },
   {
    "duration": 26,
    "start_time": "2021-11-11T11:22:30.603Z"
   },
   {
    "duration": 14,
    "start_time": "2021-11-11T11:23:03.994Z"
   },
   {
    "duration": 12,
    "start_time": "2021-11-11T11:23:04.798Z"
   },
   {
    "duration": 5,
    "start_time": "2021-11-11T11:23:59.813Z"
   },
   {
    "duration": 12,
    "start_time": "2021-11-11T11:24:07.494Z"
   },
   {
    "duration": 21,
    "start_time": "2021-11-11T11:24:07.943Z"
   },
   {
    "duration": 12,
    "start_time": "2021-11-11T11:41:31.559Z"
   },
   {
    "duration": 13,
    "start_time": "2021-11-11T11:41:51.341Z"
   },
   {
    "duration": 5,
    "start_time": "2021-11-11T11:42:03.754Z"
   },
   {
    "duration": 13,
    "start_time": "2021-11-11T11:42:11.044Z"
   },
   {
    "duration": 103,
    "start_time": "2021-11-11T12:11:17.644Z"
   },
   {
    "duration": 99,
    "start_time": "2021-11-11T12:19:27.223Z"
   },
   {
    "duration": 10,
    "start_time": "2021-11-11T12:19:38.587Z"
   },
   {
    "duration": 13,
    "start_time": "2021-11-11T12:20:24.207Z"
   },
   {
    "duration": 12,
    "start_time": "2021-11-11T12:20:29.196Z"
   },
   {
    "duration": 6,
    "start_time": "2021-11-11T12:21:20.421Z"
   },
   {
    "duration": 12,
    "start_time": "2021-11-11T12:21:25.991Z"
   },
   {
    "duration": 12,
    "start_time": "2021-11-11T12:23:16.920Z"
   },
   {
    "duration": 879,
    "start_time": "2021-11-11T12:32:09.065Z"
   },
   {
    "duration": 18,
    "start_time": "2021-11-11T12:32:09.948Z"
   },
   {
    "duration": 14,
    "start_time": "2021-11-11T12:32:09.969Z"
   },
   {
    "duration": 58,
    "start_time": "2021-11-11T12:32:09.986Z"
   },
   {
    "duration": 8,
    "start_time": "2021-11-11T12:32:10.046Z"
   },
   {
    "duration": 27,
    "start_time": "2021-11-11T12:32:10.057Z"
   },
   {
    "duration": 11,
    "start_time": "2021-11-11T12:32:10.086Z"
   },
   {
    "duration": 61,
    "start_time": "2021-11-11T12:32:10.129Z"
   },
   {
    "duration": 9,
    "start_time": "2021-11-11T12:32:10.193Z"
   },
   {
    "duration": 44,
    "start_time": "2021-11-11T12:32:10.204Z"
   },
   {
    "duration": 9,
    "start_time": "2021-11-11T12:32:10.250Z"
   },
   {
    "duration": 30,
    "start_time": "2021-11-11T12:32:10.262Z"
   },
   {
    "duration": 39,
    "start_time": "2021-11-11T12:32:10.296Z"
   },
   {
    "duration": 20,
    "start_time": "2021-11-11T12:32:10.338Z"
   },
   {
    "duration": 17,
    "start_time": "2021-11-11T12:32:10.360Z"
   },
   {
    "duration": 37,
    "start_time": "2021-11-11T12:32:10.379Z"
   },
   {
    "duration": 64,
    "start_time": "2021-11-11T12:32:10.419Z"
   },
   {
    "duration": 14,
    "start_time": "2021-11-11T12:32:10.486Z"
   },
   {
    "duration": 26,
    "start_time": "2021-11-11T12:32:10.503Z"
   },
   {
    "duration": 25,
    "start_time": "2021-11-11T12:32:10.531Z"
   },
   {
    "duration": 30,
    "start_time": "2021-11-11T12:32:10.559Z"
   },
   {
    "duration": 12,
    "start_time": "2021-11-11T12:32:10.593Z"
   },
   {
    "duration": 16,
    "start_time": "2021-11-11T12:32:10.611Z"
   },
   {
    "duration": 20,
    "start_time": "2021-11-11T12:32:10.631Z"
   },
   {
    "duration": 31,
    "start_time": "2021-11-11T12:32:10.653Z"
   },
   {
    "duration": 8,
    "start_time": "2021-11-11T12:32:10.686Z"
   },
   {
    "duration": 22,
    "start_time": "2021-11-11T12:32:10.696Z"
   },
   {
    "duration": 18,
    "start_time": "2021-11-11T12:32:10.720Z"
   },
   {
    "duration": 19,
    "start_time": "2021-11-11T12:32:10.741Z"
   },
   {
    "duration": 9,
    "start_time": "2021-11-11T12:32:10.763Z"
   },
   {
    "duration": 33,
    "start_time": "2021-11-11T12:32:10.774Z"
   },
   {
    "duration": 2,
    "start_time": "2021-11-11T12:32:10.810Z"
   },
   {
    "duration": 23,
    "start_time": "2021-11-11T12:32:10.815Z"
   },
   {
    "duration": 21,
    "start_time": "2021-11-11T12:32:10.841Z"
   },
   {
    "duration": 20,
    "start_time": "2021-11-11T12:32:10.865Z"
   },
   {
    "duration": 20,
    "start_time": "2021-11-11T12:32:10.888Z"
   },
   {
    "duration": 32,
    "start_time": "2021-11-11T12:32:10.911Z"
   },
   {
    "duration": 36,
    "start_time": "2021-11-11T12:32:10.946Z"
   },
   {
    "duration": 53,
    "start_time": "2021-11-11T12:32:10.984Z"
   },
   {
    "duration": 29,
    "start_time": "2021-11-11T12:32:11.040Z"
   },
   {
    "duration": 64,
    "start_time": "2021-11-11T12:32:11.072Z"
   },
   {
    "duration": 8,
    "start_time": "2021-11-11T12:32:11.138Z"
   },
   {
    "duration": 3539,
    "start_time": "2021-11-11T12:32:11.148Z"
   },
   {
    "duration": 23,
    "start_time": "2021-11-11T12:32:14.690Z"
   },
   {
    "duration": 15,
    "start_time": "2021-11-11T12:32:14.715Z"
   },
   {
    "duration": 9,
    "start_time": "2021-11-11T12:32:14.733Z"
   },
   {
    "duration": 3640,
    "start_time": "2021-11-11T12:32:14.744Z"
   },
   {
    "duration": 19,
    "start_time": "2021-11-11T12:32:18.386Z"
   },
   {
    "duration": 29,
    "start_time": "2021-11-11T12:32:18.408Z"
   },
   {
    "duration": 16,
    "start_time": "2021-11-11T12:32:18.439Z"
   },
   {
    "duration": 19,
    "start_time": "2021-11-11T12:32:18.457Z"
   },
   {
    "duration": 11,
    "start_time": "2021-11-11T12:32:18.479Z"
   },
   {
    "duration": 38,
    "start_time": "2021-11-11T12:32:18.492Z"
   },
   {
    "duration": 14,
    "start_time": "2021-11-11T12:32:18.532Z"
   },
   {
    "duration": 11,
    "start_time": "2021-11-11T12:32:18.548Z"
   },
   {
    "duration": 5,
    "start_time": "2021-11-11T12:32:18.561Z"
   },
   {
    "duration": 15,
    "start_time": "2021-11-11T12:32:18.569Z"
   },
   {
    "duration": 48,
    "start_time": "2021-11-11T12:32:18.587Z"
   },
   {
    "duration": 5,
    "start_time": "2021-11-11T12:32:18.637Z"
   },
   {
    "duration": 14,
    "start_time": "2021-11-11T12:32:18.645Z"
   },
   {
    "duration": 16,
    "start_time": "2021-11-11T12:32:18.662Z"
   },
   {
    "duration": 7,
    "start_time": "2021-11-11T12:32:18.680Z"
   },
   {
    "duration": 15,
    "start_time": "2021-11-11T12:32:18.730Z"
   },
   {
    "duration": 13,
    "start_time": "2021-11-11T12:32:18.748Z"
   },
   {
    "duration": 6,
    "start_time": "2021-11-11T12:32:18.764Z"
   },
   {
    "duration": 14,
    "start_time": "2021-11-11T12:32:18.773Z"
   },
   {
    "duration": 14,
    "start_time": "2021-11-11T12:32:18.830Z"
   },
   {
    "duration": 9,
    "start_time": "2021-11-11T12:32:18.852Z"
   },
   {
    "duration": 12,
    "start_time": "2021-11-11T12:32:18.864Z"
   },
   {
    "duration": 15,
    "start_time": "2021-11-11T12:32:18.879Z"
   },
   {
    "duration": 32,
    "start_time": "2021-11-11T12:32:18.897Z"
   },
   {
    "duration": 16,
    "start_time": "2021-11-11T12:32:18.931Z"
   },
   {
    "duration": 21,
    "start_time": "2021-11-11T12:32:18.950Z"
   },
   {
    "duration": 7,
    "start_time": "2021-11-11T12:32:18.973Z"
   },
   {
    "duration": 47,
    "start_time": "2021-11-11T12:32:18.983Z"
   },
   {
    "duration": 21,
    "start_time": "2021-11-11T12:32:19.033Z"
   },
   {
    "duration": 6,
    "start_time": "2021-11-11T12:32:19.056Z"
   },
   {
    "duration": 15,
    "start_time": "2021-11-11T12:32:19.065Z"
   },
   {
    "duration": 629,
    "start_time": "2021-11-13T10:51:29.454Z"
   },
   {
    "duration": 10,
    "start_time": "2021-11-13T10:51:30.085Z"
   },
   {
    "duration": 15,
    "start_time": "2021-11-13T10:51:30.097Z"
   },
   {
    "duration": 27,
    "start_time": "2021-11-13T10:51:30.114Z"
   },
   {
    "duration": 11,
    "start_time": "2021-11-13T10:51:30.143Z"
   },
   {
    "duration": 24,
    "start_time": "2021-11-13T10:51:30.156Z"
   },
   {
    "duration": 27,
    "start_time": "2021-11-13T10:51:30.182Z"
   },
   {
    "duration": 49,
    "start_time": "2021-11-13T10:51:30.212Z"
   },
   {
    "duration": 5,
    "start_time": "2021-11-13T10:51:30.263Z"
   },
   {
    "duration": 34,
    "start_time": "2021-11-13T10:51:30.270Z"
   },
   {
    "duration": 7,
    "start_time": "2021-11-13T10:51:30.306Z"
   },
   {
    "duration": 26,
    "start_time": "2021-11-13T10:51:30.315Z"
   },
   {
    "duration": 30,
    "start_time": "2021-11-13T10:51:30.343Z"
   },
   {
    "duration": 13,
    "start_time": "2021-11-13T10:51:30.375Z"
   },
   {
    "duration": 11,
    "start_time": "2021-11-13T10:51:30.389Z"
   },
   {
    "duration": 21,
    "start_time": "2021-11-13T10:51:30.401Z"
   },
   {
    "duration": 63,
    "start_time": "2021-11-13T10:51:30.424Z"
   },
   {
    "duration": 12,
    "start_time": "2021-11-13T10:51:30.488Z"
   },
   {
    "duration": 16,
    "start_time": "2021-11-13T10:51:30.501Z"
   },
   {
    "duration": 24,
    "start_time": "2021-11-13T10:51:30.519Z"
   },
   {
    "duration": 32,
    "start_time": "2021-11-13T10:51:30.544Z"
   },
   {
    "duration": 22,
    "start_time": "2021-11-13T10:51:30.578Z"
   },
   {
    "duration": 8,
    "start_time": "2021-11-13T10:51:30.604Z"
   },
   {
    "duration": 11,
    "start_time": "2021-11-13T10:51:30.615Z"
   },
   {
    "duration": 24,
    "start_time": "2021-11-13T10:51:30.627Z"
   },
   {
    "duration": 9,
    "start_time": "2021-11-13T10:51:30.653Z"
   },
   {
    "duration": 22,
    "start_time": "2021-11-13T10:51:30.663Z"
   },
   {
    "duration": 13,
    "start_time": "2021-11-13T10:51:30.687Z"
   },
   {
    "duration": 28,
    "start_time": "2021-11-13T10:51:30.702Z"
   },
   {
    "duration": 26,
    "start_time": "2021-11-13T10:51:30.732Z"
   },
   {
    "duration": 30,
    "start_time": "2021-11-13T10:51:30.760Z"
   },
   {
    "duration": 5,
    "start_time": "2021-11-13T10:51:30.792Z"
   },
   {
    "duration": 26,
    "start_time": "2021-11-13T10:51:30.799Z"
   },
   {
    "duration": 32,
    "start_time": "2021-11-13T10:51:30.827Z"
   },
   {
    "duration": 50,
    "start_time": "2021-11-13T10:51:30.861Z"
   },
   {
    "duration": 53,
    "start_time": "2021-11-13T10:51:30.913Z"
   },
   {
    "duration": 23,
    "start_time": "2021-11-13T10:51:30.968Z"
   },
   {
    "duration": 49,
    "start_time": "2021-11-13T10:51:30.992Z"
   },
   {
    "duration": 30,
    "start_time": "2021-11-13T10:51:31.043Z"
   },
   {
    "duration": 24,
    "start_time": "2021-11-13T10:51:31.075Z"
   },
   {
    "duration": 49,
    "start_time": "2021-11-13T10:51:31.101Z"
   },
   {
    "duration": 16,
    "start_time": "2021-11-13T10:51:31.152Z"
   },
   {
    "duration": 2513,
    "start_time": "2021-11-13T10:51:31.170Z"
   },
   {
    "duration": 22,
    "start_time": "2021-11-13T10:51:33.685Z"
   },
   {
    "duration": 2,
    "start_time": "2021-11-13T10:51:33.709Z"
   },
   {
    "duration": 10,
    "start_time": "2021-11-13T10:51:33.713Z"
   },
   {
    "duration": 3164,
    "start_time": "2021-11-13T10:51:33.724Z"
   },
   {
    "duration": 20,
    "start_time": "2021-11-13T10:51:36.890Z"
   },
   {
    "duration": 11,
    "start_time": "2021-11-13T10:51:36.912Z"
   },
   {
    "duration": 13,
    "start_time": "2021-11-13T10:51:36.924Z"
   },
   {
    "duration": 15,
    "start_time": "2021-11-13T10:51:36.938Z"
   },
   {
    "duration": 10,
    "start_time": "2021-11-13T10:51:36.954Z"
   },
   {
    "duration": 4,
    "start_time": "2021-11-13T10:51:36.965Z"
   },
   {
    "duration": 37,
    "start_time": "2021-11-13T10:51:36.970Z"
   },
   {
    "duration": 7,
    "start_time": "2021-11-13T10:51:37.009Z"
   },
   {
    "duration": 6,
    "start_time": "2021-11-13T10:51:37.018Z"
   },
   {
    "duration": 11,
    "start_time": "2021-11-13T10:51:37.026Z"
   },
   {
    "duration": 9,
    "start_time": "2021-11-13T10:51:37.038Z"
   },
   {
    "duration": 5,
    "start_time": "2021-11-13T10:51:37.048Z"
   },
   {
    "duration": 20,
    "start_time": "2021-11-13T10:51:37.054Z"
   },
   {
    "duration": 14,
    "start_time": "2021-11-13T10:51:37.075Z"
   },
   {
    "duration": 16,
    "start_time": "2021-11-13T10:51:37.091Z"
   },
   {
    "duration": 11,
    "start_time": "2021-11-13T10:51:37.108Z"
   },
   {
    "duration": 9,
    "start_time": "2021-11-13T10:51:37.120Z"
   },
   {
    "duration": 5,
    "start_time": "2021-11-13T10:51:37.130Z"
   },
   {
    "duration": 11,
    "start_time": "2021-11-13T10:51:37.137Z"
   },
   {
    "duration": 8,
    "start_time": "2021-11-13T10:51:37.150Z"
   },
   {
    "duration": 3,
    "start_time": "2021-11-13T10:51:37.163Z"
   },
   {
    "duration": 41,
    "start_time": "2021-11-13T10:51:37.168Z"
   },
   {
    "duration": 9,
    "start_time": "2021-11-13T10:51:37.211Z"
   },
   {
    "duration": 6,
    "start_time": "2021-11-13T10:51:37.222Z"
   },
   {
    "duration": 11,
    "start_time": "2021-11-13T10:51:37.229Z"
   },
   {
    "duration": 12,
    "start_time": "2021-11-13T10:51:37.241Z"
   },
   {
    "duration": 3,
    "start_time": "2021-11-13T10:51:37.255Z"
   },
   {
    "duration": 11,
    "start_time": "2021-11-13T10:51:37.260Z"
   },
   {
    "duration": 34,
    "start_time": "2021-11-13T10:51:37.273Z"
   },
   {
    "duration": 4,
    "start_time": "2021-11-13T10:51:37.309Z"
   },
   {
    "duration": 11,
    "start_time": "2021-11-13T10:51:37.314Z"
   },
   {
    "duration": 126,
    "start_time": "2021-11-13T10:57:37.513Z"
   },
   {
    "duration": 419,
    "start_time": "2021-11-13T10:58:22.639Z"
   },
   {
    "duration": 377,
    "start_time": "2021-11-13T11:00:41.211Z"
   },
   {
    "duration": 106,
    "start_time": "2021-11-13T11:01:28.914Z"
   },
   {
    "duration": 369,
    "start_time": "2021-11-13T11:03:13.958Z"
   },
   {
    "duration": 673,
    "start_time": "2021-11-13T11:03:26.322Z"
   },
   {
    "duration": 10,
    "start_time": "2021-11-13T11:03:26.996Z"
   },
   {
    "duration": 17,
    "start_time": "2021-11-13T11:03:27.008Z"
   },
   {
    "duration": 21,
    "start_time": "2021-11-13T11:03:27.026Z"
   },
   {
    "duration": 5,
    "start_time": "2021-11-13T11:03:27.048Z"
   },
   {
    "duration": 16,
    "start_time": "2021-11-13T11:03:27.054Z"
   },
   {
    "duration": 8,
    "start_time": "2021-11-13T11:03:27.072Z"
   },
   {
    "duration": 49,
    "start_time": "2021-11-13T11:03:27.083Z"
   },
   {
    "duration": 5,
    "start_time": "2021-11-13T11:03:27.134Z"
   },
   {
    "duration": 33,
    "start_time": "2021-11-13T11:03:27.141Z"
   },
   {
    "duration": 11,
    "start_time": "2021-11-13T11:03:27.175Z"
   },
   {
    "duration": 24,
    "start_time": "2021-11-13T11:03:27.187Z"
   },
   {
    "duration": 6,
    "start_time": "2021-11-13T11:03:27.212Z"
   },
   {
    "duration": 15,
    "start_time": "2021-11-13T11:03:27.220Z"
   },
   {
    "duration": 20,
    "start_time": "2021-11-13T11:03:27.236Z"
   },
   {
    "duration": 17,
    "start_time": "2021-11-13T11:03:27.258Z"
   },
   {
    "duration": 53,
    "start_time": "2021-11-13T11:03:27.277Z"
   },
   {
    "duration": 9,
    "start_time": "2021-11-13T11:03:27.332Z"
   },
   {
    "duration": 15,
    "start_time": "2021-11-13T11:03:27.342Z"
   },
   {
    "duration": 27,
    "start_time": "2021-11-13T11:03:27.358Z"
   },
   {
    "duration": 18,
    "start_time": "2021-11-13T11:03:27.387Z"
   },
   {
    "duration": 15,
    "start_time": "2021-11-13T11:03:27.407Z"
   },
   {
    "duration": 13,
    "start_time": "2021-11-13T11:03:27.425Z"
   },
   {
    "duration": 8,
    "start_time": "2021-11-13T11:03:27.441Z"
   },
   {
    "duration": 29,
    "start_time": "2021-11-13T11:03:27.450Z"
   },
   {
    "duration": 4,
    "start_time": "2021-11-13T11:03:27.481Z"
   },
   {
    "duration": 26,
    "start_time": "2021-11-13T11:03:27.487Z"
   },
   {
    "duration": 29,
    "start_time": "2021-11-13T11:03:27.515Z"
   },
   {
    "duration": 21,
    "start_time": "2021-11-13T11:03:27.546Z"
   },
   {
    "duration": 25,
    "start_time": "2021-11-13T11:03:27.569Z"
   },
   {
    "duration": 30,
    "start_time": "2021-11-13T11:03:27.596Z"
   },
   {
    "duration": 4,
    "start_time": "2021-11-13T11:03:27.627Z"
   },
   {
    "duration": 19,
    "start_time": "2021-11-13T11:03:27.632Z"
   },
   {
    "duration": 26,
    "start_time": "2021-11-13T11:03:27.652Z"
   },
   {
    "duration": 18,
    "start_time": "2021-11-13T11:03:27.680Z"
   },
   {
    "duration": 29,
    "start_time": "2021-11-13T11:03:27.699Z"
   },
   {
    "duration": 17,
    "start_time": "2021-11-13T11:03:27.730Z"
   },
   {
    "duration": 41,
    "start_time": "2021-11-13T11:03:27.748Z"
   },
   {
    "duration": 21,
    "start_time": "2021-11-13T11:03:27.790Z"
   },
   {
    "duration": 17,
    "start_time": "2021-11-13T11:03:27.812Z"
   },
   {
    "duration": 32,
    "start_time": "2021-11-13T11:03:27.830Z"
   },
   {
    "duration": 8,
    "start_time": "2021-11-13T11:03:27.864Z"
   },
   {
    "duration": 2662,
    "start_time": "2021-11-13T11:03:27.874Z"
   },
   {
    "duration": 16,
    "start_time": "2021-11-13T11:03:30.538Z"
   },
   {
    "duration": 57,
    "start_time": "2021-11-13T11:03:30.555Z"
   },
   {
    "duration": 54,
    "start_time": "2021-11-13T11:03:30.613Z"
   },
   {
    "duration": 2815,
    "start_time": "2021-11-13T11:03:30.669Z"
   },
   {
    "duration": 23,
    "start_time": "2021-11-13T11:03:33.486Z"
   },
   {
    "duration": 24,
    "start_time": "2021-11-13T11:03:33.511Z"
   },
   {
    "duration": 29,
    "start_time": "2021-11-13T11:03:33.536Z"
   },
   {
    "duration": 38,
    "start_time": "2021-11-13T11:03:33.567Z"
   },
   {
    "duration": 17,
    "start_time": "2021-11-13T11:03:33.607Z"
   },
   {
    "duration": 15,
    "start_time": "2021-11-13T11:03:33.626Z"
   },
   {
    "duration": 22,
    "start_time": "2021-11-13T11:03:33.643Z"
   },
   {
    "duration": 9,
    "start_time": "2021-11-13T11:03:33.667Z"
   },
   {
    "duration": 21,
    "start_time": "2021-11-13T11:03:33.677Z"
   },
   {
    "duration": 22,
    "start_time": "2021-11-13T11:03:33.699Z"
   },
   {
    "duration": 25,
    "start_time": "2021-11-13T11:03:33.723Z"
   },
   {
    "duration": 13,
    "start_time": "2021-11-13T11:03:33.750Z"
   },
   {
    "duration": 14,
    "start_time": "2021-11-13T11:03:33.765Z"
   },
   {
    "duration": 22,
    "start_time": "2021-11-13T11:03:33.781Z"
   },
   {
    "duration": 7,
    "start_time": "2021-11-13T11:03:33.805Z"
   },
   {
    "duration": 22,
    "start_time": "2021-11-13T11:03:33.814Z"
   },
   {
    "duration": 19,
    "start_time": "2021-11-13T11:03:33.838Z"
   },
   {
    "duration": 20,
    "start_time": "2021-11-13T11:03:33.858Z"
   },
   {
    "duration": 29,
    "start_time": "2021-11-13T11:03:33.880Z"
   },
   {
    "duration": 39,
    "start_time": "2021-11-13T11:03:33.910Z"
   },
   {
    "duration": 18,
    "start_time": "2021-11-13T11:03:33.954Z"
   },
   {
    "duration": 10,
    "start_time": "2021-11-13T11:03:33.974Z"
   },
   {
    "duration": 23,
    "start_time": "2021-11-13T11:03:33.985Z"
   },
   {
    "duration": 8,
    "start_time": "2021-11-13T11:03:34.010Z"
   },
   {
    "duration": 25,
    "start_time": "2021-11-13T11:03:34.019Z"
   },
   {
    "duration": 26,
    "start_time": "2021-11-13T11:03:34.046Z"
   },
   {
    "duration": 21,
    "start_time": "2021-11-13T11:03:34.074Z"
   },
   {
    "duration": 27,
    "start_time": "2021-11-13T11:03:34.097Z"
   },
   {
    "duration": 430,
    "start_time": "2021-11-13T11:03:34.126Z"
   },
   {
    "duration": -1538,
    "start_time": "2021-11-13T11:03:36.096Z"
   },
   {
    "duration": -1552,
    "start_time": "2021-11-13T11:03:36.111Z"
   },
   {
    "duration": 10,
    "start_time": "2021-11-13T11:04:18.841Z"
   },
   {
    "duration": 5,
    "start_time": "2021-11-13T11:04:21.268Z"
   },
   {
    "duration": 8,
    "start_time": "2021-11-13T11:04:21.758Z"
   },
   {
    "duration": 380,
    "start_time": "2021-11-13T11:04:36.538Z"
   },
   {
    "duration": 10,
    "start_time": "2021-11-13T11:04:51.439Z"
   },
   {
    "duration": 4,
    "start_time": "2021-11-13T11:05:15.697Z"
   },
   {
    "duration": 8,
    "start_time": "2021-11-13T11:05:15.921Z"
   },
   {
    "duration": 14,
    "start_time": "2021-11-13T11:05:42.317Z"
   },
   {
    "duration": 9415,
    "start_time": "2021-11-13T11:05:43.676Z"
   },
   {
    "duration": -1533,
    "start_time": "2021-11-13T11:05:54.626Z"
   },
   {
    "duration": 9,
    "start_time": "2021-11-13T11:05:59.519Z"
   },
   {
    "duration": 11,
    "start_time": "2021-11-13T11:06:31.799Z"
   },
   {
    "duration": 7,
    "start_time": "2021-11-13T11:06:32.294Z"
   },
   {
    "duration": 4,
    "start_time": "2021-11-13T11:06:34.006Z"
   },
   {
    "duration": 8,
    "start_time": "2021-11-13T11:06:35.558Z"
   },
   {
    "duration": 128,
    "start_time": "2021-11-13T11:10:32.657Z"
   },
   {
    "duration": 12,
    "start_time": "2021-11-13T11:10:38.942Z"
   },
   {
    "duration": 7,
    "start_time": "2021-11-13T11:10:46.210Z"
   },
   {
    "duration": 118,
    "start_time": "2021-11-13T11:11:19.022Z"
   },
   {
    "duration": 11,
    "start_time": "2021-11-13T11:11:25.206Z"
   },
   {
    "duration": 8,
    "start_time": "2021-11-13T11:11:27.116Z"
   },
   {
    "duration": 7,
    "start_time": "2021-11-13T11:11:47.302Z"
   },
   {
    "duration": 6,
    "start_time": "2021-11-13T11:11:47.858Z"
   },
   {
    "duration": 109,
    "start_time": "2021-11-13T11:12:52.004Z"
   },
   {
    "duration": 118,
    "start_time": "2021-11-13T11:14:02.538Z"
   },
   {
    "duration": 115,
    "start_time": "2021-11-13T11:14:07.389Z"
   },
   {
    "duration": 4,
    "start_time": "2021-11-13T11:15:16.301Z"
   },
   {
    "duration": 9,
    "start_time": "2021-11-13T11:15:17.971Z"
   },
   {
    "duration": 718,
    "start_time": "2021-11-13T12:39:08.090Z"
   },
   {
    "duration": 10,
    "start_time": "2021-11-13T12:39:08.810Z"
   },
   {
    "duration": 21,
    "start_time": "2021-11-13T12:39:08.823Z"
   },
   {
    "duration": 37,
    "start_time": "2021-11-13T12:39:08.846Z"
   },
   {
    "duration": 6,
    "start_time": "2021-11-13T12:39:08.885Z"
   },
   {
    "duration": 27,
    "start_time": "2021-11-13T12:39:08.893Z"
   },
   {
    "duration": 33,
    "start_time": "2021-11-13T12:39:08.922Z"
   },
   {
    "duration": 55,
    "start_time": "2021-11-13T12:39:08.958Z"
   },
   {
    "duration": 6,
    "start_time": "2021-11-13T12:39:09.015Z"
   },
   {
    "duration": 26,
    "start_time": "2021-11-13T12:39:09.023Z"
   },
   {
    "duration": 16,
    "start_time": "2021-11-13T12:39:09.051Z"
   },
   {
    "duration": 21,
    "start_time": "2021-11-13T12:39:09.069Z"
   },
   {
    "duration": 8,
    "start_time": "2021-11-13T12:39:09.092Z"
   },
   {
    "duration": 7,
    "start_time": "2021-11-13T12:39:09.102Z"
   },
   {
    "duration": 14,
    "start_time": "2021-11-13T12:39:09.112Z"
   },
   {
    "duration": 8,
    "start_time": "2021-11-13T12:39:09.128Z"
   },
   {
    "duration": 77,
    "start_time": "2021-11-13T12:39:09.138Z"
   },
   {
    "duration": 14,
    "start_time": "2021-11-13T12:39:09.217Z"
   },
   {
    "duration": 11,
    "start_time": "2021-11-13T12:39:09.233Z"
   },
   {
    "duration": 17,
    "start_time": "2021-11-13T12:39:09.245Z"
   },
   {
    "duration": 22,
    "start_time": "2021-11-13T12:39:09.264Z"
   },
   {
    "duration": 5,
    "start_time": "2021-11-13T12:39:09.288Z"
   },
   {
    "duration": 16,
    "start_time": "2021-11-13T12:39:09.297Z"
   },
   {
    "duration": 14,
    "start_time": "2021-11-13T12:39:09.315Z"
   },
   {
    "duration": 19,
    "start_time": "2021-11-13T12:39:09.331Z"
   },
   {
    "duration": 4,
    "start_time": "2021-11-13T12:39:09.352Z"
   },
   {
    "duration": 15,
    "start_time": "2021-11-13T12:39:09.358Z"
   },
   {
    "duration": 12,
    "start_time": "2021-11-13T12:39:09.375Z"
   },
   {
    "duration": 12,
    "start_time": "2021-11-13T12:39:09.389Z"
   },
   {
    "duration": 14,
    "start_time": "2021-11-13T12:39:09.403Z"
   },
   {
    "duration": 27,
    "start_time": "2021-11-13T12:39:09.419Z"
   },
   {
    "duration": 2,
    "start_time": "2021-11-13T12:39:09.448Z"
   },
   {
    "duration": 21,
    "start_time": "2021-11-13T12:39:09.452Z"
   },
   {
    "duration": 20,
    "start_time": "2021-11-13T12:39:09.475Z"
   },
   {
    "duration": 19,
    "start_time": "2021-11-13T12:39:09.496Z"
   },
   {
    "duration": 22,
    "start_time": "2021-11-13T12:39:09.517Z"
   },
   {
    "duration": 17,
    "start_time": "2021-11-13T12:39:09.541Z"
   },
   {
    "duration": 31,
    "start_time": "2021-11-13T12:39:09.560Z"
   },
   {
    "duration": 25,
    "start_time": "2021-11-13T12:39:09.593Z"
   },
   {
    "duration": 18,
    "start_time": "2021-11-13T12:39:09.619Z"
   },
   {
    "duration": 32,
    "start_time": "2021-11-13T12:39:09.638Z"
   },
   {
    "duration": 5,
    "start_time": "2021-11-13T12:39:09.672Z"
   },
   {
    "duration": 2711,
    "start_time": "2021-11-13T12:39:09.707Z"
   },
   {
    "duration": 16,
    "start_time": "2021-11-13T12:39:12.420Z"
   },
   {
    "duration": 9,
    "start_time": "2021-11-13T12:39:12.438Z"
   },
   {
    "duration": 11,
    "start_time": "2021-11-13T12:39:12.448Z"
   },
   {
    "duration": 3349,
    "start_time": "2021-11-13T12:39:12.461Z"
   },
   {
    "duration": 12,
    "start_time": "2021-11-13T12:39:15.812Z"
   },
   {
    "duration": 23,
    "start_time": "2021-11-13T12:39:15.826Z"
   },
   {
    "duration": 23,
    "start_time": "2021-11-13T12:39:15.851Z"
   },
   {
    "duration": 30,
    "start_time": "2021-11-13T12:39:15.876Z"
   },
   {
    "duration": 28,
    "start_time": "2021-11-13T12:39:15.908Z"
   },
   {
    "duration": 13,
    "start_time": "2021-11-13T12:39:15.938Z"
   },
   {
    "duration": 28,
    "start_time": "2021-11-13T12:39:15.953Z"
   },
   {
    "duration": 35,
    "start_time": "2021-11-13T12:39:15.983Z"
   },
   {
    "duration": 26,
    "start_time": "2021-11-13T12:39:16.019Z"
   },
   {
    "duration": 8,
    "start_time": "2021-11-13T12:39:16.047Z"
   },
   {
    "duration": 47,
    "start_time": "2021-11-13T12:39:16.057Z"
   },
   {
    "duration": 14,
    "start_time": "2021-11-13T12:39:16.106Z"
   },
   {
    "duration": 11,
    "start_time": "2021-11-13T12:39:16.122Z"
   },
   {
    "duration": 19,
    "start_time": "2021-11-13T12:39:16.134Z"
   },
   {
    "duration": 17,
    "start_time": "2021-11-13T12:39:16.155Z"
   },
   {
    "duration": 4,
    "start_time": "2021-11-13T12:39:16.173Z"
   },
   {
    "duration": 19,
    "start_time": "2021-11-13T12:39:16.179Z"
   },
   {
    "duration": 8,
    "start_time": "2021-11-13T12:39:16.200Z"
   },
   {
    "duration": 11,
    "start_time": "2021-11-13T12:39:16.209Z"
   },
   {
    "duration": 13,
    "start_time": "2021-11-13T12:39:16.222Z"
   },
   {
    "duration": 21,
    "start_time": "2021-11-13T12:39:16.239Z"
   },
   {
    "duration": 18,
    "start_time": "2021-11-13T12:39:16.262Z"
   },
   {
    "duration": 14,
    "start_time": "2021-11-13T12:39:16.282Z"
   },
   {
    "duration": 31,
    "start_time": "2021-11-13T12:39:16.298Z"
   },
   {
    "duration": 17,
    "start_time": "2021-11-13T12:39:16.331Z"
   },
   {
    "duration": 22,
    "start_time": "2021-11-13T12:39:16.349Z"
   },
   {
    "duration": 29,
    "start_time": "2021-11-13T12:39:16.372Z"
   },
   {
    "duration": 16,
    "start_time": "2021-11-13T12:39:16.402Z"
   },
   {
    "duration": 37,
    "start_time": "2021-11-13T12:39:16.419Z"
   },
   {
    "duration": 30,
    "start_time": "2021-11-13T12:39:16.458Z"
   },
   {
    "duration": 8,
    "start_time": "2021-11-13T12:39:16.490Z"
   },
   {
    "duration": 17,
    "start_time": "2021-11-13T12:39:16.500Z"
   },
   {
    "duration": 29,
    "start_time": "2021-11-13T12:39:16.518Z"
   }
  ],
  "kernelspec": {
   "display_name": "Python 3",
   "language": "python",
   "name": "python3"
  },
  "language_info": {
   "codemirror_mode": {
    "name": "ipython",
    "version": 3
   },
   "file_extension": ".py",
   "mimetype": "text/x-python",
   "name": "python",
   "nbconvert_exporter": "python",
   "pygments_lexer": "ipython3",
   "version": "3.8.8"
  },
  "toc": {
   "base_numbering": 1,
   "nav_menu": {},
   "number_sections": true,
   "sideBar": true,
   "skip_h1_title": true,
   "title_cell": "Table of Contents",
   "title_sidebar": "Contents",
   "toc_cell": false,
   "toc_position": {
    "height": "calc(100% - 180px)",
    "left": "10px",
    "top": "150px",
    "width": "279.304px"
   },
   "toc_section_display": true,
   "toc_window_display": true
  }
 },
 "nbformat": 4,
 "nbformat_minor": 2
}

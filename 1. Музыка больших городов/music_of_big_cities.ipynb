{
 "cells": [
  {
   "cell_type": "markdown",
   "metadata": {
    "id": "E0vqbgi9ay0H"
   },
   "source": [
    "# Яндекс.Музыка"
   ]
  },
  {
   "cell_type": "markdown",
   "metadata": {
    "id": "VUC88oWjTJw2"
   },
   "source": [
    "Сравнение Москвы и Петербурга окружено мифами. Например:\n",
    " * Москва — мегаполис, подчинённый жёсткому ритму рабочей недели;\n",
    " * Петербург — культурная столица, со своими вкусами.\n",
    "\n",
    "На данных Яндекс.Музыки вы сравните поведение пользователей двух столиц.\n",
    "\n",
    "**Цель исследования** — проверьте три гипотезы:\n",
    "1. Активность пользователей зависит от дня недели. Причём в Москве и Петербурге это проявляется по-разному.\n",
    "2. В понедельник утром в Москве преобладают одни жанры, а в Петербурге — другие. Так же и вечером пятницы преобладают разные жанры — в зависимости от города. \n",
    "3. Москва и Петербург предпочитают разные жанры музыки. В Москве чаще слушают поп-музыку, в Петербурге — русский рэп."
   ]
  },
  {
   "cell_type": "markdown",
   "metadata": {
    "id": "Ml1hmfXC_Zcs"
   },
   "source": [
    "## Обзор данных\n",
    "\n",
    "Импортируем pandas, загрузим датасет, посмотрим на первые строки"
   ]
  },
  {
   "cell_type": "markdown",
   "metadata": {
    "id": "57eAOGIz_Zcs"
   },
   "source": [
    "Основной инструмент аналитика — `pandas`. Импортируйте эту библиотеку."
   ]
  },
  {
   "cell_type": "code",
   "execution_count": 1,
   "metadata": {
    "id": "AXN7PHPN_Zcs"
   },
   "outputs": [],
   "source": [
    "import pandas as pd# импорт библиотеки pandas"
   ]
  },
  {
   "cell_type": "code",
   "execution_count": 2,
   "metadata": {
    "id": "fFVu7vqh_Zct"
   },
   "outputs": [],
   "source": [
    "try:\n",
    "    df = pd.read_csv('/datasets/yandex_music_project.csv') #путь яндекса\n",
    "except:\n",
    "    df = pd.read_csv('https://code.s3.yandex.net/datasets/yandex_music_project.csv') # если же ошибка - мой путь"
   ]
  },
  {
   "cell_type": "code",
   "execution_count": 3,
   "metadata": {
    "id": "oWTVX3gW_Zct"
   },
   "outputs": [
    {
     "data": {
      "text/html": [
       "<div>\n",
       "<style scoped>\n",
       "    .dataframe tbody tr th:only-of-type {\n",
       "        vertical-align: middle;\n",
       "    }\n",
       "\n",
       "    .dataframe tbody tr th {\n",
       "        vertical-align: top;\n",
       "    }\n",
       "\n",
       "    .dataframe thead th {\n",
       "        text-align: right;\n",
       "    }\n",
       "</style>\n",
       "<table border=\"1\" class=\"dataframe\">\n",
       "  <thead>\n",
       "    <tr style=\"text-align: right;\">\n",
       "      <th></th>\n",
       "      <th>userID</th>\n",
       "      <th>Track</th>\n",
       "      <th>artist</th>\n",
       "      <th>genre</th>\n",
       "      <th>City</th>\n",
       "      <th>time</th>\n",
       "      <th>Day</th>\n",
       "    </tr>\n",
       "  </thead>\n",
       "  <tbody>\n",
       "    <tr>\n",
       "      <th>0</th>\n",
       "      <td>FFB692EC</td>\n",
       "      <td>Kamigata To Boots</td>\n",
       "      <td>The Mass Missile</td>\n",
       "      <td>rock</td>\n",
       "      <td>Saint-Petersburg</td>\n",
       "      <td>20:28:33</td>\n",
       "      <td>Wednesday</td>\n",
       "    </tr>\n",
       "    <tr>\n",
       "      <th>1</th>\n",
       "      <td>55204538</td>\n",
       "      <td>Delayed Because of Accident</td>\n",
       "      <td>Andreas Rönnberg</td>\n",
       "      <td>rock</td>\n",
       "      <td>Moscow</td>\n",
       "      <td>14:07:09</td>\n",
       "      <td>Friday</td>\n",
       "    </tr>\n",
       "    <tr>\n",
       "      <th>2</th>\n",
       "      <td>20EC38</td>\n",
       "      <td>Funiculì funiculà</td>\n",
       "      <td>Mario Lanza</td>\n",
       "      <td>pop</td>\n",
       "      <td>Saint-Petersburg</td>\n",
       "      <td>20:58:07</td>\n",
       "      <td>Wednesday</td>\n",
       "    </tr>\n",
       "    <tr>\n",
       "      <th>3</th>\n",
       "      <td>A3DD03C9</td>\n",
       "      <td>Dragons in the Sunset</td>\n",
       "      <td>Fire + Ice</td>\n",
       "      <td>folk</td>\n",
       "      <td>Saint-Petersburg</td>\n",
       "      <td>08:37:09</td>\n",
       "      <td>Monday</td>\n",
       "    </tr>\n",
       "    <tr>\n",
       "      <th>4</th>\n",
       "      <td>E2DC1FAE</td>\n",
       "      <td>Soul People</td>\n",
       "      <td>Space Echo</td>\n",
       "      <td>dance</td>\n",
       "      <td>Moscow</td>\n",
       "      <td>08:34:34</td>\n",
       "      <td>Monday</td>\n",
       "    </tr>\n",
       "    <tr>\n",
       "      <th>5</th>\n",
       "      <td>842029A1</td>\n",
       "      <td>Преданная</td>\n",
       "      <td>IMPERVTOR</td>\n",
       "      <td>rusrap</td>\n",
       "      <td>Saint-Petersburg</td>\n",
       "      <td>13:09:41</td>\n",
       "      <td>Friday</td>\n",
       "    </tr>\n",
       "    <tr>\n",
       "      <th>6</th>\n",
       "      <td>4CB90AA5</td>\n",
       "      <td>True</td>\n",
       "      <td>Roman Messer</td>\n",
       "      <td>dance</td>\n",
       "      <td>Moscow</td>\n",
       "      <td>13:00:07</td>\n",
       "      <td>Wednesday</td>\n",
       "    </tr>\n",
       "    <tr>\n",
       "      <th>7</th>\n",
       "      <td>F03E1C1F</td>\n",
       "      <td>Feeling This Way</td>\n",
       "      <td>Polina Griffith</td>\n",
       "      <td>dance</td>\n",
       "      <td>Moscow</td>\n",
       "      <td>20:47:49</td>\n",
       "      <td>Wednesday</td>\n",
       "    </tr>\n",
       "    <tr>\n",
       "      <th>8</th>\n",
       "      <td>8FA1D3BE</td>\n",
       "      <td>И вновь продолжается бой</td>\n",
       "      <td>NaN</td>\n",
       "      <td>ruspop</td>\n",
       "      <td>Moscow</td>\n",
       "      <td>09:17:40</td>\n",
       "      <td>Friday</td>\n",
       "    </tr>\n",
       "    <tr>\n",
       "      <th>9</th>\n",
       "      <td>E772D5C0</td>\n",
       "      <td>Pessimist</td>\n",
       "      <td>NaN</td>\n",
       "      <td>dance</td>\n",
       "      <td>Saint-Petersburg</td>\n",
       "      <td>21:20:49</td>\n",
       "      <td>Wednesday</td>\n",
       "    </tr>\n",
       "  </tbody>\n",
       "</table>\n",
       "</div>"
      ],
      "text/plain": [
       "     userID                        Track            artist   genre  \\\n",
       "0  FFB692EC            Kamigata To Boots  The Mass Missile    rock   \n",
       "1  55204538  Delayed Because of Accident  Andreas Rönnberg    rock   \n",
       "2    20EC38            Funiculì funiculà       Mario Lanza     pop   \n",
       "3  A3DD03C9        Dragons in the Sunset        Fire + Ice    folk   \n",
       "4  E2DC1FAE                  Soul People        Space Echo   dance   \n",
       "5  842029A1                    Преданная         IMPERVTOR  rusrap   \n",
       "6  4CB90AA5                         True      Roman Messer   dance   \n",
       "7  F03E1C1F             Feeling This Way   Polina Griffith   dance   \n",
       "8  8FA1D3BE     И вновь продолжается бой               NaN  ruspop   \n",
       "9  E772D5C0                    Pessimist               NaN   dance   \n",
       "\n",
       "             City        time        Day  \n",
       "0  Saint-Petersburg  20:28:33  Wednesday  \n",
       "1            Moscow  14:07:09     Friday  \n",
       "2  Saint-Petersburg  20:58:07  Wednesday  \n",
       "3  Saint-Petersburg  08:37:09     Monday  \n",
       "4            Moscow  08:34:34     Monday  \n",
       "5  Saint-Petersburg  13:09:41     Friday  \n",
       "6            Moscow  13:00:07  Wednesday  \n",
       "7            Moscow  20:47:49  Wednesday  \n",
       "8            Moscow  09:17:40     Friday  \n",
       "9  Saint-Petersburg  21:20:49  Wednesday  "
      ]
     },
     "execution_count": 3,
     "metadata": {},
     "output_type": "execute_result"
    }
   ],
   "source": [
    "df.head(10)# получение первых 10 строк таблицы df"
   ]
  },
  {
   "cell_type": "markdown",
   "metadata": {
    "id": "EO73Kwic_Zct"
   },
   "source": [
    "Одной командой получить общую информацию о таблице:"
   ]
  },
  {
   "cell_type": "code",
   "execution_count": 4,
   "metadata": {
    "id": "DSf2kIb-_Zct"
   },
   "outputs": [
    {
     "name": "stdout",
     "output_type": "stream",
     "text": [
      "<class 'pandas.core.frame.DataFrame'>\n",
      "RangeIndex: 65079 entries, 0 to 65078\n",
      "Data columns (total 7 columns):\n",
      " #   Column    Non-Null Count  Dtype \n",
      "---  ------    --------------  ----- \n",
      " 0     userID  65079 non-null  object\n",
      " 1   Track     63848 non-null  object\n",
      " 2   artist    57876 non-null  object\n",
      " 3   genre     63881 non-null  object\n",
      " 4     City    65079 non-null  object\n",
      " 5   time      65079 non-null  object\n",
      " 6   Day       65079 non-null  object\n",
      "dtypes: object(7)\n",
      "memory usage: 3.5+ MB\n"
     ]
    }
   ],
   "source": [
    "df.info()# получение общей информации о данных в таблице df"
   ]
  },
  {
   "cell_type": "markdown",
   "metadata": {
    "id": "MCB6-dXG_Zct"
   },
   "source": [
    "**Выводы**\n",
    "\n",
    "В каждой строке таблицы — данные о прослушанном треке. Часть колонок описывает саму композицию: название, исполнителя и жанр. Остальные данные рассказывают о пользователе: из какого он города, когда он слушал музыку. \n",
    "\n",
    "Предварительно можно утверждать, что, данных достаточно для проверки гипотез. Но встречаются пропуски в данных, а в названиях колонок — расхождения с хорошим стилем.\n",
    "\n",
    "Чтобы двигаться дальше, нужно устранить проблемы в данных."
   ]
  },
  {
   "cell_type": "markdown",
   "metadata": {
    "id": "SjYF6Ub9_Zct"
   },
   "source": [
    "## Предобработка данных\n",
    "Исправим стиль в заголовках столбцов, исключим пропуски. Затем проверим данные на дубликаты."
   ]
  },
  {
   "cell_type": "markdown",
   "metadata": {
    "id": "dIaKXr29_Zct"
   },
   "source": [
    "### Стиль заголовков\n",
    "Выведим на экран названия столбцов:"
   ]
  },
  {
   "cell_type": "code",
   "execution_count": 5,
   "metadata": {
    "id": "oKOTdF_Q_Zct"
   },
   "outputs": [
    {
     "data": {
      "text/plain": [
       "Index(['  userID', 'Track', 'artist', 'genre', '  City  ', 'time', 'Day'], dtype='object')"
      ]
     },
     "metadata": {},
     "output_type": "display_data"
    }
   ],
   "source": [
    "display(df.columns)# перечень названий столбцов таблицы df"
   ]
  },
  {
   "cell_type": "markdown",
   "metadata": {
    "id": "zj5534cv_Zct"
   },
   "source": [
    "Приведем названия столбцов в соответствие с хорошим стилем:"
   ]
  },
  {
   "cell_type": "code",
   "execution_count": 6,
   "metadata": {
    "id": "ISlFqs5y_Zct"
   },
   "outputs": [],
   "source": [
    "df=df.rename(columns={'  userID':'user_id', 'Track':'track', '  City  ':'city','Day':'day'})# переименование столбцов"
   ]
  },
  {
   "cell_type": "markdown",
   "metadata": {
    "id": "1dqbh00J_Zct"
   },
   "source": [
    "Проверим результат. Для этого ещё раз выведим на экран названия столбцов:"
   ]
  },
  {
   "cell_type": "code",
   "execution_count": 7,
   "metadata": {
    "id": "d4NOAmTW_Zct"
   },
   "outputs": [
    {
     "data": {
      "text/plain": [
       "Index(['user_id', 'track', 'artist', 'genre', 'city', 'time', 'day'], dtype='object')"
      ]
     },
     "metadata": {},
     "output_type": "display_data"
    }
   ],
   "source": [
    "display(df.columns)# проверка результатов - перечень названий столбцов"
   ]
  },
  {
   "cell_type": "markdown",
   "metadata": {
    "id": "5ISfbcfY_Zct"
   },
   "source": [
    "### Пропуски значений\n",
    "Сначала посчитаем, сколько в таблице пропущенных значений."
   ]
  },
  {
   "cell_type": "code",
   "execution_count": 8,
   "metadata": {
    "id": "RskX29qr_Zct"
   },
   "outputs": [
    {
     "data": {
      "text/plain": [
       "user_id       0\n",
       "track      1231\n",
       "artist     7203\n",
       "genre      1198\n",
       "city          0\n",
       "time          0\n",
       "day           0\n",
       "dtype: int64"
      ]
     },
     "metadata": {},
     "output_type": "display_data"
    }
   ],
   "source": [
    "display(df.isna().sum())# подсчёт пропусков"
   ]
  },
  {
   "cell_type": "markdown",
   "metadata": {
    "id": "qubhgnlO_Zct"
   },
   "source": [
    "Не все пропущенные значения влияют на исследование. Так в `track` и `artist` пропуски не важны для дальнейшей работы. Достаточно заменить их явными обозначениями."
   ]
  },
  {
   "cell_type": "markdown",
   "metadata": {
    "id": "fSv2laPA_Zct"
   },
   "source": [
    "Заменим пропущенные значения в столбцах `track`, `artist` и `genre` на строку `'unknown'`."
   ]
  },
  {
   "cell_type": "code",
   "execution_count": 9,
   "metadata": {
    "id": "KplB5qWs_Zct"
   },
   "outputs": [],
   "source": [
    "columns_to_replace=['track', 'artist', 'genre']\n",
    "for columns in columns_to_replace:# перебор названий столбцов в цикле и замена пропущенных значений на 'unknown'\n",
    "    df[columns]=  df[columns].fillna('unknown')\n"
   ]
  },
  {
   "cell_type": "markdown",
   "metadata": {
    "id": "Ilsm-MZo_Zct"
   },
   "source": [
    "Убедимся, что в таблице не осталось пропусков."
   ]
  },
  {
   "cell_type": "code",
   "execution_count": 10,
   "metadata": {
    "id": "Tq4nYRX4_Zct"
   },
   "outputs": [
    {
     "data": {
      "text/plain": [
       "user_id    0\n",
       "track      0\n",
       "artist     0\n",
       "genre      0\n",
       "city       0\n",
       "time       0\n",
       "day        0\n",
       "dtype: int64"
      ]
     },
     "execution_count": 10,
     "metadata": {},
     "output_type": "execute_result"
    }
   ],
   "source": [
    "df.isna().sum()# подсчёт пропусков"
   ]
  },
  {
   "cell_type": "markdown",
   "metadata": {
    "id": "BWKRtBJ3_Zct"
   },
   "source": [
    "### Дубликаты\n",
    "Посчитаем явные дубликаты в таблице:"
   ]
  },
  {
   "cell_type": "code",
   "execution_count": 11,
   "metadata": {
    "id": "36eES_S0_Zct"
   },
   "outputs": [
    {
     "data": {
      "text/plain": [
       "3826"
      ]
     },
     "execution_count": 11,
     "metadata": {},
     "output_type": "execute_result"
    }
   ],
   "source": [
    "df.duplicated().sum()# подсчёт явных дубликатов"
   ]
  },
  {
   "cell_type": "markdown",
   "metadata": {
    "id": "Ot25h6XR_Zct"
   },
   "source": [
    "удаляем явные дубликаты:"
   ]
  },
  {
   "cell_type": "code",
   "execution_count": 12,
   "metadata": {
    "id": "exFHq6tt_Zct"
   },
   "outputs": [],
   "source": [
    "df=df.drop_duplicates().reset_index(drop=True)# удаление явных дубликатов (с удалением старых индексов и формированием новых)"
   ]
  },
  {
   "cell_type": "markdown",
   "metadata": {
    "id": "Im2YwBEG_Zct"
   },
   "source": [
    "Ещё раз считаем явные дубликаты"
   ]
  },
  {
   "cell_type": "code",
   "execution_count": 13,
   "metadata": {
    "id": "-8PuNWQ0_Zct"
   },
   "outputs": [
    {
     "data": {
      "text/plain": [
       "0"
      ]
     },
     "execution_count": 13,
     "metadata": {},
     "output_type": "execute_result"
    }
   ],
   "source": [
    "df.duplicated().sum()# проверка на отсутствие дубликатов"
   ]
  },
  {
   "cell_type": "markdown",
   "metadata": {
    "id": "QlFBsxAr_Zct"
   },
   "source": [
    "Теперь избавимся от неявных дубликатов в колонке `genre`."
   ]
  },
  {
   "cell_type": "code",
   "execution_count": 14,
   "metadata": {
    "id": "JIUcqzZN_Zct"
   },
   "outputs": [
    {
     "data": {
      "text/plain": [
       "['acid',\n",
       " 'acoustic',\n",
       " 'action',\n",
       " 'adult',\n",
       " 'africa',\n",
       " 'afrikaans',\n",
       " 'alternative',\n",
       " 'alternativepunk',\n",
       " 'ambient',\n",
       " 'americana',\n",
       " 'animated',\n",
       " 'anime',\n",
       " 'arabesk',\n",
       " 'arabic',\n",
       " 'arena',\n",
       " 'argentinetango',\n",
       " 'art',\n",
       " 'audiobook',\n",
       " 'author',\n",
       " 'avantgarde',\n",
       " 'axé',\n",
       " 'baile',\n",
       " 'balkan',\n",
       " 'beats',\n",
       " 'bigroom',\n",
       " 'black',\n",
       " 'bluegrass',\n",
       " 'blues',\n",
       " 'bollywood',\n",
       " 'bossa',\n",
       " 'brazilian',\n",
       " 'breakbeat',\n",
       " 'breaks',\n",
       " 'broadway',\n",
       " 'cantautori',\n",
       " 'cantopop',\n",
       " 'canzone',\n",
       " 'caribbean',\n",
       " 'caucasian',\n",
       " 'celtic',\n",
       " 'chamber',\n",
       " 'chanson',\n",
       " 'children',\n",
       " 'chill',\n",
       " 'chinese',\n",
       " 'choral',\n",
       " 'christian',\n",
       " 'christmas',\n",
       " 'classical',\n",
       " 'classicmetal',\n",
       " 'club',\n",
       " 'colombian',\n",
       " 'comedy',\n",
       " 'conjazz',\n",
       " 'contemporary',\n",
       " 'country',\n",
       " 'cuban',\n",
       " 'dance',\n",
       " 'dancehall',\n",
       " 'dancepop',\n",
       " 'dark',\n",
       " 'death',\n",
       " 'deep',\n",
       " 'deutschrock',\n",
       " 'deutschspr',\n",
       " 'dirty',\n",
       " 'disco',\n",
       " 'dnb',\n",
       " 'documentary',\n",
       " 'downbeat',\n",
       " 'downtempo',\n",
       " 'drum',\n",
       " 'dub',\n",
       " 'dubstep',\n",
       " 'eastern',\n",
       " 'easy',\n",
       " 'electronic',\n",
       " 'electropop',\n",
       " 'emo',\n",
       " 'entehno',\n",
       " 'epicmetal',\n",
       " 'estrada',\n",
       " 'ethnic',\n",
       " 'eurofolk',\n",
       " 'european',\n",
       " 'experimental',\n",
       " 'extrememetal',\n",
       " 'fado',\n",
       " 'fairytail',\n",
       " 'film',\n",
       " 'fitness',\n",
       " 'flamenco',\n",
       " 'folk',\n",
       " 'folklore',\n",
       " 'folkmetal',\n",
       " 'folkrock',\n",
       " 'folktronica',\n",
       " 'forró',\n",
       " 'frankreich',\n",
       " 'französisch',\n",
       " 'french',\n",
       " 'funk',\n",
       " 'future',\n",
       " 'gangsta',\n",
       " 'garage',\n",
       " 'german',\n",
       " 'ghazal',\n",
       " 'gitarre',\n",
       " 'glitch',\n",
       " 'gospel',\n",
       " 'gothic',\n",
       " 'grime',\n",
       " 'grunge',\n",
       " 'gypsy',\n",
       " 'handsup',\n",
       " \"hard'n'heavy\",\n",
       " 'hardcore',\n",
       " 'hardstyle',\n",
       " 'hardtechno',\n",
       " 'hip',\n",
       " 'hip-hop',\n",
       " 'hiphop',\n",
       " 'historisch',\n",
       " 'holiday',\n",
       " 'hop',\n",
       " 'horror',\n",
       " 'house',\n",
       " 'hymn',\n",
       " 'idm',\n",
       " 'independent',\n",
       " 'indian',\n",
       " 'indie',\n",
       " 'indipop',\n",
       " 'industrial',\n",
       " 'inspirational',\n",
       " 'instrumental',\n",
       " 'international',\n",
       " 'irish',\n",
       " 'jam',\n",
       " 'japanese',\n",
       " 'jazz',\n",
       " 'jewish',\n",
       " 'jpop',\n",
       " 'jungle',\n",
       " 'k-pop',\n",
       " 'karadeniz',\n",
       " 'karaoke',\n",
       " 'kayokyoku',\n",
       " 'korean',\n",
       " 'laiko',\n",
       " 'latin',\n",
       " 'latino',\n",
       " 'leftfield',\n",
       " 'local',\n",
       " 'lounge',\n",
       " 'loungeelectronic',\n",
       " 'lovers',\n",
       " 'malaysian',\n",
       " 'mandopop',\n",
       " 'marschmusik',\n",
       " 'meditative',\n",
       " 'mediterranean',\n",
       " 'melodic',\n",
       " 'metal',\n",
       " 'metalcore',\n",
       " 'mexican',\n",
       " 'middle',\n",
       " 'minimal',\n",
       " 'miscellaneous',\n",
       " 'modern',\n",
       " 'mood',\n",
       " 'mpb',\n",
       " 'muslim',\n",
       " 'native',\n",
       " 'neoklassik',\n",
       " 'neue',\n",
       " 'new',\n",
       " 'newage',\n",
       " 'newwave',\n",
       " 'nu',\n",
       " 'nujazz',\n",
       " 'numetal',\n",
       " 'oceania',\n",
       " 'old',\n",
       " 'opera',\n",
       " 'orchestral',\n",
       " 'other',\n",
       " 'piano',\n",
       " 'podcasts',\n",
       " 'pop',\n",
       " 'popdance',\n",
       " 'popelectronic',\n",
       " 'popeurodance',\n",
       " 'poprussian',\n",
       " 'post',\n",
       " 'posthardcore',\n",
       " 'postrock',\n",
       " 'power',\n",
       " 'progmetal',\n",
       " 'progressive',\n",
       " 'psychedelic',\n",
       " 'punjabi',\n",
       " 'punk',\n",
       " 'quebecois',\n",
       " 'ragga',\n",
       " 'ram',\n",
       " 'rancheras',\n",
       " 'rap',\n",
       " 'rave',\n",
       " 'reggae',\n",
       " 'reggaeton',\n",
       " 'regional',\n",
       " 'relax',\n",
       " 'religious',\n",
       " 'retro',\n",
       " 'rhythm',\n",
       " 'rnb',\n",
       " 'rnr',\n",
       " 'rock',\n",
       " 'rockabilly',\n",
       " 'rockalternative',\n",
       " 'rockindie',\n",
       " 'rockother',\n",
       " 'romance',\n",
       " 'roots',\n",
       " 'ruspop',\n",
       " 'rusrap',\n",
       " 'rusrock',\n",
       " 'russian',\n",
       " 'salsa',\n",
       " 'samba',\n",
       " 'scenic',\n",
       " 'schlager',\n",
       " 'self',\n",
       " 'sertanejo',\n",
       " 'shanson',\n",
       " 'shoegazing',\n",
       " 'showtunes',\n",
       " 'singer',\n",
       " 'ska',\n",
       " 'skarock',\n",
       " 'slow',\n",
       " 'smooth',\n",
       " 'soft',\n",
       " 'soul',\n",
       " 'soulful',\n",
       " 'sound',\n",
       " 'soundtrack',\n",
       " 'southern',\n",
       " 'specialty',\n",
       " 'speech',\n",
       " 'spiritual',\n",
       " 'sport',\n",
       " 'stonerrock',\n",
       " 'surf',\n",
       " 'swing',\n",
       " 'synthpop',\n",
       " 'synthrock',\n",
       " 'sängerportrait',\n",
       " 'tango',\n",
       " 'tanzorchester',\n",
       " 'taraftar',\n",
       " 'tatar',\n",
       " 'tech',\n",
       " 'techno',\n",
       " 'teen',\n",
       " 'thrash',\n",
       " 'top',\n",
       " 'traditional',\n",
       " 'tradjazz',\n",
       " 'trance',\n",
       " 'tribal',\n",
       " 'trip',\n",
       " 'triphop',\n",
       " 'tropical',\n",
       " 'türk',\n",
       " 'türkçe',\n",
       " 'ukrrock',\n",
       " 'unknown',\n",
       " 'urban',\n",
       " 'uzbek',\n",
       " 'variété',\n",
       " 'vi',\n",
       " 'videogame',\n",
       " 'vocal',\n",
       " 'western',\n",
       " 'world',\n",
       " 'worldbeat',\n",
       " 'ïîï',\n",
       " 'электроника']"
      ]
     },
     "execution_count": 14,
     "metadata": {},
     "output_type": "execute_result"
    }
   ],
   "source": [
    "sorted(df['genre'].unique())# Просмотр уникальных названий жанров \n"
   ]
  },
  {
   "cell_type": "markdown",
   "metadata": {
    "id": "qej-Qmuo_Zct"
   },
   "source": [
    "Мы нашли следующие неявные дубликаты:\n",
    "* *hip*,\n",
    "* *hop*,\n",
    "* *hip-hop*.\n",
    "\n",
    "Чтобы очистить от них таблицу, напишем функцию `replace_wrong_genres()`: "
   ]
  },
  {
   "cell_type": "code",
   "execution_count": 15,
   "metadata": {
    "id": "ErNDkmns_Zct"
   },
   "outputs": [],
   "source": [
    "def replace_wrong_genres(wrong_genres, correct_genre): # Функция для замены неявных дубликатов\n",
    "    for wrong_genres in wrong_genres:\n",
    "        df['genre'] = df['genre'].replace(wrong_genres,correct_genre)"
   ]
  },
  {
   "cell_type": "code",
   "execution_count": 16,
   "metadata": {
    "id": "YN5i2hpmSo09"
   },
   "outputs": [],
   "source": [
    "duplicates =['hip', 'hop', 'hip-hop']# Устранение неявных дубликатов\n",
    "correct = 'hiphop'\n",
    "replace_wrong_genres(duplicates, correct)"
   ]
  },
  {
   "cell_type": "markdown",
   "metadata": {
    "id": "zQKF16_RG15m"
   },
   "source": [
    "Проверяем, что заменили неправильные названия:\n",
    "\n",
    "*   hip\n",
    "*   hop\n",
    "*   hip-hop\n",
    "\n",
    "Выведим отсортированный список уникальных значений столбца `genre`:"
   ]
  },
  {
   "cell_type": "code",
   "execution_count": 17,
   "metadata": {
    "id": "wvixALnFG15m",
    "scrolled": false
   },
   "outputs": [
    {
     "data": {
      "text/plain": [
       "array(['acid', 'acoustic', 'action', 'adult', 'africa', 'afrikaans',\n",
       "       'alternative', 'alternativepunk', 'ambient', 'americana',\n",
       "       'animated', 'anime', 'arabesk', 'arabic', 'arena',\n",
       "       'argentinetango', 'art', 'audiobook', 'author', 'avantgarde',\n",
       "       'axé', 'baile', 'balkan', 'beats', 'bigroom', 'black', 'bluegrass',\n",
       "       'blues', 'bollywood', 'bossa', 'brazilian', 'breakbeat', 'breaks',\n",
       "       'broadway', 'cantautori', 'cantopop', 'canzone', 'caribbean',\n",
       "       'caucasian', 'celtic', 'chamber', 'chanson', 'children', 'chill',\n",
       "       'chinese', 'choral', 'christian', 'christmas', 'classical',\n",
       "       'classicmetal', 'club', 'colombian', 'comedy', 'conjazz',\n",
       "       'contemporary', 'country', 'cuban', 'dance', 'dancehall',\n",
       "       'dancepop', 'dark', 'death', 'deep', 'deutschrock', 'deutschspr',\n",
       "       'dirty', 'disco', 'dnb', 'documentary', 'downbeat', 'downtempo',\n",
       "       'drum', 'dub', 'dubstep', 'eastern', 'easy', 'electronic',\n",
       "       'electropop', 'emo', 'entehno', 'epicmetal', 'estrada', 'ethnic',\n",
       "       'eurofolk', 'european', 'experimental', 'extrememetal', 'fado',\n",
       "       'fairytail', 'film', 'fitness', 'flamenco', 'folk', 'folklore',\n",
       "       'folkmetal', 'folkrock', 'folktronica', 'forró', 'frankreich',\n",
       "       'französisch', 'french', 'funk', 'future', 'gangsta', 'garage',\n",
       "       'german', 'ghazal', 'gitarre', 'glitch', 'gospel', 'gothic',\n",
       "       'grime', 'grunge', 'gypsy', 'handsup', \"hard'n'heavy\", 'hardcore',\n",
       "       'hardstyle', 'hardtechno', 'hiphop', 'historisch', 'holiday',\n",
       "       'horror', 'house', 'hymn', 'idm', 'independent', 'indian', 'indie',\n",
       "       'indipop', 'industrial', 'inspirational', 'instrumental',\n",
       "       'international', 'irish', 'jam', 'japanese', 'jazz', 'jewish',\n",
       "       'jpop', 'jungle', 'k-pop', 'karadeniz', 'karaoke', 'kayokyoku',\n",
       "       'korean', 'laiko', 'latin', 'latino', 'leftfield', 'local',\n",
       "       'lounge', 'loungeelectronic', 'lovers', 'malaysian', 'mandopop',\n",
       "       'marschmusik', 'meditative', 'mediterranean', 'melodic', 'metal',\n",
       "       'metalcore', 'mexican', 'middle', 'minimal', 'miscellaneous',\n",
       "       'modern', 'mood', 'mpb', 'muslim', 'native', 'neoklassik', 'neue',\n",
       "       'new', 'newage', 'newwave', 'nu', 'nujazz', 'numetal', 'oceania',\n",
       "       'old', 'opera', 'orchestral', 'other', 'piano', 'podcasts', 'pop',\n",
       "       'popdance', 'popelectronic', 'popeurodance', 'poprussian', 'post',\n",
       "       'posthardcore', 'postrock', 'power', 'progmetal', 'progressive',\n",
       "       'psychedelic', 'punjabi', 'punk', 'quebecois', 'ragga', 'ram',\n",
       "       'rancheras', 'rap', 'rave', 'reggae', 'reggaeton', 'regional',\n",
       "       'relax', 'religious', 'retro', 'rhythm', 'rnb', 'rnr', 'rock',\n",
       "       'rockabilly', 'rockalternative', 'rockindie', 'rockother',\n",
       "       'romance', 'roots', 'ruspop', 'rusrap', 'rusrock', 'russian',\n",
       "       'salsa', 'samba', 'scenic', 'schlager', 'self', 'sertanejo',\n",
       "       'shanson', 'shoegazing', 'showtunes', 'singer', 'ska', 'skarock',\n",
       "       'slow', 'smooth', 'soft', 'soul', 'soulful', 'sound', 'soundtrack',\n",
       "       'southern', 'specialty', 'speech', 'spiritual', 'sport',\n",
       "       'stonerrock', 'surf', 'swing', 'synthpop', 'synthrock',\n",
       "       'sängerportrait', 'tango', 'tanzorchester', 'taraftar', 'tatar',\n",
       "       'tech', 'techno', 'teen', 'thrash', 'top', 'traditional',\n",
       "       'tradjazz', 'trance', 'tribal', 'trip', 'triphop', 'tropical',\n",
       "       'türk', 'türkçe', 'ukrrock', 'unknown', 'urban', 'uzbek',\n",
       "       'variété', 'vi', 'videogame', 'vocal', 'western', 'world',\n",
       "       'worldbeat', 'ïîï', 'электроника'], dtype=object)"
      ]
     },
     "execution_count": 17,
     "metadata": {},
     "output_type": "execute_result"
    }
   ],
   "source": [
    "df['genre'].sort_values().unique()# Проверка на неявные дубликаты"
   ]
  },
  {
   "cell_type": "markdown",
   "metadata": {
    "id": "jz6a9-7HQUDd"
   },
   "source": [
    "**Выводы**\n",
    "\n",
    "Предобработка обнаружила три проблемы в данных:\n",
    "\n",
    "- нарушения в стиле заголовков,\n",
    "- пропущенные значения,\n",
    "- дубликаты — явные и неявные.\n",
    "\n",
    "Мы исправили заголовки, чтобы упростить работу с таблицей. Без дубликатов исследование станет более точным.\n",
    "\n",
    "Пропущенные значения вы заменили на `'unknown'`.\n",
    "\n",
    "Теперь можно перейти к проверке гипотез. "
   ]
  },
  {
   "cell_type": "markdown",
   "metadata": {
    "id": "WttZHXH0SqKk"
   },
   "source": [
    "## Проверка гипотез"
   ]
  },
  {
   "cell_type": "markdown",
   "metadata": {
    "id": "Im936VVi_Zcu"
   },
   "source": [
    "### Сравнение поведения пользователей двух столиц"
   ]
  },
  {
   "cell_type": "markdown",
   "metadata": {
    "id": "nwt_MuaL_Zcu"
   },
   "source": [
    "Первая гипотеза утверждает, что пользователи по-разному слушают музыку в Москве и Санкт-Петербурге. Проверим это предположение по данным о трёх днях недели — понедельнике, среде и пятнице. Для этого:\n",
    "\n",
    "* Разделим пользователей Москвы и Санкт-Петербурга\n",
    "* Сравним, сколько треков послушала каждая группа пользователей в понедельник, среду и пятницу.\n"
   ]
  },
  {
   "cell_type": "code",
   "execution_count": 18,
   "metadata": {
    "id": "0_Qs96oh_Zcu"
   },
   "outputs": [
    {
     "data": {
      "text/plain": [
       "city\n",
       "Moscow              42741\n",
       "Saint-Petersburg    18512\n",
       "Name: track, dtype: int64"
      ]
     },
     "execution_count": 18,
     "metadata": {},
     "output_type": "execute_result"
    }
   ],
   "source": [
    "df.groupby('city')['track'].count()# Подсчёт прослушиваний в каждом городе"
   ]
  },
  {
   "cell_type": "markdown",
   "metadata": {
    "id": "dzli3w8o_Zcu"
   },
   "source": [
    "В Москве прослушиваний больше, чем в Петербурге. Из этого не следует, что московские пользователи чаще слушают музыку. Просто самих пользователей в Москве больше.\n",
    "\n",
    "Теперь сгруппируем данные по дню недели и подсчитаем прослушивания в понедельник, среду и пятницу."
   ]
  },
  {
   "cell_type": "code",
   "execution_count": 19,
   "metadata": {
    "id": "uZMKjiJz_Zcu"
   },
   "outputs": [
    {
     "data": {
      "text/plain": [
       "day\n",
       "Friday       21840\n",
       "Monday       21354\n",
       "Wednesday    18059\n",
       "Name: track, dtype: int64"
      ]
     },
     "execution_count": 19,
     "metadata": {},
     "output_type": "execute_result"
    }
   ],
   "source": [
    "df.groupby('day')['track'].count()# Подсчёт прослушиваний в каждый из трёх дней"
   ]
  },
  {
   "cell_type": "markdown",
   "metadata": {
    "id": "cC2tNrlL_Zcu"
   },
   "source": [
    "В среднем пользователи из двух городов менее активны по средам. Но картина может измениться, если рассмотреть каждый город в отдельности."
   ]
  },
  {
   "cell_type": "markdown",
   "metadata": {
    "id": "POzs8bGa_Zcu"
   },
   "source": [
    "Вы видели, как работает группировка по городу и по дням недели. Теперь напишите функцию, которая объединит группировку по городу и по дням недели."
   ]
  },
  {
   "cell_type": "code",
   "execution_count": 20,
   "metadata": {
    "id": "Nz3GdQB1_Zcu"
   },
   "outputs": [],
   "source": [
    "def number_tracks(day, city):\n",
    "    track_list = df[df['day'] == day]\n",
    "    track_list_count = track_list[track_list['city'] == city]['user_id'].count()\n",
    "    return (track_list_count)"
   ]
  },
  {
   "cell_type": "markdown",
   "metadata": {
    "id": "ytf7xFrFJQ2r"
   },
   "source": [
    "Вызовим `number_tracks()` шесть раз, меняя значение параметров — так, чтобы получить данные для каждого города в каждый из трёх дней."
   ]
  },
  {
   "cell_type": "code",
   "execution_count": 21,
   "metadata": {
    "id": "rJcRATNQ_Zcu",
    "scrolled": false
   },
   "outputs": [
    {
     "data": {
      "text/plain": [
       "15740"
      ]
     },
     "execution_count": 21,
     "metadata": {},
     "output_type": "execute_result"
    }
   ],
   "source": [
    "number_tracks('Monday','Moscow')# количество прослушиваний в Москве по понедельникам"
   ]
  },
  {
   "cell_type": "code",
   "execution_count": 22,
   "metadata": {
    "id": "hq_ncZ5T_Zcu"
   },
   "outputs": [
    {
     "data": {
      "text/plain": [
       "5614"
      ]
     },
     "execution_count": 22,
     "metadata": {},
     "output_type": "execute_result"
    }
   ],
   "source": [
    "number_tracks('Monday','Saint-Petersburg')# количество прослушиваний в Санкт-Петербурге по понедельникам"
   ]
  },
  {
   "cell_type": "code",
   "execution_count": 23,
   "metadata": {
    "id": "_NTy2VPU_Zcu"
   },
   "outputs": [
    {
     "data": {
      "text/plain": [
       "11056"
      ]
     },
     "execution_count": 23,
     "metadata": {},
     "output_type": "execute_result"
    }
   ],
   "source": [
    "number_tracks('Wednesday','Moscow')# количество прослушиваний в Москве по средам"
   ]
  },
  {
   "cell_type": "code",
   "execution_count": 24,
   "metadata": {
    "id": "j2y3TAwo_Zcu"
   },
   "outputs": [
    {
     "data": {
      "text/plain": [
       "7003"
      ]
     },
     "execution_count": 24,
     "metadata": {},
     "output_type": "execute_result"
    }
   ],
   "source": [
    "number_tracks('Wednesday','Saint-Petersburg')# количество прослушиваний в Санкт-Петербурге по средам"
   ]
  },
  {
   "cell_type": "code",
   "execution_count": 25,
   "metadata": {
    "id": "vYDw5u_K_Zcu"
   },
   "outputs": [
    {
     "data": {
      "text/plain": [
       "15945"
      ]
     },
     "execution_count": 25,
     "metadata": {},
     "output_type": "execute_result"
    }
   ],
   "source": [
    "number_tracks('Friday','Moscow')# количество прослушиваний в Москве по пятницам"
   ]
  },
  {
   "cell_type": "code",
   "execution_count": 26,
   "metadata": {
    "id": "8_yzFtW3_Zcu"
   },
   "outputs": [
    {
     "data": {
      "text/plain": [
       "5895"
      ]
     },
     "execution_count": 26,
     "metadata": {},
     "output_type": "execute_result"
    }
   ],
   "source": [
    "number_tracks('Friday','Saint-Petersburg')# количество прослушиваний в Санкт-Петербурге по пятницам"
   ]
  },
  {
   "cell_type": "markdown",
   "metadata": {
    "id": "7QXffbO-_Zcu"
   },
   "source": [
    "Создадим таблицу, где\n",
    "* названия колонок — `['city', 'monday', 'wednesday', 'friday']`;\n",
    "* данные — результаты, которые вы получили с помощью `number_tracks`."
   ]
  },
  {
   "cell_type": "code",
   "execution_count": 27,
   "metadata": {
    "id": "APAcLpOr_Zcu"
   },
   "outputs": [
    {
     "data": {
      "text/html": [
       "<div>\n",
       "<style scoped>\n",
       "    .dataframe tbody tr th:only-of-type {\n",
       "        vertical-align: middle;\n",
       "    }\n",
       "\n",
       "    .dataframe tbody tr th {\n",
       "        vertical-align: top;\n",
       "    }\n",
       "\n",
       "    .dataframe thead th {\n",
       "        text-align: right;\n",
       "    }\n",
       "</style>\n",
       "<table border=\"1\" class=\"dataframe\">\n",
       "  <thead>\n",
       "    <tr style=\"text-align: right;\">\n",
       "      <th></th>\n",
       "      <th>city</th>\n",
       "      <th>monday</th>\n",
       "      <th>wednesday</th>\n",
       "      <th>friday</th>\n",
       "    </tr>\n",
       "  </thead>\n",
       "  <tbody>\n",
       "    <tr>\n",
       "      <th>0</th>\n",
       "      <td>Moscow</td>\n",
       "      <td>15740</td>\n",
       "      <td>11056</td>\n",
       "      <td>15945</td>\n",
       "    </tr>\n",
       "    <tr>\n",
       "      <th>1</th>\n",
       "      <td>Saint-Petersburg</td>\n",
       "      <td>5614</td>\n",
       "      <td>7003</td>\n",
       "      <td>5895</td>\n",
       "    </tr>\n",
       "  </tbody>\n",
       "</table>\n",
       "</div>"
      ],
      "text/plain": [
       "               city  monday  wednesday  friday\n",
       "0            Moscow   15740      11056   15945\n",
       "1  Saint-Petersburg    5614       7003    5895"
      ]
     },
     "execution_count": 27,
     "metadata": {},
     "output_type": "execute_result"
    }
   ],
   "source": [
    "columns=['city', 'monday', 'wednesday', 'friday']\n",
    "data=[['Moscow', 15740, 11056, 15945], \n",
    "      ['Saint-Petersburg', 5614, 7003, 5895]]\n",
    "pd.DataFrame(data=data, columns=columns)# Таблица с результатами"
   ]
  },
  {
   "cell_type": "markdown",
   "metadata": {
    "id": "-EgPIHYu_Zcu"
   },
   "source": [
    "**Выводы**\n",
    "\n",
    "Данные показывают разницу поведения пользователей:\n",
    "\n",
    "- В Москве пик прослушиваний приходится на понедельник и пятницу, а в среду заметен спад.\n",
    "- В Петербурге, наоборот, больше слушают музыку по средам. Активность в понедельник и пятницу здесь почти в равной мере уступает среде.\n",
    "\n",
    "Значит, данные говорят в пользу первой гипотезы."
   ]
  },
  {
   "cell_type": "markdown",
   "metadata": {
    "id": "atZAxtq4_Zcu"
   },
   "source": [
    "### Музыка в начале и в конце недели"
   ]
  },
  {
   "cell_type": "markdown",
   "metadata": {
    "id": "eXrQqXFH_Zcu"
   },
   "source": [
    "Согласно второй гипотезе, утром в понедельник в Москве преобладают одни жанры, а в Петербурге — другие. Так же и вечером пятницы преобладают разные жанры — в зависимости от города."
   ]
  },
  {
   "cell_type": "markdown",
   "metadata": {
    "id": "S8UcW6Hw_Zcu"
   },
   "source": [
    "Сохраним таблицы с данными в две переменные:\n",
    "* по Москве — в `moscow_general`;\n",
    "* по Санкт-Петербургу — в `spb_general`."
   ]
  },
  {
   "cell_type": "code",
   "execution_count": 28,
   "metadata": {
    "id": "qeaFfM_P_Zcu"
   },
   "outputs": [],
   "source": [
    "moscow_general=df[df['city'] == 'Moscow']"
   ]
  },
  {
   "cell_type": "code",
   "execution_count": 29,
   "metadata": {
    "id": "ORaVRKto_Zcu"
   },
   "outputs": [],
   "source": [
    "spb_general=df[df['city'] == 'Saint-Petersburg']"
   ]
  },
  {
   "cell_type": "markdown",
   "metadata": {
    "id": "MEJV-CX2_Zcu"
   },
   "source": [
    "Создадим функцию `genre_weekday()` с четырьмя параметрами:\n",
    "* таблица (датафрейм) с данными,\n",
    "* день недели,\n",
    "* начальная временная метка в формате 'hh:mm', \n",
    "* последняя временная метка в формате 'hh:mm'."
   ]
  },
  {
   "cell_type": "code",
   "execution_count": 30,
   "metadata": {
    "id": "laJT9BYl_Zcu"
   },
   "outputs": [],
   "source": [
    "def genre_weekday(table, day, time1, time2):\n",
    "    genre_df=table[table['day']==day]\n",
    "    genre_df=genre_df[genre_df['time']>time1]\n",
    "    genre_df=genre_df[genre_df['time']<time2]\n",
    "    genre_df_count=genre_df.groupby('genre')['genre'].count()\n",
    "    genre_df_sorted=genre_df_count.sort_values(ascending=False)\n",
    "    return genre_df_sorted.head(10)"
   ]
  },
  {
   "cell_type": "markdown",
   "metadata": {
    "id": "la2s2_PF_Zcu"
   },
   "source": [
    "Cравним результаты функции `genre_weekday()` для Москвы и Санкт-Петербурга в понедельник утром (с 7:00 до 11:00) и в пятницу вечером (с 17:00 до 23:00):"
   ]
  },
  {
   "cell_type": "code",
   "execution_count": 31,
   "metadata": {
    "id": "yz7itPUQ_Zcu"
   },
   "outputs": [
    {
     "data": {
      "text/plain": [
       "genre\n",
       "pop            781\n",
       "dance          549\n",
       "electronic     480\n",
       "rock           474\n",
       "hiphop         286\n",
       "ruspop         186\n",
       "world          181\n",
       "rusrap         175\n",
       "alternative    164\n",
       "unknown        161\n",
       "Name: genre, dtype: int64"
      ]
     },
     "execution_count": 31,
     "metadata": {},
     "output_type": "execute_result"
    }
   ],
   "source": [
    "genre_weekday(moscow_general, 'Monday', '07:00', '11:00')\n",
    "# вызов функции для утра понедельника в Москве (вместо df — таблица moscow_general)"
   ]
  },
  {
   "cell_type": "code",
   "execution_count": 32,
   "metadata": {
    "id": "kwUcHPdy_Zcu"
   },
   "outputs": [
    {
     "data": {
      "text/plain": [
       "genre\n",
       "pop            218\n",
       "dance          182\n",
       "rock           162\n",
       "electronic     147\n",
       "hiphop          80\n",
       "ruspop          64\n",
       "alternative     58\n",
       "rusrap          55\n",
       "jazz            44\n",
       "classical       40\n",
       "Name: genre, dtype: int64"
      ]
     },
     "execution_count": 32,
     "metadata": {},
     "output_type": "execute_result"
    }
   ],
   "source": [
    "genre_weekday(spb_general, 'Monday', '07:00', '11:00')# вызов функции для утра понедельника в Петербурге (вместо df — таблица spb_general)"
   ]
  },
  {
   "cell_type": "code",
   "execution_count": 33,
   "metadata": {
    "id": "EzXVRE1o_Zcu"
   },
   "outputs": [
    {
     "data": {
      "text/plain": [
       "genre\n",
       "pop            713\n",
       "rock           517\n",
       "dance          495\n",
       "electronic     482\n",
       "hiphop         273\n",
       "world          208\n",
       "ruspop         170\n",
       "alternative    163\n",
       "classical      163\n",
       "rusrap         142\n",
       "Name: genre, dtype: int64"
      ]
     },
     "execution_count": 33,
     "metadata": {},
     "output_type": "execute_result"
    }
   ],
   "source": [
    "genre_weekday(moscow_general, 'Friday', '17:00', '23:00')# вызов функции для вечера пятницы в Москве"
   ]
  },
  {
   "cell_type": "code",
   "execution_count": 34,
   "metadata": {
    "id": "JZaEKu5v_Zcu"
   },
   "outputs": [
    {
     "data": {
      "text/plain": [
       "genre\n",
       "pop            256\n",
       "electronic     216\n",
       "rock           216\n",
       "dance          210\n",
       "hiphop          97\n",
       "alternative     63\n",
       "jazz            61\n",
       "classical       60\n",
       "rusrap          59\n",
       "world           54\n",
       "Name: genre, dtype: int64"
      ]
     },
     "execution_count": 34,
     "metadata": {},
     "output_type": "execute_result"
    }
   ],
   "source": [
    "genre_weekday(spb_general, 'Friday', '17:00', '23:00')# вызов функции для вечера пятницы в Петербурге"
   ]
  },
  {
   "cell_type": "markdown",
   "metadata": {
    "id": "wrCe4MNX_Zcu"
   },
   "source": [
    "**Выводы**\n",
    "\n",
    "Если сравнить топ-10 жанров в понедельник утром, можно сделать такие выводы:\n",
    "\n",
    "1. В Москве и Петербурге слушают похожую музыку. Единственное отличие — в московский рейтинг вошёл жанр “world”, а в петербургский — джаз и классика.\n",
    "\n",
    "2. В Москве пропущенных значений оказалось так много, что значение `'unknown'` заняло десятое место среди самых популярных жанров. Значит, пропущенные значения занимают существенную долю в данных и угрожают достоверности исследования.\n",
    "\n",
    "Вечер пятницы не меняет эту картину. Некоторые жанры поднимаются немного выше, другие спускаются, но в целом топ-10 остаётся тем же самым.\n",
    "\n",
    "Таким образом, вторая гипотеза подтвердилась лишь частично:\n",
    "* Пользователи слушают похожую музыку в начале недели и в конце.\n",
    "* Разница между Москвой и Петербургом не слишком выражена. В Москве чаще слушают русскую популярную музыку, в Петербурге — джаз.\n",
    "\n",
    "Однако пропуски в данных ставят под сомнение этот результат. В Москве их так много, что рейтинг топ-10 мог бы выглядеть иначе, если бы не утерянные  данные о жанрах."
   ]
  },
  {
   "cell_type": "markdown",
   "metadata": {
    "id": "JolODAqr_Zcu"
   },
   "source": [
    "### Жанровые предпочтения в Москве и Петербурге\n",
    "\n",
    "Гипотеза: Петербург — столица рэпа, музыку этого жанра там слушают чаще, чем в Москве.  А Москва — город контрастов, в котором, тем не менее, преобладает поп-музыка."
   ]
  },
  {
   "cell_type": "markdown",
   "metadata": {
    "id": "DlegSvaT_Zcu"
   },
   "source": [
    "Сгруппируем таблицу `moscow_general` по жанру и посчитаем прослушивания треков каждого жанра методом `count()`. Затем отсортируем результат в порядке убывания и сохраним его в таблице `moscow_genres`."
   ]
  },
  {
   "cell_type": "code",
   "execution_count": 35,
   "metadata": {
    "id": "r19lIPke_Zcu"
   },
   "outputs": [],
   "source": [
    "moscow_genres=moscow_general.groupby('genre')['genre'].count()\n",
    "# группировка таблицы moscow_general по столбцу 'genre', \n",
    "moscow_genres=moscow_genres.sort_values(ascending=False)"
   ]
  },
  {
   "cell_type": "markdown",
   "metadata": {
    "id": "6kMuomxTiIr8"
   },
   "source": [
    "Выведим на экран первые десять строк `moscow_genres`:"
   ]
  },
  {
   "cell_type": "code",
   "execution_count": 36,
   "metadata": {
    "id": "WhCSooF8_Zcv"
   },
   "outputs": [
    {
     "data": {
      "text/plain": [
       "genre\n",
       "pop            5892\n",
       "dance          4435\n",
       "rock           3965\n",
       "electronic     3786\n",
       "hiphop         2096\n",
       "classical      1616\n",
       "world          1432\n",
       "alternative    1379\n",
       "ruspop         1372\n",
       "rusrap         1161\n",
       "Name: genre, dtype: int64"
      ]
     },
     "metadata": {},
     "output_type": "display_data"
    }
   ],
   "source": [
    "display(moscow_genres.head(10))# просмотр первых 10 строк moscow_genres"
   ]
  },
  {
   "cell_type": "markdown",
   "metadata": {
    "id": "cnPG2vnN_Zcv"
   },
   "source": [
    "Теперь повторим то же и для Петербурга.\n",
    "\n",
    "Сгруппируем таблицу `spb_general` по жанру. Посчитаем прослушивания треков каждого жанра. Результат отсортируем в порядке убывания и сохраним в таблице `spb_genres`:\n"
   ]
  },
  {
   "cell_type": "code",
   "execution_count": 37,
   "metadata": {
    "id": "gluLIpE7_Zcv"
   },
   "outputs": [],
   "source": [
    "spb_genres=spb_general.groupby('genre')['genre'].count()\n",
    "spb_genres=spb_genres.sort_values(ascending=False)"
   ]
  },
  {
   "cell_type": "markdown",
   "metadata": {
    "id": "5Doha_ODgyQ8"
   },
   "source": [
    "Выведим на экран первые десять строк `spb_genres`:"
   ]
  },
  {
   "cell_type": "code",
   "execution_count": 38,
   "metadata": {
    "id": "uaGJHjVU_Zcv"
   },
   "outputs": [
    {
     "data": {
      "text/plain": [
       "genre\n",
       "pop            2431\n",
       "dance          1932\n",
       "rock           1879\n",
       "electronic     1736\n",
       "hiphop          960\n",
       "alternative     649\n",
       "classical       646\n",
       "rusrap          564\n",
       "ruspop          538\n",
       "world           515\n",
       "Name: genre, dtype: int64"
      ]
     },
     "execution_count": 38,
     "metadata": {},
     "output_type": "execute_result"
    }
   ],
   "source": [
    "spb_genres.head(10)# просмотр первых 10 строк spb_genres"
   ]
  },
  {
   "cell_type": "markdown",
   "metadata": {
    "id": "RY51YJYu_Zcv"
   },
   "source": [
    "**Выводы**"
   ]
  },
  {
   "cell_type": "markdown",
   "metadata": {
    "id": "nVhnJEm__Zcv"
   },
   "source": [
    "Гипотеза частично подтвердилась:\n",
    "* Поп-музыка — самый популярный жанр в Москве, как и предполагала гипотеза. Более того, в топ-10 жанров встречается близкий жанр — русская популярная музыка.\n",
    "* Вопреки ожиданиям, рэп одинаково популярен в Москве и Петербурге. \n"
   ]
  },
  {
   "cell_type": "markdown",
   "metadata": {
    "id": "ykKQ0N65_Zcv"
   },
   "source": [
    "## Итоги исследования"
   ]
  },
  {
   "cell_type": "markdown",
   "metadata": {
    "id": "tjUwbHb3_Zcv"
   },
   "source": [
    "Мы проверили три гипотезы и установили:\n",
    "\n",
    "1. День недели по-разному влияет на активность пользователей в Москве и Петербурге. \n",
    "\n",
    "Первая гипотеза полностью подтвердилась.\n",
    "\n",
    "2. Музыкальные предпочтения не сильно меняются в течение недели — будь то Москва или Петербург. Небольшие различия заметны в начале недели, по понедельникам:\n",
    "* в Москве слушают музыку жанра “world”,\n",
    "* в Петербурге — джаз и классику.\n",
    "\n",
    "Таким образом, вторая гипотеза подтвердилась лишь отчасти. Этот результат мог оказаться иным, если бы не пропуски в данных.\n",
    "\n",
    "3. Во вкусах пользователей Москвы и Петербурга больше общего чем различий. Вопреки ожиданиям, предпочтения жанров в Петербурге напоминают московские.\n",
    "\n",
    "Третья гипотеза не подтвердилась. Если различия в предпочтениях и существуют, на основной массе пользователей они незаметны."
   ]
  }
 ],
 "metadata": {
  "ExecuteTimeLog": [
   {
    "duration": 282,
    "start_time": "2021-10-04T12:09:31.058Z"
   },
   {
    "duration": 242,
    "start_time": "2021-10-04T12:09:51.422Z"
   },
   {
    "duration": 558,
    "start_time": "2021-10-04T12:11:25.997Z"
   },
   {
    "duration": 154,
    "start_time": "2021-10-04T12:11:27.622Z"
   },
   {
    "duration": 17,
    "start_time": "2021-10-04T12:11:29.508Z"
   },
   {
    "duration": 27,
    "start_time": "2021-10-04T12:12:33.879Z"
   },
   {
    "duration": 87,
    "start_time": "2021-10-04T12:18:53.584Z"
   },
   {
    "duration": 4,
    "start_time": "2021-10-04T12:19:03.854Z"
   },
   {
    "duration": 76,
    "start_time": "2021-10-04T12:21:50.859Z"
   },
   {
    "duration": 33,
    "start_time": "2021-10-04T12:22:59.097Z"
   },
   {
    "duration": 4,
    "start_time": "2021-10-04T12:23:32.106Z"
   },
   {
    "duration": 31,
    "start_time": "2021-10-04T12:23:49.446Z"
   },
   {
    "duration": 4,
    "start_time": "2021-10-04T12:23:52.841Z"
   },
   {
    "duration": 22,
    "start_time": "2021-10-04T12:28:43.658Z"
   },
   {
    "duration": 81,
    "start_time": "2021-10-04T12:39:07.031Z"
   },
   {
    "duration": 10377,
    "start_time": "2021-10-04T12:39:13.720Z"
   },
   {
    "duration": 24,
    "start_time": "2021-10-04T12:41:15.389Z"
   },
   {
    "duration": 6156,
    "start_time": "2021-10-04T12:41:25.891Z"
   },
   {
    "duration": 6444,
    "start_time": "2021-10-04T12:44:19.794Z"
   },
   {
    "duration": 25,
    "start_time": "2021-10-04T12:45:54.565Z"
   },
   {
    "duration": 6044,
    "start_time": "2021-10-04T12:58:10.556Z"
   },
   {
    "duration": 336,
    "start_time": "2021-10-04T22:06:17.884Z"
   },
   {
    "duration": 286,
    "start_time": "2021-10-04T22:06:55.105Z"
   },
   {
    "duration": 263,
    "start_time": "2021-10-04T22:07:18.340Z"
   },
   {
    "duration": 278,
    "start_time": "2021-10-04T22:07:29.831Z"
   },
   {
    "duration": 757,
    "start_time": "2021-10-04T22:07:51.398Z"
   },
   {
    "duration": 198,
    "start_time": "2021-10-04T22:07:52.158Z"
   },
   {
    "duration": 30,
    "start_time": "2021-10-04T22:07:52.359Z"
   },
   {
    "duration": 34,
    "start_time": "2021-10-04T22:07:52.392Z"
   },
   {
    "duration": 38,
    "start_time": "2021-10-04T22:07:52.428Z"
   },
   {
    "duration": 36,
    "start_time": "2021-10-04T22:07:52.469Z"
   },
   {
    "duration": 12,
    "start_time": "2021-10-04T22:07:52.507Z"
   },
   {
    "duration": 53,
    "start_time": "2021-10-04T22:07:52.523Z"
   },
   {
    "duration": 10805,
    "start_time": "2021-10-04T22:07:52.580Z"
   },
   {
    "duration": -184,
    "start_time": "2021-10-04T22:08:03.573Z"
   },
   {
    "duration": -193,
    "start_time": "2021-10-04T22:08:03.583Z"
   },
   {
    "duration": -205,
    "start_time": "2021-10-04T22:08:03.596Z"
   },
   {
    "duration": -213,
    "start_time": "2021-10-04T22:08:03.605Z"
   },
   {
    "duration": -226,
    "start_time": "2021-10-04T22:08:03.619Z"
   },
   {
    "duration": -237,
    "start_time": "2021-10-04T22:08:03.631Z"
   },
   {
    "duration": -249,
    "start_time": "2021-10-04T22:08:03.644Z"
   },
   {
    "duration": -257,
    "start_time": "2021-10-04T22:08:03.653Z"
   },
   {
    "duration": -266,
    "start_time": "2021-10-04T22:08:03.663Z"
   },
   {
    "duration": -288,
    "start_time": "2021-10-04T22:08:03.685Z"
   },
   {
    "duration": -313,
    "start_time": "2021-10-04T22:08:03.711Z"
   },
   {
    "duration": -326,
    "start_time": "2021-10-04T22:08:03.725Z"
   },
   {
    "duration": -332,
    "start_time": "2021-10-04T22:08:03.732Z"
   },
   {
    "duration": -336,
    "start_time": "2021-10-04T22:08:03.738Z"
   },
   {
    "duration": -342,
    "start_time": "2021-10-04T22:08:03.745Z"
   },
   {
    "duration": -346,
    "start_time": "2021-10-04T22:08:03.751Z"
   },
   {
    "duration": -352,
    "start_time": "2021-10-04T22:08:03.758Z"
   },
   {
    "duration": -357,
    "start_time": "2021-10-04T22:08:03.764Z"
   },
   {
    "duration": -362,
    "start_time": "2021-10-04T22:08:03.771Z"
   },
   {
    "duration": -367,
    "start_time": "2021-10-04T22:08:03.777Z"
   },
   {
    "duration": -390,
    "start_time": "2021-10-04T22:08:03.801Z"
   },
   {
    "duration": -396,
    "start_time": "2021-10-04T22:08:03.809Z"
   },
   {
    "duration": -402,
    "start_time": "2021-10-04T22:08:03.816Z"
   },
   {
    "duration": -407,
    "start_time": "2021-10-04T22:08:03.822Z"
   },
   {
    "duration": -364,
    "start_time": "2021-10-04T22:08:03.829Z"
   },
   {
    "duration": -367,
    "start_time": "2021-10-04T22:08:03.835Z"
   },
   {
    "duration": -372,
    "start_time": "2021-10-04T22:08:03.842Z"
   },
   {
    "duration": -375,
    "start_time": "2021-10-04T22:08:03.847Z"
   },
   {
    "duration": -380,
    "start_time": "2021-10-04T22:08:03.854Z"
   },
   {
    "duration": 9860,
    "start_time": "2021-10-04T22:08:21.042Z"
   },
   {
    "duration": 8989,
    "start_time": "2021-10-04T22:08:44.349Z"
   },
   {
    "duration": 36,
    "start_time": "2021-10-04T22:10:05.095Z"
   },
   {
    "duration": 23,
    "start_time": "2021-10-04T22:11:51.301Z"
   },
   {
    "duration": 33,
    "start_time": "2021-10-04T22:12:49.450Z"
   },
   {
    "duration": 85,
    "start_time": "2021-10-04T22:14:10.378Z"
   },
   {
    "duration": 296,
    "start_time": "2021-10-04T22:15:11.259Z"
   },
   {
    "duration": 107,
    "start_time": "2021-10-04T22:15:35.528Z"
   },
   {
    "duration": 82,
    "start_time": "2021-10-04T22:16:09.489Z"
   },
   {
    "duration": 95,
    "start_time": "2021-10-04T22:16:21.198Z"
   },
   {
    "duration": 102,
    "start_time": "2021-10-04T22:16:26.325Z"
   },
   {
    "duration": 192,
    "start_time": "2021-10-04T22:21:02.830Z"
   },
   {
    "duration": 9,
    "start_time": "2021-10-04T22:21:12.646Z"
   },
   {
    "duration": 811,
    "start_time": "2021-10-04T22:29:14.984Z"
   },
   {
    "duration": 104,
    "start_time": "2021-10-04T22:29:27.608Z"
   },
   {
    "duration": 1126,
    "start_time": "2021-10-04T22:29:30.598Z"
   },
   {
    "duration": 333,
    "start_time": "2021-10-04T22:30:12.860Z"
   },
   {
    "duration": 328,
    "start_time": "2021-10-04T22:30:15.131Z"
   },
   {
    "duration": 303,
    "start_time": "2021-10-04T22:30:19.151Z"
   },
   {
    "duration": 357,
    "start_time": "2021-10-04T22:30:31.823Z"
   },
   {
    "duration": 120,
    "start_time": "2021-10-04T22:37:30.737Z"
   },
   {
    "duration": 314,
    "start_time": "2021-10-04T22:37:35.963Z"
   },
   {
    "duration": 3,
    "start_time": "2021-10-04T22:38:10.035Z"
   },
   {
    "duration": 15,
    "start_time": "2021-10-04T22:38:13.346Z"
   },
   {
    "duration": 10,
    "start_time": "2021-10-04T22:38:34.816Z"
   },
   {
    "duration": 10,
    "start_time": "2021-10-04T22:38:52.438Z"
   },
   {
    "duration": 6,
    "start_time": "2021-10-04T22:44:30.921Z"
   },
   {
    "duration": 47,
    "start_time": "2021-10-04T22:44:42.090Z"
   },
   {
    "duration": 49,
    "start_time": "2021-10-04T22:46:39.686Z"
   },
   {
    "duration": 2962,
    "start_time": "2021-10-04T23:02:49.036Z"
   },
   {
    "duration": 381,
    "start_time": "2021-10-04T23:02:59.352Z"
   },
   {
    "duration": 105,
    "start_time": "2021-10-04T23:04:58.422Z"
   },
   {
    "duration": 288,
    "start_time": "2021-10-04T23:06:06.519Z"
   },
   {
    "duration": 405,
    "start_time": "2021-10-04T23:10:05.861Z"
   },
   {
    "duration": 5,
    "start_time": "2021-10-04T23:16:19.121Z"
   },
   {
    "duration": 343,
    "start_time": "2021-10-04T23:16:25.134Z"
   },
   {
    "duration": 5,
    "start_time": "2021-10-04T23:22:45.867Z"
   },
   {
    "duration": 345,
    "start_time": "2021-10-04T23:22:49.815Z"
   },
   {
    "duration": 329,
    "start_time": "2021-10-04T23:24:17.239Z"
   },
   {
    "duration": 5,
    "start_time": "2021-10-04T23:25:43.504Z"
   },
   {
    "duration": 300,
    "start_time": "2021-10-04T23:25:48.797Z"
   },
   {
    "duration": 5,
    "start_time": "2021-10-04T23:31:37.175Z"
   },
   {
    "duration": 436,
    "start_time": "2021-10-04T23:31:45.181Z"
   },
   {
    "duration": 6,
    "start_time": "2021-10-05T11:17:08.506Z"
   },
   {
    "duration": 328,
    "start_time": "2021-10-05T11:17:22.349Z"
   },
   {
    "duration": 1067,
    "start_time": "2021-10-05T11:17:35.492Z"
   },
   {
    "duration": 275,
    "start_time": "2021-10-05T11:17:52.168Z"
   },
   {
    "duration": 241,
    "start_time": "2021-10-05T11:18:00.773Z"
   },
   {
    "duration": 1040,
    "start_time": "2021-10-05T11:18:10.391Z"
   },
   {
    "duration": 189,
    "start_time": "2021-10-05T11:18:11.434Z"
   },
   {
    "duration": 27,
    "start_time": "2021-10-05T11:18:11.627Z"
   },
   {
    "duration": 36,
    "start_time": "2021-10-05T11:18:11.658Z"
   },
   {
    "duration": 6,
    "start_time": "2021-10-05T11:18:11.724Z"
   },
   {
    "duration": 31,
    "start_time": "2021-10-05T11:18:11.732Z"
   },
   {
    "duration": 14,
    "start_time": "2021-10-05T11:18:11.765Z"
   },
   {
    "duration": 59,
    "start_time": "2021-10-05T11:18:11.782Z"
   },
   {
    "duration": 23,
    "start_time": "2021-10-05T11:18:11.844Z"
   },
   {
    "duration": 36,
    "start_time": "2021-10-05T11:18:11.870Z"
   },
   {
    "duration": 82,
    "start_time": "2021-10-05T11:18:11.923Z"
   },
   {
    "duration": 108,
    "start_time": "2021-10-05T11:18:12.023Z"
   },
   {
    "duration": 76,
    "start_time": "2021-10-05T11:18:12.134Z"
   },
   {
    "duration": 10,
    "start_time": "2021-10-05T11:18:12.222Z"
   },
   {
    "duration": 4,
    "start_time": "2021-10-05T11:18:12.234Z"
   },
   {
    "duration": 20,
    "start_time": "2021-10-05T11:18:12.241Z"
   },
   {
    "duration": 19,
    "start_time": "2021-10-05T11:18:12.264Z"
   },
   {
    "duration": 8,
    "start_time": "2021-10-05T11:18:12.286Z"
   },
   {
    "duration": 94,
    "start_time": "2021-10-05T11:18:12.296Z"
   },
   {
    "duration": 59,
    "start_time": "2021-10-05T11:18:12.392Z"
   },
   {
    "duration": 5,
    "start_time": "2021-10-05T11:18:12.453Z"
   },
   {
    "duration": 287,
    "start_time": "2021-10-05T11:18:12.461Z"
   },
   {
    "duration": -283,
    "start_time": "2021-10-05T11:18:13.035Z"
   },
   {
    "duration": -287,
    "start_time": "2021-10-05T11:18:13.041Z"
   },
   {
    "duration": -292,
    "start_time": "2021-10-05T11:18:13.048Z"
   },
   {
    "duration": -297,
    "start_time": "2021-10-05T11:18:13.055Z"
   },
   {
    "duration": -301,
    "start_time": "2021-10-05T11:18:13.061Z"
   },
   {
    "duration": -306,
    "start_time": "2021-10-05T11:18:13.068Z"
   },
   {
    "duration": -310,
    "start_time": "2021-10-05T11:18:13.074Z"
   },
   {
    "duration": -315,
    "start_time": "2021-10-05T11:18:13.081Z"
   },
   {
    "duration": -319,
    "start_time": "2021-10-05T11:18:13.086Z"
   },
   {
    "duration": -323,
    "start_time": "2021-10-05T11:18:13.092Z"
   },
   {
    "duration": -327,
    "start_time": "2021-10-05T11:18:13.098Z"
   },
   {
    "duration": -332,
    "start_time": "2021-10-05T11:18:13.104Z"
   },
   {
    "duration": -347,
    "start_time": "2021-10-05T11:18:13.121Z"
   },
   {
    "duration": -351,
    "start_time": "2021-10-05T11:18:13.126Z"
   },
   {
    "duration": -356,
    "start_time": "2021-10-05T11:18:13.132Z"
   },
   {
    "duration": -360,
    "start_time": "2021-10-05T11:18:13.138Z"
   },
   {
    "duration": -364,
    "start_time": "2021-10-05T11:18:13.143Z"
   },
   {
    "duration": 52,
    "start_time": "2021-10-05T11:18:22.433Z"
   },
   {
    "duration": 3381,
    "start_time": "2021-10-05T11:29:26.331Z"
   },
   {
    "duration": 5,
    "start_time": "2021-10-05T11:30:04.761Z"
   },
   {
    "duration": 3709,
    "start_time": "2021-10-05T11:30:13.155Z"
   },
   {
    "duration": 5,
    "start_time": "2021-10-05T11:30:52.735Z"
   },
   {
    "duration": 108,
    "start_time": "2021-10-05T11:30:56.411Z"
   },
   {
    "duration": 113,
    "start_time": "2021-10-05T11:39:17.571Z"
   },
   {
    "duration": 5,
    "start_time": "2021-10-05T11:39:21.475Z"
   },
   {
    "duration": 3582,
    "start_time": "2021-10-05T11:39:23.831Z"
   },
   {
    "duration": 5,
    "start_time": "2021-10-05T11:52:24.671Z"
   },
   {
    "duration": 4120,
    "start_time": "2021-10-05T11:52:27.587Z"
   },
   {
    "duration": 7,
    "start_time": "2021-10-05T11:54:07.588Z"
   },
   {
    "duration": 725,
    "start_time": "2021-10-05T13:07:19.287Z"
   },
   {
    "duration": 181,
    "start_time": "2021-10-05T13:07:21.530Z"
   },
   {
    "duration": 27,
    "start_time": "2021-10-05T13:07:29.955Z"
   },
   {
    "duration": 13,
    "start_time": "2021-10-05T13:07:31.238Z"
   },
   {
    "duration": 30,
    "start_time": "2021-10-05T13:07:33.252Z"
   },
   {
    "duration": 21,
    "start_time": "2021-10-05T13:07:37.085Z"
   },
   {
    "duration": 33,
    "start_time": "2021-10-05T13:07:39.433Z"
   },
   {
    "duration": 86,
    "start_time": "2021-10-05T13:07:43.354Z"
   },
   {
    "duration": 95,
    "start_time": "2021-10-05T13:07:45.566Z"
   },
   {
    "duration": 74,
    "start_time": "2021-10-05T13:07:48.131Z"
   },
   {
    "duration": 5,
    "start_time": "2021-10-05T13:07:53.196Z"
   },
   {
    "duration": 13,
    "start_time": "2021-10-05T13:07:54.410Z"
   },
   {
    "duration": 10,
    "start_time": "2021-10-05T13:07:57.270Z"
   },
   {
    "duration": 81,
    "start_time": "2021-10-05T13:08:08.707Z"
   },
   {
    "duration": 5,
    "start_time": "2021-10-05T13:08:32.519Z"
   },
   {
    "duration": 5,
    "start_time": "2021-10-05T13:10:48.580Z"
   },
   {
    "duration": 135,
    "start_time": "2021-10-05T13:10:50.281Z"
   },
   {
    "duration": 105,
    "start_time": "2021-10-05T13:11:41.101Z"
   },
   {
    "duration": 5,
    "start_time": "2021-10-05T13:11:56.650Z"
   },
   {
    "duration": 40,
    "start_time": "2021-10-05T13:11:58.439Z"
   },
   {
    "duration": 112,
    "start_time": "2021-10-05T13:13:06.010Z"
   },
   {
    "duration": 5,
    "start_time": "2021-10-05T13:13:13.271Z"
   },
   {
    "duration": 36,
    "start_time": "2021-10-05T13:13:15.408Z"
   },
   {
    "duration": 4,
    "start_time": "2021-10-05T13:14:48.481Z"
   },
   {
    "duration": 3630,
    "start_time": "2021-10-05T13:14:50.833Z"
   },
   {
    "duration": 4,
    "start_time": "2021-10-05T13:26:15.468Z"
   },
   {
    "duration": 25,
    "start_time": "2021-10-05T13:26:28.285Z"
   },
   {
    "duration": 5,
    "start_time": "2021-10-05T13:26:48.201Z"
   },
   {
    "duration": 26,
    "start_time": "2021-10-05T13:26:51.554Z"
   },
   {
    "duration": 810,
    "start_time": "2021-10-05T22:14:19.946Z"
   },
   {
    "duration": 186,
    "start_time": "2021-10-05T22:14:21.791Z"
   },
   {
    "duration": 31,
    "start_time": "2021-10-05T22:14:29.149Z"
   },
   {
    "duration": 14,
    "start_time": "2021-10-05T22:14:32.073Z"
   },
   {
    "duration": 25,
    "start_time": "2021-10-05T22:14:38.500Z"
   },
   {
    "duration": 37,
    "start_time": "2021-10-05T22:14:40.167Z"
   },
   {
    "duration": 81,
    "start_time": "2021-10-05T22:14:43.107Z"
   },
   {
    "duration": 101,
    "start_time": "2021-10-05T22:14:44.356Z"
   },
   {
    "duration": 74,
    "start_time": "2021-10-05T22:14:47.173Z"
   },
   {
    "duration": 5,
    "start_time": "2021-10-05T22:14:51.393Z"
   },
   {
    "duration": 14,
    "start_time": "2021-10-05T22:14:52.678Z"
   },
   {
    "duration": 4,
    "start_time": "2021-10-05T22:16:14.568Z"
   },
   {
    "duration": 28,
    "start_time": "2021-10-05T22:16:17.425Z"
   },
   {
    "duration": 23,
    "start_time": "2021-10-05T22:18:35.958Z"
   },
   {
    "duration": 22,
    "start_time": "2021-10-05T22:19:38.911Z"
   },
   {
    "duration": 22,
    "start_time": "2021-10-05T22:20:00.465Z"
   },
   {
    "duration": 28,
    "start_time": "2021-10-05T22:21:15.298Z"
   },
   {
    "duration": 23,
    "start_time": "2021-10-05T22:21:16.339Z"
   },
   {
    "duration": 15,
    "start_time": "2021-10-05T22:27:45.615Z"
   },
   {
    "duration": 543,
    "start_time": "2021-10-05T22:31:01.038Z"
   },
   {
    "duration": 15,
    "start_time": "2021-10-05T22:32:08.977Z"
   },
   {
    "duration": 17,
    "start_time": "2021-10-05T22:32:40.851Z"
   },
   {
    "duration": 14,
    "start_time": "2021-10-05T22:33:17.892Z"
   },
   {
    "duration": 17,
    "start_time": "2021-10-05T22:33:33.000Z"
   },
   {
    "duration": 15,
    "start_time": "2021-10-05T22:33:46.468Z"
   },
   {
    "duration": 33,
    "start_time": "2021-10-05T22:34:00.721Z"
   },
   {
    "duration": 19,
    "start_time": "2021-10-05T22:34:14.436Z"
   },
   {
    "duration": 5,
    "start_time": "2021-10-05T22:47:35.625Z"
   },
   {
    "duration": 650,
    "start_time": "2021-10-05T22:48:41.488Z"
   },
   {
    "duration": 5,
    "start_time": "2021-10-05T22:49:30.676Z"
   },
   {
    "duration": 26,
    "start_time": "2021-10-05T22:49:33.704Z"
   },
   {
    "duration": 17,
    "start_time": "2021-10-05T22:50:31.091Z"
   },
   {
    "duration": 23,
    "start_time": "2021-10-05T22:51:23.679Z"
   },
   {
    "duration": 19,
    "start_time": "2021-10-05T22:51:46.382Z"
   },
   {
    "duration": 352,
    "start_time": "2021-10-05T22:56:23.696Z"
   },
   {
    "duration": 348,
    "start_time": "2021-10-05T22:56:40.147Z"
   },
   {
    "duration": 310,
    "start_time": "2021-10-05T22:56:53.931Z"
   },
   {
    "duration": 29,
    "start_time": "2021-10-05T22:58:28.158Z"
   },
   {
    "duration": 17,
    "start_time": "2021-10-05T22:58:59.614Z"
   },
   {
    "duration": 353,
    "start_time": "2021-10-05T22:59:13.623Z"
   },
   {
    "duration": 321,
    "start_time": "2021-10-05T22:59:55.921Z"
   },
   {
    "duration": 13,
    "start_time": "2021-10-05T23:00:17.118Z"
   },
   {
    "duration": 42,
    "start_time": "2021-10-05T23:00:30.895Z"
   },
   {
    "duration": 14,
    "start_time": "2021-10-05T23:01:09.979Z"
   },
   {
    "duration": 341,
    "start_time": "2021-10-05T23:01:18.381Z"
   },
   {
    "duration": 16,
    "start_time": "2021-10-05T23:01:54.797Z"
   },
   {
    "duration": 12,
    "start_time": "2021-10-05T23:02:00.698Z"
   },
   {
    "duration": 7,
    "start_time": "2021-10-05T23:02:33.241Z"
   },
   {
    "duration": 10,
    "start_time": "2021-10-05T23:04:31.943Z"
   },
   {
    "duration": 6,
    "start_time": "2021-10-05T23:04:45.699Z"
   },
   {
    "duration": 690,
    "start_time": "2021-10-06T06:49:46.980Z"
   },
   {
    "duration": 158,
    "start_time": "2021-10-06T06:49:47.672Z"
   },
   {
    "duration": 18,
    "start_time": "2021-10-06T06:49:47.832Z"
   },
   {
    "duration": 27,
    "start_time": "2021-10-06T06:49:47.852Z"
   },
   {
    "duration": 4,
    "start_time": "2021-10-06T06:49:47.881Z"
   },
   {
    "duration": 29,
    "start_time": "2021-10-06T06:49:47.886Z"
   },
   {
    "duration": 34,
    "start_time": "2021-10-06T06:49:47.916Z"
   },
   {
    "duration": 24,
    "start_time": "2021-10-06T06:49:47.953Z"
   },
   {
    "duration": 19,
    "start_time": "2021-10-06T06:49:47.979Z"
   },
   {
    "duration": 54,
    "start_time": "2021-10-06T06:49:48.000Z"
   },
   {
    "duration": 64,
    "start_time": "2021-10-06T06:49:48.056Z"
   },
   {
    "duration": 91,
    "start_time": "2021-10-06T06:49:48.122Z"
   },
   {
    "duration": 67,
    "start_time": "2021-10-06T06:49:48.214Z"
   },
   {
    "duration": 7,
    "start_time": "2021-10-06T06:49:48.283Z"
   },
   {
    "duration": 3,
    "start_time": "2021-10-06T06:49:48.291Z"
   },
   {
    "duration": 14,
    "start_time": "2021-10-06T06:49:48.296Z"
   },
   {
    "duration": 7,
    "start_time": "2021-10-06T06:49:48.312Z"
   },
   {
    "duration": 29,
    "start_time": "2021-10-06T06:49:48.321Z"
   },
   {
    "duration": 38,
    "start_time": "2021-10-06T06:49:48.352Z"
   },
   {
    "duration": 57,
    "start_time": "2021-10-06T06:49:48.392Z"
   },
   {
    "duration": 4,
    "start_time": "2021-10-06T06:49:48.451Z"
   },
   {
    "duration": 31,
    "start_time": "2021-10-06T06:49:48.457Z"
   },
   {
    "duration": 19,
    "start_time": "2021-10-06T06:49:48.492Z"
   },
   {
    "duration": 43,
    "start_time": "2021-10-06T06:49:48.513Z"
   },
   {
    "duration": 17,
    "start_time": "2021-10-06T06:49:48.558Z"
   },
   {
    "duration": 22,
    "start_time": "2021-10-06T06:49:48.577Z"
   },
   {
    "duration": 53,
    "start_time": "2021-10-06T06:49:48.601Z"
   },
   {
    "duration": 9,
    "start_time": "2021-10-06T06:49:48.655Z"
   },
   {
    "duration": 16,
    "start_time": "2021-10-06T06:49:48.665Z"
   },
   {
    "duration": 9,
    "start_time": "2021-10-06T06:49:48.683Z"
   },
   {
    "duration": 4,
    "start_time": "2021-10-06T06:49:48.694Z"
   },
   {
    "duration": 54,
    "start_time": "2021-10-06T06:49:48.700Z"
   },
   {
    "duration": 14,
    "start_time": "2021-10-06T06:49:48.755Z"
   },
   {
    "duration": 17,
    "start_time": "2021-10-06T06:49:48.771Z"
   },
   {
    "duration": 12,
    "start_time": "2021-10-06T06:49:48.789Z"
   },
   {
    "duration": 7,
    "start_time": "2021-10-06T06:49:48.803Z"
   },
   {
    "duration": 39,
    "start_time": "2021-10-06T06:49:48.812Z"
   },
   {
    "duration": 7,
    "start_time": "2021-10-06T06:49:48.852Z"
   },
   {
    "duration": 8,
    "start_time": "2021-10-06T06:49:48.861Z"
   },
   {
    "duration": 773,
    "start_time": "2021-10-06T12:19:17.845Z"
   },
   {
    "duration": 186,
    "start_time": "2021-10-06T12:19:20.381Z"
   },
   {
    "duration": 26,
    "start_time": "2021-10-06T12:19:21.965Z"
   },
   {
    "duration": 26,
    "start_time": "2021-10-06T12:24:51.936Z"
   },
   {
    "duration": 6,
    "start_time": "2021-10-06T12:24:53.695Z"
   },
   {
    "duration": 31,
    "start_time": "2021-10-06T12:24:56.951Z"
   },
   {
    "duration": 23,
    "start_time": "2021-10-06T12:25:09.309Z"
   },
   {
    "duration": 40,
    "start_time": "2021-10-06T12:25:26.647Z"
   },
   {
    "duration": 41,
    "start_time": "2021-10-06T12:25:57.586Z"
   },
   {
    "duration": 123,
    "start_time": "2021-10-06T12:28:31.636Z"
   },
   {
    "duration": 31,
    "start_time": "2021-10-06T12:35:14.554Z"
   },
   {
    "duration": 30,
    "start_time": "2021-10-06T12:35:49.541Z"
   },
   {
    "duration": 11,
    "start_time": "2021-10-06T12:38:25.604Z"
   },
   {
    "duration": 392,
    "start_time": "2021-10-06T12:40:39.519Z"
   },
   {
    "duration": 307,
    "start_time": "2021-10-06T12:40:47.916Z"
   },
   {
    "duration": 32,
    "start_time": "2021-10-06T12:41:00.423Z"
   },
   {
    "duration": 86,
    "start_time": "2021-10-06T12:41:03.417Z"
   },
   {
    "duration": 97,
    "start_time": "2021-10-06T12:41:05.598Z"
   },
   {
    "duration": 73,
    "start_time": "2021-10-06T12:41:07.197Z"
   },
   {
    "duration": 312,
    "start_time": "2021-10-06T12:41:09.910Z"
   },
   {
    "duration": 110,
    "start_time": "2021-10-06T12:45:03.259Z"
   },
   {
    "duration": 359,
    "start_time": "2021-10-06T12:45:11.384Z"
   },
   {
    "duration": 8,
    "start_time": "2021-10-06T12:46:07.468Z"
   },
   {
    "duration": 312,
    "start_time": "2021-10-06T12:46:31.455Z"
   },
   {
    "duration": 331,
    "start_time": "2021-10-06T12:48:02.845Z"
   },
   {
    "duration": 9,
    "start_time": "2021-10-06T12:49:02.401Z"
   },
   {
    "duration": 9,
    "start_time": "2021-10-06T12:49:18.873Z"
   },
   {
    "duration": 10,
    "start_time": "2021-10-06T12:49:20.717Z"
   },
   {
    "duration": 9,
    "start_time": "2021-10-06T12:49:29.824Z"
   },
   {
    "duration": 9,
    "start_time": "2021-10-06T12:49:49.825Z"
   },
   {
    "duration": 298,
    "start_time": "2021-10-06T12:50:57.102Z"
   },
   {
    "duration": 4,
    "start_time": "2021-10-06T12:51:02.955Z"
   },
   {
    "duration": 14,
    "start_time": "2021-10-06T12:51:04.295Z"
   },
   {
    "duration": 295,
    "start_time": "2021-10-06T12:51:56.770Z"
   },
   {
    "duration": 18,
    "start_time": "2021-10-06T12:52:08.810Z"
   },
   {
    "duration": 17,
    "start_time": "2021-10-06T12:52:58.549Z"
   },
   {
    "duration": 5,
    "start_time": "2021-10-06T12:56:52.490Z"
   },
   {
    "duration": 112,
    "start_time": "2021-10-06T12:58:53.479Z"
   },
   {
    "duration": 4,
    "start_time": "2021-10-06T12:59:08.402Z"
   },
   {
    "duration": 618,
    "start_time": "2021-10-06T12:59:12.623Z"
   },
   {
    "duration": 5,
    "start_time": "2021-10-06T13:00:45.081Z"
   },
   {
    "duration": 22,
    "start_time": "2021-10-06T13:00:47.990Z"
   },
   {
    "duration": 14,
    "start_time": "2021-10-06T13:03:48.874Z"
   },
   {
    "duration": 18,
    "start_time": "2021-10-06T13:18:04.034Z"
   },
   {
    "duration": 15,
    "start_time": "2021-10-06T13:19:15.596Z"
   },
   {
    "duration": 9,
    "start_time": "2021-10-06T13:19:31.258Z"
   },
   {
    "duration": 550,
    "start_time": "2021-10-07T11:57:55.102Z"
   },
   {
    "duration": 144,
    "start_time": "2021-10-07T11:57:56.284Z"
   },
   {
    "duration": 16,
    "start_time": "2021-10-07T11:57:59.160Z"
   },
   {
    "duration": 4,
    "start_time": "2021-10-07T11:58:05.105Z"
   },
   {
    "duration": 22,
    "start_time": "2021-10-07T11:58:06.938Z"
   },
   {
    "duration": 4,
    "start_time": "2021-10-07T11:58:07.931Z"
   },
   {
    "duration": 24,
    "start_time": "2021-10-07T11:58:10.753Z"
   },
   {
    "duration": 19,
    "start_time": "2021-10-07T11:58:19.116Z"
   },
   {
    "duration": 26,
    "start_time": "2021-10-07T11:58:20.641Z"
   },
   {
    "duration": 69,
    "start_time": "2021-10-07T11:58:25.251Z"
   },
   {
    "duration": 75,
    "start_time": "2021-10-07T11:58:26.973Z"
   },
   {
    "duration": 62,
    "start_time": "2021-10-07T11:58:28.956Z"
   },
   {
    "duration": 40,
    "start_time": "2021-10-07T11:58:51.072Z"
   },
   {
    "duration": 8,
    "start_time": "2021-10-07T11:59:25.232Z"
   },
   {
    "duration": 11,
    "start_time": "2021-10-07T12:00:15.234Z"
   },
   {
    "duration": 49,
    "start_time": "2021-10-07T12:01:42.933Z"
   },
   {
    "duration": 647,
    "start_time": "2021-11-29T09:05:42.320Z"
   },
   {
    "duration": 165,
    "start_time": "2021-11-29T09:05:42.969Z"
   },
   {
    "duration": 23,
    "start_time": "2021-11-29T09:05:43.137Z"
   },
   {
    "duration": 38,
    "start_time": "2021-11-29T09:05:43.164Z"
   },
   {
    "duration": 5,
    "start_time": "2021-11-29T09:05:43.205Z"
   },
   {
    "duration": 36,
    "start_time": "2021-11-29T09:05:43.212Z"
   },
   {
    "duration": 16,
    "start_time": "2021-11-29T09:05:43.250Z"
   },
   {
    "duration": 30,
    "start_time": "2021-11-29T09:05:43.268Z"
   },
   {
    "duration": 29,
    "start_time": "2021-11-29T09:05:43.301Z"
   },
   {
    "duration": 33,
    "start_time": "2021-11-29T09:05:43.333Z"
   },
   {
    "duration": 69,
    "start_time": "2021-11-29T09:05:43.368Z"
   },
   {
    "duration": 87,
    "start_time": "2021-11-29T09:05:43.439Z"
   },
   {
    "duration": 78,
    "start_time": "2021-11-29T09:05:43.528Z"
   },
   {
    "duration": 11,
    "start_time": "2021-11-29T09:05:43.608Z"
   },
   {
    "duration": 4,
    "start_time": "2021-11-29T09:05:43.622Z"
   },
   {
    "duration": 17,
    "start_time": "2021-11-29T09:05:43.628Z"
   },
   {
    "duration": 60,
    "start_time": "2021-11-29T09:05:43.647Z"
   },
   {
    "duration": 14,
    "start_time": "2021-11-29T09:05:43.709Z"
   },
   {
    "duration": 11,
    "start_time": "2021-11-29T09:05:43.725Z"
   },
   {
    "duration": 3,
    "start_time": "2021-11-29T09:05:43.738Z"
   },
   {
    "duration": 39,
    "start_time": "2021-11-29T09:05:43.743Z"
   },
   {
    "duration": 20,
    "start_time": "2021-11-29T09:05:43.783Z"
   },
   {
    "duration": 18,
    "start_time": "2021-11-29T09:05:43.805Z"
   },
   {
    "duration": 48,
    "start_time": "2021-11-29T09:05:43.826Z"
   },
   {
    "duration": 19,
    "start_time": "2021-11-29T09:05:43.876Z"
   },
   {
    "duration": 17,
    "start_time": "2021-11-29T09:05:43.897Z"
   },
   {
    "duration": 9,
    "start_time": "2021-11-29T09:05:43.918Z"
   },
   {
    "duration": 43,
    "start_time": "2021-11-29T09:05:43.929Z"
   },
   {
    "duration": 10,
    "start_time": "2021-11-29T09:05:43.974Z"
   },
   {
    "duration": 6,
    "start_time": "2021-11-29T09:05:43.986Z"
   },
   {
    "duration": 33,
    "start_time": "2021-11-29T09:05:43.993Z"
   },
   {
    "duration": 38,
    "start_time": "2021-11-29T09:05:44.028Z"
   },
   {
    "duration": 18,
    "start_time": "2021-11-29T09:05:44.067Z"
   },
   {
    "duration": 13,
    "start_time": "2021-11-29T09:05:44.087Z"
   },
   {
    "duration": 10,
    "start_time": "2021-11-29T09:05:44.109Z"
   },
   {
    "duration": 5,
    "start_time": "2021-11-29T09:05:44.121Z"
   },
   {
    "duration": 37,
    "start_time": "2021-11-29T09:05:44.128Z"
   },
   {
    "duration": 7,
    "start_time": "2021-11-29T09:05:44.167Z"
   },
   {
    "duration": 807,
    "start_time": "2021-12-02T16:06:58.696Z"
   }
  ],
  "colab": {
   "collapsed_sections": [
    "E0vqbgi9ay0H",
    "VUC88oWjTJw2"
   ],
   "name": "yandex_music_project_2021.2.ipynb",
   "provenance": []
  },
  "kernelspec": {
   "display_name": "Python 3",
   "language": "python",
   "name": "python3"
  },
  "language_info": {
   "codemirror_mode": {
    "name": "ipython",
    "version": 3
   },
   "file_extension": ".py",
   "mimetype": "text/x-python",
   "name": "python",
   "nbconvert_exporter": "python",
   "pygments_lexer": "ipython3",
   "version": "3.8.8"
  },
  "toc": {
   "base_numbering": 1,
   "nav_menu": {},
   "number_sections": true,
   "sideBar": true,
   "skip_h1_title": true,
   "title_cell": "Table of Contents",
   "title_sidebar": "Contents",
   "toc_cell": false,
   "toc_position": {
    "height": "calc(100% - 180px)",
    "left": "10px",
    "top": "150px",
    "width": "289.6px"
   },
   "toc_section_display": true,
   "toc_window_display": true
  }
 },
 "nbformat": 4,
 "nbformat_minor": 1
}

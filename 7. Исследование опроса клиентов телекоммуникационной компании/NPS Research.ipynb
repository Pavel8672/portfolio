{
 "cells": [
  {
   "cell_type": "markdown",
   "id": "0f691a1f",
   "metadata": {},
   "source": [
    "\n",
    "Заказчик этого исследования — большая телекоммуникационная компания, которая оказывает услуги на территории всего СНГ. Перед компанией стоит задача определить текущий уровень потребительской лояльности, или NPS (от англ. Net Promoter Score), среди клиентов из России.\n",
    "Чтобы определить уровень лояльности, клиентам задавали классический вопрос: «Оцените по шкале от 1 до 10 вероятность того, что вы порекомендуете компанию друзьям и знакомым».\n",
    "Компания провела опрос и попросила меня подготовить дашборд с его итогами. Большую базу данных для такой задачи разворачивать не стали и выгрузили данные в SQLite."
   ]
  },
  {
   "cell_type": "markdown",
   "id": "8cc50389",
   "metadata": {},
   "source": [
    "Импортируем библиотеки, сделаем запрос в sql lite, сохраним необходимую нам таблицу и выгрузим ее для создания дашборда"
   ]
  },
  {
   "cell_type": "code",
   "execution_count": 1,
   "id": "51235731",
   "metadata": {
    "tags": [
     "aa81075c-062f-4de0-b5fe-14c73dc7468e"
    ]
   },
   "outputs": [],
   "source": [
    "import pandas as pd\n",
    "import numpy as np\n",
    "\n",
    "from sqlalchemy import create_engine"
   ]
  },
  {
   "cell_type": "code",
   "execution_count": 2,
   "id": "4f960db8",
   "metadata": {},
   "outputs": [],
   "source": [
    "path_to_db = '/datasets/telecomm_csi.db'\n",
    "engine = create_engine(f'sqlite:///{path_to_db}', echo = False)"
   ]
  },
  {
   "cell_type": "code",
   "execution_count": 3,
   "id": "a2e11768",
   "metadata": {},
   "outputs": [],
   "source": [
    "query = \"\"\"\n",
    "SELECT user_id, lt_day, age,case when gender_segment = 1 then 'f' when gender_segment = 0 then 'm' end gender_segment,\n",
    "case when lt_day <=365 then 'New' else 'Old' end is_new, os_name, cpe_type_name, country, city, \n",
    "substr(ags.title, 4) age_segment, substr(ts.title, 4) traffic_segment, substr(ls.title, 4) lifetime_segment, nps_score, \n",
    "case when nps_score between 9 and 10 then 'promoters' when nps_score between 7 and 8 then 'passives' else 'detractors' end nps_group\n",
    "FROM user u\n",
    "left join location l on u.location_id= l.location_id\n",
    "left join age_segment ags on u.age_gr_id = ags.age_gr_id\n",
    "left join traffic_segment ts on u.tr_gr_id = ts.tr_gr_id\n",
    "left join lifetime_segment ls on u.lt_gr_id = ls.lt_gr_id\n",
    ";\n",
    "\"\"\""
   ]
  },
  {
   "cell_type": "code",
   "execution_count": 4,
   "id": "9a93fb33",
   "metadata": {},
   "outputs": [
    {
     "data": {
      "text/html": [
       "<div>\n",
       "<style scoped>\n",
       "    .dataframe tbody tr th:only-of-type {\n",
       "        vertical-align: middle;\n",
       "    }\n",
       "\n",
       "    .dataframe tbody tr th {\n",
       "        vertical-align: top;\n",
       "    }\n",
       "\n",
       "    .dataframe thead th {\n",
       "        text-align: right;\n",
       "    }\n",
       "</style>\n",
       "<table border=\"1\" class=\"dataframe\">\n",
       "  <thead>\n",
       "    <tr style=\"text-align: right;\">\n",
       "      <th></th>\n",
       "      <th>user_id</th>\n",
       "      <th>lt_day</th>\n",
       "      <th>age</th>\n",
       "      <th>gender_segment</th>\n",
       "      <th>is_new</th>\n",
       "      <th>os_name</th>\n",
       "      <th>cpe_type_name</th>\n",
       "      <th>country</th>\n",
       "      <th>city</th>\n",
       "      <th>age_segment</th>\n",
       "      <th>traffic_segment</th>\n",
       "      <th>lifetime_segment</th>\n",
       "      <th>nps_score</th>\n",
       "      <th>nps_group</th>\n",
       "    </tr>\n",
       "  </thead>\n",
       "  <tbody>\n",
       "    <tr>\n",
       "      <th>209223</th>\n",
       "      <td>KT7TW3</td>\n",
       "      <td>862</td>\n",
       "      <td>26.0</td>\n",
       "      <td>f</td>\n",
       "      <td>Old</td>\n",
       "      <td>ANDROID</td>\n",
       "      <td>SMARTPHONE</td>\n",
       "      <td>Россия</td>\n",
       "      <td>Томск</td>\n",
       "      <td>25-34</td>\n",
       "      <td>25-30</td>\n",
       "      <td>25-36</td>\n",
       "      <td>9</td>\n",
       "      <td>promoters</td>\n",
       "    </tr>\n",
       "    <tr>\n",
       "      <th>133563</th>\n",
       "      <td>GVWTLJ</td>\n",
       "      <td>1440</td>\n",
       "      <td>68.0</td>\n",
       "      <td>m</td>\n",
       "      <td>Old</td>\n",
       "      <td>IOS</td>\n",
       "      <td>SMARTPHONE</td>\n",
       "      <td>Россия</td>\n",
       "      <td>Махачкала</td>\n",
       "      <td>66 +</td>\n",
       "      <td>30-35</td>\n",
       "      <td>36+</td>\n",
       "      <td>10</td>\n",
       "      <td>promoters</td>\n",
       "    </tr>\n",
       "    <tr>\n",
       "      <th>139464</th>\n",
       "      <td>H6YGL0</td>\n",
       "      <td>2394</td>\n",
       "      <td>42.0</td>\n",
       "      <td>f</td>\n",
       "      <td>Old</td>\n",
       "      <td>ANDROID</td>\n",
       "      <td>SMARTPHONE</td>\n",
       "      <td>Россия</td>\n",
       "      <td>Новосибирск</td>\n",
       "      <td>35-44</td>\n",
       "      <td>0.1-1</td>\n",
       "      <td>36+</td>\n",
       "      <td>5</td>\n",
       "      <td>detractors</td>\n",
       "    </tr>\n",
       "  </tbody>\n",
       "</table>\n",
       "</div>"
      ],
      "text/plain": [
       "       user_id  lt_day   age gender_segment is_new  os_name cpe_type_name  \\\n",
       "209223  KT7TW3     862  26.0              f    Old  ANDROID    SMARTPHONE   \n",
       "133563  GVWTLJ    1440  68.0              m    Old      IOS    SMARTPHONE   \n",
       "139464  H6YGL0    2394  42.0              f    Old  ANDROID    SMARTPHONE   \n",
       "\n",
       "       country         city age_segment traffic_segment lifetime_segment  \\\n",
       "209223  Россия        Томск       25-34           25-30            25-36   \n",
       "133563  Россия    Махачкала        66 +           30-35              36+   \n",
       "139464  Россия  Новосибирск       35-44           0.1-1              36+   \n",
       "\n",
       "        nps_score   nps_group  \n",
       "209223          9   promoters  \n",
       "133563         10   promoters  \n",
       "139464          5  detractors  "
      ]
     },
     "execution_count": 4,
     "metadata": {},
     "output_type": "execute_result"
    }
   ],
   "source": [
    "df = pd.read_sql(query, engine)\n",
    "df.sample(3)"
   ]
  },
  {
   "cell_type": "code",
   "execution_count": 5,
   "id": "fe5e6499",
   "metadata": {},
   "outputs": [],
   "source": [
    "df.to_csv('telecomm_csi_tableau.csv', index=False)"
   ]
  },
  {
   "cell_type": "markdown",
   "id": "882e9a60",
   "metadata": {},
   "source": [
    "### Ссылка на дашборд на сайте Tableau Public:"
   ]
  },
  {
   "cell_type": "markdown",
   "id": "5dd98a57",
   "metadata": {},
   "source": [
    "https://public.tableau.com/app/profile/pavel2662/viz/NPS_16472384343490/Dashboard1?publish=yes"
   ]
  },
  {
   "cell_type": "markdown",
   "id": "6ac7705b",
   "metadata": {},
   "source": [
    "### Ссылка на pdf-файл с презентацией:"
   ]
  },
  {
   "cell_type": "markdown",
   "id": "5f0dadce",
   "metadata": {},
   "source": [
    "https://disk.yandex.ru/i/6Z6lexbSStwetg"
   ]
  }
 ],
 "metadata": {
  "ExecuteTimeLog": [
   {
    "duration": 752,
    "start_time": "2021-10-03T17:40:52.731Z"
   },
   {
    "duration": 20,
    "start_time": "2021-10-03T17:40:53.486Z"
   },
   {
    "duration": 4,
    "start_time": "2021-10-03T17:41:04.638Z"
   },
   {
    "duration": 461,
    "start_time": "2021-10-03T17:41:04.912Z"
   },
   {
    "duration": 284,
    "start_time": "2021-10-03T17:41:05.376Z"
   },
   {
    "duration": 574,
    "start_time": "2021-10-06T07:55:05.029Z"
   },
   {
    "duration": 6,
    "start_time": "2021-10-06T07:55:05.605Z"
   },
   {
    "duration": 3,
    "start_time": "2021-10-06T07:55:14.685Z"
   },
   {
    "duration": 406,
    "start_time": "2021-10-06T07:55:15.522Z"
   },
   {
    "duration": 67,
    "start_time": "2021-10-06T07:55:15.929Z"
   },
   {
    "duration": 840,
    "start_time": "2021-10-07T07:54:04.647Z"
   },
   {
    "duration": 10,
    "start_time": "2021-10-07T07:54:05.490Z"
   },
   {
    "duration": 4,
    "start_time": "2021-10-07T07:54:05.544Z"
   },
   {
    "duration": 391,
    "start_time": "2021-10-07T07:54:06.237Z"
   },
   {
    "duration": 293,
    "start_time": "2021-10-07T07:54:06.654Z"
   },
   {
    "duration": 551,
    "start_time": "2022-03-12T06:01:57.050Z"
   },
   {
    "duration": 7,
    "start_time": "2022-03-12T06:01:59.362Z"
   },
   {
    "duration": 2,
    "start_time": "2022-03-12T06:02:00.245Z"
   },
   {
    "duration": 577,
    "start_time": "2022-03-12T06:02:03.183Z"
   },
   {
    "duration": 571,
    "start_time": "2022-03-12T06:02:25.918Z"
   },
   {
    "duration": 2,
    "start_time": "2022-03-12T06:03:25.866Z"
   },
   {
    "duration": 587,
    "start_time": "2022-03-12T06:03:26.473Z"
   },
   {
    "duration": 2,
    "start_time": "2022-03-12T06:09:33.722Z"
   },
   {
    "duration": 569,
    "start_time": "2022-03-12T06:09:34.207Z"
   },
   {
    "duration": 2,
    "start_time": "2022-03-12T06:13:23.658Z"
   },
   {
    "duration": 2699,
    "start_time": "2022-03-12T06:13:23.869Z"
   },
   {
    "duration": 3,
    "start_time": "2022-03-12T06:23:29.614Z"
   },
   {
    "duration": 746,
    "start_time": "2022-03-12T06:23:30.813Z"
   },
   {
    "duration": 2,
    "start_time": "2022-03-12T06:24:53.258Z"
   },
   {
    "duration": 701,
    "start_time": "2022-03-12T06:24:53.822Z"
   },
   {
    "duration": 3,
    "start_time": "2022-03-12T06:25:21.844Z"
   },
   {
    "duration": 592,
    "start_time": "2022-03-12T06:25:22.473Z"
   },
   {
    "duration": 2,
    "start_time": "2022-03-12T06:25:38.347Z"
   },
   {
    "duration": 2721,
    "start_time": "2022-03-12T06:25:39.156Z"
   },
   {
    "duration": 2,
    "start_time": "2022-03-12T06:26:19.742Z"
   },
   {
    "duration": 2706,
    "start_time": "2022-03-12T06:26:20.093Z"
   },
   {
    "duration": 2,
    "start_time": "2022-03-12T06:27:55.643Z"
   },
   {
    "duration": 2754,
    "start_time": "2022-03-12T06:27:56.230Z"
   },
   {
    "duration": 3,
    "start_time": "2022-03-12T06:33:29.001Z"
   },
   {
    "duration": 2790,
    "start_time": "2022-03-12T06:33:29.289Z"
   },
   {
    "duration": 2,
    "start_time": "2022-03-12T06:33:44.566Z"
   },
   {
    "duration": 2781,
    "start_time": "2022-03-12T06:33:44.752Z"
   },
   {
    "duration": 3,
    "start_time": "2022-03-12T06:39:07.544Z"
   },
   {
    "duration": 3546,
    "start_time": "2022-03-12T06:39:07.984Z"
   },
   {
    "duration": 2,
    "start_time": "2022-03-12T06:43:34.124Z"
   },
   {
    "duration": 538,
    "start_time": "2022-03-12T06:43:34.648Z"
   },
   {
    "duration": 2,
    "start_time": "2022-03-12T06:44:50.701Z"
   },
   {
    "duration": 542,
    "start_time": "2022-03-12T06:44:51.006Z"
   },
   {
    "duration": 2,
    "start_time": "2022-03-12T06:45:41.201Z"
   },
   {
    "duration": 548,
    "start_time": "2022-03-12T06:45:41.515Z"
   },
   {
    "duration": 3,
    "start_time": "2022-03-12T06:45:46.915Z"
   },
   {
    "duration": 714,
    "start_time": "2022-03-12T06:45:47.434Z"
   },
   {
    "duration": 3,
    "start_time": "2022-03-12T06:46:34.487Z"
   },
   {
    "duration": 550,
    "start_time": "2022-03-12T06:46:34.914Z"
   },
   {
    "duration": 3,
    "start_time": "2022-03-12T06:47:06.489Z"
   },
   {
    "duration": 566,
    "start_time": "2022-03-12T06:47:07.057Z"
   },
   {
    "duration": 2,
    "start_time": "2022-03-12T06:47:22.795Z"
   },
   {
    "duration": 3565,
    "start_time": "2022-03-12T06:47:23.103Z"
   },
   {
    "duration": 3517,
    "start_time": "2022-03-12T06:47:28.742Z"
   },
   {
    "duration": 2,
    "start_time": "2022-03-12T06:48:21.074Z"
   },
   {
    "duration": 4549,
    "start_time": "2022-03-12T06:48:21.221Z"
   },
   {
    "duration": 2,
    "start_time": "2022-03-12T06:48:42.388Z"
   },
   {
    "duration": 6762,
    "start_time": "2022-03-12T06:48:42.711Z"
   },
   {
    "duration": 2,
    "start_time": "2022-03-12T06:59:35.406Z"
   },
   {
    "duration": 3644,
    "start_time": "2022-03-12T06:59:35.853Z"
   },
   {
    "duration": 2,
    "start_time": "2022-03-12T07:04:13.867Z"
   },
   {
    "duration": 542,
    "start_time": "2022-03-12T07:04:14.336Z"
   },
   {
    "duration": 2,
    "start_time": "2022-03-12T07:07:02.407Z"
   },
   {
    "duration": 4928,
    "start_time": "2022-03-12T07:07:02.582Z"
   },
   {
    "duration": 4116,
    "start_time": "2022-03-12T07:07:22.268Z"
   },
   {
    "duration": 2,
    "start_time": "2022-03-12T07:24:21.049Z"
   },
   {
    "duration": 690,
    "start_time": "2022-03-12T07:24:22.542Z"
   },
   {
    "duration": 2,
    "start_time": "2022-03-12T07:30:10.767Z"
   },
   {
    "duration": 707,
    "start_time": "2022-03-12T07:30:10.977Z"
   },
   {
    "duration": 2,
    "start_time": "2022-03-12T07:36:51.410Z"
   },
   {
    "duration": 4,
    "start_time": "2022-03-12T07:37:19.215Z"
   },
   {
    "duration": 405,
    "start_time": "2022-03-12T07:37:20.575Z"
   },
   {
    "duration": 599,
    "start_time": "2022-03-12T07:37:24.418Z"
   },
   {
    "duration": 7,
    "start_time": "2022-03-12T07:37:25.865Z"
   },
   {
    "duration": 3,
    "start_time": "2022-03-12T07:37:26.544Z"
   },
   {
    "duration": 4394,
    "start_time": "2022-03-12T07:37:27.108Z"
   },
   {
    "duration": 2,
    "start_time": "2022-03-12T07:38:18.274Z"
   },
   {
    "duration": 7754,
    "start_time": "2022-03-12T07:38:18.701Z"
   },
   {
    "duration": 2,
    "start_time": "2022-03-12T07:54:50.675Z"
   },
   {
    "duration": 729,
    "start_time": "2022-03-12T07:54:51.113Z"
   },
   {
    "duration": 3,
    "start_time": "2022-03-12T07:55:33.528Z"
   },
   {
    "duration": 696,
    "start_time": "2022-03-12T07:55:33.862Z"
   },
   {
    "duration": 3,
    "start_time": "2022-03-12T07:58:37.571Z"
   },
   {
    "duration": 4307,
    "start_time": "2022-03-12T07:58:38.835Z"
   },
   {
    "duration": 3,
    "start_time": "2022-03-12T07:58:53.908Z"
   },
   {
    "duration": 4294,
    "start_time": "2022-03-12T07:58:56.913Z"
   },
   {
    "duration": 2,
    "start_time": "2022-03-12T07:59:43.187Z"
   },
   {
    "duration": 2057,
    "start_time": "2022-03-12T07:59:43.543Z"
   },
   {
    "duration": 2,
    "start_time": "2022-03-12T08:01:35.656Z"
   },
   {
    "duration": 1663,
    "start_time": "2022-03-12T08:01:38.231Z"
   },
   {
    "duration": 2,
    "start_time": "2022-03-12T08:02:10.078Z"
   },
   {
    "duration": 4364,
    "start_time": "2022-03-12T08:02:10.423Z"
   },
   {
    "duration": 4465,
    "start_time": "2022-03-12T08:02:42.112Z"
   },
   {
    "duration": 4357,
    "start_time": "2022-03-12T08:02:53.044Z"
   },
   {
    "duration": 4478,
    "start_time": "2022-03-12T08:03:14.600Z"
   },
   {
    "duration": 87,
    "start_time": "2022-03-12T08:03:35.352Z"
   },
   {
    "duration": 3,
    "start_time": "2022-03-12T08:04:56.174Z"
   },
   {
    "duration": 4559,
    "start_time": "2022-03-12T08:04:56.904Z"
   },
   {
    "duration": 90,
    "start_time": "2022-03-12T08:05:02.222Z"
   },
   {
    "duration": 2,
    "start_time": "2022-03-12T08:05:49.963Z"
   },
   {
    "duration": 4317,
    "start_time": "2022-03-12T08:05:50.408Z"
   },
   {
    "duration": 97,
    "start_time": "2022-03-12T08:06:15.238Z"
   },
   {
    "duration": 91,
    "start_time": "2022-03-12T08:06:16.656Z"
   },
   {
    "duration": 4115,
    "start_time": "2022-03-12T08:11:27.227Z"
   },
   {
    "duration": 482,
    "start_time": "2022-03-18T06:15:02.289Z"
   },
   {
    "duration": 9,
    "start_time": "2022-03-18T06:15:02.773Z"
   },
   {
    "duration": 2,
    "start_time": "2022-03-18T06:15:02.784Z"
   },
   {
    "duration": 5013,
    "start_time": "2022-03-18T06:15:02.788Z"
   },
   {
    "duration": 2967,
    "start_time": "2022-03-18T06:15:07.802Z"
   },
   {
    "duration": 539,
    "start_time": "2022-03-19T03:40:02.719Z"
   },
   {
    "duration": 9,
    "start_time": "2022-03-19T03:40:03.260Z"
   },
   {
    "duration": 5,
    "start_time": "2022-03-19T03:40:03.271Z"
   },
   {
    "duration": 5066,
    "start_time": "2022-03-19T03:40:03.277Z"
   },
   {
    "duration": 2807,
    "start_time": "2022-03-19T03:40:08.345Z"
   },
   {
    "duration": 667,
    "start_time": "2022-03-21T05:22:18.951Z"
   },
   {
    "duration": 13,
    "start_time": "2022-03-21T05:22:19.621Z"
   },
   {
    "duration": 4,
    "start_time": "2022-03-21T05:22:19.636Z"
   },
   {
    "duration": 6305,
    "start_time": "2022-03-21T05:22:19.643Z"
   },
   {
    "duration": 4704,
    "start_time": "2022-03-21T05:22:25.950Z"
   },
   {
    "duration": 4,
    "start_time": "2022-03-21T05:28:53.390Z"
   },
   {
    "duration": 6632,
    "start_time": "2022-03-21T05:28:53.836Z"
   },
   {
    "duration": 14,
    "start_time": "2022-03-21T05:31:16.078Z"
   },
   {
    "duration": 4,
    "start_time": "2022-03-21T05:34:19.199Z"
   },
   {
    "duration": 6381,
    "start_time": "2022-03-21T05:34:19.854Z"
   },
   {
    "duration": 26,
    "start_time": "2022-03-21T05:34:33.351Z"
   },
   {
    "duration": 4766,
    "start_time": "2022-03-21T05:34:57.696Z"
   },
   {
    "duration": 111,
    "start_time": "2022-03-21T05:46:14.714Z"
   },
   {
    "duration": 9,
    "start_time": "2022-03-21T05:46:22.685Z"
   },
   {
    "duration": 27,
    "start_time": "2022-03-21T05:46:33.126Z"
   },
   {
    "duration": 893,
    "start_time": "2022-03-21T05:47:36.690Z"
   },
   {
    "duration": 148,
    "start_time": "2022-03-21T05:48:18.322Z"
   },
   {
    "duration": 26,
    "start_time": "2022-03-21T05:48:25.264Z"
   },
   {
    "duration": 42,
    "start_time": "2022-03-21T05:48:37.210Z"
   },
   {
    "duration": 29,
    "start_time": "2022-03-21T05:50:36.432Z"
   },
   {
    "duration": 30,
    "start_time": "2022-03-21T05:50:45.274Z"
   },
   {
    "duration": 26,
    "start_time": "2022-03-21T05:51:11.202Z"
   },
   {
    "duration": 43,
    "start_time": "2022-03-21T05:52:09.160Z"
   },
   {
    "duration": 10,
    "start_time": "2022-03-21T05:52:17.263Z"
   },
   {
    "duration": 7,
    "start_time": "2022-03-21T05:52:31.263Z"
   },
   {
    "duration": 6,
    "start_time": "2022-03-21T05:52:37.247Z"
   },
   {
    "duration": 46,
    "start_time": "2022-03-21T05:52:41.951Z"
   },
   {
    "duration": 27,
    "start_time": "2022-03-21T05:52:56.735Z"
   },
   {
    "duration": 563,
    "start_time": "2022-03-21T05:57:38.107Z"
   },
   {
    "duration": 161,
    "start_time": "2022-03-21T12:41:40.279Z"
   },
   {
    "duration": 709,
    "start_time": "2022-03-22T04:09:35.455Z"
   },
   {
    "duration": 36,
    "start_time": "2022-03-22T04:09:36.167Z"
   },
   {
    "duration": 4,
    "start_time": "2022-03-22T04:09:36.205Z"
   },
   {
    "duration": 7923,
    "start_time": "2022-03-22T04:09:36.212Z"
   },
   {
    "duration": 5054,
    "start_time": "2022-03-22T04:09:44.137Z"
   }
  ],
  "kernelspec": {
   "display_name": "Python 3",
   "language": "python",
   "name": "python3"
  },
  "language_info": {
   "codemirror_mode": {
    "name": "ipython",
    "version": 3
   },
   "file_extension": ".py",
   "mimetype": "text/x-python",
   "name": "python",
   "nbconvert_exporter": "python",
   "pygments_lexer": "ipython3",
   "version": "3.8.8"
  },
  "toc": {
   "base_numbering": 1,
   "nav_menu": {},
   "number_sections": true,
   "sideBar": true,
   "skip_h1_title": true,
   "title_cell": "Table of Contents",
   "title_sidebar": "Contents",
   "toc_cell": false,
   "toc_position": {},
   "toc_section_display": true,
   "toc_window_display": false
  }
 },
 "nbformat": 4,
 "nbformat_minor": 5
}

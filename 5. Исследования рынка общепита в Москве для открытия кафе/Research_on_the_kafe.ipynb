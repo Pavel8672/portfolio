{
 "cells": [
  {
   "cell_type": "markdown",
   "metadata": {},
   "source": [
    "# Исследование возможности открытия роботизированного кафе"
   ]
  },
  {
   "cell_type": "markdown",
   "metadata": {},
   "source": [
    "Презентация: https://disk.yandex.ru/i/-_fKNLD0trIMXA"
   ]
  },
  {
   "cell_type": "markdown",
   "metadata": {},
   "source": [
    "Нам необходимо провести исследование рынка общепита и выяснить может ли быть востребовано кафе полностью роботизированное с минимальным присутствием людей в лице обслуживающего персонала"
   ]
  },
  {
   "cell_type": "markdown",
   "metadata": {},
   "source": [
    "Разделим ход выполнения работ, на 5 этапов: Просмотр данных, предобработка данных, исследовательский анализ данных, вывод, презентация."
   ]
  },
  {
   "cell_type": "markdown",
   "metadata": {},
   "source": [
    "В таблице rest_data имеются следующие столбцы:\n",
    " - id — идентификатор объекта;\n",
    " - object_name — название объекта общественного питания;\n",
    " - chain — сетевой ресторан;\n",
    " - object_type — тип объекта общественного питания;\n",
    " - address — адрес;\n",
    " - number — количество посадочных мест."
   ]
  },
  {
   "cell_type": "markdown",
   "metadata": {},
   "source": [
    "## Просмотр общих данных датасета"
   ]
  },
  {
   "cell_type": "markdown",
   "metadata": {},
   "source": [
    "Импортируем необходимые библиотеки и посмотрим на датасет"
   ]
  },
  {
   "cell_type": "code",
   "execution_count": 1,
   "metadata": {},
   "outputs": [],
   "source": [
    "import pandas as pd\n",
    "import numpy as np\n",
    "import matplotlib.pyplot as plt\n",
    "import seaborn as sns\n",
    "from io import BytesIO\n",
    "import requests\n",
    "import sys\n",
    "\n",
    "%matplotlib inline\n",
    "%config InlineBackend.figure_format='retina'"
   ]
  },
  {
   "cell_type": "code",
   "execution_count": 2,
   "metadata": {},
   "outputs": [],
   "source": [
    "if not sys.warnoptions:\n",
    "    import warnings\n",
    "    warnings.simplefilter(\"ignore\")"
   ]
  },
  {
   "cell_type": "code",
   "execution_count": 3,
   "metadata": {},
   "outputs": [],
   "source": [
    "try:\n",
    "    df = pd.read_csv('/datasets/rest_data.csv') #путь яндекса\n",
    "except:\n",
    "    df = pd.read_csv('https://code.s3.yandex.net/datasets/rest_data.csv') # если же ошибка - мой путь"
   ]
  },
  {
   "cell_type": "code",
   "execution_count": 4,
   "metadata": {},
   "outputs": [],
   "source": [
    "df_temp=df.copy()"
   ]
  },
  {
   "cell_type": "code",
   "execution_count": 5,
   "metadata": {},
   "outputs": [],
   "source": [
    "def start(data):\n",
    "    '''Функция для первоначального просмотра датасета'''\n",
    "    display(data.head()) \n",
    "    display(data.tail()) \n",
    "    data.info()\n",
    "    display(data.columns.str.lower())\n",
    "    display(data.duplicated().sum())\n",
    "    display(pd.DataFrame((data.isna().mean()*100).round(2)).style.background_gradient('coolwarm'))"
   ]
  },
  {
   "cell_type": "code",
   "execution_count": 6,
   "metadata": {},
   "outputs": [
    {
     "data": {
      "text/html": [
       "<div>\n",
       "<style scoped>\n",
       "    .dataframe tbody tr th:only-of-type {\n",
       "        vertical-align: middle;\n",
       "    }\n",
       "\n",
       "    .dataframe tbody tr th {\n",
       "        vertical-align: top;\n",
       "    }\n",
       "\n",
       "    .dataframe thead th {\n",
       "        text-align: right;\n",
       "    }\n",
       "</style>\n",
       "<table border=\"1\" class=\"dataframe\">\n",
       "  <thead>\n",
       "    <tr style=\"text-align: right;\">\n",
       "      <th></th>\n",
       "      <th>id</th>\n",
       "      <th>object_name</th>\n",
       "      <th>chain</th>\n",
       "      <th>object_type</th>\n",
       "      <th>address</th>\n",
       "      <th>number</th>\n",
       "    </tr>\n",
       "  </thead>\n",
       "  <tbody>\n",
       "    <tr>\n",
       "      <td>0</td>\n",
       "      <td>151635</td>\n",
       "      <td>СМЕТАНА</td>\n",
       "      <td>нет</td>\n",
       "      <td>кафе</td>\n",
       "      <td>город Москва, улица Егора Абакумова, дом 9</td>\n",
       "      <td>48</td>\n",
       "    </tr>\n",
       "    <tr>\n",
       "      <td>1</td>\n",
       "      <td>77874</td>\n",
       "      <td>Родник</td>\n",
       "      <td>нет</td>\n",
       "      <td>кафе</td>\n",
       "      <td>город Москва, улица Талалихина, дом 2/1, корпус 1</td>\n",
       "      <td>35</td>\n",
       "    </tr>\n",
       "    <tr>\n",
       "      <td>2</td>\n",
       "      <td>24309</td>\n",
       "      <td>Кафе «Академия»</td>\n",
       "      <td>нет</td>\n",
       "      <td>кафе</td>\n",
       "      <td>город Москва, Абельмановская улица, дом 6</td>\n",
       "      <td>95</td>\n",
       "    </tr>\n",
       "    <tr>\n",
       "      <td>3</td>\n",
       "      <td>21894</td>\n",
       "      <td>ПИЦЦЕТОРИЯ</td>\n",
       "      <td>да</td>\n",
       "      <td>кафе</td>\n",
       "      <td>город Москва, Абрамцевская улица, дом 1</td>\n",
       "      <td>40</td>\n",
       "    </tr>\n",
       "    <tr>\n",
       "      <td>4</td>\n",
       "      <td>119365</td>\n",
       "      <td>Кафе «Вишневая метель»</td>\n",
       "      <td>нет</td>\n",
       "      <td>кафе</td>\n",
       "      <td>город Москва, Абрамцевская улица, дом 9, корпус 1</td>\n",
       "      <td>50</td>\n",
       "    </tr>\n",
       "  </tbody>\n",
       "</table>\n",
       "</div>"
      ],
      "text/plain": [
       "       id             object_name chain object_type  \\\n",
       "0  151635                 СМЕТАНА   нет        кафе   \n",
       "1   77874                  Родник   нет        кафе   \n",
       "2   24309         Кафе «Академия»   нет        кафе   \n",
       "3   21894              ПИЦЦЕТОРИЯ    да        кафе   \n",
       "4  119365  Кафе «Вишневая метель»   нет        кафе   \n",
       "\n",
       "                                             address  number  \n",
       "0         город Москва, улица Егора Абакумова, дом 9      48  \n",
       "1  город Москва, улица Талалихина, дом 2/1, корпус 1      35  \n",
       "2          город Москва, Абельмановская улица, дом 6      95  \n",
       "3            город Москва, Абрамцевская улица, дом 1      40  \n",
       "4  город Москва, Абрамцевская улица, дом 9, корпус 1      50  "
      ]
     },
     "metadata": {},
     "output_type": "display_data"
    },
    {
     "data": {
      "text/html": [
       "<div>\n",
       "<style scoped>\n",
       "    .dataframe tbody tr th:only-of-type {\n",
       "        vertical-align: middle;\n",
       "    }\n",
       "\n",
       "    .dataframe tbody tr th {\n",
       "        vertical-align: top;\n",
       "    }\n",
       "\n",
       "    .dataframe thead th {\n",
       "        text-align: right;\n",
       "    }\n",
       "</style>\n",
       "<table border=\"1\" class=\"dataframe\">\n",
       "  <thead>\n",
       "    <tr style=\"text-align: right;\">\n",
       "      <th></th>\n",
       "      <th>id</th>\n",
       "      <th>object_name</th>\n",
       "      <th>chain</th>\n",
       "      <th>object_type</th>\n",
       "      <th>address</th>\n",
       "      <th>number</th>\n",
       "    </tr>\n",
       "  </thead>\n",
       "  <tbody>\n",
       "    <tr>\n",
       "      <td>15361</td>\n",
       "      <td>208537</td>\n",
       "      <td>Шоколадница</td>\n",
       "      <td>да</td>\n",
       "      <td>кафе</td>\n",
       "      <td>город Москва, 3-й Крутицкий переулок, дом 18</td>\n",
       "      <td>50</td>\n",
       "    </tr>\n",
       "    <tr>\n",
       "      <td>15362</td>\n",
       "      <td>209264</td>\n",
       "      <td>Шоколадница</td>\n",
       "      <td>да</td>\n",
       "      <td>кафе</td>\n",
       "      <td>город Москва, улица Земляной Вал, дом 33</td>\n",
       "      <td>10</td>\n",
       "    </tr>\n",
       "    <tr>\n",
       "      <td>15363</td>\n",
       "      <td>209186</td>\n",
       "      <td>Шоколадница</td>\n",
       "      <td>да</td>\n",
       "      <td>кафе</td>\n",
       "      <td>город Москва, улица Земляной Вал, дом 33</td>\n",
       "      <td>20</td>\n",
       "    </tr>\n",
       "    <tr>\n",
       "      <td>15364</td>\n",
       "      <td>221900</td>\n",
       "      <td>Шоколадница</td>\n",
       "      <td>да</td>\n",
       "      <td>кафе</td>\n",
       "      <td>город Москва, поселение Московский, Киевское ш...</td>\n",
       "      <td>36</td>\n",
       "    </tr>\n",
       "    <tr>\n",
       "      <td>15365</td>\n",
       "      <td>222535</td>\n",
       "      <td>Шоколадница</td>\n",
       "      <td>да</td>\n",
       "      <td>кафе</td>\n",
       "      <td>город Москва, Ходынский бульвар, дом 4</td>\n",
       "      <td>10</td>\n",
       "    </tr>\n",
       "  </tbody>\n",
       "</table>\n",
       "</div>"
      ],
      "text/plain": [
       "           id  object_name chain object_type  \\\n",
       "15361  208537  Шоколадница    да        кафе   \n",
       "15362  209264  Шоколадница    да        кафе   \n",
       "15363  209186  Шоколадница    да        кафе   \n",
       "15364  221900  Шоколадница    да        кафе   \n",
       "15365  222535  Шоколадница    да        кафе   \n",
       "\n",
       "                                                 address  number  \n",
       "15361       город Москва, 3-й Крутицкий переулок, дом 18      50  \n",
       "15362           город Москва, улица Земляной Вал, дом 33      10  \n",
       "15363           город Москва, улица Земляной Вал, дом 33      20  \n",
       "15364  город Москва, поселение Московский, Киевское ш...      36  \n",
       "15365             город Москва, Ходынский бульвар, дом 4      10  "
      ]
     },
     "metadata": {},
     "output_type": "display_data"
    },
    {
     "name": "stdout",
     "output_type": "stream",
     "text": [
      "<class 'pandas.core.frame.DataFrame'>\n",
      "RangeIndex: 15366 entries, 0 to 15365\n",
      "Data columns (total 6 columns):\n",
      "id             15366 non-null int64\n",
      "object_name    15366 non-null object\n",
      "chain          15366 non-null object\n",
      "object_type    15366 non-null object\n",
      "address        15366 non-null object\n",
      "number         15366 non-null int64\n",
      "dtypes: int64(2), object(4)\n",
      "memory usage: 720.4+ KB\n"
     ]
    },
    {
     "data": {
      "text/plain": [
       "Index(['id', 'object_name', 'chain', 'object_type', 'address', 'number'], dtype='object')"
      ]
     },
     "metadata": {},
     "output_type": "display_data"
    },
    {
     "data": {
      "text/plain": [
       "0"
      ]
     },
     "metadata": {},
     "output_type": "display_data"
    },
    {
     "data": {
      "text/html": [
       "<style  type=\"text/css\" >\n",
       "    #T_9bf214a4_88c9_11ec_b97c_02420a39e28erow0_col0 {\n",
       "            background-color:  #3b4cc0;\n",
       "            color:  #f1f1f1;\n",
       "        }    #T_9bf214a4_88c9_11ec_b97c_02420a39e28erow1_col0 {\n",
       "            background-color:  #3b4cc0;\n",
       "            color:  #f1f1f1;\n",
       "        }    #T_9bf214a4_88c9_11ec_b97c_02420a39e28erow2_col0 {\n",
       "            background-color:  #3b4cc0;\n",
       "            color:  #f1f1f1;\n",
       "        }    #T_9bf214a4_88c9_11ec_b97c_02420a39e28erow3_col0 {\n",
       "            background-color:  #3b4cc0;\n",
       "            color:  #f1f1f1;\n",
       "        }    #T_9bf214a4_88c9_11ec_b97c_02420a39e28erow4_col0 {\n",
       "            background-color:  #3b4cc0;\n",
       "            color:  #f1f1f1;\n",
       "        }    #T_9bf214a4_88c9_11ec_b97c_02420a39e28erow5_col0 {\n",
       "            background-color:  #3b4cc0;\n",
       "            color:  #f1f1f1;\n",
       "        }</style><table id=\"T_9bf214a4_88c9_11ec_b97c_02420a39e28e\" ><thead>    <tr>        <th class=\"blank level0\" ></th>        <th class=\"col_heading level0 col0\" >0</th>    </tr></thead><tbody>\n",
       "                <tr>\n",
       "                        <th id=\"T_9bf214a4_88c9_11ec_b97c_02420a39e28elevel0_row0\" class=\"row_heading level0 row0\" >id</th>\n",
       "                        <td id=\"T_9bf214a4_88c9_11ec_b97c_02420a39e28erow0_col0\" class=\"data row0 col0\" >0</td>\n",
       "            </tr>\n",
       "            <tr>\n",
       "                        <th id=\"T_9bf214a4_88c9_11ec_b97c_02420a39e28elevel0_row1\" class=\"row_heading level0 row1\" >object_name</th>\n",
       "                        <td id=\"T_9bf214a4_88c9_11ec_b97c_02420a39e28erow1_col0\" class=\"data row1 col0\" >0</td>\n",
       "            </tr>\n",
       "            <tr>\n",
       "                        <th id=\"T_9bf214a4_88c9_11ec_b97c_02420a39e28elevel0_row2\" class=\"row_heading level0 row2\" >chain</th>\n",
       "                        <td id=\"T_9bf214a4_88c9_11ec_b97c_02420a39e28erow2_col0\" class=\"data row2 col0\" >0</td>\n",
       "            </tr>\n",
       "            <tr>\n",
       "                        <th id=\"T_9bf214a4_88c9_11ec_b97c_02420a39e28elevel0_row3\" class=\"row_heading level0 row3\" >object_type</th>\n",
       "                        <td id=\"T_9bf214a4_88c9_11ec_b97c_02420a39e28erow3_col0\" class=\"data row3 col0\" >0</td>\n",
       "            </tr>\n",
       "            <tr>\n",
       "                        <th id=\"T_9bf214a4_88c9_11ec_b97c_02420a39e28elevel0_row4\" class=\"row_heading level0 row4\" >address</th>\n",
       "                        <td id=\"T_9bf214a4_88c9_11ec_b97c_02420a39e28erow4_col0\" class=\"data row4 col0\" >0</td>\n",
       "            </tr>\n",
       "            <tr>\n",
       "                        <th id=\"T_9bf214a4_88c9_11ec_b97c_02420a39e28elevel0_row5\" class=\"row_heading level0 row5\" >number</th>\n",
       "                        <td id=\"T_9bf214a4_88c9_11ec_b97c_02420a39e28erow5_col0\" class=\"data row5 col0\" >0</td>\n",
       "            </tr>\n",
       "    </tbody></table>"
      ],
      "text/plain": [
       "<pandas.io.formats.style.Styler at 0x7fe0a0e2c450>"
      ]
     },
     "metadata": {},
     "output_type": "display_data"
    }
   ],
   "source": [
    "start(df_temp)"
   ]
  },
  {
   "cell_type": "markdown",
   "metadata": {},
   "source": [
    "Мы видим, что в таблице отсутствуют пропущенные значения, тип данных указан правильно, так же отсутствуют явные дубликаты что может говорить о том, что данные составлены правильно, единственно что смущает: это запись в столбце object_name, но скорей всего это не отразится на конечном результате, ведь есть id заведения, а оно уникальное для каждого заведения."
   ]
  },
  {
   "cell_type": "markdown",
   "metadata": {},
   "source": [
    "## Предобработка данных"
   ]
  },
  {
   "cell_type": "markdown",
   "metadata": {},
   "source": [
    "Проверим на неявные дубликаты таблицу и если они есть, избавимся от них"
   ]
  },
  {
   "cell_type": "code",
   "execution_count": 7,
   "metadata": {},
   "outputs": [
    {
     "data": {
      "text/plain": [
       "40.72627879734479"
      ]
     },
     "execution_count": 7,
     "metadata": {},
     "output_type": "execute_result"
    }
   ],
   "source": [
    "df[df['address'].duplicated()]['id'].count() / 15366*100"
   ]
  },
  {
   "cell_type": "markdown",
   "metadata": {},
   "source": [
    "Мы видим, что в колонке адрес есть 40% дубликатов, что не может не смутить, но так же может в одном здании находиться несколько заведений, проверим."
   ]
  },
  {
   "cell_type": "code",
   "execution_count": 8,
   "metadata": {},
   "outputs": [
    {
     "data": {
      "text/html": [
       "<div>\n",
       "<style scoped>\n",
       "    .dataframe tbody tr th:only-of-type {\n",
       "        vertical-align: middle;\n",
       "    }\n",
       "\n",
       "    .dataframe tbody tr th {\n",
       "        vertical-align: top;\n",
       "    }\n",
       "\n",
       "    .dataframe thead th {\n",
       "        text-align: right;\n",
       "    }\n",
       "</style>\n",
       "<table border=\"1\" class=\"dataframe\">\n",
       "  <thead>\n",
       "    <tr style=\"text-align: right;\">\n",
       "      <th></th>\n",
       "      <th>id</th>\n",
       "      <th>object_name</th>\n",
       "      <th>chain</th>\n",
       "      <th>object_type</th>\n",
       "      <th>address</th>\n",
       "      <th>number</th>\n",
       "    </tr>\n",
       "  </thead>\n",
       "  <tbody>\n",
       "    <tr>\n",
       "      <td>8</td>\n",
       "      <td>20958</td>\n",
       "      <td>КПФ СЕМЬЯ-1</td>\n",
       "      <td>нет</td>\n",
       "      <td>столовая</td>\n",
       "      <td>город Москва, Авиамоторная улица, дом 8, строе...</td>\n",
       "      <td>150</td>\n",
       "    </tr>\n",
       "    <tr>\n",
       "      <td>9</td>\n",
       "      <td>28858</td>\n",
       "      <td>Столовая МТУСИ</td>\n",
       "      <td>нет</td>\n",
       "      <td>столовая</td>\n",
       "      <td>город Москва, Авиамоторная улица, дом 8, строе...</td>\n",
       "      <td>120</td>\n",
       "    </tr>\n",
       "    <tr>\n",
       "      <td>22</td>\n",
       "      <td>26931</td>\n",
       "      <td>Долина Чайхона</td>\n",
       "      <td>нет</td>\n",
       "      <td>кафе</td>\n",
       "      <td>город Москва, Алтуфьевское шоссе, дом 14</td>\n",
       "      <td>150</td>\n",
       "    </tr>\n",
       "    <tr>\n",
       "      <td>25</td>\n",
       "      <td>81554</td>\n",
       "      <td>Домино'с Пицца</td>\n",
       "      <td>да</td>\n",
       "      <td>кафе</td>\n",
       "      <td>город Москва, Алтуфьевское шоссе, дом 56</td>\n",
       "      <td>24</td>\n",
       "    </tr>\n",
       "    <tr>\n",
       "      <td>37</td>\n",
       "      <td>24968</td>\n",
       "      <td>Му-Му</td>\n",
       "      <td>да</td>\n",
       "      <td>кафе</td>\n",
       "      <td>город Москва, улица Арбат, дом 4, строение 1</td>\n",
       "      <td>125</td>\n",
       "    </tr>\n",
       "    <tr>\n",
       "      <td>...</td>\n",
       "      <td>...</td>\n",
       "      <td>...</td>\n",
       "      <td>...</td>\n",
       "      <td>...</td>\n",
       "      <td>...</td>\n",
       "      <td>...</td>\n",
       "    </tr>\n",
       "    <tr>\n",
       "      <td>15361</td>\n",
       "      <td>208537</td>\n",
       "      <td>Шоколадница</td>\n",
       "      <td>да</td>\n",
       "      <td>кафе</td>\n",
       "      <td>город Москва, 3-й Крутицкий переулок, дом 18</td>\n",
       "      <td>50</td>\n",
       "    </tr>\n",
       "    <tr>\n",
       "      <td>15362</td>\n",
       "      <td>209264</td>\n",
       "      <td>Шоколадница</td>\n",
       "      <td>да</td>\n",
       "      <td>кафе</td>\n",
       "      <td>город Москва, улица Земляной Вал, дом 33</td>\n",
       "      <td>10</td>\n",
       "    </tr>\n",
       "    <tr>\n",
       "      <td>15363</td>\n",
       "      <td>209186</td>\n",
       "      <td>Шоколадница</td>\n",
       "      <td>да</td>\n",
       "      <td>кафе</td>\n",
       "      <td>город Москва, улица Земляной Вал, дом 33</td>\n",
       "      <td>20</td>\n",
       "    </tr>\n",
       "    <tr>\n",
       "      <td>15364</td>\n",
       "      <td>221900</td>\n",
       "      <td>Шоколадница</td>\n",
       "      <td>да</td>\n",
       "      <td>кафе</td>\n",
       "      <td>город Москва, поселение Московский, Киевское ш...</td>\n",
       "      <td>36</td>\n",
       "    </tr>\n",
       "    <tr>\n",
       "      <td>15365</td>\n",
       "      <td>222535</td>\n",
       "      <td>Шоколадница</td>\n",
       "      <td>да</td>\n",
       "      <td>кафе</td>\n",
       "      <td>город Москва, Ходынский бульвар, дом 4</td>\n",
       "      <td>10</td>\n",
       "    </tr>\n",
       "  </tbody>\n",
       "</table>\n",
       "<p>6258 rows × 6 columns</p>\n",
       "</div>"
      ],
      "text/plain": [
       "           id     object_name chain object_type  \\\n",
       "8       20958     КПФ СЕМЬЯ-1   нет    столовая   \n",
       "9       28858  Столовая МТУСИ   нет    столовая   \n",
       "22      26931  Долина Чайхона   нет        кафе   \n",
       "25      81554  Домино'с Пицца    да        кафе   \n",
       "37      24968           Му-Му    да        кафе   \n",
       "...       ...             ...   ...         ...   \n",
       "15361  208537     Шоколадница    да        кафе   \n",
       "15362  209264     Шоколадница    да        кафе   \n",
       "15363  209186     Шоколадница    да        кафе   \n",
       "15364  221900     Шоколадница    да        кафе   \n",
       "15365  222535     Шоколадница    да        кафе   \n",
       "\n",
       "                                                 address  number  \n",
       "8      город Москва, Авиамоторная улица, дом 8, строе...     150  \n",
       "9      город Москва, Авиамоторная улица, дом 8, строе...     120  \n",
       "22              город Москва, Алтуфьевское шоссе, дом 14     150  \n",
       "25              город Москва, Алтуфьевское шоссе, дом 56      24  \n",
       "37          город Москва, улица Арбат, дом 4, строение 1     125  \n",
       "...                                                  ...     ...  \n",
       "15361       город Москва, 3-й Крутицкий переулок, дом 18      50  \n",
       "15362           город Москва, улица Земляной Вал, дом 33      10  \n",
       "15363           город Москва, улица Земляной Вал, дом 33      20  \n",
       "15364  город Москва, поселение Московский, Киевское ш...      36  \n",
       "15365             город Москва, Ходынский бульвар, дом 4      10  \n",
       "\n",
       "[6258 rows x 6 columns]"
      ]
     },
     "execution_count": 8,
     "metadata": {},
     "output_type": "execute_result"
    }
   ],
   "source": [
    "df[df['address'].duplicated()]"
   ]
  },
  {
   "cell_type": "code",
   "execution_count": 9,
   "metadata": {},
   "outputs": [
    {
     "data": {
      "text/plain": [
       "0                       СМЕТАНА\n",
       "1                        Родник\n",
       "2               Кафе «Академия»\n",
       "3                    ПИЦЦЕТОРИЯ\n",
       "4        Кафе «Вишневая метель»\n",
       "                  ...          \n",
       "15361               Шоколадница\n",
       "15362               Шоколадница\n",
       "15363               Шоколадница\n",
       "15364               Шоколадница\n",
       "15365               Шоколадница\n",
       "Name: object_name, Length: 15366, dtype: object"
      ]
     },
     "execution_count": 9,
     "metadata": {},
     "output_type": "execute_result"
    }
   ],
   "source": [
    "df_temp['address'].str.strip()#убираем пробелы с начала и конца строки\n",
    "df_temp['object_name'].str.strip()"
   ]
  },
  {
   "cell_type": "code",
   "execution_count": 10,
   "metadata": {},
   "outputs": [
    {
     "data": {
      "text/plain": [
       "'город Москва, Авиамоторная улица, дом 8, строение 1'"
      ]
     },
     "execution_count": 10,
     "metadata": {},
     "output_type": "execute_result"
    }
   ],
   "source": [
    "df.loc[8,'address']"
   ]
  },
  {
   "cell_type": "code",
   "execution_count": 11,
   "metadata": {},
   "outputs": [
    {
     "data": {
      "text/html": [
       "<div>\n",
       "<style scoped>\n",
       "    .dataframe tbody tr th:only-of-type {\n",
       "        vertical-align: middle;\n",
       "    }\n",
       "\n",
       "    .dataframe tbody tr th {\n",
       "        vertical-align: top;\n",
       "    }\n",
       "\n",
       "    .dataframe thead th {\n",
       "        text-align: right;\n",
       "    }\n",
       "</style>\n",
       "<table border=\"1\" class=\"dataframe\">\n",
       "  <thead>\n",
       "    <tr style=\"text-align: right;\">\n",
       "      <th></th>\n",
       "      <th>id</th>\n",
       "      <th>object_name</th>\n",
       "      <th>chain</th>\n",
       "      <th>object_type</th>\n",
       "      <th>address</th>\n",
       "      <th>number</th>\n",
       "    </tr>\n",
       "  </thead>\n",
       "  <tbody>\n",
       "    <tr>\n",
       "      <td>7</td>\n",
       "      <td>20957</td>\n",
       "      <td>Буфет МТУСИ</td>\n",
       "      <td>нет</td>\n",
       "      <td>столовая</td>\n",
       "      <td>город Москва, Авиамоторная улица, дом 8, строе...</td>\n",
       "      <td>90</td>\n",
       "    </tr>\n",
       "    <tr>\n",
       "      <td>8</td>\n",
       "      <td>20958</td>\n",
       "      <td>КПФ СЕМЬЯ-1</td>\n",
       "      <td>нет</td>\n",
       "      <td>столовая</td>\n",
       "      <td>город Москва, Авиамоторная улица, дом 8, строе...</td>\n",
       "      <td>150</td>\n",
       "    </tr>\n",
       "    <tr>\n",
       "      <td>9</td>\n",
       "      <td>28858</td>\n",
       "      <td>Столовая МТУСИ</td>\n",
       "      <td>нет</td>\n",
       "      <td>столовая</td>\n",
       "      <td>город Москва, Авиамоторная улица, дом 8, строе...</td>\n",
       "      <td>120</td>\n",
       "    </tr>\n",
       "  </tbody>\n",
       "</table>\n",
       "</div>"
      ],
      "text/plain": [
       "      id     object_name chain object_type  \\\n",
       "7  20957     Буфет МТУСИ   нет    столовая   \n",
       "8  20958     КПФ СЕМЬЯ-1   нет    столовая   \n",
       "9  28858  Столовая МТУСИ   нет    столовая   \n",
       "\n",
       "                                             address  number  \n",
       "7  город Москва, Авиамоторная улица, дом 8, строе...      90  \n",
       "8  город Москва, Авиамоторная улица, дом 8, строе...     150  \n",
       "9  город Москва, Авиамоторная улица, дом 8, строе...     120  "
      ]
     },
     "execution_count": 11,
     "metadata": {},
     "output_type": "execute_result"
    }
   ],
   "source": [
    "df.loc[df['address'] == 'город Москва, Авиамоторная улица, дом 8, строение 1']"
   ]
  },
  {
   "cell_type": "markdown",
   "metadata": {},
   "source": [
    "Мы видим что по одному адресу располагаются 3 разных заведения, о чем и говорилось ранее"
   ]
  },
  {
   "cell_type": "markdown",
   "metadata": {},
   "source": [
    "Проверим таблицу на неявные дубликаты"
   ]
  },
  {
   "cell_type": "code",
   "execution_count": 12,
   "metadata": {},
   "outputs": [
    {
     "data": {
      "text/plain": [
       "0.53"
      ]
     },
     "execution_count": 12,
     "metadata": {},
     "output_type": "execute_result"
    }
   ],
   "source": [
    "(df[['object_name', 'chain', 'object_type', 'address', 'number']].duplicated().sum() /df.shape[0]*100).round(2)"
   ]
  },
  {
   "cell_type": "markdown",
   "metadata": {},
   "source": [
    "Мы видим, что количество дубликатов от общего количества составляет всего 0,5 % следовательно эти данные можно смело удалить, они никак не повлияют на ход нашего исследования"
   ]
  },
  {
   "cell_type": "code",
   "execution_count": 13,
   "metadata": {},
   "outputs": [],
   "source": [
    "df_temp = df_temp.drop_duplicates(subset=['object_name', 'chain', 'object_type', 'address', 'number'], keep=\"last\")"
   ]
  },
  {
   "cell_type": "code",
   "execution_count": 14,
   "metadata": {},
   "outputs": [],
   "source": [
    "df_temp.reset_index = True"
   ]
  },
  {
   "cell_type": "code",
   "execution_count": 15,
   "metadata": {},
   "outputs": [
    {
     "data": {
      "text/plain": [
       "0.0"
      ]
     },
     "execution_count": 15,
     "metadata": {},
     "output_type": "execute_result"
    }
   ],
   "source": [
    "(df_temp[['object_name', 'chain', 'object_type', 'address', 'number']].duplicated().sum() /df.shape[0]*100).round(2)"
   ]
  },
  {
   "cell_type": "markdown",
   "metadata": {},
   "source": [
    "Вывод: Мы проверили таблицу на неявные дубликаты, как оказалось они присутствуют и в небольшом количестве всего 0,53% от общего количества поэтому их просто удалили. Так же подтвердилась теория, что в одном здании могут быть больше одного заведения."
   ]
  },
  {
   "cell_type": "markdown",
   "metadata": {},
   "source": [
    "## Исследовательский анализ данных"
   ]
  },
  {
   "cell_type": "markdown",
   "metadata": {},
   "source": [
    "Проведем анализ данных и определим действительно ли роботизированной кафе будет вызывать интерес у клиентов"
   ]
  },
  {
   "cell_type": "code",
   "execution_count": 16,
   "metadata": {},
   "outputs": [
    {
     "data": {
      "image/png": "[encoded data removed]",
      "text/plain": [
       "<Figure size 720x504 with 1 Axes>"
      ]
     },
     "metadata": {
      "image/png": {
       "height": 634,
       "width": 605
      },
      "needs_background": "light"
     },
     "output_type": "display_data"
    }
   ],
   "source": [
    "df_temp.groupby('object_type')['id'].count().plot(kind='bar',\n",
    "                                             title='График количества видов общественного питания',\n",
    "                                             \n",
    "                                             figsize=(10,7)\n",
    "                                             )\n",
    "\n",
    "plt.show()\n"
   ]
  },
  {
   "cell_type": "markdown",
   "metadata": {},
   "source": [
    "Из графика мы видим, что самые популярные заведения по количеству в столице - это все таки кафе, причем опережают своих предшественников на довольно значительное значение."
   ]
  },
  {
   "cell_type": "code",
   "execution_count": 17,
   "metadata": {},
   "outputs": [
    {
     "data": {
      "text/plain": [
       "chain\n",
       "да      2964\n",
       "нет    12320\n",
       "Name: id, dtype: int64"
      ]
     },
     "execution_count": 17,
     "metadata": {},
     "output_type": "execute_result"
    }
   ],
   "source": [
    "df_temp.groupby('chain')['id'].count()"
   ]
  },
  {
   "cell_type": "code",
   "execution_count": 18,
   "metadata": {},
   "outputs": [
    {
     "data": {
      "image/png": "[encoded data removed]",
      "text/plain": [
       "<Figure size 720x504 with 1 Axes>"
      ]
     },
     "metadata": {
      "image/png": {
       "height": 450,
       "width": 611
      },
      "needs_background": "light"
     },
     "output_type": "display_data"
    }
   ],
   "source": [
    "df_temp.groupby('chain')['id'].count().plot(kind='bar',\\\n",
    "            title='График количества сетевых и не сетевых заведений общественного питания',figsize=(10,7)\n",
    "    )\n",
    "\n",
    "plt.show()"
   ]
  },
  {
   "cell_type": "markdown",
   "metadata": {},
   "source": [
    "Мы видим, что основное количество - это одиночные заведения, с очень большим отрывом"
   ]
  },
  {
   "cell_type": "markdown",
   "metadata": {},
   "source": [
    "Построим график отношения сетевых заведений к несетевым"
   ]
  },
  {
   "cell_type": "code",
   "execution_count": 19,
   "metadata": {},
   "outputs": [
    {
     "data": {
      "text/html": [
       "<div>\n",
       "<style scoped>\n",
       "    .dataframe tbody tr th:only-of-type {\n",
       "        vertical-align: middle;\n",
       "    }\n",
       "\n",
       "    .dataframe tbody tr th {\n",
       "        vertical-align: top;\n",
       "    }\n",
       "\n",
       "    .dataframe thead th {\n",
       "        text-align: right;\n",
       "    }\n",
       "</style>\n",
       "<table border=\"1\" class=\"dataframe\">\n",
       "  <thead>\n",
       "    <tr style=\"text-align: right;\">\n",
       "      <th></th>\n",
       "      <th>id</th>\n",
       "      <th>object_name</th>\n",
       "      <th>chain</th>\n",
       "      <th>object_type</th>\n",
       "      <th>address</th>\n",
       "      <th>number</th>\n",
       "    </tr>\n",
       "  </thead>\n",
       "  <tbody>\n",
       "    <tr>\n",
       "      <td>0</td>\n",
       "      <td>151635</td>\n",
       "      <td>СМЕТАНА</td>\n",
       "      <td>нет</td>\n",
       "      <td>кафе</td>\n",
       "      <td>город Москва, улица Егора Абакумова, дом 9</td>\n",
       "      <td>48</td>\n",
       "    </tr>\n",
       "    <tr>\n",
       "      <td>1</td>\n",
       "      <td>77874</td>\n",
       "      <td>Родник</td>\n",
       "      <td>нет</td>\n",
       "      <td>кафе</td>\n",
       "      <td>город Москва, улица Талалихина, дом 2/1, корпус 1</td>\n",
       "      <td>35</td>\n",
       "    </tr>\n",
       "    <tr>\n",
       "      <td>2</td>\n",
       "      <td>24309</td>\n",
       "      <td>Кафе «Академия»</td>\n",
       "      <td>нет</td>\n",
       "      <td>кафе</td>\n",
       "      <td>город Москва, Абельмановская улица, дом 6</td>\n",
       "      <td>95</td>\n",
       "    </tr>\n",
       "    <tr>\n",
       "      <td>3</td>\n",
       "      <td>21894</td>\n",
       "      <td>ПИЦЦЕТОРИЯ</td>\n",
       "      <td>да</td>\n",
       "      <td>кафе</td>\n",
       "      <td>город Москва, Абрамцевская улица, дом 1</td>\n",
       "      <td>40</td>\n",
       "    </tr>\n",
       "    <tr>\n",
       "      <td>4</td>\n",
       "      <td>119365</td>\n",
       "      <td>Кафе «Вишневая метель»</td>\n",
       "      <td>нет</td>\n",
       "      <td>кафе</td>\n",
       "      <td>город Москва, Абрамцевская улица, дом 9, корпус 1</td>\n",
       "      <td>50</td>\n",
       "    </tr>\n",
       "  </tbody>\n",
       "</table>\n",
       "</div>"
      ],
      "text/plain": [
       "       id             object_name chain object_type  \\\n",
       "0  151635                 СМЕТАНА   нет        кафе   \n",
       "1   77874                  Родник   нет        кафе   \n",
       "2   24309         Кафе «Академия»   нет        кафе   \n",
       "3   21894              ПИЦЦЕТОРИЯ    да        кафе   \n",
       "4  119365  Кафе «Вишневая метель»   нет        кафе   \n",
       "\n",
       "                                             address  number  \n",
       "0         город Москва, улица Егора Абакумова, дом 9      48  \n",
       "1  город Москва, улица Талалихина, дом 2/1, корпус 1      35  \n",
       "2          город Москва, Абельмановская улица, дом 6      95  \n",
       "3            город Москва, Абрамцевская улица, дом 1      40  \n",
       "4  город Москва, Абрамцевская улица, дом 9, корпус 1      50  "
      ]
     },
     "execution_count": 19,
     "metadata": {},
     "output_type": "execute_result"
    }
   ],
   "source": [
    "df_temp.head()"
   ]
  },
  {
   "cell_type": "code",
   "execution_count": 20,
   "metadata": {},
   "outputs": [],
   "source": [
    "share_chain_all = df_temp.groupby(['object_type'])['id'].count().to_frame().join(df_temp[df_temp['chain']=='да'].\\\n",
    "         groupby(['object_type'])['number'].count().to_frame())\n",
    "share_chain_all['chain'] = (share_chain_all['number'] / share_chain_all['id']).round(2)\n",
    "share_chain_all = share_chain_all.reset_index().sort_values(by='chain',ascending=False)"
   ]
  },
  {
   "cell_type": "code",
   "execution_count": 21,
   "metadata": {},
   "outputs": [
    {
     "data": {
      "image/png": "[encoded data removed]",
      "text/plain": [
       "<Figure size 1080x504 with 1 Axes>"
      ]
     },
     "metadata": {
      "image/png": {
       "height": 440,
       "width": 1075
      },
      "needs_background": "light"
     },
     "output_type": "display_data"
    }
   ],
   "source": [
    "plt.figure(figsize=(15,7))\n",
    "ax=sns.barplot(x='chain', y=\"object_type\", data=share_chain_all)\n",
    "ax.set_title('Доля сетевых заведений относительно общего количества')\n",
    "\n",
    "plt.show()"
   ]
  },
  {
   "cell_type": "code",
   "execution_count": 22,
   "metadata": {},
   "outputs": [],
   "source": [
    "share_chain = df_temp[df_temp['chain']=='нет'].groupby(['object_type'])['id'].count().to_frame().join(df_temp[df_temp['chain']=='да'].\\\n",
    "         groupby(['object_type'])['number'].count().to_frame())\n",
    "share_chain['chain'] = (share_chain['number'] / share_chain['id']).round(2)\n",
    "share_chain = share_chain.reset_index().sort_values(by='chain',ascending=False)"
   ]
  },
  {
   "cell_type": "code",
   "execution_count": 23,
   "metadata": {},
   "outputs": [
    {
     "data": {
      "image/png": "[encoded data removed]",
      "text/plain": [
       "<Figure size 1080x504 with 1 Axes>"
      ]
     },
     "metadata": {
      "image/png": {
       "height": 440,
       "width": 1075
      },
      "needs_background": "light"
     },
     "output_type": "display_data"
    }
   ],
   "source": [
    "plt.figure(figsize=(15,7))\n",
    "ax=sns.barplot(x='chain', y=\"object_type\", data=share_chain)\n",
    "ax.set_title('Доля сетевых заведений относительно несетевых')\n",
    "\n",
    "plt.show()"
   ]
  },
  {
   "cell_type": "markdown",
   "metadata": {},
   "source": [
    "Как мы видим доля сетевых заведений полностью меняет картину восприятия заведений в столице, на первом месте идут предприятия быстрого обслуживания, далее кулинария и ресторан примерно на одном уровне с кафе."
   ]
  },
  {
   "cell_type": "code",
   "execution_count": 24,
   "metadata": {},
   "outputs": [
    {
     "data": {
      "text/html": [
       "<div>\n",
       "<style scoped>\n",
       "    .dataframe tbody tr th:only-of-type {\n",
       "        vertical-align: middle;\n",
       "    }\n",
       "\n",
       "    .dataframe tbody tr th {\n",
       "        vertical-align: top;\n",
       "    }\n",
       "\n",
       "    .dataframe thead th {\n",
       "        text-align: right;\n",
       "    }\n",
       "</style>\n",
       "<table border=\"1\" class=\"dataframe\">\n",
       "  <thead>\n",
       "    <tr style=\"text-align: right;\">\n",
       "      <th></th>\n",
       "      <th>object_name</th>\n",
       "      <th>id_count</th>\n",
       "      <th>number_mean</th>\n",
       "    </tr>\n",
       "  </thead>\n",
       "  <tbody>\n",
       "    <tr>\n",
       "      <td>0</td>\n",
       "      <td>KFC</td>\n",
       "      <td>155</td>\n",
       "      <td>55.34</td>\n",
       "    </tr>\n",
       "    <tr>\n",
       "      <td>1</td>\n",
       "      <td>Шоколадница</td>\n",
       "      <td>141</td>\n",
       "      <td>56.17</td>\n",
       "    </tr>\n",
       "    <tr>\n",
       "      <td>2</td>\n",
       "      <td>Бургер Кинг</td>\n",
       "      <td>122</td>\n",
       "      <td>45.02</td>\n",
       "    </tr>\n",
       "    <tr>\n",
       "      <td>3</td>\n",
       "      <td>Макдоналдс</td>\n",
       "      <td>121</td>\n",
       "      <td>82.17</td>\n",
       "    </tr>\n",
       "    <tr>\n",
       "      <td>4</td>\n",
       "      <td>Домино'с Пицца</td>\n",
       "      <td>86</td>\n",
       "      <td>18.21</td>\n",
       "    </tr>\n",
       "    <tr>\n",
       "      <td>...</td>\n",
       "      <td>...</td>\n",
       "      <td>...</td>\n",
       "      <td>...</td>\n",
       "    </tr>\n",
       "    <tr>\n",
       "      <td>719</td>\n",
       "      <td>Кафе «Марукамэ»</td>\n",
       "      <td>1</td>\n",
       "      <td>40.00</td>\n",
       "    </tr>\n",
       "    <tr>\n",
       "      <td>720</td>\n",
       "      <td>Кафе «МЕЛЕНКА»</td>\n",
       "      <td>1</td>\n",
       "      <td>60.00</td>\n",
       "    </tr>\n",
       "    <tr>\n",
       "      <td>721</td>\n",
       "      <td>Кафе «МАКДОНАЛДС»</td>\n",
       "      <td>1</td>\n",
       "      <td>40.00</td>\n",
       "    </tr>\n",
       "    <tr>\n",
       "      <td>722</td>\n",
       "      <td>Кафе «Кулинарное бюро»</td>\n",
       "      <td>1</td>\n",
       "      <td>18.00</td>\n",
       "    </tr>\n",
       "    <tr>\n",
       "      <td>723</td>\n",
       "      <td>ресторан «Якитория»</td>\n",
       "      <td>1</td>\n",
       "      <td>124.00</td>\n",
       "    </tr>\n",
       "  </tbody>\n",
       "</table>\n",
       "<p>724 rows × 3 columns</p>\n",
       "</div>"
      ],
      "text/plain": [
       "                object_name  id_count  number_mean\n",
       "0                       KFC       155        55.34\n",
       "1               Шоколадница       141        56.17\n",
       "2               Бургер Кинг       122        45.02\n",
       "3                Макдоналдс       121        82.17\n",
       "4            Домино'с Пицца        86        18.21\n",
       "..                      ...       ...          ...\n",
       "719         Кафе «Марукамэ»         1        40.00\n",
       "720          Кафе «МЕЛЕНКА»         1        60.00\n",
       "721       Кафе «МАКДОНАЛДС»         1        40.00\n",
       "722  Кафе «Кулинарное бюро»         1        18.00\n",
       "723     ресторан «Якитория»         1       124.00\n",
       "\n",
       "[724 rows x 3 columns]"
      ]
     },
     "execution_count": 24,
     "metadata": {},
     "output_type": "execute_result"
    }
   ],
   "source": [
    "df_chain = df_temp.loc[df_temp['chain'] == 'да'].groupby(['object_name'])\\\n",
    ".agg(id_count = ('id','count'),\\\n",
    "     number_mean=('number','mean')).round(2).sort_values(by='id_count',ascending=False).reset_index()\n",
    "df_chain"
   ]
  },
  {
   "cell_type": "code",
   "execution_count": 25,
   "metadata": {},
   "outputs": [
    {
     "data": {
      "text/plain": [
       "<Figure size 1440x720 with 0 Axes>"
      ]
     },
     "metadata": {},
     "output_type": "display_data"
    },
    {
     "data": {
      "image/png": "[encoded data removed]",
      "text/plain": [
       "<Figure size 432x432 with 3 Axes>"
      ]
     },
     "metadata": {
      "image/png": {
       "height": 425,
       "width": 427
      },
      "needs_background": "light"
     },
     "output_type": "display_data"
    }
   ],
   "source": [
    "plt.figure(figsize=(20,10))\n",
    "sns.jointplot(x=df_chain[\"id_count\"], y=df_chain[\"number_mean\"], kind='reg')\n",
    "plt.suptitle('График зависимости посадочных мест от числа заведений')\n",
    "plt.show()"
   ]
  },
  {
   "cell_type": "markdown",
   "metadata": {},
   "source": [
    "Из графика мы видим, что основном в сетевых заведениях, это небольшое количество заведений с небольшим количеством посадочных мест, примерно около 60. Так же мы видим, что есть заведения с 0 посадочных мест, посмотрим на них"
   ]
  },
  {
   "cell_type": "code",
   "execution_count": 26,
   "metadata": {},
   "outputs": [
    {
     "data": {
      "text/html": [
       "<div>\n",
       "<style scoped>\n",
       "    .dataframe tbody tr th:only-of-type {\n",
       "        vertical-align: middle;\n",
       "    }\n",
       "\n",
       "    .dataframe tbody tr th {\n",
       "        vertical-align: top;\n",
       "    }\n",
       "\n",
       "    .dataframe thead th {\n",
       "        text-align: right;\n",
       "    }\n",
       "</style>\n",
       "<table border=\"1\" class=\"dataframe\">\n",
       "  <thead>\n",
       "    <tr style=\"text-align: right;\">\n",
       "      <th></th>\n",
       "      <th>id</th>\n",
       "      <th>object_name</th>\n",
       "      <th>chain</th>\n",
       "      <th>object_type</th>\n",
       "      <th>address</th>\n",
       "      <th>number</th>\n",
       "    </tr>\n",
       "  </thead>\n",
       "  <tbody>\n",
       "    <tr>\n",
       "      <td>137</td>\n",
       "      <td>115498</td>\n",
       "      <td>Пекарня &amp; Донер</td>\n",
       "      <td>нет</td>\n",
       "      <td>закусочная</td>\n",
       "      <td>город Москва, Бутырская улица, дом 9, корпус 2</td>\n",
       "      <td>0</td>\n",
       "    </tr>\n",
       "    <tr>\n",
       "      <td>154</td>\n",
       "      <td>152556</td>\n",
       "      <td>Шаурма в пите</td>\n",
       "      <td>нет</td>\n",
       "      <td>предприятие быстрого обслуживания</td>\n",
       "      <td>город Москва, Варшавское шоссе, дом 72, корпус 2</td>\n",
       "      <td>0</td>\n",
       "    </tr>\n",
       "    <tr>\n",
       "      <td>157</td>\n",
       "      <td>149568</td>\n",
       "      <td>Суши</td>\n",
       "      <td>нет</td>\n",
       "      <td>предприятие быстрого обслуживания</td>\n",
       "      <td>город Москва, улица Маршала Василевского, дом ...</td>\n",
       "      <td>0</td>\n",
       "    </tr>\n",
       "    <tr>\n",
       "      <td>190</td>\n",
       "      <td>126956</td>\n",
       "      <td>Шаурма, куры-гриль</td>\n",
       "      <td>нет</td>\n",
       "      <td>предприятие быстрого обслуживания</td>\n",
       "      <td>город Москва, 1-я Владимирская улица, дом 21</td>\n",
       "      <td>0</td>\n",
       "    </tr>\n",
       "    <tr>\n",
       "      <td>195</td>\n",
       "      <td>149531</td>\n",
       "      <td>Шаурма, куры-гриль</td>\n",
       "      <td>нет</td>\n",
       "      <td>предприятие быстрого обслуживания</td>\n",
       "      <td>город Москва, 2-я Владимирская улица, дом 44/10</td>\n",
       "      <td>0</td>\n",
       "    </tr>\n",
       "    <tr>\n",
       "      <td>...</td>\n",
       "      <td>...</td>\n",
       "      <td>...</td>\n",
       "      <td>...</td>\n",
       "      <td>...</td>\n",
       "      <td>...</td>\n",
       "      <td>...</td>\n",
       "    </tr>\n",
       "    <tr>\n",
       "      <td>15334</td>\n",
       "      <td>211228</td>\n",
       "      <td>МИЛТИ</td>\n",
       "      <td>да</td>\n",
       "      <td>магазин (отдел кулинарии)</td>\n",
       "      <td>город Москва, Дубравная улица, дом 34/29</td>\n",
       "      <td>0</td>\n",
       "    </tr>\n",
       "    <tr>\n",
       "      <td>15335</td>\n",
       "      <td>211221</td>\n",
       "      <td>МИЛТИ</td>\n",
       "      <td>да</td>\n",
       "      <td>магазин (отдел кулинарии)</td>\n",
       "      <td>город Москва, Пятницкое шоссе, дом 3</td>\n",
       "      <td>0</td>\n",
       "    </tr>\n",
       "    <tr>\n",
       "      <td>15336</td>\n",
       "      <td>211209</td>\n",
       "      <td>Готовые блюда Милти</td>\n",
       "      <td>да</td>\n",
       "      <td>предприятие быстрого обслуживания</td>\n",
       "      <td>город Москва, Ореховый бульвар, дом 22А</td>\n",
       "      <td>0</td>\n",
       "    </tr>\n",
       "    <tr>\n",
       "      <td>15337</td>\n",
       "      <td>208477</td>\n",
       "      <td>Милти</td>\n",
       "      <td>да</td>\n",
       "      <td>предприятие быстрого обслуживания</td>\n",
       "      <td>город Москва, 3-й Крутицкий переулок, дом 18</td>\n",
       "      <td>0</td>\n",
       "    </tr>\n",
       "    <tr>\n",
       "      <td>15338</td>\n",
       "      <td>211201</td>\n",
       "      <td>Милти</td>\n",
       "      <td>да</td>\n",
       "      <td>магазин (отдел кулинарии)</td>\n",
       "      <td>город Москва, Новослободская улица, дом 4</td>\n",
       "      <td>0</td>\n",
       "    </tr>\n",
       "  </tbody>\n",
       "</table>\n",
       "<p>1589 rows × 6 columns</p>\n",
       "</div>"
      ],
      "text/plain": [
       "           id          object_name chain                        object_type  \\\n",
       "137    115498      Пекарня & Донер   нет                         закусочная   \n",
       "154    152556        Шаурма в пите   нет  предприятие быстрого обслуживания   \n",
       "157    149568                 Суши   нет  предприятие быстрого обслуживания   \n",
       "190    126956   Шаурма, куры-гриль   нет  предприятие быстрого обслуживания   \n",
       "195    149531   Шаурма, куры-гриль   нет  предприятие быстрого обслуживания   \n",
       "...       ...                  ...   ...                                ...   \n",
       "15334  211228                МИЛТИ    да          магазин (отдел кулинарии)   \n",
       "15335  211221                МИЛТИ    да          магазин (отдел кулинарии)   \n",
       "15336  211209  Готовые блюда Милти    да  предприятие быстрого обслуживания   \n",
       "15337  208477                Милти    да  предприятие быстрого обслуживания   \n",
       "15338  211201                Милти    да          магазин (отдел кулинарии)   \n",
       "\n",
       "                                                 address  number  \n",
       "137       город Москва, Бутырская улица, дом 9, корпус 2       0  \n",
       "154     город Москва, Варшавское шоссе, дом 72, корпус 2       0  \n",
       "157    город Москва, улица Маршала Василевского, дом ...       0  \n",
       "190         город Москва, 1-я Владимирская улица, дом 21       0  \n",
       "195      город Москва, 2-я Владимирская улица, дом 44/10       0  \n",
       "...                                                  ...     ...  \n",
       "15334           город Москва, Дубравная улица, дом 34/29       0  \n",
       "15335               город Москва, Пятницкое шоссе, дом 3       0  \n",
       "15336            город Москва, Ореховый бульвар, дом 22А       0  \n",
       "15337       город Москва, 3-й Крутицкий переулок, дом 18       0  \n",
       "15338          город Москва, Новослободская улица, дом 4       0  \n",
       "\n",
       "[1589 rows x 6 columns]"
      ]
     },
     "execution_count": 26,
     "metadata": {},
     "output_type": "execute_result"
    }
   ],
   "source": [
    "df_temp[df_temp['number']==0]"
   ]
  },
  {
   "cell_type": "markdown",
   "metadata": {},
   "source": [
    "Мы видим, что заведения с 0 посадочных мест это магазины кулинарии, шаурма, суши, вообщем все заведения работающие на вынос, так же в дальнейшем не стоит рассматривать сетевые заведения с 1 заведением в сети."
   ]
  },
  {
   "cell_type": "markdown",
   "metadata": {},
   "source": [
    "Добавим столбец с названиями улиц"
   ]
  },
  {
   "cell_type": "code",
   "execution_count": 27,
   "metadata": {},
   "outputs": [],
   "source": [
    "def rows(row):#функция для взятия первого параметра в столбцах к которым она применяется\n",
    "    try:\n",
    "        return''.join(row.split(',')[1].strip())\n",
    "    except:\n",
    "        \"uknown\""
   ]
  },
  {
   "cell_type": "code",
   "execution_count": 28,
   "metadata": {},
   "outputs": [],
   "source": [
    "df_temp['street'] =df_temp['address'].apply(rows)"
   ]
  },
  {
   "cell_type": "markdown",
   "metadata": {},
   "source": [
    "Найдем топ 10 улиц"
   ]
  },
  {
   "cell_type": "code",
   "execution_count": 29,
   "metadata": {},
   "outputs": [
    {
     "data": {
      "text/plain": [
       "street\n",
       "проспект Мира             204\n",
       "Профсоюзная улица         181\n",
       "Ленинградский проспект    170\n",
       "Пресненская набережная    167\n",
       "Варшавское шоссе          161\n",
       "Ленинский проспект        147\n",
       "поселение Сосенское       137\n",
       "проспект Вернадского      128\n",
       "Кутузовский проспект      114\n",
       "Каширское шоссе           111\n",
       "Name: id, dtype: int64"
      ]
     },
     "execution_count": 29,
     "metadata": {},
     "output_type": "execute_result"
    }
   ],
   "source": [
    "df_temp.groupby('street')['id'].count().sort_values(ascending=False).iloc[1:11]"
   ]
  },
  {
   "cell_type": "markdown",
   "metadata": {},
   "source": [
    "Загрузим внешнюю таблицу города Москва по улицам и районам и посчитаем топ 10 улиц по количеству заведений общественного питания"
   ]
  },
  {
   "cell_type": "code",
   "execution_count": 30,
   "metadata": {},
   "outputs": [
    {
     "data": {
      "text/html": [
       "<div>\n",
       "<style scoped>\n",
       "    .dataframe tbody tr th:only-of-type {\n",
       "        vertical-align: middle;\n",
       "    }\n",
       "\n",
       "    .dataframe tbody tr th {\n",
       "        vertical-align: top;\n",
       "    }\n",
       "\n",
       "    .dataframe thead th {\n",
       "        text-align: right;\n",
       "    }\n",
       "</style>\n",
       "<table border=\"1\" class=\"dataframe\">\n",
       "  <thead>\n",
       "    <tr style=\"text-align: right;\">\n",
       "      <th></th>\n",
       "      <th>streetname</th>\n",
       "      <th>areaid</th>\n",
       "      <th>okrug</th>\n",
       "      <th>area</th>\n",
       "    </tr>\n",
       "  </thead>\n",
       "  <tbody>\n",
       "    <tr>\n",
       "      <td>0</td>\n",
       "      <td>Выставочный переулок</td>\n",
       "      <td>17</td>\n",
       "      <td>ЦАО</td>\n",
       "      <td>Пресненский район</td>\n",
       "    </tr>\n",
       "    <tr>\n",
       "      <td>1</td>\n",
       "      <td>улица Гашека</td>\n",
       "      <td>17</td>\n",
       "      <td>ЦАО</td>\n",
       "      <td>Пресненский район</td>\n",
       "    </tr>\n",
       "    <tr>\n",
       "      <td>2</td>\n",
       "      <td>Большая Никитская улица</td>\n",
       "      <td>17</td>\n",
       "      <td>ЦАО</td>\n",
       "      <td>Пресненский район</td>\n",
       "    </tr>\n",
       "    <tr>\n",
       "      <td>3</td>\n",
       "      <td>Глубокий переулок</td>\n",
       "      <td>17</td>\n",
       "      <td>ЦАО</td>\n",
       "      <td>Пресненский район</td>\n",
       "    </tr>\n",
       "    <tr>\n",
       "      <td>4</td>\n",
       "      <td>Большой Гнездниковский переулок</td>\n",
       "      <td>17</td>\n",
       "      <td>ЦАО</td>\n",
       "      <td>Пресненский район</td>\n",
       "    </tr>\n",
       "  </tbody>\n",
       "</table>\n",
       "</div>"
      ],
      "text/plain": [
       "                        streetname  areaid okrug               area\n",
       "0             Выставочный переулок      17   ЦАО  Пресненский район\n",
       "1                     улица Гашека      17   ЦАО  Пресненский район\n",
       "2          Большая Никитская улица      17   ЦАО  Пресненский район\n",
       "3                Глубокий переулок      17   ЦАО  Пресненский район\n",
       "4  Большой Гнездниковский переулок      17   ЦАО  Пресненский район"
      ]
     },
     "execution_count": 30,
     "metadata": {},
     "output_type": "execute_result"
    }
   ],
   "source": [
    "spreadsheet_id = '1WJc9239S6cTks0EvlIH9ZJhh9xfsZ0tS_u0RtBpFfe8'\n",
    "file_name = 'https://docs.google.com/spreadsheets/d/{}/export?format=csv'.format(spreadsheet_id)\n",
    "r = requests.get(file_name)\n",
    "new_tab = pd.read_csv(BytesIO(r.content))\n",
    "new_tab.head(5)"
   ]
  },
  {
   "cell_type": "code",
   "execution_count": 31,
   "metadata": {},
   "outputs": [
    {
     "name": "stdout",
     "output_type": "stream",
     "text": [
      "<class 'pandas.core.frame.DataFrame'>\n",
      "RangeIndex: 4398 entries, 0 to 4397\n",
      "Data columns (total 4 columns):\n",
      "streetname    4398 non-null object\n",
      "areaid        4398 non-null int64\n",
      "okrug         4398 non-null object\n",
      "area          4398 non-null object\n",
      "dtypes: int64(1), object(3)\n",
      "memory usage: 137.6+ KB\n"
     ]
    }
   ],
   "source": [
    "new_tab.info()"
   ]
  },
  {
   "cell_type": "code",
   "execution_count": 32,
   "metadata": {},
   "outputs": [],
   "source": [
    "new_tab.rename(columns={'streetname':'street'},inplace=True)"
   ]
  },
  {
   "cell_type": "code",
   "execution_count": 33,
   "metadata": {},
   "outputs": [
    {
     "data": {
      "text/plain": [
       "street\n",
       "город Зеленоград          232\n",
       "проспект Мира             204\n",
       "Профсоюзная улица         181\n",
       "Ленинградский проспект    170\n",
       "Пресненская набережная    167\n",
       "Варшавское шоссе          161\n",
       "Ленинский проспект        147\n",
       "поселение Сосенское       137\n",
       "проспект Вернадского      128\n",
       "Кутузовский проспект      114\n",
       "Name: id, dtype: int64"
      ]
     },
     "execution_count": 33,
     "metadata": {},
     "output_type": "execute_result"
    }
   ],
   "source": [
    "df_temp.groupby('street')['id'].count().sort_values(ascending=False).iloc[0:10]"
   ]
  },
  {
   "cell_type": "markdown",
   "metadata": {},
   "source": [
    "т.к. город Зеленоград и поселение Сосенское относятся к подмосковью, то их можно не учитывать, большого клиентского трафика не будет"
   ]
  },
  {
   "cell_type": "code",
   "execution_count": 34,
   "metadata": {},
   "outputs": [
    {
     "data": {
      "text/html": [
       "<div>\n",
       "<style scoped>\n",
       "    .dataframe tbody tr th:only-of-type {\n",
       "        vertical-align: middle;\n",
       "    }\n",
       "\n",
       "    .dataframe tbody tr th {\n",
       "        vertical-align: top;\n",
       "    }\n",
       "\n",
       "    .dataframe thead th {\n",
       "        text-align: right;\n",
       "    }\n",
       "</style>\n",
       "<table border=\"1\" class=\"dataframe\">\n",
       "  <thead>\n",
       "    <tr style=\"text-align: right;\">\n",
       "      <th></th>\n",
       "      <th>id</th>\n",
       "    </tr>\n",
       "    <tr>\n",
       "      <th>street</th>\n",
       "      <th></th>\n",
       "    </tr>\n",
       "  </thead>\n",
       "  <tbody>\n",
       "    <tr>\n",
       "      <td>проспект Мира</td>\n",
       "      <td>204</td>\n",
       "    </tr>\n",
       "    <tr>\n",
       "      <td>Профсоюзная улица</td>\n",
       "      <td>181</td>\n",
       "    </tr>\n",
       "    <tr>\n",
       "      <td>Ленинградский проспект</td>\n",
       "      <td>170</td>\n",
       "    </tr>\n",
       "    <tr>\n",
       "      <td>Пресненская набережная</td>\n",
       "      <td>167</td>\n",
       "    </tr>\n",
       "    <tr>\n",
       "      <td>Варшавское шоссе</td>\n",
       "      <td>161</td>\n",
       "    </tr>\n",
       "    <tr>\n",
       "      <td>Ленинский проспект</td>\n",
       "      <td>147</td>\n",
       "    </tr>\n",
       "    <tr>\n",
       "      <td>проспект Вернадского</td>\n",
       "      <td>128</td>\n",
       "    </tr>\n",
       "    <tr>\n",
       "      <td>Кутузовский проспект</td>\n",
       "      <td>114</td>\n",
       "    </tr>\n",
       "    <tr>\n",
       "      <td>Каширское шоссе</td>\n",
       "      <td>111</td>\n",
       "    </tr>\n",
       "    <tr>\n",
       "      <td>Кировоградская улица</td>\n",
       "      <td>108</td>\n",
       "    </tr>\n",
       "  </tbody>\n",
       "</table>\n",
       "</div>"
      ],
      "text/plain": [
       "                         id\n",
       "street                     \n",
       "проспект Мира           204\n",
       "Профсоюзная улица       181\n",
       "Ленинградский проспект  170\n",
       "Пресненская набережная  167\n",
       "Варшавское шоссе        161\n",
       "Ленинский проспект      147\n",
       "проспект Вернадского    128\n",
       "Кутузовский проспект    114\n",
       "Каширское шоссе         111\n",
       "Кировоградская улица    108"
      ]
     },
     "execution_count": 34,
     "metadata": {},
     "output_type": "execute_result"
    }
   ],
   "source": [
    "df_group_1 = df_temp[(df_temp['street'] != 'город Зеленоград') & (df_temp['street'] != 'поселение Сосенское')].\\\n",
    "groupby(['street'])['id'].count().sort_values(ascending=False).iloc[0:10].to_frame()\n",
    "df_group_1"
   ]
  },
  {
   "cell_type": "markdown",
   "metadata": {},
   "source": [
    "Построим график"
   ]
  },
  {
   "cell_type": "code",
   "execution_count": 35,
   "metadata": {},
   "outputs": [
    {
     "data": {
      "text/plain": [
       "<Figure size 1080x720 with 0 Axes>"
      ]
     },
     "metadata": {},
     "output_type": "display_data"
    },
    {
     "data": {
      "image/png": "[encoded data removed]",
      "text/plain": [
       "<Figure size 1080x720 with 1 Axes>"
      ]
     },
     "metadata": {
      "image/png": {
       "height": 590,
       "width": 1009
      },
      "needs_background": "light"
     },
     "output_type": "display_data"
    }
   ],
   "source": [
    "plt.figure(figsize=(15,10))\n",
    "df_group_1.plot(kind='barh',title='График количества заведений общественного питания по улицам',\n",
    "                                            figsize=(15,10)\n",
    "                       )\n",
    "plt.grid()\n",
    "plt.show()"
   ]
  },
  {
   "cell_type": "markdown",
   "metadata": {},
   "source": [
    "Таким образом мы видим, что на каждой улице достаточно заведений общественного питания, посмотрим через сколько районов проходят эти улицы"
   ]
  },
  {
   "cell_type": "code",
   "execution_count": 36,
   "metadata": {},
   "outputs": [],
   "source": [
    "df_group_2 = new_tab.groupby(['street'])['area'].count().to_frame()"
   ]
  },
  {
   "cell_type": "code",
   "execution_count": 37,
   "metadata": {},
   "outputs": [
    {
     "data": {
      "text/html": [
       "<div>\n",
       "<style scoped>\n",
       "    .dataframe tbody tr th:only-of-type {\n",
       "        vertical-align: middle;\n",
       "    }\n",
       "\n",
       "    .dataframe tbody tr th {\n",
       "        vertical-align: top;\n",
       "    }\n",
       "\n",
       "    .dataframe thead th {\n",
       "        text-align: right;\n",
       "    }\n",
       "</style>\n",
       "<table border=\"1\" class=\"dataframe\">\n",
       "  <thead>\n",
       "    <tr style=\"text-align: right;\">\n",
       "      <th></th>\n",
       "      <th>id</th>\n",
       "      <th>area</th>\n",
       "    </tr>\n",
       "    <tr>\n",
       "      <th>street</th>\n",
       "      <th></th>\n",
       "      <th></th>\n",
       "    </tr>\n",
       "  </thead>\n",
       "  <tbody>\n",
       "    <tr>\n",
       "      <td>проспект Мира</td>\n",
       "      <td>204</td>\n",
       "      <td>7</td>\n",
       "    </tr>\n",
       "    <tr>\n",
       "      <td>Профсоюзная улица</td>\n",
       "      <td>181</td>\n",
       "      <td>6</td>\n",
       "    </tr>\n",
       "    <tr>\n",
       "      <td>Ленинградский проспект</td>\n",
       "      <td>170</td>\n",
       "      <td>4</td>\n",
       "    </tr>\n",
       "    <tr>\n",
       "      <td>Пресненская набережная</td>\n",
       "      <td>167</td>\n",
       "      <td>1</td>\n",
       "    </tr>\n",
       "    <tr>\n",
       "      <td>Варшавское шоссе</td>\n",
       "      <td>161</td>\n",
       "      <td>8</td>\n",
       "    </tr>\n",
       "    <tr>\n",
       "      <td>Ленинский проспект</td>\n",
       "      <td>147</td>\n",
       "      <td>8</td>\n",
       "    </tr>\n",
       "    <tr>\n",
       "      <td>проспект Вернадского</td>\n",
       "      <td>128</td>\n",
       "      <td>5</td>\n",
       "    </tr>\n",
       "    <tr>\n",
       "      <td>Кутузовский проспект</td>\n",
       "      <td>114</td>\n",
       "      <td>2</td>\n",
       "    </tr>\n",
       "    <tr>\n",
       "      <td>Каширское шоссе</td>\n",
       "      <td>111</td>\n",
       "      <td>4</td>\n",
       "    </tr>\n",
       "    <tr>\n",
       "      <td>Кировоградская улица</td>\n",
       "      <td>108</td>\n",
       "      <td>3</td>\n",
       "    </tr>\n",
       "  </tbody>\n",
       "</table>\n",
       "</div>"
      ],
      "text/plain": [
       "                         id  area\n",
       "street                           \n",
       "проспект Мира           204     7\n",
       "Профсоюзная улица       181     6\n",
       "Ленинградский проспект  170     4\n",
       "Пресненская набережная  167     1\n",
       "Варшавское шоссе        161     8\n",
       "Ленинский проспект      147     8\n",
       "проспект Вернадского    128     5\n",
       "Кутузовский проспект    114     2\n",
       "Каширское шоссе         111     4\n",
       "Кировоградская улица    108     3"
      ]
     },
     "execution_count": 37,
     "metadata": {},
     "output_type": "execute_result"
    }
   ],
   "source": [
    "df_join_tab = df_group_1.join(df_group_2)\n",
    "df_join_tab "
   ]
  },
  {
   "cell_type": "markdown",
   "metadata": {},
   "source": [
    "Мы видим, что все улицы проходят от 1 до 8 районов, посмотрим на названия районов."
   ]
  },
  {
   "cell_type": "code",
   "execution_count": 38,
   "metadata": {},
   "outputs": [
    {
     "data": {
      "text/html": [
       "<div>\n",
       "<style scoped>\n",
       "    .dataframe tbody tr th:only-of-type {\n",
       "        vertical-align: middle;\n",
       "    }\n",
       "\n",
       "    .dataframe tbody tr th {\n",
       "        vertical-align: top;\n",
       "    }\n",
       "\n",
       "    .dataframe thead th {\n",
       "        text-align: right;\n",
       "    }\n",
       "</style>\n",
       "<table border=\"1\" class=\"dataframe\">\n",
       "  <thead>\n",
       "    <tr style=\"text-align: right;\">\n",
       "      <th></th>\n",
       "      <th>street</th>\n",
       "      <th>id</th>\n",
       "      <th>area_x</th>\n",
       "      <th>areaid</th>\n",
       "      <th>okrug</th>\n",
       "      <th>area_y</th>\n",
       "    </tr>\n",
       "  </thead>\n",
       "  <tbody>\n",
       "    <tr>\n",
       "      <td>0</td>\n",
       "      <td>проспект Мира</td>\n",
       "      <td>204</td>\n",
       "      <td>7</td>\n",
       "      <td>70</td>\n",
       "      <td>СВАО</td>\n",
       "      <td>Алексеевский район</td>\n",
       "    </tr>\n",
       "    <tr>\n",
       "      <td>1</td>\n",
       "      <td>проспект Мира</td>\n",
       "      <td>204</td>\n",
       "      <td>7</td>\n",
       "      <td>86</td>\n",
       "      <td>СВАО</td>\n",
       "      <td>Ярославский Район</td>\n",
       "    </tr>\n",
       "    <tr>\n",
       "      <td>2</td>\n",
       "      <td>проспект Мира</td>\n",
       "      <td>204</td>\n",
       "      <td>7</td>\n",
       "      <td>78</td>\n",
       "      <td>СВАО</td>\n",
       "      <td>Район Марьина роща</td>\n",
       "    </tr>\n",
       "    <tr>\n",
       "      <td>3</td>\n",
       "      <td>проспект Мира</td>\n",
       "      <td>204</td>\n",
       "      <td>7</td>\n",
       "      <td>79</td>\n",
       "      <td>СВАО</td>\n",
       "      <td>Останкинский район</td>\n",
       "    </tr>\n",
       "    <tr>\n",
       "      <td>4</td>\n",
       "      <td>проспект Мира</td>\n",
       "      <td>204</td>\n",
       "      <td>7</td>\n",
       "      <td>81</td>\n",
       "      <td>СВАО</td>\n",
       "      <td>Район Ростокино</td>\n",
       "    </tr>\n",
       "    <tr>\n",
       "      <td>5</td>\n",
       "      <td>проспект Мира</td>\n",
       "      <td>204</td>\n",
       "      <td>7</td>\n",
       "      <td>82</td>\n",
       "      <td>СВАО</td>\n",
       "      <td>Район Свиблово</td>\n",
       "    </tr>\n",
       "    <tr>\n",
       "      <td>6</td>\n",
       "      <td>проспект Мира</td>\n",
       "      <td>204</td>\n",
       "      <td>7</td>\n",
       "      <td>16</td>\n",
       "      <td>ЦАО</td>\n",
       "      <td>Мещанский район</td>\n",
       "    </tr>\n",
       "    <tr>\n",
       "      <td>7</td>\n",
       "      <td>Профсоюзная улица</td>\n",
       "      <td>181</td>\n",
       "      <td>6</td>\n",
       "      <td>123</td>\n",
       "      <td>ЮЗАО</td>\n",
       "      <td>Академический район</td>\n",
       "    </tr>\n",
       "    <tr>\n",
       "      <td>8</td>\n",
       "      <td>Профсоюзная улица</td>\n",
       "      <td>181</td>\n",
       "      <td>6</td>\n",
       "      <td>132</td>\n",
       "      <td>ЮЗАО</td>\n",
       "      <td>Район Черемушки</td>\n",
       "    </tr>\n",
       "    <tr>\n",
       "      <td>9</td>\n",
       "      <td>Профсоюзная улица</td>\n",
       "      <td>181</td>\n",
       "      <td>6</td>\n",
       "      <td>134</td>\n",
       "      <td>ЮЗАО</td>\n",
       "      <td>Район Ясенево</td>\n",
       "    </tr>\n",
       "    <tr>\n",
       "      <td>10</td>\n",
       "      <td>Профсоюзная улица</td>\n",
       "      <td>181</td>\n",
       "      <td>6</td>\n",
       "      <td>126</td>\n",
       "      <td>ЮЗАО</td>\n",
       "      <td>Район Коньково</td>\n",
       "    </tr>\n",
       "    <tr>\n",
       "      <td>11</td>\n",
       "      <td>Профсоюзная улица</td>\n",
       "      <td>181</td>\n",
       "      <td>6</td>\n",
       "      <td>129</td>\n",
       "      <td>ЮЗАО</td>\n",
       "      <td>Обручевский район</td>\n",
       "    </tr>\n",
       "    <tr>\n",
       "      <td>12</td>\n",
       "      <td>Профсоюзная улица</td>\n",
       "      <td>181</td>\n",
       "      <td>6</td>\n",
       "      <td>131</td>\n",
       "      <td>ЮЗАО</td>\n",
       "      <td>Район Теплый Стан</td>\n",
       "    </tr>\n",
       "    <tr>\n",
       "      <td>13</td>\n",
       "      <td>Ленинградский проспект</td>\n",
       "      <td>170</td>\n",
       "      <td>4</td>\n",
       "      <td>54</td>\n",
       "      <td>САО</td>\n",
       "      <td>Район Аэропорт</td>\n",
       "    </tr>\n",
       "    <tr>\n",
       "      <td>14</td>\n",
       "      <td>Ленинградский проспект</td>\n",
       "      <td>170</td>\n",
       "      <td>4</td>\n",
       "      <td>55</td>\n",
       "      <td>САО</td>\n",
       "      <td>Район Беговой</td>\n",
       "    </tr>\n",
       "    <tr>\n",
       "      <td>15</td>\n",
       "      <td>Ленинградский проспект</td>\n",
       "      <td>170</td>\n",
       "      <td>4</td>\n",
       "      <td>69</td>\n",
       "      <td>САО</td>\n",
       "      <td>Хорошевский район</td>\n",
       "    </tr>\n",
       "    <tr>\n",
       "      <td>16</td>\n",
       "      <td>Ленинградский проспект</td>\n",
       "      <td>170</td>\n",
       "      <td>4</td>\n",
       "      <td>66</td>\n",
       "      <td>САО</td>\n",
       "      <td>Район Сокол</td>\n",
       "    </tr>\n",
       "    <tr>\n",
       "      <td>17</td>\n",
       "      <td>Пресненская набережная</td>\n",
       "      <td>167</td>\n",
       "      <td>1</td>\n",
       "      <td>17</td>\n",
       "      <td>ЦАО</td>\n",
       "      <td>Пресненский район</td>\n",
       "    </tr>\n",
       "    <tr>\n",
       "      <td>18</td>\n",
       "      <td>Варшавское шоссе</td>\n",
       "      <td>161</td>\n",
       "      <td>8</td>\n",
       "      <td>109</td>\n",
       "      <td>ЮАО</td>\n",
       "      <td>Район Чертаново Центральное</td>\n",
       "    </tr>\n",
       "    <tr>\n",
       "      <td>19</td>\n",
       "      <td>Варшавское шоссе</td>\n",
       "      <td>161</td>\n",
       "      <td>8</td>\n",
       "      <td>108</td>\n",
       "      <td>ЮАО</td>\n",
       "      <td>Район Чертаново Северное</td>\n",
       "    </tr>\n",
       "    <tr>\n",
       "      <td>20</td>\n",
       "      <td>Варшавское шоссе</td>\n",
       "      <td>161</td>\n",
       "      <td>8</td>\n",
       "      <td>110</td>\n",
       "      <td>ЮАО</td>\n",
       "      <td>Район Чертаново Южное</td>\n",
       "    </tr>\n",
       "    <tr>\n",
       "      <td>21</td>\n",
       "      <td>Варшавское шоссе</td>\n",
       "      <td>161</td>\n",
       "      <td>8</td>\n",
       "      <td>99</td>\n",
       "      <td>ЮАО</td>\n",
       "      <td>Донской район</td>\n",
       "    </tr>\n",
       "    <tr>\n",
       "      <td>22</td>\n",
       "      <td>Варшавское шоссе</td>\n",
       "      <td>161</td>\n",
       "      <td>8</td>\n",
       "      <td>102</td>\n",
       "      <td>ЮАО</td>\n",
       "      <td>Район Нагатино-Садовники</td>\n",
       "    </tr>\n",
       "    <tr>\n",
       "      <td>23</td>\n",
       "      <td>Варшавское шоссе</td>\n",
       "      <td>161</td>\n",
       "      <td>8</td>\n",
       "      <td>104</td>\n",
       "      <td>ЮАО</td>\n",
       "      <td>Нагорный район</td>\n",
       "    </tr>\n",
       "    <tr>\n",
       "      <td>24</td>\n",
       "      <td>Варшавское шоссе</td>\n",
       "      <td>161</td>\n",
       "      <td>8</td>\n",
       "      <td>130</td>\n",
       "      <td>ЮЗАО</td>\n",
       "      <td>Район Северное Бутово</td>\n",
       "    </tr>\n",
       "    <tr>\n",
       "      <td>25</td>\n",
       "      <td>Варшавское шоссе</td>\n",
       "      <td>161</td>\n",
       "      <td>8</td>\n",
       "      <td>133</td>\n",
       "      <td>ЮЗАО</td>\n",
       "      <td>Район Южное Бутово</td>\n",
       "    </tr>\n",
       "    <tr>\n",
       "      <td>26</td>\n",
       "      <td>Ленинский проспект</td>\n",
       "      <td>147</td>\n",
       "      <td>8</td>\n",
       "      <td>44</td>\n",
       "      <td>ЗАО</td>\n",
       "      <td>Район Проспект Вернадского</td>\n",
       "    </tr>\n",
       "    <tr>\n",
       "      <td>27</td>\n",
       "      <td>Ленинский проспект</td>\n",
       "      <td>147</td>\n",
       "      <td>8</td>\n",
       "      <td>47</td>\n",
       "      <td>ЗАО</td>\n",
       "      <td>Район Тропарево-Никулино</td>\n",
       "    </tr>\n",
       "    <tr>\n",
       "      <td>28</td>\n",
       "      <td>Ленинский проспект</td>\n",
       "      <td>147</td>\n",
       "      <td>8</td>\n",
       "      <td>99</td>\n",
       "      <td>ЮАО</td>\n",
       "      <td>Донской район</td>\n",
       "    </tr>\n",
       "    <tr>\n",
       "      <td>29</td>\n",
       "      <td>Ленинский проспект</td>\n",
       "      <td>147</td>\n",
       "      <td>8</td>\n",
       "      <td>124</td>\n",
       "      <td>ЮЗАО</td>\n",
       "      <td>Район Гагаринский</td>\n",
       "    </tr>\n",
       "    <tr>\n",
       "      <td>30</td>\n",
       "      <td>Ленинский проспект</td>\n",
       "      <td>147</td>\n",
       "      <td>8</td>\n",
       "      <td>128</td>\n",
       "      <td>ЮЗАО</td>\n",
       "      <td>Ломоносовский район</td>\n",
       "    </tr>\n",
       "    <tr>\n",
       "      <td>31</td>\n",
       "      <td>Ленинский проспект</td>\n",
       "      <td>147</td>\n",
       "      <td>8</td>\n",
       "      <td>129</td>\n",
       "      <td>ЮЗАО</td>\n",
       "      <td>Обручевский район</td>\n",
       "    </tr>\n",
       "    <tr>\n",
       "      <td>32</td>\n",
       "      <td>Ленинский проспект</td>\n",
       "      <td>147</td>\n",
       "      <td>8</td>\n",
       "      <td>131</td>\n",
       "      <td>ЮЗАО</td>\n",
       "      <td>Район Теплый Стан</td>\n",
       "    </tr>\n",
       "    <tr>\n",
       "      <td>33</td>\n",
       "      <td>Ленинский проспект</td>\n",
       "      <td>147</td>\n",
       "      <td>8</td>\n",
       "      <td>21</td>\n",
       "      <td>ЦАО</td>\n",
       "      <td>Район Якиманка</td>\n",
       "    </tr>\n",
       "    <tr>\n",
       "      <td>34</td>\n",
       "      <td>проспект Вернадского</td>\n",
       "      <td>128</td>\n",
       "      <td>5</td>\n",
       "      <td>44</td>\n",
       "      <td>ЗАО</td>\n",
       "      <td>Район Проспект Вернадского</td>\n",
       "    </tr>\n",
       "    <tr>\n",
       "      <td>35</td>\n",
       "      <td>проспект Вернадского</td>\n",
       "      <td>128</td>\n",
       "      <td>5</td>\n",
       "      <td>45</td>\n",
       "      <td>ЗАО</td>\n",
       "      <td>Район Раменки</td>\n",
       "    </tr>\n",
       "    <tr>\n",
       "      <td>36</td>\n",
       "      <td>проспект Вернадского</td>\n",
       "      <td>128</td>\n",
       "      <td>5</td>\n",
       "      <td>47</td>\n",
       "      <td>ЗАО</td>\n",
       "      <td>Район Тропарево-Никулино</td>\n",
       "    </tr>\n",
       "    <tr>\n",
       "      <td>37</td>\n",
       "      <td>проспект Вернадского</td>\n",
       "      <td>128</td>\n",
       "      <td>5</td>\n",
       "      <td>124</td>\n",
       "      <td>ЮЗАО</td>\n",
       "      <td>Район Гагаринский</td>\n",
       "    </tr>\n",
       "    <tr>\n",
       "      <td>38</td>\n",
       "      <td>проспект Вернадского</td>\n",
       "      <td>128</td>\n",
       "      <td>5</td>\n",
       "      <td>128</td>\n",
       "      <td>ЮЗАО</td>\n",
       "      <td>Ломоносовский район</td>\n",
       "    </tr>\n",
       "    <tr>\n",
       "      <td>39</td>\n",
       "      <td>Кутузовский проспект</td>\n",
       "      <td>114</td>\n",
       "      <td>2</td>\n",
       "      <td>38</td>\n",
       "      <td>ЗАО</td>\n",
       "      <td>Район Дорогомилово</td>\n",
       "    </tr>\n",
       "    <tr>\n",
       "      <td>40</td>\n",
       "      <td>Кутузовский проспект</td>\n",
       "      <td>114</td>\n",
       "      <td>2</td>\n",
       "      <td>49</td>\n",
       "      <td>ЗАО</td>\n",
       "      <td>Район Фили-Давыдково</td>\n",
       "    </tr>\n",
       "    <tr>\n",
       "      <td>41</td>\n",
       "      <td>Каширское шоссе</td>\n",
       "      <td>111</td>\n",
       "      <td>4</td>\n",
       "      <td>101</td>\n",
       "      <td>ЮАО</td>\n",
       "      <td>Район Москворечье-Сабурово</td>\n",
       "    </tr>\n",
       "    <tr>\n",
       "      <td>42</td>\n",
       "      <td>Каширское шоссе</td>\n",
       "      <td>111</td>\n",
       "      <td>4</td>\n",
       "      <td>102</td>\n",
       "      <td>ЮАО</td>\n",
       "      <td>Район Нагатино-Садовники</td>\n",
       "    </tr>\n",
       "    <tr>\n",
       "      <td>43</td>\n",
       "      <td>Каширское шоссе</td>\n",
       "      <td>111</td>\n",
       "      <td>4</td>\n",
       "      <td>106</td>\n",
       "      <td>ЮАО</td>\n",
       "      <td>Район Орехово-Борисово Южное</td>\n",
       "    </tr>\n",
       "    <tr>\n",
       "      <td>44</td>\n",
       "      <td>Каширское шоссе</td>\n",
       "      <td>111</td>\n",
       "      <td>4</td>\n",
       "      <td>105</td>\n",
       "      <td>ЮАО</td>\n",
       "      <td>Район Орехово-Борисово Северное</td>\n",
       "    </tr>\n",
       "    <tr>\n",
       "      <td>45</td>\n",
       "      <td>Кировоградская улица</td>\n",
       "      <td>108</td>\n",
       "      <td>3</td>\n",
       "      <td>109</td>\n",
       "      <td>ЮАО</td>\n",
       "      <td>Район Чертаново Центральное</td>\n",
       "    </tr>\n",
       "    <tr>\n",
       "      <td>46</td>\n",
       "      <td>Кировоградская улица</td>\n",
       "      <td>108</td>\n",
       "      <td>3</td>\n",
       "      <td>108</td>\n",
       "      <td>ЮАО</td>\n",
       "      <td>Район Чертаново Северное</td>\n",
       "    </tr>\n",
       "    <tr>\n",
       "      <td>47</td>\n",
       "      <td>Кировоградская улица</td>\n",
       "      <td>108</td>\n",
       "      <td>3</td>\n",
       "      <td>110</td>\n",
       "      <td>ЮАО</td>\n",
       "      <td>Район Чертаново Южное</td>\n",
       "    </tr>\n",
       "  </tbody>\n",
       "</table>\n",
       "</div>"
      ],
      "text/plain": [
       "                    street   id  area_x  areaid okrug  \\\n",
       "0            проспект Мира  204       7      70  СВАО   \n",
       "1            проспект Мира  204       7      86  СВАО   \n",
       "2            проспект Мира  204       7      78  СВАО   \n",
       "3            проспект Мира  204       7      79  СВАО   \n",
       "4            проспект Мира  204       7      81  СВАО   \n",
       "5            проспект Мира  204       7      82  СВАО   \n",
       "6            проспект Мира  204       7      16   ЦАО   \n",
       "7        Профсоюзная улица  181       6     123  ЮЗАО   \n",
       "8        Профсоюзная улица  181       6     132  ЮЗАО   \n",
       "9        Профсоюзная улица  181       6     134  ЮЗАО   \n",
       "10       Профсоюзная улица  181       6     126  ЮЗАО   \n",
       "11       Профсоюзная улица  181       6     129  ЮЗАО   \n",
       "12       Профсоюзная улица  181       6     131  ЮЗАО   \n",
       "13  Ленинградский проспект  170       4      54   САО   \n",
       "14  Ленинградский проспект  170       4      55   САО   \n",
       "15  Ленинградский проспект  170       4      69   САО   \n",
       "16  Ленинградский проспект  170       4      66   САО   \n",
       "17  Пресненская набережная  167       1      17   ЦАО   \n",
       "18        Варшавское шоссе  161       8     109   ЮАО   \n",
       "19        Варшавское шоссе  161       8     108   ЮАО   \n",
       "20        Варшавское шоссе  161       8     110   ЮАО   \n",
       "21        Варшавское шоссе  161       8      99   ЮАО   \n",
       "22        Варшавское шоссе  161       8     102   ЮАО   \n",
       "23        Варшавское шоссе  161       8     104   ЮАО   \n",
       "24        Варшавское шоссе  161       8     130  ЮЗАО   \n",
       "25        Варшавское шоссе  161       8     133  ЮЗАО   \n",
       "26      Ленинский проспект  147       8      44   ЗАО   \n",
       "27      Ленинский проспект  147       8      47   ЗАО   \n",
       "28      Ленинский проспект  147       8      99   ЮАО   \n",
       "29      Ленинский проспект  147       8     124  ЮЗАО   \n",
       "30      Ленинский проспект  147       8     128  ЮЗАО   \n",
       "31      Ленинский проспект  147       8     129  ЮЗАО   \n",
       "32      Ленинский проспект  147       8     131  ЮЗАО   \n",
       "33      Ленинский проспект  147       8      21   ЦАО   \n",
       "34    проспект Вернадского  128       5      44   ЗАО   \n",
       "35    проспект Вернадского  128       5      45   ЗАО   \n",
       "36    проспект Вернадского  128       5      47   ЗАО   \n",
       "37    проспект Вернадского  128       5     124  ЮЗАО   \n",
       "38    проспект Вернадского  128       5     128  ЮЗАО   \n",
       "39    Кутузовский проспект  114       2      38   ЗАО   \n",
       "40    Кутузовский проспект  114       2      49   ЗАО   \n",
       "41         Каширское шоссе  111       4     101   ЮАО   \n",
       "42         Каширское шоссе  111       4     102   ЮАО   \n",
       "43         Каширское шоссе  111       4     106   ЮАО   \n",
       "44         Каширское шоссе  111       4     105   ЮАО   \n",
       "45    Кировоградская улица  108       3     109   ЮАО   \n",
       "46    Кировоградская улица  108       3     108   ЮАО   \n",
       "47    Кировоградская улица  108       3     110   ЮАО   \n",
       "\n",
       "                             area_y  \n",
       "0                Алексеевский район  \n",
       "1                 Ярославский Район  \n",
       "2                Район Марьина роща  \n",
       "3                Останкинский район  \n",
       "4                   Район Ростокино  \n",
       "5                    Район Свиблово  \n",
       "6                   Мещанский район  \n",
       "7               Академический район  \n",
       "8                   Район Черемушки  \n",
       "9                     Район Ясенево  \n",
       "10                   Район Коньково  \n",
       "11                Обручевский район  \n",
       "12                Район Теплый Стан  \n",
       "13                   Район Аэропорт  \n",
       "14                    Район Беговой  \n",
       "15                Хорошевский район  \n",
       "16                      Район Сокол  \n",
       "17                Пресненский район  \n",
       "18      Район Чертаново Центральное  \n",
       "19         Район Чертаново Северное  \n",
       "20            Район Чертаново Южное  \n",
       "21                    Донской район  \n",
       "22         Район Нагатино-Садовники  \n",
       "23                   Нагорный район  \n",
       "24            Район Северное Бутово  \n",
       "25               Район Южное Бутово  \n",
       "26       Район Проспект Вернадского  \n",
       "27         Район Тропарево-Никулино  \n",
       "28                    Донской район  \n",
       "29                Район Гагаринский  \n",
       "30              Ломоносовский район  \n",
       "31                Обручевский район  \n",
       "32                Район Теплый Стан  \n",
       "33                   Район Якиманка  \n",
       "34       Район Проспект Вернадского  \n",
       "35                    Район Раменки  \n",
       "36         Район Тропарево-Никулино  \n",
       "37                Район Гагаринский  \n",
       "38              Ломоносовский район  \n",
       "39               Район Дорогомилово  \n",
       "40             Район Фили-Давыдково  \n",
       "41       Район Москворечье-Сабурово  \n",
       "42         Район Нагатино-Садовники  \n",
       "43     Район Орехово-Борисово Южное  \n",
       "44  Район Орехово-Борисово Северное  \n",
       "45      Район Чертаново Центральное  \n",
       "46         Район Чертаново Северное  \n",
       "47            Район Чертаново Южное  "
      ]
     },
     "execution_count": 38,
     "metadata": {},
     "output_type": "execute_result"
    }
   ],
   "source": [
    "df_join_tab.merge(new_tab, how='left', on='street')"
   ]
  },
  {
   "cell_type": "code",
   "execution_count": 39,
   "metadata": {},
   "outputs": [
    {
     "data": {
      "text/plain": [
       "array(['Алексеевский район', 'Ярославский Район', 'Район Марьина роща',\n",
       "       'Останкинский район', 'Район Ростокино', 'Район Свиблово',\n",
       "       'Мещанский район', 'Академический район', 'Район Черемушки',\n",
       "       'Район Ясенево', 'Район Коньково', 'Обручевский район',\n",
       "       'Район Теплый Стан', 'Район Аэропорт', 'Район Беговой',\n",
       "       'Хорошевский район', 'Район Сокол', 'Пресненский район',\n",
       "       'Район Чертаново Центральное', 'Район Чертаново Северное',\n",
       "       'Район Чертаново Южное', 'Донской район',\n",
       "       'Район Нагатино-Садовники', 'Нагорный район',\n",
       "       'Район Северное Бутово', 'Район Южное Бутово',\n",
       "       'Район Проспект Вернадского', 'Район Тропарево-Никулино',\n",
       "       'Район Гагаринский', 'Ломоносовский район', 'Район Якиманка',\n",
       "       'Район Раменки', 'Район Дорогомилово', 'Район Фили-Давыдково',\n",
       "       'Район Москворечье-Сабурово', 'Район Орехово-Борисово Южное',\n",
       "       'Район Орехово-Борисово Северное'], dtype=object)"
      ]
     },
     "execution_count": 39,
     "metadata": {},
     "output_type": "execute_result"
    }
   ],
   "source": [
    "df_join_tab.merge(new_tab, how='left', on='street')['area_y'].unique()"
   ]
  },
  {
   "cell_type": "markdown",
   "metadata": {},
   "source": [
    "Таким образом, мы видим что районы через которые проходят улицы абсолютно разные, соответственно и длина самих улиц будет очень большой."
   ]
  },
  {
   "cell_type": "markdown",
   "metadata": {},
   "source": [
    "Найдем количество улиц с одним объектом общественного питания"
   ]
  },
  {
   "cell_type": "code",
   "execution_count": 40,
   "metadata": {},
   "outputs": [
    {
     "data": {
      "text/plain": [
       "579"
      ]
     },
     "execution_count": 40,
     "metadata": {},
     "output_type": "execute_result"
    }
   ],
   "source": [
    "df_temp.groupby(['street'])['id'].count()[df_temp.groupby(['street'])['id'].count()==1].count()"
   ]
  },
  {
   "cell_type": "markdown",
   "metadata": {},
   "source": [
    "Чтож их не так много, но  нас они не интересуют, так как трафик будет оч маленький"
   ]
  },
  {
   "cell_type": "markdown",
   "metadata": {},
   "source": [
    "Найдем районы к которым относятся эти заведения"
   ]
  },
  {
   "cell_type": "code",
   "execution_count": 41,
   "metadata": {},
   "outputs": [],
   "source": [
    "df_1_institut = df_temp.groupby(['street'])['id'].count()[df_temp.groupby(['street'])['id'].count()==1].to_frame()"
   ]
  },
  {
   "cell_type": "code",
   "execution_count": 42,
   "metadata": {},
   "outputs": [
    {
     "data": {
      "text/plain": [
       "area_y\n",
       "Таганский район         27\n",
       "Район Хамовники         26\n",
       "Басманный район         25\n",
       "Тверской район          20\n",
       "Пресненский район       19\n",
       "Район Марьина роща      18\n",
       "Район Арбат             17\n",
       "Мещанский район         16\n",
       "Район Сокольники        15\n",
       "Район Замоскворечье     14\n",
       "Район Лефортово         12\n",
       "Район Соколиная Гора    12\n",
       "Даниловский район       12\n",
       "Район Якиманка          11\n",
       "Район Богородское       10\n",
       "Name: street, dtype: int64"
      ]
     },
     "execution_count": 42,
     "metadata": {},
     "output_type": "execute_result"
    }
   ],
   "source": [
    "df_all_group = df_1_institut.join(df_group_2).merge(new_tab, how='left', on='street')\n",
    "df_all_group.groupby('area_y')['street'].count().sort_values(ascending=False).head(15)"
   ]
  },
  {
   "cell_type": "markdown",
   "metadata": {},
   "source": [
    "Мы видим, что это все центральные районы Москвы со своим множеством маленьких улиц, и единственным заведением на каждой улице ввиду их короткой длины и исторического центра города, именно поэтому они нас не устраивают."
   ]
  },
  {
   "cell_type": "markdown",
   "metadata": {},
   "source": [
    "Посмотрим на распределение количества посадочных мест для улиц с большим количеством объектов общественного питания"
   ]
  },
  {
   "cell_type": "code",
   "execution_count": 43,
   "metadata": {},
   "outputs": [
    {
     "data": {
      "text/html": [
       "<div>\n",
       "<style scoped>\n",
       "    .dataframe tbody tr th:only-of-type {\n",
       "        vertical-align: middle;\n",
       "    }\n",
       "\n",
       "    .dataframe tbody tr th {\n",
       "        vertical-align: top;\n",
       "    }\n",
       "\n",
       "    .dataframe thead th {\n",
       "        text-align: right;\n",
       "    }\n",
       "</style>\n",
       "<table border=\"1\" class=\"dataframe\">\n",
       "  <thead>\n",
       "    <tr style=\"text-align: right;\">\n",
       "      <th></th>\n",
       "      <th>count_object_type</th>\n",
       "      <th>mean_number</th>\n",
       "    </tr>\n",
       "    <tr>\n",
       "      <th>street</th>\n",
       "      <th></th>\n",
       "      <th></th>\n",
       "    </tr>\n",
       "  </thead>\n",
       "  <tbody>\n",
       "    <tr>\n",
       "      <td>проспект Мира</td>\n",
       "      <td>204</td>\n",
       "      <td>62.696078</td>\n",
       "    </tr>\n",
       "    <tr>\n",
       "      <td>Профсоюзная улица</td>\n",
       "      <td>181</td>\n",
       "      <td>46.668508</td>\n",
       "    </tr>\n",
       "    <tr>\n",
       "      <td>Ленинградский проспект</td>\n",
       "      <td>170</td>\n",
       "      <td>52.764706</td>\n",
       "    </tr>\n",
       "    <tr>\n",
       "      <td>Пресненская набережная</td>\n",
       "      <td>167</td>\n",
       "      <td>45.844311</td>\n",
       "    </tr>\n",
       "    <tr>\n",
       "      <td>Варшавское шоссе</td>\n",
       "      <td>161</td>\n",
       "      <td>52.875776</td>\n",
       "    </tr>\n",
       "    <tr>\n",
       "      <td>Ленинский проспект</td>\n",
       "      <td>147</td>\n",
       "      <td>63.469388</td>\n",
       "    </tr>\n",
       "    <tr>\n",
       "      <td>проспект Вернадского</td>\n",
       "      <td>128</td>\n",
       "      <td>68.804688</td>\n",
       "    </tr>\n",
       "    <tr>\n",
       "      <td>Кутузовский проспект</td>\n",
       "      <td>114</td>\n",
       "      <td>85.061404</td>\n",
       "    </tr>\n",
       "    <tr>\n",
       "      <td>Каширское шоссе</td>\n",
       "      <td>111</td>\n",
       "      <td>55.504505</td>\n",
       "    </tr>\n",
       "    <tr>\n",
       "      <td>Кировоградская улица</td>\n",
       "      <td>108</td>\n",
       "      <td>59.787037</td>\n",
       "    </tr>\n",
       "  </tbody>\n",
       "</table>\n",
       "</div>"
      ],
      "text/plain": [
       "                        count_object_type  mean_number\n",
       "street                                                \n",
       "проспект Мира                         204    62.696078\n",
       "Профсоюзная улица                     181    46.668508\n",
       "Ленинградский проспект                170    52.764706\n",
       "Пресненская набережная                167    45.844311\n",
       "Варшавское шоссе                      161    52.875776\n",
       "Ленинский проспект                    147    63.469388\n",
       "проспект Вернадского                  128    68.804688\n",
       "Кутузовский проспект                  114    85.061404\n",
       "Каширское шоссе                       111    55.504505\n",
       "Кировоградская улица                  108    59.787037"
      ]
     },
     "execution_count": 43,
     "metadata": {},
     "output_type": "execute_result"
    }
   ],
   "source": [
    "df_temp[(df_temp['street'] != 'город Зеленоград') & (df_temp['street'] != 'поселение Сосенское')].\\\n",
    "groupby(['street']).agg(count_object_type=('object_type','count'),\\\n",
    "                              mean_number=('number','mean')).sort_values(by='count_object_type', ascending=False).iloc[0:10]"
   ]
  },
  {
   "cell_type": "markdown",
   "metadata": {},
   "source": [
    "Мы видим, что среднее количество посадочных мест варьируется от 45 до 85 в зависимости от улицы"
   ]
  },
  {
   "cell_type": "code",
   "execution_count": 44,
   "metadata": {},
   "outputs": [
    {
     "data": {
      "image/png": "[encoded data removed]",
      "text/plain": [
       "<Figure size 1368x1440 with 4 Axes>"
      ]
     },
     "metadata": {
      "image/png": {
       "height": 1589,
       "width": 1364
      },
      "needs_background": "light"
     },
     "output_type": "display_data"
    }
   ],
   "source": [
    "fig = plt.figure(figsize=(19,20))\n",
    "plt.figtext(0.5, -0.1, \"figtext\")\n",
    "\n",
    "ax1 = fig.add_subplot(3,2,1)\n",
    "ax2 = fig.add_subplot(3,2,2)\n",
    "ax3 = fig.add_subplot(3,2,3)\n",
    "ax4 = fig.add_subplot(3,2,4)\n",
    "\n",
    "\n",
    "\n",
    "df_temp.groupby('object_type')['id'].count().plot(kind='bar',\n",
    "                                             title='График количества видов общественного питания',\n",
    "                                            ax=ax1)\n",
    "\n",
    "\n",
    "df_temp.groupby('chain')['id'].count().plot(kind='bar',\n",
    "                title='График количества сетевых и не сетевых заведений общественного питания',\n",
    "                ax=ax2\n",
    "                )\n",
    "\n",
    "plt.subplot(323)\n",
    "plt.title('График отношения сетевых заведений к несетевым')\n",
    "sns.barplot(x='chain', y=\"object_type\", data=share_chain, ax=ax3)\n",
    "\n",
    "df_group_1.plot(kind='barh',title='График количества заведений общественного питания по улицам',ax=ax4)\n",
    "\n",
    "\n",
    "\n",
    "fig.tight_layout()\n"
   ]
  },
  {
   "cell_type": "markdown",
   "metadata": {},
   "source": [
    "## Вывод:"
   ]
  },
  {
   "cell_type": "markdown",
   "metadata": {},
   "source": [
    " - Таким образом мы выяснили, что основное место среди общего количества общественных заведений занимает кафе, в свою очередь по доле сетевых заведений занимает предприятия быстрого обслуживания, затем ресторан  и только после них идет кафе, количество посадочных мест 60-70 так как нам надо найти один район через который проходит одна улица, то это улица Пресненская набережная, Пресненский район, не самое большое количество открытых точек питания и к тому же входит в топ 10 улиц. \n",
    " - В дальнейшем для развития сети заведений  необходимо так же можно рассматривать Кутузовский проспект, Кировоградская улица, Ленинградский проспект, Каширское шоссе это улицы с 2-4 районами с не самым большим количеством открытых заведений. Так же можно расмотреть на перспективу роботизированный магазин кулинарии и предприятия быстрого обслуживания, веь они действительно пользуются спросом"
   ]
  }
 ],
 "metadata": {
  "ExecuteTimeLog": [
   {
    "duration": 1520,
    "start_time": "2022-01-31T05:12:02.091Z"
   },
   {
    "duration": 54,
    "start_time": "2022-01-31T05:13:00.388Z"
   },
   {
    "duration": 454,
    "start_time": "2022-01-31T05:13:25.691Z"
   },
   {
    "duration": 5,
    "start_time": "2022-01-31T05:13:30.430Z"
   },
   {
    "duration": 687,
    "start_time": "2022-01-31T05:13:30.969Z"
   },
   {
    "duration": 375,
    "start_time": "2022-01-31T05:19:28.556Z"
   },
   {
    "duration": 338,
    "start_time": "2022-01-31T05:19:41.623Z"
   },
   {
    "duration": 25,
    "start_time": "2022-01-31T05:20:46.052Z"
   },
   {
    "duration": 287,
    "start_time": "2022-01-31T05:22:26.442Z"
   },
   {
    "duration": 13,
    "start_time": "2022-01-31T05:22:56.126Z"
   },
   {
    "duration": 4400,
    "start_time": "2022-01-31T05:23:19.354Z"
   },
   {
    "duration": 102,
    "start_time": "2022-01-31T05:23:31.998Z"
   },
   {
    "duration": 193,
    "start_time": "2022-01-31T05:23:40.966Z"
   },
   {
    "duration": 13,
    "start_time": "2022-01-31T05:23:47.732Z"
   },
   {
    "duration": 10,
    "start_time": "2022-01-31T05:26:01.196Z"
   },
   {
    "duration": 11,
    "start_time": "2022-01-31T05:26:13.560Z"
   },
   {
    "duration": 10,
    "start_time": "2022-01-31T05:26:39.211Z"
   },
   {
    "duration": 22,
    "start_time": "2022-01-31T05:27:05.039Z"
   },
   {
    "duration": 7,
    "start_time": "2022-01-31T05:27:36.454Z"
   },
   {
    "duration": 341,
    "start_time": "2022-01-31T05:27:56.560Z"
   },
   {
    "duration": 7,
    "start_time": "2022-01-31T05:28:33.188Z"
   },
   {
    "duration": 14,
    "start_time": "2022-01-31T05:29:03.386Z"
   },
   {
    "duration": 1072,
    "start_time": "2022-01-31T05:29:15.681Z"
   },
   {
    "duration": 125,
    "start_time": "2022-01-31T05:29:35.289Z"
   },
   {
    "duration": 414,
    "start_time": "2022-01-31T05:29:39.227Z"
   },
   {
    "duration": 320,
    "start_time": "2022-01-31T05:35:34.017Z"
   },
   {
    "duration": 5,
    "start_time": "2022-01-31T05:35:41.289Z"
   },
   {
    "duration": 309,
    "start_time": "2022-01-31T05:35:44.397Z"
   },
   {
    "duration": 18,
    "start_time": "2022-01-31T05:35:46.550Z"
   },
   {
    "duration": 320,
    "start_time": "2022-01-31T05:37:34.214Z"
   },
   {
    "duration": 23,
    "start_time": "2022-01-31T05:37:41.256Z"
   },
   {
    "duration": 16,
    "start_time": "2022-01-31T05:38:18.467Z"
   },
   {
    "duration": 15,
    "start_time": "2022-01-31T05:44:34.854Z"
   },
   {
    "duration": 15,
    "start_time": "2022-01-31T05:44:43.180Z"
   },
   {
    "duration": 10,
    "start_time": "2022-01-31T06:01:38.325Z"
   },
   {
    "duration": 16,
    "start_time": "2022-01-31T06:01:55.740Z"
   },
   {
    "duration": 20,
    "start_time": "2022-01-31T06:02:55.137Z"
   },
   {
    "duration": 15,
    "start_time": "2022-01-31T06:03:03.166Z"
   },
   {
    "duration": 23,
    "start_time": "2022-01-31T06:03:16.316Z"
   },
   {
    "duration": 16,
    "start_time": "2022-01-31T06:04:57.386Z"
   },
   {
    "duration": 10,
    "start_time": "2022-01-31T06:05:18.194Z"
   },
   {
    "duration": 347,
    "start_time": "2022-01-31T06:13:06.969Z"
   },
   {
    "duration": 337,
    "start_time": "2022-01-31T06:13:15.146Z"
   },
   {
    "duration": 8562,
    "start_time": "2022-01-31T06:14:29.248Z"
   },
   {
    "duration": 2257,
    "start_time": "2022-01-31T06:15:57.393Z"
   },
   {
    "duration": 21,
    "start_time": "2022-01-31T06:17:18.417Z"
   },
   {
    "duration": 360,
    "start_time": "2022-01-31T06:19:07.066Z"
   },
   {
    "duration": 123,
    "start_time": "2022-01-31T06:20:12.330Z"
   },
   {
    "duration": 382,
    "start_time": "2022-01-31T06:20:18.108Z"
   },
   {
    "duration": 329,
    "start_time": "2022-01-31T06:20:56.947Z"
   },
   {
    "duration": 355,
    "start_time": "2022-01-31T06:21:14.351Z"
   },
   {
    "duration": 374,
    "start_time": "2022-01-31T06:21:23.447Z"
   },
   {
    "duration": 340,
    "start_time": "2022-01-31T06:23:12.836Z"
   },
   {
    "duration": 10,
    "start_time": "2022-01-31T06:25:37.611Z"
   },
   {
    "duration": 8,
    "start_time": "2022-01-31T06:25:47.715Z"
   },
   {
    "duration": 14,
    "start_time": "2022-01-31T06:27:17.983Z"
   },
   {
    "duration": 9,
    "start_time": "2022-01-31T06:27:19.591Z"
   },
   {
    "duration": 20,
    "start_time": "2022-01-31T06:30:48.969Z"
   },
   {
    "duration": 12,
    "start_time": "2022-01-31T06:30:50.592Z"
   },
   {
    "duration": 19,
    "start_time": "2022-01-31T06:31:06.412Z"
   },
   {
    "duration": 444,
    "start_time": "2022-01-31T06:32:22.678Z"
   },
   {
    "duration": 376,
    "start_time": "2022-01-31T06:32:37.972Z"
   },
   {
    "duration": 452,
    "start_time": "2022-01-31T06:32:49.242Z"
   },
   {
    "duration": 12,
    "start_time": "2022-01-31T06:33:13.857Z"
   },
   {
    "duration": 12,
    "start_time": "2022-01-31T06:33:32.742Z"
   },
   {
    "duration": 9,
    "start_time": "2022-01-31T06:33:43.109Z"
   },
   {
    "duration": 441,
    "start_time": "2022-01-31T06:34:31.554Z"
   },
   {
    "duration": 1601,
    "start_time": "2022-01-31T06:35:02.655Z"
   },
   {
    "duration": 61,
    "start_time": "2022-01-31T06:35:04.259Z"
   },
   {
    "duration": 5,
    "start_time": "2022-01-31T06:35:04.325Z"
   },
   {
    "duration": 6,
    "start_time": "2022-01-31T06:35:04.333Z"
   },
   {
    "duration": 1003,
    "start_time": "2022-01-31T06:35:04.342Z"
   },
   {
    "duration": 14,
    "start_time": "2022-01-31T06:35:05.349Z"
   },
   {
    "duration": 29,
    "start_time": "2022-01-31T06:35:05.365Z"
   },
   {
    "duration": 50,
    "start_time": "2022-01-31T06:35:05.398Z"
   },
   {
    "duration": 11,
    "start_time": "2022-01-31T06:35:05.451Z"
   },
   {
    "duration": 31,
    "start_time": "2022-01-31T06:35:05.465Z"
   },
   {
    "duration": 31,
    "start_time": "2022-01-31T06:35:05.499Z"
   },
   {
    "duration": 572,
    "start_time": "2022-01-31T06:35:05.533Z"
   },
   {
    "duration": -543,
    "start_time": "2022-01-31T06:35:06.650Z"
   },
   {
    "duration": -546,
    "start_time": "2022-01-31T06:35:06.655Z"
   },
   {
    "duration": -548,
    "start_time": "2022-01-31T06:35:06.659Z"
   },
   {
    "duration": -549,
    "start_time": "2022-01-31T06:35:06.662Z"
   },
   {
    "duration": -553,
    "start_time": "2022-01-31T06:35:06.667Z"
   },
   {
    "duration": 11,
    "start_time": "2022-01-31T06:36:05.920Z"
   },
   {
    "duration": 8,
    "start_time": "2022-01-31T06:36:09.007Z"
   },
   {
    "duration": 566,
    "start_time": "2022-01-31T06:36:30.330Z"
   },
   {
    "duration": 1525,
    "start_time": "2022-01-31T06:36:43.882Z"
   },
   {
    "duration": 58,
    "start_time": "2022-01-31T06:36:45.410Z"
   },
   {
    "duration": 4,
    "start_time": "2022-01-31T06:36:45.471Z"
   },
   {
    "duration": 5,
    "start_time": "2022-01-31T06:36:45.701Z"
   },
   {
    "duration": 1001,
    "start_time": "2022-01-31T06:36:46.567Z"
   },
   {
    "duration": 15,
    "start_time": "2022-01-31T06:36:50.631Z"
   },
   {
    "duration": 25,
    "start_time": "2022-01-31T06:36:52.175Z"
   },
   {
    "duration": 22,
    "start_time": "2022-01-31T06:36:56.079Z"
   },
   {
    "duration": 6,
    "start_time": "2022-01-31T06:36:59.107Z"
   },
   {
    "duration": 16,
    "start_time": "2022-01-31T06:37:05.129Z"
   },
   {
    "duration": 5,
    "start_time": "2022-01-31T06:37:46.509Z"
   },
   {
    "duration": 15,
    "start_time": "2022-01-31T06:38:00.436Z"
   },
   {
    "duration": 17,
    "start_time": "2022-01-31T06:38:24.156Z"
   },
   {
    "duration": 543,
    "start_time": "2022-01-31T06:39:19.951Z"
   },
   {
    "duration": 16,
    "start_time": "2022-01-31T06:39:44.304Z"
   },
   {
    "duration": 7,
    "start_time": "2022-01-31T06:39:51.492Z"
   },
   {
    "duration": 10,
    "start_time": "2022-01-31T06:40:23.619Z"
   },
   {
    "duration": 7,
    "start_time": "2022-01-31T06:40:30.496Z"
   },
   {
    "duration": 19,
    "start_time": "2022-01-31T06:40:35.846Z"
   },
   {
    "duration": 102,
    "start_time": "2022-01-31T06:43:55.817Z"
   },
   {
    "duration": 6853,
    "start_time": "2022-01-31T06:43:59.383Z"
   },
   {
    "duration": 608,
    "start_time": "2022-01-31T06:44:13.956Z"
   },
   {
    "duration": 352,
    "start_time": "2022-01-31T06:44:46.454Z"
   },
   {
    "duration": 25,
    "start_time": "2022-01-31T06:45:00.495Z"
   },
   {
    "duration": 14,
    "start_time": "2022-01-31T06:45:18.600Z"
   },
   {
    "duration": 1465,
    "start_time": "2022-01-31T06:46:30.834Z"
   },
   {
    "duration": 56,
    "start_time": "2022-01-31T06:46:32.301Z"
   },
   {
    "duration": 4,
    "start_time": "2022-01-31T06:46:32.360Z"
   },
   {
    "duration": 6,
    "start_time": "2022-01-31T06:46:32.368Z"
   },
   {
    "duration": 736,
    "start_time": "2022-01-31T06:46:32.377Z"
   },
   {
    "duration": 16,
    "start_time": "2022-01-31T06:46:33.116Z"
   },
   {
    "duration": 24,
    "start_time": "2022-01-31T06:46:33.134Z"
   },
   {
    "duration": 21,
    "start_time": "2022-01-31T06:46:33.163Z"
   },
   {
    "duration": 40,
    "start_time": "2022-01-31T06:46:33.188Z"
   },
   {
    "duration": 16,
    "start_time": "2022-01-31T06:46:33.232Z"
   },
   {
    "duration": 15,
    "start_time": "2022-01-31T06:46:33.251Z"
   },
   {
    "duration": 54,
    "start_time": "2022-01-31T06:46:33.270Z"
   },
   {
    "duration": 9,
    "start_time": "2022-01-31T06:46:33.327Z"
   },
   {
    "duration": 20,
    "start_time": "2022-01-31T06:46:33.338Z"
   },
   {
    "duration": 7,
    "start_time": "2022-01-31T06:46:33.360Z"
   },
   {
    "duration": 21,
    "start_time": "2022-01-31T06:46:33.370Z"
   },
   {
    "duration": 18,
    "start_time": "2022-01-31T06:47:38.325Z"
   },
   {
    "duration": 3,
    "start_time": "2022-01-31T06:51:23.047Z"
   },
   {
    "duration": 111,
    "start_time": "2022-01-31T06:53:38.516Z"
   },
   {
    "duration": 667,
    "start_time": "2022-01-31T06:54:58.431Z"
   },
   {
    "duration": 434,
    "start_time": "2022-01-31T06:55:42.651Z"
   },
   {
    "duration": 20,
    "start_time": "2022-01-31T06:55:48.093Z"
   },
   {
    "duration": 9,
    "start_time": "2022-01-31T06:56:19.529Z"
   },
   {
    "duration": 527,
    "start_time": "2022-01-31T06:57:45.055Z"
   },
   {
    "duration": 1000,
    "start_time": "2022-01-31T06:59:39.746Z"
   },
   {
    "duration": 780,
    "start_time": "2022-01-31T06:59:58.667Z"
   },
   {
    "duration": 109,
    "start_time": "2022-01-31T07:04:12.435Z"
   },
   {
    "duration": 699,
    "start_time": "2022-01-31T07:04:18.419Z"
   },
   {
    "duration": 811,
    "start_time": "2022-01-31T07:11:23.009Z"
   },
   {
    "duration": 120,
    "start_time": "2022-01-31T07:13:17.355Z"
   },
   {
    "duration": 6665,
    "start_time": "2022-01-31T07:13:20.520Z"
   },
   {
    "duration": 22,
    "start_time": "2022-01-31T07:13:40.762Z"
   },
   {
    "duration": 22,
    "start_time": "2022-01-31T07:13:55.968Z"
   },
   {
    "duration": 22,
    "start_time": "2022-01-31T07:14:10.986Z"
   },
   {
    "duration": 9,
    "start_time": "2022-01-31T07:20:31.696Z"
   },
   {
    "duration": 428,
    "start_time": "2022-01-31T07:24:11.591Z"
   },
   {
    "duration": 103,
    "start_time": "2022-01-31T07:24:13.800Z"
   },
   {
    "duration": 5,
    "start_time": "2022-01-31T07:24:23.608Z"
   },
   {
    "duration": 723,
    "start_time": "2022-01-31T07:24:24.984Z"
   },
   {
    "duration": 97,
    "start_time": "2022-01-31T07:28:47.322Z"
   },
   {
    "duration": 5,
    "start_time": "2022-01-31T07:28:53.405Z"
   },
   {
    "duration": 1326,
    "start_time": "2022-01-31T07:28:55.869Z"
   },
   {
    "duration": 9042,
    "start_time": "2022-01-31T07:33:19.676Z"
   },
   {
    "duration": 7853,
    "start_time": "2022-01-31T07:33:34.149Z"
   },
   {
    "duration": 5,
    "start_time": "2022-01-31T07:33:58.638Z"
   },
   {
    "duration": 1359,
    "start_time": "2022-01-31T07:34:03.003Z"
   },
   {
    "duration": 4,
    "start_time": "2022-01-31T07:34:21.870Z"
   },
   {
    "duration": 650,
    "start_time": "2022-01-31T07:34:22.323Z"
   },
   {
    "duration": 20,
    "start_time": "2022-01-31T07:37:05.559Z"
   },
   {
    "duration": 9,
    "start_time": "2022-01-31T07:39:24.001Z"
   },
   {
    "duration": 347,
    "start_time": "2022-01-31T07:43:30.091Z"
   },
   {
    "duration": 13,
    "start_time": "2022-01-31T07:44:02.875Z"
   },
   {
    "duration": 116,
    "start_time": "2022-01-31T07:48:01.641Z"
   },
   {
    "duration": 375,
    "start_time": "2022-01-31T07:51:28.686Z"
   },
   {
    "duration": 111,
    "start_time": "2022-01-31T07:51:42.443Z"
   },
   {
    "duration": 23,
    "start_time": "2022-01-31T07:53:50.365Z"
   },
   {
    "duration": 17,
    "start_time": "2022-01-31T07:54:20.514Z"
   },
   {
    "duration": 16,
    "start_time": "2022-01-31T07:54:51.743Z"
   },
   {
    "duration": 201,
    "start_time": "2022-01-31T07:57:18.200Z"
   },
   {
    "duration": 720,
    "start_time": "2022-01-31T07:57:25.108Z"
   },
   {
    "duration": 110,
    "start_time": "2022-01-31T07:57:59.774Z"
   },
   {
    "duration": 18,
    "start_time": "2022-01-31T07:58:18.414Z"
   },
   {
    "duration": 107,
    "start_time": "2022-01-31T07:58:45.819Z"
   },
   {
    "duration": 19,
    "start_time": "2022-01-31T07:58:49.578Z"
   },
   {
    "duration": 1056,
    "start_time": "2022-01-31T07:59:08.580Z"
   },
   {
    "duration": 1019,
    "start_time": "2022-01-31T07:59:49.078Z"
   },
   {
    "duration": 12,
    "start_time": "2022-01-31T08:00:07.056Z"
   },
   {
    "duration": 16,
    "start_time": "2022-01-31T08:00:18.728Z"
   },
   {
    "duration": 16,
    "start_time": "2022-01-31T08:00:36.367Z"
   },
   {
    "duration": 1357,
    "start_time": "2022-01-31T08:04:52.028Z"
   },
   {
    "duration": 734,
    "start_time": "2022-01-31T08:08:15.435Z"
   },
   {
    "duration": 339,
    "start_time": "2022-01-31T08:08:41.476Z"
   },
   {
    "duration": 1550,
    "start_time": "2022-01-31T08:10:29.084Z"
   },
   {
    "duration": 326,
    "start_time": "2022-01-31T08:10:42.625Z"
   },
   {
    "duration": 1863,
    "start_time": "2022-01-31T08:10:54.507Z"
   },
   {
    "duration": 352,
    "start_time": "2022-01-31T08:11:10.799Z"
   },
   {
    "duration": 1716,
    "start_time": "2022-01-31T08:11:25.381Z"
   },
   {
    "duration": 327,
    "start_time": "2022-01-31T08:14:19.725Z"
   },
   {
    "duration": 358,
    "start_time": "2022-01-31T08:15:00.599Z"
   },
   {
    "duration": 18,
    "start_time": "2022-01-31T08:16:00.286Z"
   },
   {
    "duration": 384,
    "start_time": "2022-01-31T08:16:44.895Z"
   },
   {
    "duration": 396,
    "start_time": "2022-01-31T08:19:28.293Z"
   },
   {
    "duration": 339,
    "start_time": "2022-01-31T08:20:01.013Z"
   },
   {
    "duration": 222,
    "start_time": "2022-01-31T08:25:36.356Z"
   },
   {
    "duration": 19,
    "start_time": "2022-01-31T08:25:43.717Z"
   },
   {
    "duration": 12,
    "start_time": "2022-01-31T08:25:53.453Z"
   },
   {
    "duration": 883,
    "start_time": "2022-01-31T08:26:11.279Z"
   },
   {
    "duration": 457,
    "start_time": "2022-01-31T08:29:11.701Z"
   },
   {
    "duration": 338,
    "start_time": "2022-01-31T08:29:20.641Z"
   },
   {
    "duration": 10,
    "start_time": "2022-01-31T08:29:48.583Z"
   },
   {
    "duration": 3239,
    "start_time": "2022-01-31T08:30:10.405Z"
   },
   {
    "duration": 3764,
    "start_time": "2022-01-31T08:30:13.647Z"
   },
   {
    "duration": 2004,
    "start_time": "2022-01-31T08:30:17.414Z"
   },
   {
    "duration": 71,
    "start_time": "2022-01-31T08:30:19.424Z"
   },
   {
    "duration": 4,
    "start_time": "2022-01-31T08:30:19.498Z"
   },
   {
    "duration": 19,
    "start_time": "2022-01-31T08:30:19.504Z"
   },
   {
    "duration": 901,
    "start_time": "2022-01-31T08:30:19.526Z"
   },
   {
    "duration": 11,
    "start_time": "2022-01-31T08:30:20.432Z"
   },
   {
    "duration": 24,
    "start_time": "2022-01-31T08:30:20.447Z"
   },
   {
    "duration": 25,
    "start_time": "2022-01-31T08:30:20.474Z"
   },
   {
    "duration": 15,
    "start_time": "2022-01-31T08:30:20.524Z"
   },
   {
    "duration": 19,
    "start_time": "2022-01-31T08:30:20.541Z"
   },
   {
    "duration": 14,
    "start_time": "2022-01-31T08:30:20.563Z"
   },
   {
    "duration": 50,
    "start_time": "2022-01-31T08:30:20.580Z"
   },
   {
    "duration": 3,
    "start_time": "2022-01-31T08:30:20.633Z"
   },
   {
    "duration": 24,
    "start_time": "2022-01-31T08:30:20.638Z"
   },
   {
    "duration": 29,
    "start_time": "2022-01-31T08:30:20.665Z"
   },
   {
    "duration": 5,
    "start_time": "2022-01-31T08:30:20.697Z"
   },
   {
    "duration": 22,
    "start_time": "2022-01-31T08:30:20.705Z"
   },
   {
    "duration": 436,
    "start_time": "2022-01-31T08:30:20.729Z"
   },
   {
    "duration": 8,
    "start_time": "2022-01-31T08:30:21.168Z"
   },
   {
    "duration": 4,
    "start_time": "2022-01-31T08:30:21.179Z"
   },
   {
    "duration": 339,
    "start_time": "2022-01-31T08:30:21.187Z"
   },
   {
    "duration": 20,
    "start_time": "2022-01-31T08:30:21.528Z"
   },
   {
    "duration": 23,
    "start_time": "2022-01-31T08:30:21.550Z"
   },
   {
    "duration": 56,
    "start_time": "2022-01-31T08:30:21.576Z"
   },
   {
    "duration": 477,
    "start_time": "2022-01-31T08:30:21.635Z"
   },
   {
    "duration": -490,
    "start_time": "2022-01-31T08:30:22.605Z"
   },
   {
    "duration": -497,
    "start_time": "2022-01-31T08:30:22.615Z"
   },
   {
    "duration": -500,
    "start_time": "2022-01-31T08:30:22.620Z"
   },
   {
    "duration": 9,
    "start_time": "2022-01-31T08:30:26.415Z"
   },
   {
    "duration": 391,
    "start_time": "2022-01-31T08:30:38.473Z"
   },
   {
    "duration": 7,
    "start_time": "2022-01-31T08:30:56.263Z"
   },
   {
    "duration": 16,
    "start_time": "2022-01-31T08:31:12.288Z"
   },
   {
    "duration": 21,
    "start_time": "2022-01-31T08:31:24.307Z"
   },
   {
    "duration": 420,
    "start_time": "2022-01-31T08:31:33.891Z"
   },
   {
    "duration": 339,
    "start_time": "2022-01-31T08:33:38.564Z"
   },
   {
    "duration": 19,
    "start_time": "2022-01-31T08:34:01.903Z"
   },
   {
    "duration": 26692,
    "start_time": "2022-02-01T04:04:02.103Z"
   },
   {
    "duration": 104296,
    "start_time": "2022-02-01T04:04:28.797Z"
   },
   {
    "duration": 1188,
    "start_time": "2022-02-01T04:06:13.095Z"
   },
   {
    "duration": 54,
    "start_time": "2022-02-01T04:06:14.285Z"
   },
   {
    "duration": 3,
    "start_time": "2022-02-01T04:06:14.340Z"
   },
   {
    "duration": 5,
    "start_time": "2022-02-01T04:06:14.345Z"
   },
   {
    "duration": 354,
    "start_time": "2022-02-01T04:06:14.351Z"
   },
   {
    "duration": 7,
    "start_time": "2022-02-01T04:06:14.708Z"
   },
   {
    "duration": 15,
    "start_time": "2022-02-01T04:06:14.717Z"
   },
   {
    "duration": 15,
    "start_time": "2022-02-01T04:06:14.734Z"
   },
   {
    "duration": 4,
    "start_time": "2022-02-01T04:06:14.750Z"
   },
   {
    "duration": 10,
    "start_time": "2022-02-01T04:06:14.756Z"
   },
   {
    "duration": 7,
    "start_time": "2022-02-01T04:06:14.768Z"
   },
   {
    "duration": 14,
    "start_time": "2022-02-01T04:06:14.813Z"
   },
   {
    "duration": 3,
    "start_time": "2022-02-01T04:06:14.829Z"
   },
   {
    "duration": 5,
    "start_time": "2022-02-01T04:06:14.833Z"
   },
   {
    "duration": 9,
    "start_time": "2022-02-01T04:06:14.839Z"
   },
   {
    "duration": 3,
    "start_time": "2022-02-01T04:06:14.849Z"
   },
   {
    "duration": 10,
    "start_time": "2022-02-01T04:06:14.854Z"
   },
   {
    "duration": 579,
    "start_time": "2022-02-01T04:06:14.865Z"
   },
   {
    "duration": 7,
    "start_time": "2022-02-01T04:06:15.446Z"
   },
   {
    "duration": 3,
    "start_time": "2022-02-01T04:06:15.454Z"
   },
   {
    "duration": 464,
    "start_time": "2022-02-01T04:06:15.460Z"
   },
   {
    "duration": 13,
    "start_time": "2022-02-01T04:06:15.927Z"
   },
   {
    "duration": 14,
    "start_time": "2022-02-01T04:06:15.942Z"
   },
   {
    "duration": 9,
    "start_time": "2022-02-01T04:06:15.958Z"
   },
   {
    "duration": 397,
    "start_time": "2022-02-01T04:06:15.969Z"
   },
   {
    "duration": -1045,
    "start_time": "2022-02-01T04:06:17.413Z"
   },
   {
    "duration": -1049,
    "start_time": "2022-02-01T04:06:17.418Z"
   },
   {
    "duration": -1052,
    "start_time": "2022-02-01T04:06:17.422Z"
   },
   {
    "duration": 12,
    "start_time": "2022-02-01T04:07:57.849Z"
   },
   {
    "duration": 69,
    "start_time": "2022-02-01T04:10:17.170Z"
   },
   {
    "duration": 263,
    "start_time": "2022-02-01T04:10:23.156Z"
   },
   {
    "duration": 226,
    "start_time": "2022-02-01T04:12:11.214Z"
   },
   {
    "duration": 243,
    "start_time": "2022-02-01T04:19:35.765Z"
   },
   {
    "duration": 235,
    "start_time": "2022-02-01T04:19:43.294Z"
   },
   {
    "duration": 14,
    "start_time": "2022-02-01T04:19:54.378Z"
   },
   {
    "duration": 8,
    "start_time": "2022-02-01T04:20:42.019Z"
   },
   {
    "duration": 14,
    "start_time": "2022-02-01T04:21:08.679Z"
   },
   {
    "duration": 7,
    "start_time": "2022-02-01T04:21:37.205Z"
   },
   {
    "duration": 340,
    "start_time": "2022-02-01T04:21:40.008Z"
   },
   {
    "duration": 524,
    "start_time": "2022-02-01T04:26:47.277Z"
   },
   {
    "duration": 745,
    "start_time": "2022-02-01T04:27:06.861Z"
   },
   {
    "duration": 728,
    "start_time": "2022-02-01T04:32:27.442Z"
   },
   {
    "duration": 691,
    "start_time": "2022-02-01T04:33:39.954Z"
   },
   {
    "duration": 714,
    "start_time": "2022-02-01T04:33:49.387Z"
   },
   {
    "duration": 725,
    "start_time": "2022-02-01T04:34:01.693Z"
   },
   {
    "duration": 732,
    "start_time": "2022-02-01T04:34:12.729Z"
   },
   {
    "duration": 762,
    "start_time": "2022-02-01T04:34:23.404Z"
   },
   {
    "duration": 235,
    "start_time": "2022-02-01T04:34:53.135Z"
   },
   {
    "duration": 655,
    "start_time": "2022-02-01T04:39:07.085Z"
   },
   {
    "duration": 665,
    "start_time": "2022-02-01T04:43:50.321Z"
   },
   {
    "duration": 676,
    "start_time": "2022-02-01T04:44:46.486Z"
   },
   {
    "duration": 13,
    "start_time": "2022-02-01T04:49:13.401Z"
   },
   {
    "duration": 68,
    "start_time": "2022-02-01T04:53:45.354Z"
   },
   {
    "duration": 20,
    "start_time": "2022-02-01T04:53:52.038Z"
   },
   {
    "duration": 25,
    "start_time": "2022-02-01T04:54:20.077Z"
   },
   {
    "duration": 111,
    "start_time": "2022-02-01T04:55:17.302Z"
   },
   {
    "duration": 21,
    "start_time": "2022-02-01T04:55:28.172Z"
   },
   {
    "duration": 78,
    "start_time": "2022-02-01T05:02:10.466Z"
   },
   {
    "duration": 439,
    "start_time": "2022-02-01T05:02:30.609Z"
   },
   {
    "duration": 781,
    "start_time": "2022-02-01T05:02:54.120Z"
   },
   {
    "duration": 12,
    "start_time": "2022-02-01T05:05:13.231Z"
   },
   {
    "duration": 15,
    "start_time": "2022-02-01T05:06:02.041Z"
   },
   {
    "duration": 19,
    "start_time": "2022-02-01T05:06:12.577Z"
   },
   {
    "duration": 12,
    "start_time": "2022-02-01T05:09:07.395Z"
   },
   {
    "duration": 640,
    "start_time": "2022-02-01T05:09:22.676Z"
   },
   {
    "duration": 70,
    "start_time": "2022-02-01T05:21:45.424Z"
   },
   {
    "duration": 113,
    "start_time": "2022-02-01T05:22:18.009Z"
   },
   {
    "duration": 23,
    "start_time": "2022-02-01T05:22:59.519Z"
   },
   {
    "duration": 16,
    "start_time": "2022-02-01T05:23:15.542Z"
   },
   {
    "duration": 16,
    "start_time": "2022-02-01T05:23:30.179Z"
   },
   {
    "duration": 597,
    "start_time": "2022-02-01T05:26:24.409Z"
   },
   {
    "duration": 589,
    "start_time": "2022-02-01T05:28:43.903Z"
   },
   {
    "duration": 16,
    "start_time": "2022-02-01T05:29:07.807Z"
   },
   {
    "duration": 624,
    "start_time": "2022-02-01T05:29:09.971Z"
   },
   {
    "duration": 614,
    "start_time": "2022-02-01T05:32:10.166Z"
   },
   {
    "duration": 756,
    "start_time": "2022-02-01T05:32:29.442Z"
   },
   {
    "duration": 588,
    "start_time": "2022-02-01T05:33:35.766Z"
   },
   {
    "duration": 862,
    "start_time": "2022-02-01T05:33:50.088Z"
   },
   {
    "duration": 594,
    "start_time": "2022-02-01T05:33:55.511Z"
   },
   {
    "duration": 684,
    "start_time": "2022-02-01T05:34:29.756Z"
   },
   {
    "duration": 692,
    "start_time": "2022-02-01T05:37:29.225Z"
   },
   {
    "duration": 838,
    "start_time": "2022-02-01T05:39:39.434Z"
   },
   {
    "duration": 847,
    "start_time": "2022-02-01T05:44:43.045Z"
   },
   {
    "duration": 15,
    "start_time": "2022-02-01T05:49:01.973Z"
   },
   {
    "duration": 347,
    "start_time": "2022-02-01T05:49:16.012Z"
   },
   {
    "duration": 258,
    "start_time": "2022-02-01T05:49:30.441Z"
   },
   {
    "duration": 16,
    "start_time": "2022-02-01T05:49:57.589Z"
   },
   {
    "duration": 693,
    "start_time": "2022-02-01T05:50:01.580Z"
   },
   {
    "duration": 760,
    "start_time": "2022-02-01T05:50:23.996Z"
   },
   {
    "duration": 743,
    "start_time": "2022-02-01T05:51:18.588Z"
   },
   {
    "duration": 665,
    "start_time": "2022-02-01T05:59:42.448Z"
   },
   {
    "duration": 829,
    "start_time": "2022-02-01T06:00:05.844Z"
   },
   {
    "duration": 116,
    "start_time": "2022-02-01T06:01:59.924Z"
   },
   {
    "duration": 85,
    "start_time": "2022-02-01T06:02:18.467Z"
   },
   {
    "duration": 97,
    "start_time": "2022-02-01T06:03:30.340Z"
   },
   {
    "duration": 80,
    "start_time": "2022-02-01T06:03:45.600Z"
   },
   {
    "duration": 75,
    "start_time": "2022-02-01T06:03:54.466Z"
   },
   {
    "duration": 70,
    "start_time": "2022-02-01T06:04:51.621Z"
   },
   {
    "duration": 80,
    "start_time": "2022-02-01T06:05:06.425Z"
   },
   {
    "duration": 71,
    "start_time": "2022-02-01T06:06:33.749Z"
   },
   {
    "duration": 88,
    "start_time": "2022-02-01T06:06:56.403Z"
   },
   {
    "duration": 1701,
    "start_time": "2022-02-01T06:08:47.707Z"
   },
   {
    "duration": 237,
    "start_time": "2022-02-01T06:11:18.388Z"
   },
   {
    "duration": 341,
    "start_time": "2022-02-01T06:11:30.019Z"
   },
   {
    "duration": 352,
    "start_time": "2022-02-01T06:12:07.510Z"
   },
   {
    "duration": 367,
    "start_time": "2022-02-01T06:12:16.073Z"
   },
   {
    "duration": 15,
    "start_time": "2022-02-01T06:13:57.910Z"
   },
   {
    "duration": 605,
    "start_time": "2022-02-01T06:14:21.684Z"
   },
   {
    "duration": 581,
    "start_time": "2022-02-01T06:15:16.270Z"
   },
   {
    "duration": 921,
    "start_time": "2022-02-01T06:15:38.113Z"
   },
   {
    "duration": 21,
    "start_time": "2022-02-01T06:22:07.516Z"
   },
   {
    "duration": 12,
    "start_time": "2022-02-01T06:33:19.048Z"
   },
   {
    "duration": 75,
    "start_time": "2022-02-01T06:39:10.840Z"
   },
   {
    "duration": 72,
    "start_time": "2022-02-01T06:39:15.039Z"
   },
   {
    "duration": 84,
    "start_time": "2022-02-01T06:39:20.897Z"
   },
   {
    "duration": 84,
    "start_time": "2022-02-01T06:39:33.685Z"
   },
   {
    "duration": 5,
    "start_time": "2022-02-01T06:40:04.543Z"
   },
   {
    "duration": 4,
    "start_time": "2022-02-01T06:41:28.935Z"
   },
   {
    "duration": 3,
    "start_time": "2022-02-01T06:41:59.785Z"
   },
   {
    "duration": 233,
    "start_time": "2022-02-01T06:45:15.737Z"
   },
   {
    "duration": 4,
    "start_time": "2022-02-01T06:45:25.016Z"
   },
   {
    "duration": 113,
    "start_time": "2022-02-01T06:48:30.513Z"
   },
   {
    "duration": 78,
    "start_time": "2022-02-01T06:48:34.033Z"
   },
   {
    "duration": 3,
    "start_time": "2022-02-01T06:48:38.169Z"
   },
   {
    "duration": 4,
    "start_time": "2022-02-01T06:48:52.261Z"
   },
   {
    "duration": 3,
    "start_time": "2022-02-01T06:49:04.862Z"
   },
   {
    "duration": 219,
    "start_time": "2022-02-01T06:50:13.261Z"
   },
   {
    "duration": 226,
    "start_time": "2022-02-01T06:51:07.577Z"
   },
   {
    "duration": 226,
    "start_time": "2022-02-01T06:51:43.864Z"
   },
   {
    "duration": 80,
    "start_time": "2022-02-01T06:51:50.902Z"
   },
   {
    "duration": 357,
    "start_time": "2022-02-01T06:52:07.257Z"
   },
   {
    "duration": 248,
    "start_time": "2022-02-01T06:52:23.894Z"
   },
   {
    "duration": 249,
    "start_time": "2022-02-01T06:52:30.801Z"
   },
   {
    "duration": 257,
    "start_time": "2022-02-01T07:01:45.682Z"
   },
   {
    "duration": 230,
    "start_time": "2022-02-01T07:02:23.176Z"
   },
   {
    "duration": 327,
    "start_time": "2022-02-01T07:06:42.984Z"
   },
   {
    "duration": 3,
    "start_time": "2022-02-01T07:06:46.332Z"
   },
   {
    "duration": 32,
    "start_time": "2022-02-01T07:06:47.531Z"
   },
   {
    "duration": 17,
    "start_time": "2022-02-01T07:06:54.076Z"
   },
   {
    "duration": 11,
    "start_time": "2022-02-01T07:08:59.904Z"
   },
   {
    "duration": 10,
    "start_time": "2022-02-01T07:09:19.017Z"
   },
   {
    "duration": 10,
    "start_time": "2022-02-01T07:09:56.507Z"
   },
   {
    "duration": 12,
    "start_time": "2022-02-01T07:10:14.524Z"
   },
   {
    "duration": 10,
    "start_time": "2022-02-01T07:11:09.697Z"
   },
   {
    "duration": 10,
    "start_time": "2022-02-01T07:11:56.502Z"
   },
   {
    "duration": 11,
    "start_time": "2022-02-01T07:12:10.894Z"
   },
   {
    "duration": 238,
    "start_time": "2022-02-01T07:14:18.382Z"
   },
   {
    "duration": 22,
    "start_time": "2022-02-01T07:20:23.414Z"
   },
   {
    "duration": 29,
    "start_time": "2022-02-01T07:20:34.323Z"
   },
   {
    "duration": 8,
    "start_time": "2022-02-01T07:21:19.331Z"
   },
   {
    "duration": 9,
    "start_time": "2022-02-01T07:24:13.902Z"
   },
   {
    "duration": 9,
    "start_time": "2022-02-01T07:24:49.019Z"
   },
   {
    "duration": 9,
    "start_time": "2022-02-01T07:24:54.117Z"
   },
   {
    "duration": 16,
    "start_time": "2022-02-01T07:25:01.050Z"
   },
   {
    "duration": 8,
    "start_time": "2022-02-01T07:25:40.058Z"
   },
   {
    "duration": 76,
    "start_time": "2022-02-01T07:30:48.440Z"
   },
   {
    "duration": 217,
    "start_time": "2022-02-01T07:32:50.818Z"
   },
   {
    "duration": 88,
    "start_time": "2022-02-01T07:32:57.476Z"
   },
   {
    "duration": 88,
    "start_time": "2022-02-01T07:33:01.332Z"
   },
   {
    "duration": 83,
    "start_time": "2022-02-01T07:33:23.884Z"
   },
   {
    "duration": 10,
    "start_time": "2022-02-01T07:36:57.952Z"
   },
   {
    "duration": 8,
    "start_time": "2022-02-01T07:37:28.945Z"
   },
   {
    "duration": 261,
    "start_time": "2022-02-01T07:38:15.435Z"
   },
   {
    "duration": 329,
    "start_time": "2022-02-01T07:38:20.894Z"
   },
   {
    "duration": 10,
    "start_time": "2022-02-01T07:38:25.982Z"
   },
   {
    "duration": 8,
    "start_time": "2022-02-01T07:39:29.240Z"
   },
   {
    "duration": 9,
    "start_time": "2022-02-01T07:48:19.076Z"
   },
   {
    "duration": 75,
    "start_time": "2022-02-01T07:49:20.005Z"
   },
   {
    "duration": 117,
    "start_time": "2022-02-01T07:49:24.808Z"
   },
   {
    "duration": 96,
    "start_time": "2022-02-01T07:50:09.534Z"
   },
   {
    "duration": 20,
    "start_time": "2022-02-01T07:50:34.943Z"
   },
   {
    "duration": 17,
    "start_time": "2022-02-01T07:51:01.089Z"
   },
   {
    "duration": 20,
    "start_time": "2022-02-01T07:51:16.346Z"
   },
   {
    "duration": 20,
    "start_time": "2022-02-01T07:51:43.112Z"
   },
   {
    "duration": 7612,
    "start_time": "2022-02-01T07:54:13.073Z"
   },
   {
    "duration": 104358,
    "start_time": "2022-02-01T07:54:20.687Z"
   },
   {
    "duration": 1135,
    "start_time": "2022-02-01T07:56:05.047Z"
   },
   {
    "duration": 57,
    "start_time": "2022-02-01T07:56:06.184Z"
   },
   {
    "duration": 3,
    "start_time": "2022-02-01T07:56:06.242Z"
   },
   {
    "duration": 13,
    "start_time": "2022-02-01T07:56:06.247Z"
   },
   {
    "duration": 369,
    "start_time": "2022-02-01T07:56:06.262Z"
   },
   {
    "duration": 9,
    "start_time": "2022-02-01T07:56:06.634Z"
   },
   {
    "duration": 17,
    "start_time": "2022-02-01T07:56:06.645Z"
   },
   {
    "duration": 16,
    "start_time": "2022-02-01T07:56:06.665Z"
   },
   {
    "duration": 30,
    "start_time": "2022-02-01T07:56:06.683Z"
   },
   {
    "duration": 12,
    "start_time": "2022-02-01T07:56:06.715Z"
   },
   {
    "duration": 10,
    "start_time": "2022-02-01T07:56:06.729Z"
   },
   {
    "duration": 20,
    "start_time": "2022-02-01T07:56:06.741Z"
   },
   {
    "duration": 2,
    "start_time": "2022-02-01T07:56:06.763Z"
   },
   {
    "duration": 8,
    "start_time": "2022-02-01T07:56:06.767Z"
   },
   {
    "duration": 36,
    "start_time": "2022-02-01T07:56:06.777Z"
   },
   {
    "duration": 2,
    "start_time": "2022-02-01T07:56:06.815Z"
   },
   {
    "duration": 19,
    "start_time": "2022-02-01T07:56:06.818Z"
   },
   {
    "duration": 543,
    "start_time": "2022-02-01T07:56:06.838Z"
   },
   {
    "duration": 7,
    "start_time": "2022-02-01T07:56:07.383Z"
   },
   {
    "duration": 3,
    "start_time": "2022-02-01T07:56:07.391Z"
   },
   {
    "duration": 438,
    "start_time": "2022-02-01T07:56:07.413Z"
   },
   {
    "duration": 9,
    "start_time": "2022-02-01T07:56:07.853Z"
   },
   {
    "duration": 724,
    "start_time": "2022-02-01T07:56:07.864Z"
   },
   {
    "duration": 25,
    "start_time": "2022-02-01T07:56:08.590Z"
   },
   {
    "duration": 20,
    "start_time": "2022-02-01T07:56:08.617Z"
   },
   {
    "duration": 923,
    "start_time": "2022-02-01T07:56:08.639Z"
   },
   {
    "duration": 13,
    "start_time": "2022-02-01T07:56:09.564Z"
   },
   {
    "duration": 3115,
    "start_time": "2022-02-01T07:56:09.579Z"
   },
   {
    "duration": -929,
    "start_time": "2022-02-01T07:56:13.625Z"
   },
   {
    "duration": -933,
    "start_time": "2022-02-01T07:56:13.631Z"
   },
   {
    "duration": -937,
    "start_time": "2022-02-01T07:56:13.636Z"
   },
   {
    "duration": -940,
    "start_time": "2022-02-01T07:56:13.640Z"
   },
   {
    "duration": 2,
    "start_time": "2022-02-01T07:58:16.402Z"
   },
   {
    "duration": 4,
    "start_time": "2022-02-01T07:58:57.037Z"
   },
   {
    "duration": 31,
    "start_time": "2022-02-01T07:58:58.078Z"
   },
   {
    "duration": 10,
    "start_time": "2022-02-01T07:59:03.725Z"
   },
   {
    "duration": 11,
    "start_time": "2022-02-01T07:59:16.671Z"
   },
   {
    "duration": 83,
    "start_time": "2022-02-01T08:17:26.876Z"
   },
   {
    "duration": 234,
    "start_time": "2022-02-01T08:17:31.976Z"
   },
   {
    "duration": 3,
    "start_time": "2022-02-01T08:24:20.610Z"
   },
   {
    "duration": 32,
    "start_time": "2022-02-01T08:24:32.603Z"
   },
   {
    "duration": 10,
    "start_time": "2022-02-01T08:24:35.303Z"
   },
   {
    "duration": 250,
    "start_time": "2022-02-01T08:24:53.006Z"
   },
   {
    "duration": 126,
    "start_time": "2022-02-01T08:25:22.088Z"
   },
   {
    "duration": 88,
    "start_time": "2022-02-01T08:25:40.399Z"
   },
   {
    "duration": 69,
    "start_time": "2022-02-01T08:25:51.200Z"
   },
   {
    "duration": 82,
    "start_time": "2022-02-01T08:25:57.504Z"
   },
   {
    "duration": 11,
    "start_time": "2022-02-01T08:27:50.361Z"
   },
   {
    "duration": 222,
    "start_time": "2022-02-01T08:28:35.903Z"
   },
   {
    "duration": 11,
    "start_time": "2022-02-01T08:28:43.462Z"
   },
   {
    "duration": 5,
    "start_time": "2022-02-02T10:41:04.769Z"
   },
   {
    "duration": 6,
    "start_time": "2022-02-02T10:41:04.779Z"
   },
   {
    "duration": 1655,
    "start_time": "2022-02-02T10:41:04.788Z"
   },
   {
    "duration": 56,
    "start_time": "2022-02-02T10:41:06.445Z"
   },
   {
    "duration": 10,
    "start_time": "2022-02-02T10:41:06.504Z"
   },
   {
    "duration": 17,
    "start_time": "2022-02-02T10:41:06.516Z"
   },
   {
    "duration": 622,
    "start_time": "2022-02-02T10:41:06.535Z"
   },
   {
    "duration": 11,
    "start_time": "2022-02-02T10:41:07.161Z"
   },
   {
    "duration": 40,
    "start_time": "2022-02-02T10:41:07.174Z"
   },
   {
    "duration": 17,
    "start_time": "2022-02-02T10:41:07.223Z"
   },
   {
    "duration": 7,
    "start_time": "2022-02-02T10:41:07.242Z"
   },
   {
    "duration": 14,
    "start_time": "2022-02-02T10:41:07.251Z"
   },
   {
    "duration": 15,
    "start_time": "2022-02-02T10:41:07.267Z"
   },
   {
    "duration": 20,
    "start_time": "2022-02-02T10:41:07.307Z"
   },
   {
    "duration": 9,
    "start_time": "2022-02-02T10:41:07.329Z"
   },
   {
    "duration": 6,
    "start_time": "2022-02-02T10:41:07.340Z"
   },
   {
    "duration": 15,
    "start_time": "2022-02-02T10:41:07.348Z"
   },
   {
    "duration": 4,
    "start_time": "2022-02-02T10:41:07.365Z"
   },
   {
    "duration": 40,
    "start_time": "2022-02-02T10:41:07.371Z"
   },
   {
    "duration": 607,
    "start_time": "2022-02-02T10:41:07.415Z"
   },
   {
    "duration": 8,
    "start_time": "2022-02-02T10:41:08.025Z"
   },
   {
    "duration": 6,
    "start_time": "2022-02-02T10:41:08.035Z"
   },
   {
    "duration": 506,
    "start_time": "2022-02-02T10:41:08.043Z"
   },
   {
    "duration": 8,
    "start_time": "2022-02-02T10:41:08.551Z"
   },
   {
    "duration": 820,
    "start_time": "2022-02-02T10:41:08.561Z"
   },
   {
    "duration": 39,
    "start_time": "2022-02-02T10:41:09.383Z"
   },
   {
    "duration": 32,
    "start_time": "2022-02-02T10:41:09.424Z"
   },
   {
    "duration": 1741,
    "start_time": "2022-02-02T10:41:09.459Z"
   },
   {
    "duration": -1131,
    "start_time": "2022-02-02T10:41:12.338Z"
   },
   {
    "duration": -1138,
    "start_time": "2022-02-02T10:41:12.346Z"
   },
   {
    "duration": -1143,
    "start_time": "2022-02-02T10:41:12.353Z"
   },
   {
    "duration": -1155,
    "start_time": "2022-02-02T10:41:12.367Z"
   },
   {
    "duration": -1161,
    "start_time": "2022-02-02T10:41:12.374Z"
   },
   {
    "duration": -1166,
    "start_time": "2022-02-02T10:41:12.381Z"
   },
   {
    "duration": 1143,
    "start_time": "2022-02-02T10:41:44.450Z"
   },
   {
    "duration": 5,
    "start_time": "2022-02-02T10:42:18.689Z"
   },
   {
    "duration": 39,
    "start_time": "2022-02-02T10:42:19.928Z"
   },
   {
    "duration": 26,
    "start_time": "2022-02-02T10:42:20.944Z"
   },
   {
    "duration": 11,
    "start_time": "2022-02-02T10:43:25.273Z"
   },
   {
    "duration": 14,
    "start_time": "2022-02-02T10:43:42.050Z"
   },
   {
    "duration": 4215,
    "start_time": "2022-02-02T10:57:54.822Z"
   },
   {
    "duration": 133,
    "start_time": "2022-02-02T10:58:41.850Z"
   },
   {
    "duration": 262,
    "start_time": "2022-02-02T11:00:08.655Z"
   },
   {
    "duration": 262,
    "start_time": "2022-02-02T11:00:19.705Z"
   },
   {
    "duration": 16,
    "start_time": "2022-02-02T11:01:16.272Z"
   },
   {
    "duration": 245,
    "start_time": "2022-02-02T11:01:31.107Z"
   },
   {
    "duration": 226,
    "start_time": "2022-02-02T11:01:44.757Z"
   },
   {
    "duration": 250,
    "start_time": "2022-02-02T11:01:56.312Z"
   },
   {
    "duration": 231,
    "start_time": "2022-02-02T11:02:07.040Z"
   },
   {
    "duration": 215,
    "start_time": "2022-02-02T11:02:40.970Z"
   },
   {
    "duration": 253,
    "start_time": "2022-02-02T11:03:04.692Z"
   },
   {
    "duration": 227,
    "start_time": "2022-02-02T11:03:16.973Z"
   },
   {
    "duration": 298,
    "start_time": "2022-02-02T11:08:27.725Z"
   },
   {
    "duration": 213,
    "start_time": "2022-02-02T11:08:44.302Z"
   },
   {
    "duration": 613,
    "start_time": "2022-02-02T11:11:15.589Z"
   },
   {
    "duration": 225,
    "start_time": "2022-02-02T11:12:05.978Z"
   },
   {
    "duration": 625,
    "start_time": "2022-02-02T11:15:53.122Z"
   },
   {
    "duration": 221,
    "start_time": "2022-02-02T11:16:04.567Z"
   },
   {
    "duration": 225,
    "start_time": "2022-02-02T11:17:12.532Z"
   },
   {
    "duration": 68,
    "start_time": "2022-02-02T11:17:39.824Z"
   },
   {
    "duration": 226,
    "start_time": "2022-02-02T11:17:46.501Z"
   },
   {
    "duration": 159,
    "start_time": "2022-02-02T11:19:33.730Z"
   },
   {
    "duration": 485,
    "start_time": "2022-02-02T11:19:44.246Z"
   },
   {
    "duration": 223,
    "start_time": "2022-02-02T11:20:11.967Z"
   },
   {
    "duration": 530,
    "start_time": "2022-02-02T11:22:03.357Z"
   },
   {
    "duration": 241,
    "start_time": "2022-02-02T11:22:28.233Z"
   },
   {
    "duration": 217,
    "start_time": "2022-02-02T11:22:40.467Z"
   },
   {
    "duration": 224,
    "start_time": "2022-02-02T11:22:57.763Z"
   },
   {
    "duration": 225,
    "start_time": "2022-02-02T11:23:37.897Z"
   },
   {
    "duration": 233,
    "start_time": "2022-02-02T11:23:52.817Z"
   },
   {
    "duration": 224,
    "start_time": "2022-02-02T11:24:32.125Z"
   },
   {
    "duration": 227,
    "start_time": "2022-02-02T11:24:57.869Z"
   },
   {
    "duration": 73,
    "start_time": "2022-02-02T11:41:49.405Z"
   },
   {
    "duration": 420,
    "start_time": "2022-02-02T11:41:58.686Z"
   },
   {
    "duration": 220,
    "start_time": "2022-02-02T11:43:09.506Z"
   },
   {
    "duration": 4,
    "start_time": "2022-02-02T11:48:31.573Z"
   },
   {
    "duration": 1323344,
    "start_time": "2022-02-02T11:49:49.063Z"
   },
   {
    "duration": -1376,
    "start_time": "2022-02-02T12:11:53.787Z"
   },
   {
    "duration": 4,
    "start_time": "2022-02-02T12:12:00.837Z"
   },
   {
    "duration": 1961,
    "start_time": "2022-02-02T12:14:00.709Z"
   },
   {
    "duration": 644,
    "start_time": "2022-02-02T12:28:49.567Z"
   },
   {
    "duration": 1173,
    "start_time": "2022-02-02T12:35:28.284Z"
   },
   {
    "duration": 261,
    "start_time": "2022-02-02T12:42:50.440Z"
   },
   {
    "duration": 608,
    "start_time": "2022-02-02T12:42:56.939Z"
   },
   {
    "duration": 264,
    "start_time": "2022-02-02T12:57:03.376Z"
   },
   {
    "duration": 4895,
    "start_time": "2022-02-02T12:57:11.870Z"
   },
   {
    "duration": 397,
    "start_time": "2022-02-02T12:57:28.701Z"
   },
   {
    "duration": 71,
    "start_time": "2022-02-02T13:01:27.366Z"
   },
   {
    "duration": 382,
    "start_time": "2022-02-02T13:01:35.243Z"
   },
   {
    "duration": 850,
    "start_time": "2022-02-02T13:17:00.583Z"
   },
   {
    "duration": 656,
    "start_time": "2022-02-02T13:17:27.338Z"
   },
   {
    "duration": 231,
    "start_time": "2022-02-02T13:17:37.042Z"
   },
   {
    "duration": 625,
    "start_time": "2022-02-02T13:18:12.005Z"
   },
   {
    "duration": 7,
    "start_time": "2022-02-02T13:18:12.632Z"
   },
   {
    "duration": 267,
    "start_time": "2022-02-02T13:19:29.703Z"
   },
   {
    "duration": 217,
    "start_time": "2022-02-02T13:23:40.129Z"
   },
   {
    "duration": 15,
    "start_time": "2022-02-02T13:25:25.313Z"
   },
   {
    "duration": 223,
    "start_time": "2022-02-02T13:25:36.627Z"
   },
   {
    "duration": 4,
    "start_time": "2022-02-02T13:25:54.295Z"
   },
   {
    "duration": 21,
    "start_time": "2022-02-02T13:25:57.766Z"
   },
   {
    "duration": 36,
    "start_time": "2022-02-02T13:26:05.140Z"
   },
   {
    "duration": 671,
    "start_time": "2022-02-02T13:32:29.209Z"
   },
   {
    "duration": 20,
    "start_time": "2022-02-02T13:33:36.612Z"
   },
   {
    "duration": 20,
    "start_time": "2022-02-02T13:33:39.381Z"
   },
   {
    "duration": 10,
    "start_time": "2022-02-02T13:34:18.809Z"
   },
   {
    "duration": 218,
    "start_time": "2022-02-02T13:35:08.144Z"
   },
   {
    "duration": 223,
    "start_time": "2022-02-02T13:35:22.989Z"
   },
   {
    "duration": 23,
    "start_time": "2022-02-02T13:35:33.437Z"
   },
   {
    "duration": 4,
    "start_time": "2022-02-03T04:32:41.184Z"
   },
   {
    "duration": 3,
    "start_time": "2022-02-03T04:32:41.193Z"
   },
   {
    "duration": 2035,
    "start_time": "2022-02-03T04:32:41.201Z"
   },
   {
    "duration": -1061,
    "start_time": "2022-02-03T04:32:44.302Z"
   },
   {
    "duration": -1067,
    "start_time": "2022-02-03T04:32:44.309Z"
   },
   {
    "duration": -1080,
    "start_time": "2022-02-03T04:32:44.324Z"
   },
   {
    "duration": -1085,
    "start_time": "2022-02-03T04:32:44.330Z"
   },
   {
    "duration": -1090,
    "start_time": "2022-02-03T04:32:44.336Z"
   },
   {
    "duration": -1092,
    "start_time": "2022-02-03T04:32:44.340Z"
   },
   {
    "duration": -1098,
    "start_time": "2022-02-03T04:32:44.347Z"
   },
   {
    "duration": -1102,
    "start_time": "2022-02-03T04:32:44.352Z"
   },
   {
    "duration": -1106,
    "start_time": "2022-02-03T04:32:44.357Z"
   },
   {
    "duration": -1109,
    "start_time": "2022-02-03T04:32:44.361Z"
   },
   {
    "duration": -1112,
    "start_time": "2022-02-03T04:32:44.366Z"
   },
   {
    "duration": -1116,
    "start_time": "2022-02-03T04:32:44.371Z"
   },
   {
    "duration": -1120,
    "start_time": "2022-02-03T04:32:44.376Z"
   },
   {
    "duration": -1126,
    "start_time": "2022-02-03T04:32:44.383Z"
   },
   {
    "duration": -1132,
    "start_time": "2022-02-03T04:32:44.391Z"
   },
   {
    "duration": -1136,
    "start_time": "2022-02-03T04:32:44.396Z"
   },
   {
    "duration": -1142,
    "start_time": "2022-02-03T04:32:44.403Z"
   },
   {
    "duration": -1147,
    "start_time": "2022-02-03T04:32:44.409Z"
   },
   {
    "duration": -1152,
    "start_time": "2022-02-03T04:32:44.416Z"
   },
   {
    "duration": -1158,
    "start_time": "2022-02-03T04:32:44.423Z"
   },
   {
    "duration": -1174,
    "start_time": "2022-02-03T04:32:44.440Z"
   },
   {
    "duration": -1178,
    "start_time": "2022-02-03T04:32:44.445Z"
   },
   {
    "duration": -1182,
    "start_time": "2022-02-03T04:32:44.451Z"
   },
   {
    "duration": -1185,
    "start_time": "2022-02-03T04:32:44.455Z"
   },
   {
    "duration": -1189,
    "start_time": "2022-02-03T04:32:44.460Z"
   },
   {
    "duration": -1192,
    "start_time": "2022-02-03T04:32:44.464Z"
   },
   {
    "duration": -1195,
    "start_time": "2022-02-03T04:32:44.469Z"
   },
   {
    "duration": -1198,
    "start_time": "2022-02-03T04:32:44.473Z"
   },
   {
    "duration": -1202,
    "start_time": "2022-02-03T04:32:44.478Z"
   },
   {
    "duration": -1207,
    "start_time": "2022-02-03T04:32:44.485Z"
   },
   {
    "duration": -1212,
    "start_time": "2022-02-03T04:32:44.491Z"
   },
   {
    "duration": -1215,
    "start_time": "2022-02-03T04:32:44.495Z"
   },
   {
    "duration": -1221,
    "start_time": "2022-02-03T04:32:44.502Z"
   },
   {
    "duration": -1223,
    "start_time": "2022-02-03T04:32:44.506Z"
   },
   {
    "duration": -1227,
    "start_time": "2022-02-03T04:32:44.511Z"
   },
   {
    "duration": -1230,
    "start_time": "2022-02-03T04:32:44.515Z"
   },
   {
    "duration": -1234,
    "start_time": "2022-02-03T04:32:44.520Z"
   },
   {
    "duration": 4,
    "start_time": "2022-02-03T04:34:06.913Z"
   },
   {
    "duration": 5,
    "start_time": "2022-02-03T04:34:06.920Z"
   },
   {
    "duration": 1576,
    "start_time": "2022-02-03T04:34:06.928Z"
   },
   {
    "duration": 641,
    "start_time": "2022-02-03T04:34:08.507Z"
   },
   {
    "duration": 4,
    "start_time": "2022-02-03T04:34:09.150Z"
   },
   {
    "duration": 6,
    "start_time": "2022-02-03T04:34:09.156Z"
   },
   {
    "duration": 621,
    "start_time": "2022-02-03T04:34:09.164Z"
   },
   {
    "duration": 13,
    "start_time": "2022-02-03T04:34:09.788Z"
   },
   {
    "duration": 21,
    "start_time": "2022-02-03T04:34:09.805Z"
   },
   {
    "duration": 44,
    "start_time": "2022-02-03T04:34:09.829Z"
   },
   {
    "duration": 5,
    "start_time": "2022-02-03T04:34:09.876Z"
   },
   {
    "duration": 18,
    "start_time": "2022-02-03T04:34:09.883Z"
   },
   {
    "duration": 11,
    "start_time": "2022-02-03T04:34:09.903Z"
   },
   {
    "duration": 62,
    "start_time": "2022-02-03T04:34:09.916Z"
   },
   {
    "duration": 3,
    "start_time": "2022-02-03T04:34:09.980Z"
   },
   {
    "duration": 6,
    "start_time": "2022-02-03T04:34:09.985Z"
   },
   {
    "duration": 12,
    "start_time": "2022-02-03T04:34:09.993Z"
   },
   {
    "duration": 7,
    "start_time": "2022-02-03T04:34:10.007Z"
   },
   {
    "duration": 18,
    "start_time": "2022-02-03T04:34:10.016Z"
   },
   {
    "duration": 883,
    "start_time": "2022-02-03T04:34:10.037Z"
   },
   {
    "duration": 8,
    "start_time": "2022-02-03T04:34:10.922Z"
   },
   {
    "duration": 4,
    "start_time": "2022-02-03T04:34:10.933Z"
   },
   {
    "duration": 798,
    "start_time": "2022-02-03T04:34:10.940Z"
   },
   {
    "duration": 10,
    "start_time": "2022-02-03T04:34:11.741Z"
   },
   {
    "duration": 1148,
    "start_time": "2022-02-03T04:34:11.754Z"
   },
   {
    "duration": 23,
    "start_time": "2022-02-03T04:34:12.904Z"
   },
   {
    "duration": 50,
    "start_time": "2022-02-03T04:34:12.932Z"
   },
   {
    "duration": 1524,
    "start_time": "2022-02-03T04:34:12.984Z"
   },
   {
    "duration": 3,
    "start_time": "2022-02-03T04:34:14.511Z"
   },
   {
    "duration": 48,
    "start_time": "2022-02-03T04:34:14.517Z"
   },
   {
    "duration": 17,
    "start_time": "2022-02-03T04:34:14.570Z"
   },
   {
    "duration": 26,
    "start_time": "2022-02-03T04:34:14.589Z"
   },
   {
    "duration": 16,
    "start_time": "2022-02-03T04:34:14.618Z"
   },
   {
    "duration": 21,
    "start_time": "2022-02-03T04:34:14.636Z"
   },
   {
    "duration": 1005,
    "start_time": "2022-02-03T04:34:14.670Z"
   },
   {
    "duration": 8,
    "start_time": "2022-02-03T04:34:15.677Z"
   },
   {
    "duration": 7,
    "start_time": "2022-02-03T04:34:15.688Z"
   },
   {
    "duration": 26,
    "start_time": "2022-02-03T04:34:15.697Z"
   },
   {
    "duration": 61,
    "start_time": "2022-02-03T04:34:15.725Z"
   },
   {
    "duration": 28,
    "start_time": "2022-02-03T04:34:15.788Z"
   },
   {
    "duration": 13,
    "start_time": "2022-02-03T04:37:05.443Z"
   },
   {
    "duration": 10,
    "start_time": "2022-02-03T04:37:59.802Z"
   },
   {
    "duration": 14,
    "start_time": "2022-02-03T04:38:11.542Z"
   },
   {
    "duration": 16,
    "start_time": "2022-02-03T04:38:57.770Z"
   },
   {
    "duration": 463,
    "start_time": "2022-02-03T04:40:48.177Z"
   },
   {
    "duration": 298,
    "start_time": "2022-02-03T04:40:56.721Z"
   },
   {
    "duration": 14,
    "start_time": "2022-02-03T04:41:05.606Z"
   },
   {
    "duration": 14,
    "start_time": "2022-02-03T04:41:25.474Z"
   },
   {
    "duration": 24,
    "start_time": "2022-02-03T04:42:25.984Z"
   },
   {
    "duration": 28,
    "start_time": "2022-02-03T04:42:27.258Z"
   },
   {
    "duration": 23,
    "start_time": "2022-02-03T04:42:36.757Z"
   },
   {
    "duration": 30,
    "start_time": "2022-02-03T04:42:59.314Z"
   },
   {
    "duration": 31,
    "start_time": "2022-02-03T04:43:00.123Z"
   },
   {
    "duration": 24,
    "start_time": "2022-02-03T04:43:06.465Z"
   },
   {
    "duration": 13,
    "start_time": "2022-02-03T04:49:06.365Z"
   },
   {
    "duration": 26,
    "start_time": "2022-02-03T04:49:56.285Z"
   },
   {
    "duration": 17,
    "start_time": "2022-02-03T04:50:07.612Z"
   },
   {
    "duration": 15,
    "start_time": "2022-02-03T04:54:58.948Z"
   },
   {
    "duration": 14,
    "start_time": "2022-02-03T04:55:18.097Z"
   },
   {
    "duration": 14,
    "start_time": "2022-02-03T04:55:24.881Z"
   },
   {
    "duration": 15,
    "start_time": "2022-02-03T04:55:31.095Z"
   },
   {
    "duration": 14,
    "start_time": "2022-02-03T04:55:39.578Z"
   },
   {
    "duration": 24,
    "start_time": "2022-02-03T05:00:37.062Z"
   },
   {
    "duration": 16,
    "start_time": "2022-02-03T05:00:45.700Z"
   },
   {
    "duration": 13,
    "start_time": "2022-02-03T05:00:54.260Z"
   },
   {
    "duration": 29,
    "start_time": "2022-02-03T05:03:41.307Z"
   },
   {
    "duration": 21,
    "start_time": "2022-02-03T05:03:53.217Z"
   },
   {
    "duration": 113,
    "start_time": "2022-02-03T05:03:57.720Z"
   },
   {
    "duration": 21,
    "start_time": "2022-02-03T05:04:02.154Z"
   },
   {
    "duration": 291,
    "start_time": "2022-02-03T05:07:09.449Z"
   },
   {
    "duration": 17,
    "start_time": "2022-02-03T05:07:13.948Z"
   },
   {
    "duration": 297,
    "start_time": "2022-02-03T05:07:15.696Z"
   },
   {
    "duration": 18,
    "start_time": "2022-02-03T05:08:00.782Z"
   },
   {
    "duration": 284,
    "start_time": "2022-02-03T05:08:02.048Z"
   },
   {
    "duration": 14,
    "start_time": "2022-02-03T05:15:32.988Z"
   },
   {
    "duration": 10,
    "start_time": "2022-02-03T05:15:54.713Z"
   },
   {
    "duration": 291,
    "start_time": "2022-02-03T05:15:57.315Z"
   },
   {
    "duration": 9,
    "start_time": "2022-02-03T05:16:09.590Z"
   },
   {
    "duration": 17,
    "start_time": "2022-02-03T05:16:11.076Z"
   },
   {
    "duration": 10,
    "start_time": "2022-02-03T05:16:11.281Z"
   },
   {
    "duration": 285,
    "start_time": "2022-02-03T05:16:11.845Z"
   },
   {
    "duration": 303,
    "start_time": "2022-02-03T05:21:50.141Z"
   },
   {
    "duration": 292,
    "start_time": "2022-02-03T05:22:45.259Z"
   },
   {
    "duration": 18,
    "start_time": "2022-02-03T05:22:47.778Z"
   },
   {
    "duration": 9,
    "start_time": "2022-02-03T05:22:48.353Z"
   },
   {
    "duration": 277,
    "start_time": "2022-02-03T05:22:48.808Z"
   },
   {
    "duration": 19,
    "start_time": "2022-02-03T05:23:17.454Z"
   },
   {
    "duration": 9,
    "start_time": "2022-02-03T05:23:20.831Z"
   },
   {
    "duration": 11,
    "start_time": "2022-02-03T05:23:21.276Z"
   },
   {
    "duration": 25,
    "start_time": "2022-02-03T05:26:31.374Z"
   },
   {
    "duration": 1403,
    "start_time": "2022-02-03T05:39:23.347Z"
   },
   {
    "duration": 11,
    "start_time": "2022-02-03T05:42:36.477Z"
   },
   {
    "duration": 17,
    "start_time": "2022-02-03T05:46:30.416Z"
   },
   {
    "duration": 29,
    "start_time": "2022-02-03T05:49:38.199Z"
   },
   {
    "duration": 298,
    "start_time": "2022-02-03T05:55:49.484Z"
   },
   {
    "duration": 16,
    "start_time": "2022-02-03T05:55:59.992Z"
   },
   {
    "duration": 28,
    "start_time": "2022-02-03T05:56:30.325Z"
   },
   {
    "duration": 15,
    "start_time": "2022-02-03T05:58:06.804Z"
   },
   {
    "duration": 277,
    "start_time": "2022-02-03T06:03:47.315Z"
   },
   {
    "duration": 23,
    "start_time": "2022-02-03T06:03:52.696Z"
   },
   {
    "duration": 301,
    "start_time": "2022-02-03T06:05:52.283Z"
   },
   {
    "duration": 22,
    "start_time": "2022-02-03T06:06:05.949Z"
   },
   {
    "duration": 16,
    "start_time": "2022-02-03T06:07:18.947Z"
   },
   {
    "duration": 16,
    "start_time": "2022-02-03T06:08:04.783Z"
   },
   {
    "duration": 25,
    "start_time": "2022-02-03T06:08:27.381Z"
   },
   {
    "duration": 24,
    "start_time": "2022-02-03T06:08:39.140Z"
   },
   {
    "duration": 24,
    "start_time": "2022-02-03T06:10:56.486Z"
   },
   {
    "duration": 29,
    "start_time": "2022-02-03T06:11:11.262Z"
   },
   {
    "duration": 34,
    "start_time": "2022-02-03T06:12:24.980Z"
   },
   {
    "duration": 18,
    "start_time": "2022-02-03T06:12:42.807Z"
   },
   {
    "duration": 100,
    "start_time": "2022-02-03T06:13:02.157Z"
   },
   {
    "duration": 8126,
    "start_time": "2022-02-03T06:13:06.890Z"
   },
   {
    "duration": 14,
    "start_time": "2022-02-03T06:13:32.004Z"
   },
   {
    "duration": 14,
    "start_time": "2022-02-03T06:13:48.154Z"
   },
   {
    "duration": 16,
    "start_time": "2022-02-03T06:14:06.012Z"
   },
   {
    "duration": 22,
    "start_time": "2022-02-03T06:14:24.931Z"
   },
   {
    "duration": 20,
    "start_time": "2022-02-03T06:15:00.768Z"
   },
   {
    "duration": 18,
    "start_time": "2022-02-03T06:15:27.359Z"
   },
   {
    "duration": 19,
    "start_time": "2022-02-03T06:15:34.745Z"
   },
   {
    "duration": 24,
    "start_time": "2022-02-03T06:15:41.868Z"
   },
   {
    "duration": 18,
    "start_time": "2022-02-03T06:16:34.944Z"
   },
   {
    "duration": 16,
    "start_time": "2022-02-03T06:17:26.911Z"
   },
   {
    "duration": 16,
    "start_time": "2022-02-03T06:18:20.959Z"
   },
   {
    "duration": 17,
    "start_time": "2022-02-03T06:18:43.466Z"
   },
   {
    "duration": 31,
    "start_time": "2022-02-03T06:19:34.467Z"
   },
   {
    "duration": 18,
    "start_time": "2022-02-03T06:19:52.820Z"
   },
   {
    "duration": 22,
    "start_time": "2022-02-03T06:33:19.403Z"
   },
   {
    "duration": 182,
    "start_time": "2022-02-03T06:36:13.358Z"
   },
   {
    "duration": 104,
    "start_time": "2022-02-03T06:36:37.798Z"
   },
   {
    "duration": 432,
    "start_time": "2022-02-03T06:36:45.029Z"
   },
   {
    "duration": 315,
    "start_time": "2022-02-03T06:36:58.341Z"
   },
   {
    "duration": 31,
    "start_time": "2022-02-03T06:37:22.478Z"
   },
   {
    "duration": 37,
    "start_time": "2022-02-03T06:37:31.422Z"
   },
   {
    "duration": 37,
    "start_time": "2022-02-03T06:37:58.226Z"
   },
   {
    "duration": 24,
    "start_time": "2022-02-03T06:38:10.312Z"
   },
   {
    "duration": 664,
    "start_time": "2022-02-03T06:46:46.695Z"
   },
   {
    "duration": 718,
    "start_time": "2022-02-03T06:47:29.206Z"
   },
   {
    "duration": 100,
    "start_time": "2022-02-03T06:52:32.131Z"
   },
   {
    "duration": 125,
    "start_time": "2022-02-03T06:52:55.490Z"
   },
   {
    "duration": 101,
    "start_time": "2022-02-03T06:53:03.249Z"
   },
   {
    "duration": 109,
    "start_time": "2022-02-03T06:53:10.071Z"
   },
   {
    "duration": 94,
    "start_time": "2022-02-03T06:53:38.976Z"
   },
   {
    "duration": 4,
    "start_time": "2022-02-03T06:55:24.124Z"
   },
   {
    "duration": 3,
    "start_time": "2022-02-03T06:55:24.135Z"
   },
   {
    "duration": 1638,
    "start_time": "2022-02-03T06:55:24.145Z"
   },
   {
    "duration": 57,
    "start_time": "2022-02-03T06:55:25.786Z"
   },
   {
    "duration": 5,
    "start_time": "2022-02-03T06:55:25.846Z"
   },
   {
    "duration": 19,
    "start_time": "2022-02-03T06:55:25.853Z"
   },
   {
    "duration": 757,
    "start_time": "2022-02-03T06:55:25.874Z"
   },
   {
    "duration": 14,
    "start_time": "2022-02-03T06:55:26.634Z"
   },
   {
    "duration": 37,
    "start_time": "2022-02-03T06:55:26.650Z"
   },
   {
    "duration": 24,
    "start_time": "2022-02-03T06:55:26.690Z"
   },
   {
    "duration": 9,
    "start_time": "2022-02-03T06:55:26.718Z"
   },
   {
    "duration": 48,
    "start_time": "2022-02-03T06:55:26.730Z"
   },
   {
    "duration": 16,
    "start_time": "2022-02-03T06:55:26.781Z"
   },
   {
    "duration": 23,
    "start_time": "2022-02-03T06:55:26.800Z"
   },
   {
    "duration": 5,
    "start_time": "2022-02-03T06:55:26.825Z"
   },
   {
    "duration": 3,
    "start_time": "2022-02-03T06:55:26.869Z"
   },
   {
    "duration": 12,
    "start_time": "2022-02-03T06:55:26.875Z"
   },
   {
    "duration": 3,
    "start_time": "2022-02-03T06:55:26.889Z"
   },
   {
    "duration": 14,
    "start_time": "2022-02-03T06:55:26.895Z"
   },
   {
    "duration": 894,
    "start_time": "2022-02-03T06:55:26.911Z"
   },
   {
    "duration": 9,
    "start_time": "2022-02-03T06:55:27.808Z"
   },
   {
    "duration": 791,
    "start_time": "2022-02-03T06:55:27.819Z"
   },
   {
    "duration": 12,
    "start_time": "2022-02-03T06:55:28.613Z"
   },
   {
    "duration": 1163,
    "start_time": "2022-02-03T06:55:28.627Z"
   },
   {
    "duration": 23,
    "start_time": "2022-02-03T06:55:29.795Z"
   },
   {
    "duration": 52,
    "start_time": "2022-02-03T06:55:29.821Z"
   },
   {
    "duration": 1494,
    "start_time": "2022-02-03T06:55:29.876Z"
   },
   {
    "duration": 4,
    "start_time": "2022-02-03T06:55:31.373Z"
   },
   {
    "duration": 48,
    "start_time": "2022-02-03T06:55:31.379Z"
   },
   {
    "duration": 44,
    "start_time": "2022-02-03T06:55:31.429Z"
   },
   {
    "duration": 26,
    "start_time": "2022-02-03T06:55:31.476Z"
   },
   {
    "duration": 18,
    "start_time": "2022-02-03T06:55:31.505Z"
   },
   {
    "duration": 46,
    "start_time": "2022-02-03T06:55:31.525Z"
   },
   {
    "duration": 1104,
    "start_time": "2022-02-03T06:55:31.573Z"
   },
   {
    "duration": 9,
    "start_time": "2022-02-03T06:55:32.680Z"
   },
   {
    "duration": 16,
    "start_time": "2022-02-03T06:55:32.692Z"
   },
   {
    "duration": 9,
    "start_time": "2022-02-03T06:55:32.710Z"
   },
   {
    "duration": 18,
    "start_time": "2022-02-03T06:55:32.721Z"
   },
   {
    "duration": 40,
    "start_time": "2022-02-03T06:55:32.741Z"
   },
   {
    "duration": 1439,
    "start_time": "2022-02-03T06:55:32.783Z"
   },
   {
    "duration": 10,
    "start_time": "2022-02-03T06:55:34.225Z"
   },
   {
    "duration": 33,
    "start_time": "2022-02-03T06:55:34.238Z"
   },
   {
    "duration": 14,
    "start_time": "2022-02-03T06:55:34.273Z"
   },
   {
    "duration": 21,
    "start_time": "2022-02-03T06:55:34.289Z"
   },
   {
    "duration": 18,
    "start_time": "2022-02-03T06:55:34.312Z"
   },
   {
    "duration": 48,
    "start_time": "2022-02-03T06:55:34.332Z"
   },
   {
    "duration": 16,
    "start_time": "2022-02-03T06:55:34.382Z"
   },
   {
    "duration": 35,
    "start_time": "2022-02-03T06:55:34.401Z"
   },
   {
    "duration": 136,
    "start_time": "2022-02-03T06:55:34.438Z"
   },
   {
    "duration": 4743,
    "start_time": "2022-02-03T06:57:45.368Z"
   },
   {
    "duration": 1329,
    "start_time": "2022-02-03T06:58:47.397Z"
   },
   {
    "duration": 1121,
    "start_time": "2022-02-03T06:59:22.987Z"
   },
   {
    "duration": 734,
    "start_time": "2022-02-03T06:59:52.307Z"
   },
   {
    "duration": 1466,
    "start_time": "2022-02-03T07:00:13.154Z"
   },
   {
    "duration": 84,
    "start_time": "2022-02-03T07:02:40.738Z"
   },
   {
    "duration": 1166,
    "start_time": "2022-02-03T07:02:48.421Z"
   },
   {
    "duration": 95,
    "start_time": "2022-02-03T07:04:25.231Z"
   },
   {
    "duration": 1283,
    "start_time": "2022-02-03T07:04:48.851Z"
   },
   {
    "duration": 1108,
    "start_time": "2022-02-03T07:05:34.440Z"
   },
   {
    "duration": 4630,
    "start_time": "2022-02-03T07:06:16.341Z"
   },
   {
    "duration": 1123,
    "start_time": "2022-02-03T07:07:54.332Z"
   },
   {
    "duration": 4604,
    "start_time": "2022-02-03T07:15:21.332Z"
   },
   {
    "duration": 4904,
    "start_time": "2022-02-03T07:15:40.477Z"
   },
   {
    "duration": 4718,
    "start_time": "2022-02-03T07:16:33.222Z"
   },
   {
    "duration": 5417,
    "start_time": "2022-02-03T07:18:11.302Z"
   },
   {
    "duration": 5565,
    "start_time": "2022-02-03T07:18:26.566Z"
   },
   {
    "duration": 5277,
    "start_time": "2022-02-03T07:18:48.514Z"
   },
   {
    "duration": 4,
    "start_time": "2022-02-03T07:23:45.580Z"
   },
   {
    "duration": 1120,
    "start_time": "2022-02-04T04:41:56.669Z"
   },
   {
    "duration": 44,
    "start_time": "2022-02-04T04:41:57.791Z"
   },
   {
    "duration": 3,
    "start_time": "2022-02-04T04:41:57.838Z"
   },
   {
    "duration": 3,
    "start_time": "2022-02-04T04:41:57.843Z"
   },
   {
    "duration": 453,
    "start_time": "2022-02-04T04:41:57.848Z"
   },
   {
    "duration": 8,
    "start_time": "2022-02-04T04:41:58.303Z"
   },
   {
    "duration": 13,
    "start_time": "2022-02-04T04:41:58.313Z"
   },
   {
    "duration": 12,
    "start_time": "2022-02-04T04:41:58.328Z"
   },
   {
    "duration": 4,
    "start_time": "2022-02-04T04:41:58.342Z"
   },
   {
    "duration": 9,
    "start_time": "2022-02-04T04:41:58.372Z"
   },
   {
    "duration": 5,
    "start_time": "2022-02-04T04:41:58.383Z"
   },
   {
    "duration": 5,
    "start_time": "2022-02-04T04:41:58.389Z"
   },
   {
    "duration": 4,
    "start_time": "2022-02-04T04:41:58.395Z"
   },
   {
    "duration": 4,
    "start_time": "2022-02-04T04:41:58.401Z"
   },
   {
    "duration": 14,
    "start_time": "2022-02-04T04:41:58.407Z"
   },
   {
    "duration": 479,
    "start_time": "2022-02-04T04:41:58.422Z"
   },
   {
    "duration": 6,
    "start_time": "2022-02-04T04:41:58.903Z"
   },
   {
    "duration": 462,
    "start_time": "2022-02-04T04:41:58.910Z"
   },
   {
    "duration": 7,
    "start_time": "2022-02-04T04:41:59.374Z"
   },
   {
    "duration": 629,
    "start_time": "2022-02-04T04:41:59.383Z"
   },
   {
    "duration": 16,
    "start_time": "2022-02-04T04:42:00.013Z"
   },
   {
    "duration": 18,
    "start_time": "2022-02-04T04:42:00.030Z"
   },
   {
    "duration": 826,
    "start_time": "2022-02-04T04:42:00.050Z"
   },
   {
    "duration": 3,
    "start_time": "2022-02-04T04:42:00.878Z"
   },
   {
    "duration": 37,
    "start_time": "2022-02-04T04:42:00.883Z"
   },
   {
    "duration": 13,
    "start_time": "2022-02-04T04:42:00.921Z"
   },
   {
    "duration": 901,
    "start_time": "2022-02-04T04:42:00.937Z"
   },
   {
    "duration": 6,
    "start_time": "2022-02-04T04:42:01.839Z"
   },
   {
    "duration": 5,
    "start_time": "2022-02-04T04:42:01.847Z"
   },
   {
    "duration": 11,
    "start_time": "2022-02-04T04:42:01.854Z"
   },
   {
    "duration": 14,
    "start_time": "2022-02-04T04:42:01.867Z"
   },
   {
    "duration": 774,
    "start_time": "2022-02-04T04:42:01.883Z"
   },
   {
    "duration": 15,
    "start_time": "2022-02-04T04:42:02.659Z"
   },
   {
    "duration": 7,
    "start_time": "2022-02-04T04:42:02.675Z"
   },
   {
    "duration": 8,
    "start_time": "2022-02-04T04:42:02.684Z"
   },
   {
    "duration": 12,
    "start_time": "2022-02-04T04:42:02.693Z"
   },
   {
    "duration": 13,
    "start_time": "2022-02-04T04:42:02.706Z"
   },
   {
    "duration": 9,
    "start_time": "2022-02-04T04:42:02.720Z"
   },
   {
    "duration": 10,
    "start_time": "2022-02-04T04:42:02.730Z"
   },
   {
    "duration": 22,
    "start_time": "2022-02-04T04:42:02.771Z"
   },
   {
    "duration": 3104,
    "start_time": "2022-02-04T04:42:02.794Z"
   },
   {
    "duration": 16,
    "start_time": "2022-02-04T04:51:17.948Z"
   },
   {
    "duration": 11,
    "start_time": "2022-02-04T04:51:45.225Z"
   },
   {
    "duration": 355,
    "start_time": "2022-02-04T04:52:42.564Z"
   },
   {
    "duration": 18,
    "start_time": "2022-02-04T04:53:25.461Z"
   },
   {
    "duration": 9,
    "start_time": "2022-02-04T04:53:52.306Z"
   },
   {
    "duration": 17,
    "start_time": "2022-02-04T04:54:02.406Z"
   },
   {
    "duration": 14,
    "start_time": "2022-02-04T04:54:56.864Z"
   },
   {
    "duration": 16,
    "start_time": "2022-02-04T05:02:08.321Z"
   },
   {
    "duration": 10,
    "start_time": "2022-02-04T05:04:57.096Z"
   },
   {
    "duration": 17,
    "start_time": "2022-02-04T05:05:03.659Z"
   },
   {
    "duration": 763,
    "start_time": "2022-02-04T05:24:33.227Z"
   },
   {
    "duration": 1217,
    "start_time": "2022-02-05T17:53:20.057Z"
   },
   {
    "duration": 50,
    "start_time": "2022-02-05T17:53:21.276Z"
   },
   {
    "duration": 3,
    "start_time": "2022-02-05T17:53:21.328Z"
   },
   {
    "duration": 10,
    "start_time": "2022-02-05T17:53:21.333Z"
   },
   {
    "duration": 3474,
    "start_time": "2022-02-05T17:53:21.345Z"
   },
   {
    "duration": 10,
    "start_time": "2022-02-05T17:53:24.821Z"
   },
   {
    "duration": 18,
    "start_time": "2022-02-05T17:53:24.833Z"
   },
   {
    "duration": 14,
    "start_time": "2022-02-05T17:53:24.854Z"
   },
   {
    "duration": 29,
    "start_time": "2022-02-05T17:53:24.871Z"
   },
   {
    "duration": 12,
    "start_time": "2022-02-05T17:53:24.902Z"
   },
   {
    "duration": 5,
    "start_time": "2022-02-05T17:53:24.915Z"
   },
   {
    "duration": 5,
    "start_time": "2022-02-05T17:53:24.922Z"
   },
   {
    "duration": 9,
    "start_time": "2022-02-05T17:53:24.929Z"
   },
   {
    "duration": 8,
    "start_time": "2022-02-05T17:53:24.939Z"
   },
   {
    "duration": 18,
    "start_time": "2022-02-05T17:53:24.949Z"
   },
   {
    "duration": 626,
    "start_time": "2022-02-05T17:53:24.969Z"
   },
   {
    "duration": 7,
    "start_time": "2022-02-05T17:53:25.598Z"
   },
   {
    "duration": 585,
    "start_time": "2022-02-05T17:53:25.606Z"
   },
   {
    "duration": 11,
    "start_time": "2022-02-05T17:53:26.192Z"
   },
   {
    "duration": 833,
    "start_time": "2022-02-05T17:53:26.205Z"
   },
   {
    "duration": 17,
    "start_time": "2022-02-05T17:53:27.040Z"
   },
   {
    "duration": 21,
    "start_time": "2022-02-05T17:53:27.058Z"
   },
   {
    "duration": 989,
    "start_time": "2022-02-05T17:53:27.081Z"
   },
   {
    "duration": 3,
    "start_time": "2022-02-05T17:53:28.072Z"
   },
   {
    "duration": 43,
    "start_time": "2022-02-05T17:53:28.076Z"
   },
   {
    "duration": 15,
    "start_time": "2022-02-05T17:53:28.120Z"
   },
   {
    "duration": 1230,
    "start_time": "2022-02-05T17:53:28.138Z"
   },
   {
    "duration": 7,
    "start_time": "2022-02-05T17:53:29.370Z"
   },
   {
    "duration": 5,
    "start_time": "2022-02-05T17:53:29.379Z"
   },
   {
    "duration": 12,
    "start_time": "2022-02-05T17:53:29.386Z"
   },
   {
    "duration": 18,
    "start_time": "2022-02-05T17:53:29.399Z"
   },
   {
    "duration": 975,
    "start_time": "2022-02-05T17:53:29.418Z"
   },
   {
    "duration": 8,
    "start_time": "2022-02-05T17:53:30.395Z"
   },
   {
    "duration": 9,
    "start_time": "2022-02-05T17:53:30.406Z"
   },
   {
    "duration": 33,
    "start_time": "2022-02-05T17:53:30.416Z"
   },
   {
    "duration": 11,
    "start_time": "2022-02-05T17:53:30.451Z"
   },
   {
    "duration": 38,
    "start_time": "2022-02-05T17:53:30.464Z"
   },
   {
    "duration": 13,
    "start_time": "2022-02-05T17:53:30.504Z"
   },
   {
    "duration": 13,
    "start_time": "2022-02-05T17:53:30.519Z"
   },
   {
    "duration": 29,
    "start_time": "2022-02-05T17:53:30.534Z"
   },
   {
    "duration": 3882,
    "start_time": "2022-02-05T17:53:30.565Z"
   },
   {
    "duration": 1290,
    "start_time": "2022-02-07T07:16:29.506Z"
   },
   {
    "duration": 49,
    "start_time": "2022-02-07T07:16:30.798Z"
   },
   {
    "duration": 4,
    "start_time": "2022-02-07T07:16:30.849Z"
   },
   {
    "duration": 12,
    "start_time": "2022-02-07T07:16:30.854Z"
   },
   {
    "duration": 365,
    "start_time": "2022-02-07T07:16:30.868Z"
   },
   {
    "duration": 11,
    "start_time": "2022-02-07T07:16:31.235Z"
   },
   {
    "duration": 20,
    "start_time": "2022-02-07T07:16:31.247Z"
   },
   {
    "duration": 34,
    "start_time": "2022-02-07T07:16:31.269Z"
   },
   {
    "duration": 7,
    "start_time": "2022-02-07T07:16:31.305Z"
   },
   {
    "duration": 13,
    "start_time": "2022-02-07T07:16:31.314Z"
   },
   {
    "duration": 15,
    "start_time": "2022-02-07T07:16:31.328Z"
   },
   {
    "duration": 16,
    "start_time": "2022-02-07T07:16:31.344Z"
   },
   {
    "duration": 6,
    "start_time": "2022-02-07T07:16:31.362Z"
   },
   {
    "duration": 10,
    "start_time": "2022-02-07T07:16:31.370Z"
   },
   {
    "duration": 18,
    "start_time": "2022-02-07T07:16:31.381Z"
   },
   {
    "duration": 579,
    "start_time": "2022-02-07T07:16:31.401Z"
   },
   {
    "duration": 6,
    "start_time": "2022-02-07T07:16:31.982Z"
   },
   {
    "duration": 541,
    "start_time": "2022-02-07T07:16:31.999Z"
   },
   {
    "duration": 8,
    "start_time": "2022-02-07T07:16:32.542Z"
   },
   {
    "duration": 791,
    "start_time": "2022-02-07T07:16:32.552Z"
   },
   {
    "duration": 16,
    "start_time": "2022-02-07T07:16:33.345Z"
   },
   {
    "duration": 37,
    "start_time": "2022-02-07T07:16:33.363Z"
   },
   {
    "duration": 844,
    "start_time": "2022-02-07T07:16:33.403Z"
   },
   {
    "duration": 2,
    "start_time": "2022-02-07T07:16:34.249Z"
   },
   {
    "duration": 50,
    "start_time": "2022-02-07T07:16:34.253Z"
   },
   {
    "duration": 15,
    "start_time": "2022-02-07T07:16:34.304Z"
   },
   {
    "duration": 1231,
    "start_time": "2022-02-07T07:16:34.321Z"
   },
   {
    "duration": 7,
    "start_time": "2022-02-07T07:16:35.554Z"
   },
   {
    "duration": 7,
    "start_time": "2022-02-07T07:16:35.562Z"
   },
   {
    "duration": 20,
    "start_time": "2022-02-07T07:16:35.571Z"
   },
   {
    "duration": 18,
    "start_time": "2022-02-07T07:16:35.593Z"
   },
   {
    "duration": 958,
    "start_time": "2022-02-07T07:16:35.612Z"
   },
   {
    "duration": 8,
    "start_time": "2022-02-07T07:16:36.572Z"
   },
   {
    "duration": 22,
    "start_time": "2022-02-07T07:16:36.582Z"
   },
   {
    "duration": 22,
    "start_time": "2022-02-07T07:16:36.605Z"
   },
   {
    "duration": 11,
    "start_time": "2022-02-07T07:16:36.628Z"
   },
   {
    "duration": 14,
    "start_time": "2022-02-07T07:16:36.640Z"
   },
   {
    "duration": 13,
    "start_time": "2022-02-07T07:16:36.655Z"
   },
   {
    "duration": 13,
    "start_time": "2022-02-07T07:16:36.699Z"
   },
   {
    "duration": 27,
    "start_time": "2022-02-07T07:16:36.714Z"
   },
   {
    "duration": 3763,
    "start_time": "2022-02-07T07:16:36.743Z"
   },
   {
    "duration": 19,
    "start_time": "2022-02-07T07:27:22.831Z"
   },
   {
    "duration": 1216,
    "start_time": "2022-02-07T07:37:36.254Z"
   },
   {
    "duration": 48,
    "start_time": "2022-02-07T07:37:37.472Z"
   },
   {
    "duration": 3,
    "start_time": "2022-02-07T07:37:37.523Z"
   },
   {
    "duration": 7,
    "start_time": "2022-02-07T07:37:37.528Z"
   },
   {
    "duration": 377,
    "start_time": "2022-02-07T07:37:37.536Z"
   },
   {
    "duration": 10,
    "start_time": "2022-02-07T07:37:37.916Z"
   },
   {
    "duration": 17,
    "start_time": "2022-02-07T07:37:37.928Z"
   },
   {
    "duration": 15,
    "start_time": "2022-02-07T07:37:37.948Z"
   },
   {
    "duration": 7,
    "start_time": "2022-02-07T07:37:37.966Z"
   },
   {
    "duration": 12,
    "start_time": "2022-02-07T07:37:37.999Z"
   },
   {
    "duration": 5,
    "start_time": "2022-02-07T07:37:38.013Z"
   },
   {
    "duration": 9,
    "start_time": "2022-02-07T07:37:38.020Z"
   },
   {
    "duration": 8,
    "start_time": "2022-02-07T07:37:38.031Z"
   },
   {
    "duration": 9,
    "start_time": "2022-02-07T07:37:38.041Z"
   },
   {
    "duration": 20,
    "start_time": "2022-02-07T07:37:38.052Z"
   },
   {
    "duration": 600,
    "start_time": "2022-02-07T07:37:38.074Z"
   },
   {
    "duration": 7,
    "start_time": "2022-02-07T07:37:38.676Z"
   },
   {
    "duration": 539,
    "start_time": "2022-02-07T07:37:38.684Z"
   },
   {
    "duration": 8,
    "start_time": "2022-02-07T07:37:39.225Z"
   },
   {
    "duration": 765,
    "start_time": "2022-02-07T07:37:39.235Z"
   },
   {
    "duration": 16,
    "start_time": "2022-02-07T07:37:40.002Z"
   },
   {
    "duration": 21,
    "start_time": "2022-02-07T07:37:40.020Z"
   },
   {
    "duration": 824,
    "start_time": "2022-02-07T07:37:40.044Z"
   },
   {
    "duration": 4,
    "start_time": "2022-02-07T07:37:40.870Z"
   },
   {
    "duration": 47,
    "start_time": "2022-02-07T07:37:40.876Z"
   },
   {
    "duration": 15,
    "start_time": "2022-02-07T07:37:40.925Z"
   },
   {
    "duration": 1098,
    "start_time": "2022-02-07T07:37:40.942Z"
   },
   {
    "duration": 7,
    "start_time": "2022-02-07T07:37:42.042Z"
   },
   {
    "duration": 7,
    "start_time": "2022-02-07T07:37:42.051Z"
   },
   {
    "duration": 13,
    "start_time": "2022-02-07T07:37:42.059Z"
   },
   {
    "duration": 17,
    "start_time": "2022-02-07T07:37:42.074Z"
   },
   {
    "duration": 956,
    "start_time": "2022-02-07T07:37:42.093Z"
   },
   {
    "duration": 8,
    "start_time": "2022-02-07T07:37:43.051Z"
   },
   {
    "duration": 13,
    "start_time": "2022-02-07T07:37:43.061Z"
   },
   {
    "duration": 39,
    "start_time": "2022-02-07T07:37:43.075Z"
   },
   {
    "duration": 10,
    "start_time": "2022-02-07T07:37:43.116Z"
   },
   {
    "duration": 14,
    "start_time": "2022-02-07T07:37:43.127Z"
   },
   {
    "duration": 12,
    "start_time": "2022-02-07T07:37:43.143Z"
   },
   {
    "duration": 42,
    "start_time": "2022-02-07T07:37:43.157Z"
   },
   {
    "duration": 27,
    "start_time": "2022-02-07T07:37:43.201Z"
   },
   {
    "duration": 3784,
    "start_time": "2022-02-07T07:37:43.230Z"
   },
   {
    "duration": 14,
    "start_time": "2022-02-07T07:38:53.937Z"
   },
   {
    "duration": 18,
    "start_time": "2022-02-07T07:47:25.651Z"
   },
   {
    "duration": 15,
    "start_time": "2022-02-07T07:47:36.497Z"
   },
   {
    "duration": 10,
    "start_time": "2022-02-07T07:50:40.551Z"
   },
   {
    "duration": 339,
    "start_time": "2022-02-07T07:52:48.247Z"
   },
   {
    "duration": 238,
    "start_time": "2022-02-07T07:53:17.777Z"
   },
   {
    "duration": 8,
    "start_time": "2022-02-07T07:54:35.488Z"
   },
   {
    "duration": 5,
    "start_time": "2022-02-07T07:55:17.740Z"
   },
   {
    "duration": 13,
    "start_time": "2022-02-07T07:55:37.832Z"
   },
   {
    "duration": 13,
    "start_time": "2022-02-07T07:55:50.218Z"
   },
   {
    "duration": 231,
    "start_time": "2022-02-07T07:56:03.579Z"
   },
   {
    "duration": 10,
    "start_time": "2022-02-07T07:58:44.816Z"
   },
   {
    "duration": 13,
    "start_time": "2022-02-07T07:59:07.835Z"
   },
   {
    "duration": 15,
    "start_time": "2022-02-07T08:01:27.559Z"
   },
   {
    "duration": 15,
    "start_time": "2022-02-07T08:02:02.577Z"
   },
   {
    "duration": 10,
    "start_time": "2022-02-07T08:03:17.107Z"
   },
   {
    "duration": 15,
    "start_time": "2022-02-07T08:06:31.889Z"
   },
   {
    "duration": 70,
    "start_time": "2022-02-07T08:06:54.928Z"
   },
   {
    "duration": 6443,
    "start_time": "2022-02-07T08:07:06.721Z"
   },
   {
    "duration": 11,
    "start_time": "2022-02-07T08:13:15.161Z"
   },
   {
    "duration": 15,
    "start_time": "2022-02-07T08:13:33.058Z"
   },
   {
    "duration": 17,
    "start_time": "2022-02-07T08:14:00.107Z"
   },
   {
    "duration": 5539,
    "start_time": "2022-02-07T08:17:09.197Z"
   },
   {
    "duration": 19,
    "start_time": "2022-02-07T08:17:43.294Z"
   },
   {
    "duration": 265,
    "start_time": "2022-02-07T08:18:12.899Z"
   },
   {
    "duration": 230,
    "start_time": "2022-02-07T08:18:22.699Z"
   },
   {
    "duration": 210,
    "start_time": "2022-02-07T08:18:57.429Z"
   },
   {
    "duration": 8,
    "start_time": "2022-02-07T08:19:21.299Z"
   },
   {
    "duration": 14,
    "start_time": "2022-02-07T08:19:30.199Z"
   },
   {
    "duration": 9,
    "start_time": "2022-02-07T08:19:33.057Z"
   },
   {
    "duration": 736,
    "start_time": "2022-02-07T08:19:35.027Z"
   },
   {
    "duration": 768,
    "start_time": "2022-02-07T08:19:49.859Z"
   },
   {
    "duration": 674,
    "start_time": "2022-02-07T08:21:22.861Z"
   },
   {
    "duration": 705,
    "start_time": "2022-02-07T08:21:30.616Z"
   },
   {
    "duration": 15,
    "start_time": "2022-02-07T08:22:07.106Z"
   },
   {
    "duration": 9,
    "start_time": "2022-02-07T08:22:10.290Z"
   },
   {
    "duration": 712,
    "start_time": "2022-02-07T08:22:12.944Z"
   },
   {
    "duration": 14,
    "start_time": "2022-02-07T08:23:03.959Z"
   },
   {
    "duration": 729,
    "start_time": "2022-02-07T08:23:04.724Z"
   },
   {
    "duration": 11,
    "start_time": "2022-02-07T08:43:24.370Z"
   },
   {
    "duration": 25,
    "start_time": "2022-02-07T08:45:02.611Z"
   },
   {
    "duration": 241,
    "start_time": "2022-02-07T08:48:40.778Z"
   },
   {
    "duration": 24,
    "start_time": "2022-02-07T08:48:50.858Z"
   },
   {
    "duration": 23,
    "start_time": "2022-02-07T08:50:14.314Z"
   },
   {
    "duration": 24,
    "start_time": "2022-02-07T08:50:26.549Z"
   },
   {
    "duration": 18,
    "start_time": "2022-02-07T08:54:51.762Z"
   },
   {
    "duration": 23,
    "start_time": "2022-02-07T08:55:27.134Z"
   },
   {
    "duration": 1981,
    "start_time": "2022-02-07T08:55:50.873Z"
   },
   {
    "duration": 25,
    "start_time": "2022-02-07T08:56:25.816Z"
   },
   {
    "duration": 222,
    "start_time": "2022-02-07T08:56:31.274Z"
   },
   {
    "duration": 1349,
    "start_time": "2022-02-07T08:57:16.180Z"
   },
   {
    "duration": 1294,
    "start_time": "2022-02-07T08:57:50.121Z"
   },
   {
    "duration": 1588,
    "start_time": "2022-02-07T09:10:35.949Z"
   },
   {
    "duration": 1450,
    "start_time": "2022-02-07T09:10:56.529Z"
   },
   {
    "duration": 238,
    "start_time": "2022-02-07T09:12:22.436Z"
   },
   {
    "duration": 1624,
    "start_time": "2022-02-07T09:16:45.965Z"
   },
   {
    "duration": 33,
    "start_time": "2022-02-07T09:17:07.645Z"
   },
   {
    "duration": 25,
    "start_time": "2022-02-07T09:17:32.592Z"
   },
   {
    "duration": 24152,
    "start_time": "2022-02-07T09:17:41.603Z"
   },
   {
    "duration": 5823,
    "start_time": "2022-02-07T09:18:45.544Z"
   },
   {
    "duration": 1377,
    "start_time": "2022-02-07T09:19:11.664Z"
   },
   {
    "duration": 1389,
    "start_time": "2022-02-07T09:19:28.530Z"
   },
   {
    "duration": 1347,
    "start_time": "2022-02-07T09:19:58.188Z"
   },
   {
    "duration": 1287,
    "start_time": "2022-02-07T09:29:49.853Z"
   },
   {
    "duration": 52,
    "start_time": "2022-02-07T09:29:51.142Z"
   },
   {
    "duration": 4,
    "start_time": "2022-02-07T09:29:51.197Z"
   },
   {
    "duration": 13,
    "start_time": "2022-02-07T09:29:51.203Z"
   },
   {
    "duration": 410,
    "start_time": "2022-02-07T09:29:51.218Z"
   },
   {
    "duration": 12,
    "start_time": "2022-02-07T09:29:51.630Z"
   },
   {
    "duration": 17,
    "start_time": "2022-02-07T09:29:51.644Z"
   },
   {
    "duration": 41,
    "start_time": "2022-02-07T09:29:51.664Z"
   },
   {
    "duration": 8,
    "start_time": "2022-02-07T09:29:51.707Z"
   },
   {
    "duration": 13,
    "start_time": "2022-02-07T09:29:51.717Z"
   },
   {
    "duration": 5,
    "start_time": "2022-02-07T09:29:51.732Z"
   },
   {
    "duration": 8,
    "start_time": "2022-02-07T09:29:51.738Z"
   },
   {
    "duration": 7,
    "start_time": "2022-02-07T09:29:51.748Z"
   },
   {
    "duration": 6,
    "start_time": "2022-02-07T09:29:51.756Z"
   },
   {
    "duration": 37,
    "start_time": "2022-02-07T09:29:51.764Z"
   },
   {
    "duration": 617,
    "start_time": "2022-02-07T09:29:51.803Z"
   },
   {
    "duration": 7,
    "start_time": "2022-02-07T09:29:52.422Z"
   },
   {
    "duration": 592,
    "start_time": "2022-02-07T09:29:52.431Z"
   },
   {
    "duration": 13,
    "start_time": "2022-02-07T09:29:53.025Z"
   },
   {
    "duration": 16,
    "start_time": "2022-02-07T09:29:53.040Z"
   },
   {
    "duration": 827,
    "start_time": "2022-02-07T09:29:53.058Z"
   },
   {
    "duration": 3,
    "start_time": "2022-02-07T09:29:53.887Z"
   },
   {
    "duration": 2,
    "start_time": "2022-02-07T09:29:53.901Z"
   },
   {
    "duration": 6,
    "start_time": "2022-02-07T09:29:53.906Z"
   },
   {
    "duration": 18,
    "start_time": "2022-02-07T09:29:53.914Z"
   },
   {
    "duration": 33,
    "start_time": "2022-02-07T09:29:53.934Z"
   },
   {
    "duration": 1660,
    "start_time": "2022-02-07T09:29:53.968Z"
   },
   {
    "duration": 4,
    "start_time": "2022-02-07T09:29:55.630Z"
   },
   {
    "duration": 37,
    "start_time": "2022-02-07T09:29:55.635Z"
   },
   {
    "duration": 33,
    "start_time": "2022-02-07T09:29:55.674Z"
   },
   {
    "duration": 1003,
    "start_time": "2022-02-07T09:29:55.708Z"
   },
   {
    "duration": 7,
    "start_time": "2022-02-07T09:29:56.713Z"
   },
   {
    "duration": 8,
    "start_time": "2022-02-07T09:29:56.722Z"
   },
   {
    "duration": 13,
    "start_time": "2022-02-07T09:29:56.732Z"
   },
   {
    "duration": 19,
    "start_time": "2022-02-07T09:29:56.747Z"
   },
   {
    "duration": 972,
    "start_time": "2022-02-07T09:29:56.768Z"
   },
   {
    "duration": 8,
    "start_time": "2022-02-07T09:29:57.742Z"
   },
   {
    "duration": 10,
    "start_time": "2022-02-07T09:29:57.752Z"
   },
   {
    "duration": 41,
    "start_time": "2022-02-07T09:29:57.764Z"
   },
   {
    "duration": 10,
    "start_time": "2022-02-07T09:29:57.807Z"
   },
   {
    "duration": 14,
    "start_time": "2022-02-07T09:29:57.819Z"
   },
   {
    "duration": 13,
    "start_time": "2022-02-07T09:29:57.834Z"
   },
   {
    "duration": 12,
    "start_time": "2022-02-07T09:29:57.849Z"
   },
   {
    "duration": 58,
    "start_time": "2022-02-07T09:29:57.863Z"
   },
   {
    "duration": 3223,
    "start_time": "2022-02-07T09:29:57.922Z"
   },
   {
    "duration": 74,
    "start_time": "2022-02-07T09:36:41.530Z"
   },
   {
    "duration": 15,
    "start_time": "2022-02-07T09:39:48.120Z"
   },
   {
    "duration": 18,
    "start_time": "2022-02-07T09:40:07.202Z"
   },
   {
    "duration": 16,
    "start_time": "2022-02-07T09:42:58.982Z"
   },
   {
    "duration": 13,
    "start_time": "2022-02-07T09:43:11.110Z"
   },
   {
    "duration": 13,
    "start_time": "2022-02-07T09:43:22.829Z"
   },
   {
    "duration": 14,
    "start_time": "2022-02-07T09:48:48.866Z"
   },
   {
    "duration": 13,
    "start_time": "2022-02-07T09:49:20.155Z"
   },
   {
    "duration": 21,
    "start_time": "2022-02-07T09:49:41.746Z"
   },
   {
    "duration": 11,
    "start_time": "2022-02-07T09:51:39.175Z"
   },
   {
    "duration": 12,
    "start_time": "2022-02-07T09:52:02.161Z"
   },
   {
    "duration": 22,
    "start_time": "2022-02-07T09:52:19.806Z"
   },
   {
    "duration": 23,
    "start_time": "2022-02-07T09:53:41.437Z"
   },
   {
    "duration": 66,
    "start_time": "2022-02-07T09:59:30.849Z"
   },
   {
    "duration": 5,
    "start_time": "2022-02-07T09:59:49.957Z"
   },
   {
    "duration": 13,
    "start_time": "2022-02-07T10:00:31.139Z"
   },
   {
    "duration": 991,
    "start_time": "2022-02-07T10:09:27.038Z"
   },
   {
    "duration": 5382,
    "start_time": "2022-02-07T10:09:38.824Z"
   },
   {
    "duration": 1761,
    "start_time": "2022-02-07T10:11:12.758Z"
   },
   {
    "duration": 5215,
    "start_time": "2022-02-07T10:12:37.238Z"
   },
   {
    "duration": 1560,
    "start_time": "2022-02-07T10:13:38.108Z"
   },
   {
    "duration": 1430,
    "start_time": "2022-02-07T10:14:21.278Z"
   },
   {
    "duration": 1540,
    "start_time": "2022-02-07T10:18:36.846Z"
   },
   {
    "duration": 1476,
    "start_time": "2022-02-07T10:18:47.748Z"
   },
   {
    "duration": 5046,
    "start_time": "2022-02-07T10:19:14.046Z"
   },
   {
    "duration": 5159,
    "start_time": "2022-02-07T10:19:37.826Z"
   },
   {
    "duration": 219,
    "start_time": "2022-02-07T10:23:11.788Z"
   },
   {
    "duration": 3818,
    "start_time": "2022-02-07T10:25:32.970Z"
   },
   {
    "duration": 3226,
    "start_time": "2022-02-07T10:26:07.367Z"
   },
   {
    "duration": 3991,
    "start_time": "2022-02-07T10:26:18.819Z"
   },
   {
    "duration": 14,
    "start_time": "2022-02-07T10:27:33.547Z"
   },
   {
    "duration": 13,
    "start_time": "2022-02-07T10:31:16.357Z"
   },
   {
    "duration": 3,
    "start_time": "2022-02-07T10:33:33.446Z"
   },
   {
    "duration": 3881,
    "start_time": "2022-02-07T10:33:40.067Z"
   },
   {
    "duration": 213,
    "start_time": "2022-02-07T10:48:25.929Z"
   },
   {
    "duration": 74,
    "start_time": "2022-02-07T10:48:31.029Z"
   },
   {
    "duration": 5759,
    "start_time": "2022-02-07T10:48:35.061Z"
   },
   {
    "duration": 7,
    "start_time": "2022-02-07T10:48:47.999Z"
   },
   {
    "duration": 12,
    "start_time": "2022-02-07T10:49:29.719Z"
   },
   {
    "duration": 20,
    "start_time": "2022-02-07T10:56:57.247Z"
   },
   {
    "duration": 44,
    "start_time": "2022-02-07T10:58:51.966Z"
   },
   {
    "duration": 11,
    "start_time": "2022-02-07T11:10:19.453Z"
   },
   {
    "duration": 1250,
    "start_time": "2022-02-08T06:18:30.979Z"
   },
   {
    "duration": 3,
    "start_time": "2022-02-08T06:18:32.230Z"
   },
   {
    "duration": 54,
    "start_time": "2022-02-08T06:18:32.235Z"
   },
   {
    "duration": 3,
    "start_time": "2022-02-08T06:18:32.291Z"
   },
   {
    "duration": 8,
    "start_time": "2022-02-08T06:18:32.297Z"
   },
   {
    "duration": 4195,
    "start_time": "2022-02-08T06:18:32.307Z"
   },
   {
    "duration": 9,
    "start_time": "2022-02-08T06:18:36.504Z"
   },
   {
    "duration": 25,
    "start_time": "2022-02-08T06:18:36.515Z"
   },
   {
    "duration": 14,
    "start_time": "2022-02-08T06:18:36.542Z"
   },
   {
    "duration": 8,
    "start_time": "2022-02-08T06:18:36.558Z"
   },
   {
    "duration": 21,
    "start_time": "2022-02-08T06:18:36.568Z"
   },
   {
    "duration": 20,
    "start_time": "2022-02-08T06:18:36.591Z"
   },
   {
    "duration": 33,
    "start_time": "2022-02-08T06:18:36.613Z"
   },
   {
    "duration": 542,
    "start_time": "2022-02-08T06:18:36.647Z"
   },
   {
    "duration": 8,
    "start_time": "2022-02-08T06:18:37.191Z"
   },
   {
    "duration": 491,
    "start_time": "2022-02-08T06:18:37.212Z"
   },
   {
    "duration": 14,
    "start_time": "2022-02-08T06:18:37.705Z"
   },
   {
    "duration": 13,
    "start_time": "2022-02-08T06:18:37.721Z"
   },
   {
    "duration": 666,
    "start_time": "2022-02-08T06:18:37.736Z"
   },
   {
    "duration": 28,
    "start_time": "2022-02-08T06:18:38.404Z"
   },
   {
    "duration": 1383,
    "start_time": "2022-02-08T06:18:38.434Z"
   },
   {
    "duration": 3,
    "start_time": "2022-02-08T06:18:39.819Z"
   },
   {
    "duration": 36,
    "start_time": "2022-02-08T06:18:39.825Z"
   },
   {
    "duration": 14,
    "start_time": "2022-02-08T06:18:39.863Z"
   },
   {
    "duration": 1096,
    "start_time": "2022-02-08T06:18:39.879Z"
   },
   {
    "duration": 6,
    "start_time": "2022-02-08T06:18:40.977Z"
   },
   {
    "duration": 5,
    "start_time": "2022-02-08T06:18:40.985Z"
   },
   {
    "duration": 11,
    "start_time": "2022-02-08T06:18:40.991Z"
   },
   {
    "duration": 21,
    "start_time": "2022-02-08T06:18:41.004Z"
   },
   {
    "duration": 885,
    "start_time": "2022-02-08T06:18:41.027Z"
   },
   {
    "duration": 8,
    "start_time": "2022-02-08T06:18:41.914Z"
   },
   {
    "duration": 8,
    "start_time": "2022-02-08T06:18:41.923Z"
   },
   {
    "duration": 18,
    "start_time": "2022-02-08T06:18:41.933Z"
   },
   {
    "duration": 9,
    "start_time": "2022-02-08T06:18:41.953Z"
   },
   {
    "duration": 12,
    "start_time": "2022-02-08T06:18:41.963Z"
   },
   {
    "duration": 12,
    "start_time": "2022-02-08T06:18:42.012Z"
   },
   {
    "duration": 20,
    "start_time": "2022-02-08T06:18:42.025Z"
   },
   {
    "duration": 4,
    "start_time": "2022-02-08T06:18:42.047Z"
   },
   {
    "duration": 29,
    "start_time": "2022-02-08T06:18:42.053Z"
   },
   {
    "duration": 3072,
    "start_time": "2022-02-08T06:18:42.084Z"
   },
   {
    "duration": 15,
    "start_time": "2022-02-08T06:20:41.456Z"
   },
   {
    "duration": 1187,
    "start_time": "2022-02-08T07:41:31.184Z"
   },
   {
    "duration": 2,
    "start_time": "2022-02-08T07:41:32.373Z"
   },
   {
    "duration": 45,
    "start_time": "2022-02-08T07:41:32.377Z"
   },
   {
    "duration": 4,
    "start_time": "2022-02-08T07:41:32.424Z"
   },
   {
    "duration": 5,
    "start_time": "2022-02-08T07:41:32.430Z"
   },
   {
    "duration": 401,
    "start_time": "2022-02-08T07:41:32.436Z"
   },
   {
    "duration": 8,
    "start_time": "2022-02-08T07:41:32.839Z"
   },
   {
    "duration": 13,
    "start_time": "2022-02-08T07:41:32.850Z"
   },
   {
    "duration": 13,
    "start_time": "2022-02-08T07:41:32.865Z"
   },
   {
    "duration": 33,
    "start_time": "2022-02-08T07:41:32.879Z"
   },
   {
    "duration": 9,
    "start_time": "2022-02-08T07:41:32.913Z"
   },
   {
    "duration": 10,
    "start_time": "2022-02-08T07:41:32.924Z"
   },
   {
    "duration": 28,
    "start_time": "2022-02-08T07:41:32.935Z"
   },
   {
    "duration": 15,
    "start_time": "2022-02-08T07:41:32.964Z"
   },
   {
    "duration": 543,
    "start_time": "2022-02-08T07:41:32.980Z"
   },
   {
    "duration": 6,
    "start_time": "2022-02-08T07:41:33.524Z"
   },
   {
    "duration": 467,
    "start_time": "2022-02-08T07:41:33.532Z"
   },
   {
    "duration": 13,
    "start_time": "2022-02-08T07:41:34.000Z"
   },
   {
    "duration": 11,
    "start_time": "2022-02-08T07:41:34.015Z"
   },
   {
    "duration": 652,
    "start_time": "2022-02-08T07:41:34.028Z"
   },
   {
    "duration": 32,
    "start_time": "2022-02-08T07:41:34.681Z"
   },
   {
    "duration": 1367,
    "start_time": "2022-02-08T07:41:34.714Z"
   },
   {
    "duration": 3,
    "start_time": "2022-02-08T07:41:36.085Z"
   },
   {
    "duration": 49,
    "start_time": "2022-02-08T07:41:36.091Z"
   },
   {
    "duration": 13,
    "start_time": "2022-02-08T07:41:36.141Z"
   },
   {
    "duration": 912,
    "start_time": "2022-02-08T07:41:36.156Z"
   },
   {
    "duration": 6,
    "start_time": "2022-02-08T07:41:37.069Z"
   },
   {
    "duration": 5,
    "start_time": "2022-02-08T07:41:37.077Z"
   },
   {
    "duration": 15,
    "start_time": "2022-02-08T07:41:37.083Z"
   },
   {
    "duration": 15,
    "start_time": "2022-02-08T07:41:37.099Z"
   },
   {
    "duration": 848,
    "start_time": "2022-02-08T07:41:37.115Z"
   },
   {
    "duration": 8,
    "start_time": "2022-02-08T07:41:37.964Z"
   },
   {
    "duration": 9,
    "start_time": "2022-02-08T07:41:37.973Z"
   },
   {
    "duration": 33,
    "start_time": "2022-02-08T07:41:37.984Z"
   },
   {
    "duration": 10,
    "start_time": "2022-02-08T07:41:38.018Z"
   },
   {
    "duration": 12,
    "start_time": "2022-02-08T07:41:38.029Z"
   },
   {
    "duration": 11,
    "start_time": "2022-02-08T07:41:38.042Z"
   },
   {
    "duration": 20,
    "start_time": "2022-02-08T07:41:38.055Z"
   },
   {
    "duration": 35,
    "start_time": "2022-02-08T07:41:38.077Z"
   },
   {
    "duration": 24,
    "start_time": "2022-02-08T07:41:38.113Z"
   },
   {
    "duration": 3032,
    "start_time": "2022-02-08T07:41:38.139Z"
   },
   {
    "duration": 10,
    "start_time": "2022-02-08T08:02:20.620Z"
   },
   {
    "duration": 17,
    "start_time": "2022-02-08T08:10:02.881Z"
   },
   {
    "duration": 23,
    "start_time": "2022-02-08T08:10:12.201Z"
   },
   {
    "duration": 365,
    "start_time": "2022-02-08T08:12:52.480Z"
   },
   {
    "duration": 7,
    "start_time": "2022-02-08T08:15:45.560Z"
   },
   {
    "duration": 4,
    "start_time": "2022-02-08T08:15:55.879Z"
   },
   {
    "duration": 258,
    "start_time": "2022-02-08T08:16:12.280Z"
   },
   {
    "duration": 17,
    "start_time": "2022-02-08T08:16:28.089Z"
   },
   {
    "duration": 21,
    "start_time": "2022-02-08T08:16:39.935Z"
   },
   {
    "duration": 16,
    "start_time": "2022-02-08T08:16:43.153Z"
   },
   {
    "duration": 65680,
    "start_time": "2022-02-08T08:18:38.443Z"
   },
   {
    "duration": 16,
    "start_time": "2022-02-08T08:19:54.614Z"
   },
   {
    "duration": 4191,
    "start_time": "2022-02-08T08:26:13.754Z"
   },
   {
    "duration": 13,
    "start_time": "2022-02-08T08:26:31.533Z"
   },
   {
    "duration": 16,
    "start_time": "2022-02-08T08:26:45.063Z"
   },
   {
    "duration": 15,
    "start_time": "2022-02-08T08:26:59.314Z"
   },
   {
    "duration": 14,
    "start_time": "2022-02-08T08:27:10.733Z"
   },
   {
    "duration": 2,
    "start_time": "2022-02-08T08:30:51.633Z"
   },
   {
    "duration": 15,
    "start_time": "2022-02-08T08:30:55.636Z"
   },
   {
    "duration": 653,
    "start_time": "2022-02-08T08:32:33.813Z"
   },
   {
    "duration": 656,
    "start_time": "2022-02-08T08:32:43.513Z"
   },
   {
    "duration": 18,
    "start_time": "2022-02-08T08:34:50.772Z"
   },
   {
    "duration": 729,
    "start_time": "2022-02-08T08:34:52.012Z"
   },
   {
    "duration": 13,
    "start_time": "2022-02-08T08:35:15.779Z"
   },
   {
    "duration": 650,
    "start_time": "2022-02-08T08:35:16.253Z"
   },
   {
    "duration": 292,
    "start_time": "2022-02-08T08:40:01.510Z"
   },
   {
    "duration": 16,
    "start_time": "2022-02-08T08:40:23.963Z"
   },
   {
    "duration": 657,
    "start_time": "2022-02-08T08:40:58.263Z"
   },
   {
    "duration": 70,
    "start_time": "2022-02-08T08:43:44.891Z"
   },
   {
    "duration": 14,
    "start_time": "2022-02-08T08:49:43.699Z"
   },
   {
    "duration": 229,
    "start_time": "2022-02-08T08:50:38.435Z"
   },
   {
    "duration": 3000,
    "start_time": "2022-02-08T08:51:00.235Z"
   },
   {
    "duration": 14,
    "start_time": "2022-02-08T08:51:16.593Z"
   },
   {
    "duration": 89,
    "start_time": "2022-02-08T08:57:25.493Z"
   },
   {
    "duration": 13,
    "start_time": "2022-02-08T09:44:39.312Z"
   },
   {
    "duration": 13,
    "start_time": "2022-02-08T09:45:18.251Z"
   },
   {
    "duration": 13,
    "start_time": "2022-02-08T09:45:48.821Z"
   },
   {
    "duration": 1202,
    "start_time": "2022-02-08T10:26:41.144Z"
   },
   {
    "duration": 3,
    "start_time": "2022-02-08T10:26:42.348Z"
   },
   {
    "duration": 48,
    "start_time": "2022-02-08T10:26:42.353Z"
   },
   {
    "duration": 3,
    "start_time": "2022-02-08T10:26:42.403Z"
   },
   {
    "duration": 5,
    "start_time": "2022-02-08T10:26:42.408Z"
   },
   {
    "duration": 369,
    "start_time": "2022-02-08T10:26:42.414Z"
   },
   {
    "duration": 9,
    "start_time": "2022-02-08T10:26:42.785Z"
   },
   {
    "duration": 23,
    "start_time": "2022-02-08T10:26:42.796Z"
   },
   {
    "duration": 14,
    "start_time": "2022-02-08T10:26:42.821Z"
   },
   {
    "duration": 6,
    "start_time": "2022-02-08T10:26:42.836Z"
   },
   {
    "duration": 10,
    "start_time": "2022-02-08T10:26:42.843Z"
   },
   {
    "duration": 17,
    "start_time": "2022-02-08T10:26:42.855Z"
   },
   {
    "duration": 48,
    "start_time": "2022-02-08T10:26:42.874Z"
   },
   {
    "duration": 3,
    "start_time": "2022-02-08T10:26:42.924Z"
   },
   {
    "duration": 18,
    "start_time": "2022-02-08T10:26:42.929Z"
   },
   {
    "duration": 541,
    "start_time": "2022-02-08T10:26:42.948Z"
   },
   {
    "duration": 7,
    "start_time": "2022-02-08T10:26:43.490Z"
   },
   {
    "duration": 493,
    "start_time": "2022-02-08T10:26:43.498Z"
   },
   {
    "duration": 9,
    "start_time": "2022-02-08T10:26:43.993Z"
   },
   {
    "duration": 13,
    "start_time": "2022-02-08T10:26:44.012Z"
   },
   {
    "duration": 668,
    "start_time": "2022-02-08T10:26:44.026Z"
   },
   {
    "duration": 23,
    "start_time": "2022-02-08T10:26:44.696Z"
   },
   {
    "duration": 666,
    "start_time": "2022-02-08T10:26:44.722Z"
   },
   {
    "duration": 33,
    "start_time": "2022-02-08T10:26:45.391Z"
   },
   {
    "duration": 1384,
    "start_time": "2022-02-08T10:26:45.426Z"
   },
   {
    "duration": 14,
    "start_time": "2022-02-08T10:26:46.811Z"
   },
   {
    "duration": 5,
    "start_time": "2022-02-08T10:26:46.826Z"
   },
   {
    "duration": 33,
    "start_time": "2022-02-08T10:26:46.832Z"
   },
   {
    "duration": 13,
    "start_time": "2022-02-08T10:26:46.867Z"
   },
   {
    "duration": 1398,
    "start_time": "2022-02-08T10:26:46.881Z"
   },
   {
    "duration": 6,
    "start_time": "2022-02-08T10:26:48.281Z"
   },
   {
    "duration": 5,
    "start_time": "2022-02-08T10:26:48.288Z"
   },
   {
    "duration": 10,
    "start_time": "2022-02-08T10:26:48.295Z"
   },
   {
    "duration": 16,
    "start_time": "2022-02-08T10:26:48.306Z"
   },
   {
    "duration": 861,
    "start_time": "2022-02-08T10:26:48.323Z"
   },
   {
    "duration": 7,
    "start_time": "2022-02-08T10:26:49.186Z"
   },
   {
    "duration": 18,
    "start_time": "2022-02-08T10:26:49.195Z"
   },
   {
    "duration": 18,
    "start_time": "2022-02-08T10:26:49.214Z"
   },
   {
    "duration": 8,
    "start_time": "2022-02-08T10:26:49.234Z"
   },
   {
    "duration": 12,
    "start_time": "2022-02-08T10:26:49.243Z"
   },
   {
    "duration": 10,
    "start_time": "2022-02-08T10:26:49.256Z"
   },
   {
    "duration": 50,
    "start_time": "2022-02-08T10:26:49.268Z"
   },
   {
    "duration": 24,
    "start_time": "2022-02-08T10:26:49.320Z"
   },
   {
    "duration": 3079,
    "start_time": "2022-02-08T10:26:49.345Z"
   }
  ],
  "kernelspec": {
   "display_name": "Python 3",
   "language": "python",
   "name": "python3"
  },
  "language_info": {
   "codemirror_mode": {
    "name": "ipython",
    "version": 3
   },
   "file_extension": ".py",
   "mimetype": "text/x-python",
   "name": "python",
   "nbconvert_exporter": "python",
   "pygments_lexer": "ipython3",
   "version": "3.8.8"
  },
  "toc": {
   "base_numbering": 1,
   "nav_menu": {},
   "number_sections": true,
   "sideBar": true,
   "skip_h1_title": true,
   "title_cell": "Table of Contents",
   "title_sidebar": "Contents",
   "toc_cell": false,
   "toc_position": {
    "height": "calc(100% - 180px)",
    "left": "10px",
    "top": "150px",
    "width": "366.391px"
   },
   "toc_section_display": true,
   "toc_window_display": true
  }
 },
 "nbformat": 4,
 "nbformat_minor": 2
}
